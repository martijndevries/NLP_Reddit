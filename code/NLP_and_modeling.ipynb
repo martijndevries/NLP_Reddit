{
 "cells": [
  {
   "cell_type": "markdown",
   "id": "8fa3de3f-a2db-4434-a51e-28501611bff7",
   "metadata": {},
   "source": [
    "# NLP and modeling\n",
    "\n",
    "This is notebook 4 (out of 5) for <b>Project 3</b> of the GA Data Science Immersive<br>\n",
    "Notebook by: <b>Martijn de Vries</b><br>\n",
    "martijndevries91@gmail.com"
   ]
  },
  {
   "cell_type": "code",
   "execution_count": 681,
   "id": "cece0c95-66b0-41cf-a536-4cc20e66c72a",
   "metadata": {},
   "outputs": [],
   "source": [
    "import pandas as pd\n",
    "import numpy as np\n",
    "import matplotlib.pyplot as plt\n",
    "import seaborn as sns\n",
    "\n",
    "import re\n",
    "import sys\n",
    "import pickle\n",
    "\n",
    "#nltk imports\n",
    "from nltk.corpus import stopwords\n",
    "from nltk.stem import WordNetLemmatizer\n",
    "from nltk.tokenize import word_tokenize\n",
    "\n",
    "# sklearn imports\n",
    "from sklearn.base import BaseEstimator, TransformerMixin\n",
    "from sklearn.compose import ColumnTransformer\n",
    "from sklearn.ensemble import RandomForestClassifier, StackingClassifier\n",
    "from sklearn.feature_extraction.text import CountVectorizer, TfidfVectorizer\n",
    "from sklearn.linear_model import LogisticRegression\n",
    "from sklearn.model_selection import train_test_split, GridSearchCV, RandomizedSearchCV, cross_val_score\n",
    "from sklearn.naive_bayes import MultinomialNB\n",
    "from sklearn.pipeline import Pipeline\n",
    "from sklearn.preprocessing import OneHotEncoder, LabelEncoder, StandardScaler, MinMaxScaler\n"
   ]
  },
  {
   "cell_type": "markdown",
   "id": "c4e09c2b-150e-4024-995c-75c374e01ca0",
   "metadata": {},
   "source": [
    "## 1) Titles modeling"
   ]
  },
  {
   "cell_type": "code",
   "execution_count": 194,
   "id": "02a2b98b-a56b-4d57-8a6a-cb9ebcca9de7",
   "metadata": {},
   "outputs": [
    {
     "data": {
      "text/html": [
       "<div>\n",
       "<style scoped>\n",
       "    .dataframe tbody tr th:only-of-type {\n",
       "        vertical-align: middle;\n",
       "    }\n",
       "\n",
       "    .dataframe tbody tr th {\n",
       "        vertical-align: top;\n",
       "    }\n",
       "\n",
       "    .dataframe thead th {\n",
       "        text-align: right;\n",
       "    }\n",
       "</style>\n",
       "<table border=\"1\" class=\"dataframe\">\n",
       "  <thead>\n",
       "    <tr style=\"text-align: right;\">\n",
       "      <th></th>\n",
       "      <th>id</th>\n",
       "      <th>created_utc</th>\n",
       "      <th>title</th>\n",
       "      <th>selftext</th>\n",
       "      <th>url</th>\n",
       "      <th>num_comments</th>\n",
       "      <th>upvote_ratio</th>\n",
       "      <th>subreddit</th>\n",
       "      <th>word_length</th>\n",
       "      <th>domain</th>\n",
       "    </tr>\n",
       "  </thead>\n",
       "  <tbody>\n",
       "    <tr>\n",
       "      <th>0</th>\n",
       "      <td>xylvpq</td>\n",
       "      <td>1665212044</td>\n",
       "      <td>Editorial: Hey, QAnon — Texas had an actual ch...</td>\n",
       "      <td>NaN</td>\n",
       "      <td>https://www.houstonchronicle.com/opinion/edito...</td>\n",
       "      <td>688</td>\n",
       "      <td>0.97</td>\n",
       "      <td>politics</td>\n",
       "      <td>16</td>\n",
       "      <td>other</td>\n",
       "    </tr>\n",
       "    <tr>\n",
       "      <th>1</th>\n",
       "      <td>xylh3y</td>\n",
       "      <td>1665210574</td>\n",
       "      <td>Sanders: Biden’s Marijuana Pardons Are Good — ...</td>\n",
       "      <td>NaN</td>\n",
       "      <td>https://truthout.org/articles/sanders-bidens-m...</td>\n",
       "      <td>269</td>\n",
       "      <td>0.97</td>\n",
       "      <td>politics</td>\n",
       "      <td>12</td>\n",
       "      <td>truthout</td>\n",
       "    </tr>\n",
       "    <tr>\n",
       "      <th>2</th>\n",
       "      <td>xyla6d</td>\n",
       "      <td>1665209886</td>\n",
       "      <td>Elon Musk suggests making Taiwan a ‘special ad...</td>\n",
       "      <td>[removed]</td>\n",
       "      <td>NaN</td>\n",
       "      <td>24</td>\n",
       "      <td>0.26</td>\n",
       "      <td>politics</td>\n",
       "      <td>13</td>\n",
       "      <td>none</td>\n",
       "    </tr>\n",
       "    <tr>\n",
       "      <th>3</th>\n",
       "      <td>xykwzh</td>\n",
       "      <td>1665208590</td>\n",
       "      <td>Anyone else in Chicago noticing how Fox News k...</td>\n",
       "      <td>[removed]</td>\n",
       "      <td>NaN</td>\n",
       "      <td>1</td>\n",
       "      <td>1.00</td>\n",
       "      <td>politics</td>\n",
       "      <td>32</td>\n",
       "      <td>none</td>\n",
       "    </tr>\n",
       "    <tr>\n",
       "      <th>4</th>\n",
       "      <td>xykox1</td>\n",
       "      <td>1665207791</td>\n",
       "      <td>Urfi wore a bold saree! Spread the flames of h...</td>\n",
       "      <td>NaN</td>\n",
       "      <td>https://countryconnect.in/entertainment-news/u...</td>\n",
       "      <td>1</td>\n",
       "      <td>1.00</td>\n",
       "      <td>politics</td>\n",
       "      <td>13</td>\n",
       "      <td>other</td>\n",
       "    </tr>\n",
       "  </tbody>\n",
       "</table>\n",
       "</div>"
      ],
      "text/plain": [
       "       id  created_utc                                              title  \\\n",
       "0  xylvpq   1665212044  Editorial: Hey, QAnon — Texas had an actual ch...   \n",
       "1  xylh3y   1665210574  Sanders: Biden’s Marijuana Pardons Are Good — ...   \n",
       "2  xyla6d   1665209886  Elon Musk suggests making Taiwan a ‘special ad...   \n",
       "3  xykwzh   1665208590  Anyone else in Chicago noticing how Fox News k...   \n",
       "4  xykox1   1665207791  Urfi wore a bold saree! Spread the flames of h...   \n",
       "\n",
       "    selftext                                                url  num_comments  \\\n",
       "0        NaN  https://www.houstonchronicle.com/opinion/edito...           688   \n",
       "1        NaN  https://truthout.org/articles/sanders-bidens-m...           269   \n",
       "2  [removed]                                                NaN            24   \n",
       "3  [removed]                                                NaN             1   \n",
       "4        NaN  https://countryconnect.in/entertainment-news/u...             1   \n",
       "\n",
       "   upvote_ratio subreddit  word_length    domain  \n",
       "0          0.97  politics           16     other  \n",
       "1          0.97  politics           12  truthout  \n",
       "2          0.26  politics           13      none  \n",
       "3          1.00  politics           32      none  \n",
       "4          1.00  politics           13     other  "
      ]
     },
     "execution_count": 194,
     "metadata": {},
     "output_type": "execute_result"
    }
   ],
   "source": [
    "post_df = pd.read_csv('../data/all_submissions_cleaned.csv')\n",
    "post_df.head()"
   ]
  },
  {
   "cell_type": "markdown",
   "id": "3ae290c2-f800-418b-aa2c-983f143a74fb",
   "metadata": {},
   "source": [
    "### 1.1) Logistic Regression"
   ]
  },
  {
   "cell_type": "markdown",
   "id": "746ece4c-7553-4e55-881b-e9a270a8e973",
   "metadata": {},
   "source": [
    "Let's dive straight in and try a first model with TfidfVectorizer and LogisticRegression, using only the 'title' column\n",
    "First, what's the baseline accuracy?"
   ]
  },
  {
   "cell_type": "code",
   "execution_count": 195,
   "id": "fb01b8a4-0fd7-451e-8360-05c53f1057df",
   "metadata": {},
   "outputs": [
    {
     "data": {
      "text/plain": [
       "conservative    0.526722\n",
       "politics        0.473278\n",
       "Name: subreddit, dtype: float64"
      ]
     },
     "execution_count": 195,
     "metadata": {},
     "output_type": "execute_result"
    }
   ],
   "source": [
    "post_df['subreddit'].value_counts(normalize=True)"
   ]
  },
  {
   "cell_type": "markdown",
   "id": "d8b366f6-4a7c-4fb4-9496-1496e5aa3a14",
   "metadata": {},
   "source": [
    "Let's binarize the subreddit column"
   ]
  },
  {
   "cell_type": "code",
   "execution_count": 196,
   "id": "adc3b142-75ca-44d8-bcbe-6187e9c6ab75",
   "metadata": {},
   "outputs": [],
   "source": [
    "post_df['subreddit'] = post_df['subreddit'].map({'conservative':0, 'politics':1})"
   ]
  },
  {
   "cell_type": "markdown",
   "id": "9c77b3fe-6eb2-4e71-b844-31e4c5ff25aa",
   "metadata": {},
   "source": [
    "Now define our X and y and do a train_test_split"
   ]
  },
  {
   "cell_type": "code",
   "execution_count": 197,
   "id": "820170e1-a903-44c8-b2e7-66e630be0f42",
   "metadata": {},
   "outputs": [],
   "source": [
    "X = post_df['title']\n",
    "y = post_df['subreddit']\n",
    "\n",
    "X_train, X_test, y_train, y_test = train_test_split(X, y, random_state=42)"
   ]
  },
  {
   "cell_type": "markdown",
   "id": "fe0df2db-0e8a-426e-bbc3-b6f8a177789b",
   "metadata": {},
   "source": [
    "Define a pipeline with TfidfVectorizer and LogisticRegression"
   ]
  },
  {
   "cell_type": "code",
   "execution_count": 6,
   "id": "9858e50c-908d-4749-ab1a-72453ba72b6b",
   "metadata": {},
   "outputs": [],
   "source": [
    "nlp_pipe = Pipeline([\n",
    "    ('tfidf', TfidfVectorizer()),\n",
    "    ('lr', LogisticRegression()),\n",
    "])\n"
   ]
  },
  {
   "cell_type": "code",
   "execution_count": 7,
   "id": "2d3ae0a6-b364-4715-8652-13c3473229e8",
   "metadata": {},
   "outputs": [
    {
     "data": {
      "text/html": [
       "<style>#sk-container-id-1 {color: black;background-color: white;}#sk-container-id-1 pre{padding: 0;}#sk-container-id-1 div.sk-toggleable {background-color: white;}#sk-container-id-1 label.sk-toggleable__label {cursor: pointer;display: block;width: 100%;margin-bottom: 0;padding: 0.3em;box-sizing: border-box;text-align: center;}#sk-container-id-1 label.sk-toggleable__label-arrow:before {content: \"▸\";float: left;margin-right: 0.25em;color: #696969;}#sk-container-id-1 label.sk-toggleable__label-arrow:hover:before {color: black;}#sk-container-id-1 div.sk-estimator:hover label.sk-toggleable__label-arrow:before {color: black;}#sk-container-id-1 div.sk-toggleable__content {max-height: 0;max-width: 0;overflow: hidden;text-align: left;background-color: #f0f8ff;}#sk-container-id-1 div.sk-toggleable__content pre {margin: 0.2em;color: black;border-radius: 0.25em;background-color: #f0f8ff;}#sk-container-id-1 input.sk-toggleable__control:checked~div.sk-toggleable__content {max-height: 200px;max-width: 100%;overflow: auto;}#sk-container-id-1 input.sk-toggleable__control:checked~label.sk-toggleable__label-arrow:before {content: \"▾\";}#sk-container-id-1 div.sk-estimator input.sk-toggleable__control:checked~label.sk-toggleable__label {background-color: #d4ebff;}#sk-container-id-1 div.sk-label input.sk-toggleable__control:checked~label.sk-toggleable__label {background-color: #d4ebff;}#sk-container-id-1 input.sk-hidden--visually {border: 0;clip: rect(1px 1px 1px 1px);clip: rect(1px, 1px, 1px, 1px);height: 1px;margin: -1px;overflow: hidden;padding: 0;position: absolute;width: 1px;}#sk-container-id-1 div.sk-estimator {font-family: monospace;background-color: #f0f8ff;border: 1px dotted black;border-radius: 0.25em;box-sizing: border-box;margin-bottom: 0.5em;}#sk-container-id-1 div.sk-estimator:hover {background-color: #d4ebff;}#sk-container-id-1 div.sk-parallel-item::after {content: \"\";width: 100%;border-bottom: 1px solid gray;flex-grow: 1;}#sk-container-id-1 div.sk-label:hover label.sk-toggleable__label {background-color: #d4ebff;}#sk-container-id-1 div.sk-serial::before {content: \"\";position: absolute;border-left: 1px solid gray;box-sizing: border-box;top: 0;bottom: 0;left: 50%;z-index: 0;}#sk-container-id-1 div.sk-serial {display: flex;flex-direction: column;align-items: center;background-color: white;padding-right: 0.2em;padding-left: 0.2em;position: relative;}#sk-container-id-1 div.sk-item {position: relative;z-index: 1;}#sk-container-id-1 div.sk-parallel {display: flex;align-items: stretch;justify-content: center;background-color: white;position: relative;}#sk-container-id-1 div.sk-item::before, #sk-container-id-1 div.sk-parallel-item::before {content: \"\";position: absolute;border-left: 1px solid gray;box-sizing: border-box;top: 0;bottom: 0;left: 50%;z-index: -1;}#sk-container-id-1 div.sk-parallel-item {display: flex;flex-direction: column;z-index: 1;position: relative;background-color: white;}#sk-container-id-1 div.sk-parallel-item:first-child::after {align-self: flex-end;width: 50%;}#sk-container-id-1 div.sk-parallel-item:last-child::after {align-self: flex-start;width: 50%;}#sk-container-id-1 div.sk-parallel-item:only-child::after {width: 0;}#sk-container-id-1 div.sk-dashed-wrapped {border: 1px dashed gray;margin: 0 0.4em 0.5em 0.4em;box-sizing: border-box;padding-bottom: 0.4em;background-color: white;}#sk-container-id-1 div.sk-label label {font-family: monospace;font-weight: bold;display: inline-block;line-height: 1.2em;}#sk-container-id-1 div.sk-label-container {text-align: center;}#sk-container-id-1 div.sk-container {/* jupyter's `normalize.less` sets `[hidden] { display: none; }` but bootstrap.min.css set `[hidden] { display: none !important; }` so we also need the `!important` here to be able to override the default hidden behavior on the sphinx rendered scikit-learn.org. See: https://github.com/scikit-learn/scikit-learn/issues/21755 */display: inline-block !important;position: relative;}#sk-container-id-1 div.sk-text-repr-fallback {display: none;}</style><div id=\"sk-container-id-1\" class=\"sk-top-container\"><div class=\"sk-text-repr-fallback\"><pre>Pipeline(steps=[(&#x27;tfidf&#x27;, TfidfVectorizer()), (&#x27;lr&#x27;, LogisticRegression())])</pre><b>In a Jupyter environment, please rerun this cell to show the HTML representation or trust the notebook. <br />On GitHub, the HTML representation is unable to render, please try loading this page with nbviewer.org.</b></div><div class=\"sk-container\" hidden><div class=\"sk-item sk-dashed-wrapped\"><div class=\"sk-label-container\"><div class=\"sk-label sk-toggleable\"><input class=\"sk-toggleable__control sk-hidden--visually\" id=\"sk-estimator-id-1\" type=\"checkbox\" ><label for=\"sk-estimator-id-1\" class=\"sk-toggleable__label sk-toggleable__label-arrow\">Pipeline</label><div class=\"sk-toggleable__content\"><pre>Pipeline(steps=[(&#x27;tfidf&#x27;, TfidfVectorizer()), (&#x27;lr&#x27;, LogisticRegression())])</pre></div></div></div><div class=\"sk-serial\"><div class=\"sk-item\"><div class=\"sk-estimator sk-toggleable\"><input class=\"sk-toggleable__control sk-hidden--visually\" id=\"sk-estimator-id-2\" type=\"checkbox\" ><label for=\"sk-estimator-id-2\" class=\"sk-toggleable__label sk-toggleable__label-arrow\">TfidfVectorizer</label><div class=\"sk-toggleable__content\"><pre>TfidfVectorizer()</pre></div></div></div><div class=\"sk-item\"><div class=\"sk-estimator sk-toggleable\"><input class=\"sk-toggleable__control sk-hidden--visually\" id=\"sk-estimator-id-3\" type=\"checkbox\" ><label for=\"sk-estimator-id-3\" class=\"sk-toggleable__label sk-toggleable__label-arrow\">LogisticRegression</label><div class=\"sk-toggleable__content\"><pre>LogisticRegression()</pre></div></div></div></div></div></div></div>"
      ],
      "text/plain": [
       "Pipeline(steps=[('tfidf', TfidfVectorizer()), ('lr', LogisticRegression())])"
      ]
     },
     "execution_count": 7,
     "metadata": {},
     "output_type": "execute_result"
    }
   ],
   "source": [
    "nlp_pipe.fit(X_train, y_train)"
   ]
  },
  {
   "cell_type": "code",
   "execution_count": 8,
   "id": "dfdfc00f-d102-4c2b-a4c5-bca0327a7bbb",
   "metadata": {},
   "outputs": [
    {
     "name": "stdout",
     "output_type": "stream",
     "text": [
      "0.8207294747218702\n",
      "0.7034220532319392\n"
     ]
    }
   ],
   "source": [
    "print(nlp_pipe.score(X_train, y_train))\n",
    "print(nlp_pipe.score(X_test, y_test))"
   ]
  },
  {
   "cell_type": "markdown",
   "id": "0f767170-63fe-4080-8fc5-18a48259bc0c",
   "metadata": {},
   "source": [
    "Not bad for a first attempt. It's definitely better than the baseline, but there's probably improvements that can be made. The first thing that sticks out is that the model is quite overfit, given the big difference in train and test scores.\n",
    "\n",
    "I would like two add two things: 1) num_comments we saw in the EDA notebook that might be slightly predictive of which subreddit the title is from. and 2) the domain name. To put these thing in an sklearn Pipeline, I'll have to use ColumnTransformer. That way I can apply the word vectorizer only to the 'title' column, to num_comments I can apply StandardScaler, and to 'domain' I can apply OneHotEncoder.\n",
    "\n",
    "Sidenote: I went down a bit of a rabbit hole here on whether the output of TfidfVectorizer should <i>also</i> be scaled, in order to be on the same scale as the output of num_comments. But it seems like it's probably better not to. See: https://stackoverflow.com/questions/36675022/do-you-need-to-scale-vectorizers-in-sklearn\n",
    "\n",
    "Finally, I'll use a custom preprocessor to get rid of newline characters (stolen from Erics lecture on NLP EDA)"
   ]
  },
  {
   "cell_type": "code",
   "execution_count": 9,
   "id": "41ed7322-e9e1-46b2-ae39-c319ba27c851",
   "metadata": {},
   "outputs": [],
   "source": [
    "# Custom preprocessor\n",
    "def my_preprocessor(text):\n",
    "    text = text.lower()\n",
    "    text = re.sub('\\\\n', '', text)\n",
    "    text = re.findall(\"[\\w']+|\\$[\\d\\.]+\", text)\n",
    "    text = ' '.join(text)\n",
    "    \n",
    "    return text"
   ]
  },
  {
   "cell_type": "code",
   "execution_count": 695,
   "id": "480370cf-c010-4409-99ca-9d4fcb164819",
   "metadata": {},
   "outputs": [],
   "source": [
    "ct = ColumnTransformer([\n",
    "    (\"tfidf\", TfidfVectorizer(preprocessor=my_preprocessor, stop_words='english'), \"title\"),\n",
    "    (\"ss\", StandardScaler(), [\"num_comments\"]),\n",
    "    ('ohe', OneHotEncoder(sparse_output = False, drop ='first'), [\"domain\"])\n",
    "    ])"
   ]
  },
  {
   "cell_type": "code",
   "execution_count": 696,
   "id": "7f059526-49b6-43e8-a99b-ee6c1c85ca5e",
   "metadata": {},
   "outputs": [],
   "source": [
    "nlp_pipe = Pipeline([\n",
    "    ('ct', ct ),\n",
    "    ('lr', LogisticRegression(solver='liblinear')), #can't use a penalty if the output of Tfidf isn't scaled\n",
    "])"
   ]
  },
  {
   "cell_type": "markdown",
   "id": "d978118a-7d6f-4d9c-86d5-995f3e270ea2",
   "metadata": {},
   "source": [
    "We need to redefine X to include 'num_comments' and 'domain'"
   ]
  },
  {
   "cell_type": "code",
   "execution_count": 703,
   "id": "a4d95639-48c9-4c0e-bc43-631a04a93b15",
   "metadata": {},
   "outputs": [
    {
     "data": {
      "text/plain": [
       "array(['tfidf__00', 'tfidf__000', 'tfidf__0003', ..., 'ohe__domain_wnd',\n",
       "       'ohe__domain_wsj', 'ohe__domain_youtube'], dtype=object)"
      ]
     },
     "execution_count": 703,
     "metadata": {},
     "output_type": "execute_result"
    }
   ],
   "source": [
    "nlp_pipe.named_steps.ct.get_feature_names_out()"
   ]
  },
  {
   "cell_type": "code",
   "execution_count": 697,
   "id": "a7602785-05a9-4470-b408-ad2a4df26a01",
   "metadata": {},
   "outputs": [],
   "source": [
    "X = post_df[['title', 'num_comments', 'domain']]\n",
    "y = post_df['subreddit']\n",
    "\n",
    "X_train, X_test, y_train, y_test = train_test_split(X, y, random_state=42)"
   ]
  },
  {
   "cell_type": "code",
   "execution_count": 698,
   "id": "c00a3f31-81f7-45af-8d74-e634771b111d",
   "metadata": {},
   "outputs": [
    {
     "data": {
      "text/html": [
       "<style>#sk-container-id-106 {color: black;background-color: white;}#sk-container-id-106 pre{padding: 0;}#sk-container-id-106 div.sk-toggleable {background-color: white;}#sk-container-id-106 label.sk-toggleable__label {cursor: pointer;display: block;width: 100%;margin-bottom: 0;padding: 0.3em;box-sizing: border-box;text-align: center;}#sk-container-id-106 label.sk-toggleable__label-arrow:before {content: \"▸\";float: left;margin-right: 0.25em;color: #696969;}#sk-container-id-106 label.sk-toggleable__label-arrow:hover:before {color: black;}#sk-container-id-106 div.sk-estimator:hover label.sk-toggleable__label-arrow:before {color: black;}#sk-container-id-106 div.sk-toggleable__content {max-height: 0;max-width: 0;overflow: hidden;text-align: left;background-color: #f0f8ff;}#sk-container-id-106 div.sk-toggleable__content pre {margin: 0.2em;color: black;border-radius: 0.25em;background-color: #f0f8ff;}#sk-container-id-106 input.sk-toggleable__control:checked~div.sk-toggleable__content {max-height: 200px;max-width: 100%;overflow: auto;}#sk-container-id-106 input.sk-toggleable__control:checked~label.sk-toggleable__label-arrow:before {content: \"▾\";}#sk-container-id-106 div.sk-estimator input.sk-toggleable__control:checked~label.sk-toggleable__label {background-color: #d4ebff;}#sk-container-id-106 div.sk-label input.sk-toggleable__control:checked~label.sk-toggleable__label {background-color: #d4ebff;}#sk-container-id-106 input.sk-hidden--visually {border: 0;clip: rect(1px 1px 1px 1px);clip: rect(1px, 1px, 1px, 1px);height: 1px;margin: -1px;overflow: hidden;padding: 0;position: absolute;width: 1px;}#sk-container-id-106 div.sk-estimator {font-family: monospace;background-color: #f0f8ff;border: 1px dotted black;border-radius: 0.25em;box-sizing: border-box;margin-bottom: 0.5em;}#sk-container-id-106 div.sk-estimator:hover {background-color: #d4ebff;}#sk-container-id-106 div.sk-parallel-item::after {content: \"\";width: 100%;border-bottom: 1px solid gray;flex-grow: 1;}#sk-container-id-106 div.sk-label:hover label.sk-toggleable__label {background-color: #d4ebff;}#sk-container-id-106 div.sk-serial::before {content: \"\";position: absolute;border-left: 1px solid gray;box-sizing: border-box;top: 0;bottom: 0;left: 50%;z-index: 0;}#sk-container-id-106 div.sk-serial {display: flex;flex-direction: column;align-items: center;background-color: white;padding-right: 0.2em;padding-left: 0.2em;position: relative;}#sk-container-id-106 div.sk-item {position: relative;z-index: 1;}#sk-container-id-106 div.sk-parallel {display: flex;align-items: stretch;justify-content: center;background-color: white;position: relative;}#sk-container-id-106 div.sk-item::before, #sk-container-id-106 div.sk-parallel-item::before {content: \"\";position: absolute;border-left: 1px solid gray;box-sizing: border-box;top: 0;bottom: 0;left: 50%;z-index: -1;}#sk-container-id-106 div.sk-parallel-item {display: flex;flex-direction: column;z-index: 1;position: relative;background-color: white;}#sk-container-id-106 div.sk-parallel-item:first-child::after {align-self: flex-end;width: 50%;}#sk-container-id-106 div.sk-parallel-item:last-child::after {align-self: flex-start;width: 50%;}#sk-container-id-106 div.sk-parallel-item:only-child::after {width: 0;}#sk-container-id-106 div.sk-dashed-wrapped {border: 1px dashed gray;margin: 0 0.4em 0.5em 0.4em;box-sizing: border-box;padding-bottom: 0.4em;background-color: white;}#sk-container-id-106 div.sk-label label {font-family: monospace;font-weight: bold;display: inline-block;line-height: 1.2em;}#sk-container-id-106 div.sk-label-container {text-align: center;}#sk-container-id-106 div.sk-container {/* jupyter's `normalize.less` sets `[hidden] { display: none; }` but bootstrap.min.css set `[hidden] { display: none !important; }` so we also need the `!important` here to be able to override the default hidden behavior on the sphinx rendered scikit-learn.org. See: https://github.com/scikit-learn/scikit-learn/issues/21755 */display: inline-block !important;position: relative;}#sk-container-id-106 div.sk-text-repr-fallback {display: none;}</style><div id=\"sk-container-id-106\" class=\"sk-top-container\"><div class=\"sk-text-repr-fallback\"><pre>Pipeline(steps=[(&#x27;ct&#x27;,\n",
       "                 ColumnTransformer(transformers=[(&#x27;tfidf&#x27;,\n",
       "                                                  TfidfVectorizer(preprocessor=&lt;function my_preprocessor at 0x7fd0401c58b0&gt;,\n",
       "                                                                  stop_words=&#x27;english&#x27;),\n",
       "                                                  &#x27;title&#x27;),\n",
       "                                                 (&#x27;ss&#x27;, StandardScaler(),\n",
       "                                                  [&#x27;num_comments&#x27;]),\n",
       "                                                 (&#x27;ohe&#x27;,\n",
       "                                                  OneHotEncoder(drop=&#x27;first&#x27;,\n",
       "                                                                sparse_output=False),\n",
       "                                                  [&#x27;domain&#x27;])])),\n",
       "                (&#x27;lr&#x27;, LogisticRegression(solver=&#x27;liblinear&#x27;))])</pre><b>In a Jupyter environment, please rerun this cell to show the HTML representation or trust the notebook. <br />On GitHub, the HTML representation is unable to render, please try loading this page with nbviewer.org.</b></div><div class=\"sk-container\" hidden><div class=\"sk-item sk-dashed-wrapped\"><div class=\"sk-label-container\"><div class=\"sk-label sk-toggleable\"><input class=\"sk-toggleable__control sk-hidden--visually\" id=\"sk-estimator-id-1330\" type=\"checkbox\" ><label for=\"sk-estimator-id-1330\" class=\"sk-toggleable__label sk-toggleable__label-arrow\">Pipeline</label><div class=\"sk-toggleable__content\"><pre>Pipeline(steps=[(&#x27;ct&#x27;,\n",
       "                 ColumnTransformer(transformers=[(&#x27;tfidf&#x27;,\n",
       "                                                  TfidfVectorizer(preprocessor=&lt;function my_preprocessor at 0x7fd0401c58b0&gt;,\n",
       "                                                                  stop_words=&#x27;english&#x27;),\n",
       "                                                  &#x27;title&#x27;),\n",
       "                                                 (&#x27;ss&#x27;, StandardScaler(),\n",
       "                                                  [&#x27;num_comments&#x27;]),\n",
       "                                                 (&#x27;ohe&#x27;,\n",
       "                                                  OneHotEncoder(drop=&#x27;first&#x27;,\n",
       "                                                                sparse_output=False),\n",
       "                                                  [&#x27;domain&#x27;])])),\n",
       "                (&#x27;lr&#x27;, LogisticRegression(solver=&#x27;liblinear&#x27;))])</pre></div></div></div><div class=\"sk-serial\"><div class=\"sk-item sk-dashed-wrapped\"><div class=\"sk-label-container\"><div class=\"sk-label sk-toggleable\"><input class=\"sk-toggleable__control sk-hidden--visually\" id=\"sk-estimator-id-1331\" type=\"checkbox\" ><label for=\"sk-estimator-id-1331\" class=\"sk-toggleable__label sk-toggleable__label-arrow\">ct: ColumnTransformer</label><div class=\"sk-toggleable__content\"><pre>ColumnTransformer(transformers=[(&#x27;tfidf&#x27;,\n",
       "                                 TfidfVectorizer(preprocessor=&lt;function my_preprocessor at 0x7fd0401c58b0&gt;,\n",
       "                                                 stop_words=&#x27;english&#x27;),\n",
       "                                 &#x27;title&#x27;),\n",
       "                                (&#x27;ss&#x27;, StandardScaler(), [&#x27;num_comments&#x27;]),\n",
       "                                (&#x27;ohe&#x27;,\n",
       "                                 OneHotEncoder(drop=&#x27;first&#x27;,\n",
       "                                               sparse_output=False),\n",
       "                                 [&#x27;domain&#x27;])])</pre></div></div></div><div class=\"sk-parallel\"><div class=\"sk-parallel-item\"><div class=\"sk-item\"><div class=\"sk-label-container\"><div class=\"sk-label sk-toggleable\"><input class=\"sk-toggleable__control sk-hidden--visually\" id=\"sk-estimator-id-1332\" type=\"checkbox\" ><label for=\"sk-estimator-id-1332\" class=\"sk-toggleable__label sk-toggleable__label-arrow\">tfidf</label><div class=\"sk-toggleable__content\"><pre>title</pre></div></div></div><div class=\"sk-serial\"><div class=\"sk-item\"><div class=\"sk-estimator sk-toggleable\"><input class=\"sk-toggleable__control sk-hidden--visually\" id=\"sk-estimator-id-1333\" type=\"checkbox\" ><label for=\"sk-estimator-id-1333\" class=\"sk-toggleable__label sk-toggleable__label-arrow\">TfidfVectorizer</label><div class=\"sk-toggleable__content\"><pre>TfidfVectorizer(preprocessor=&lt;function my_preprocessor at 0x7fd0401c58b0&gt;,\n",
       "                stop_words=&#x27;english&#x27;)</pre></div></div></div></div></div></div><div class=\"sk-parallel-item\"><div class=\"sk-item\"><div class=\"sk-label-container\"><div class=\"sk-label sk-toggleable\"><input class=\"sk-toggleable__control sk-hidden--visually\" id=\"sk-estimator-id-1334\" type=\"checkbox\" ><label for=\"sk-estimator-id-1334\" class=\"sk-toggleable__label sk-toggleable__label-arrow\">ss</label><div class=\"sk-toggleable__content\"><pre>[&#x27;num_comments&#x27;]</pre></div></div></div><div class=\"sk-serial\"><div class=\"sk-item\"><div class=\"sk-estimator sk-toggleable\"><input class=\"sk-toggleable__control sk-hidden--visually\" id=\"sk-estimator-id-1335\" type=\"checkbox\" ><label for=\"sk-estimator-id-1335\" class=\"sk-toggleable__label sk-toggleable__label-arrow\">StandardScaler</label><div class=\"sk-toggleable__content\"><pre>StandardScaler()</pre></div></div></div></div></div></div><div class=\"sk-parallel-item\"><div class=\"sk-item\"><div class=\"sk-label-container\"><div class=\"sk-label sk-toggleable\"><input class=\"sk-toggleable__control sk-hidden--visually\" id=\"sk-estimator-id-1336\" type=\"checkbox\" ><label for=\"sk-estimator-id-1336\" class=\"sk-toggleable__label sk-toggleable__label-arrow\">ohe</label><div class=\"sk-toggleable__content\"><pre>[&#x27;domain&#x27;]</pre></div></div></div><div class=\"sk-serial\"><div class=\"sk-item\"><div class=\"sk-estimator sk-toggleable\"><input class=\"sk-toggleable__control sk-hidden--visually\" id=\"sk-estimator-id-1337\" type=\"checkbox\" ><label for=\"sk-estimator-id-1337\" class=\"sk-toggleable__label sk-toggleable__label-arrow\">OneHotEncoder</label><div class=\"sk-toggleable__content\"><pre>OneHotEncoder(drop=&#x27;first&#x27;, sparse_output=False)</pre></div></div></div></div></div></div></div></div><div class=\"sk-item\"><div class=\"sk-estimator sk-toggleable\"><input class=\"sk-toggleable__control sk-hidden--visually\" id=\"sk-estimator-id-1338\" type=\"checkbox\" ><label for=\"sk-estimator-id-1338\" class=\"sk-toggleable__label sk-toggleable__label-arrow\">LogisticRegression</label><div class=\"sk-toggleable__content\"><pre>LogisticRegression(solver=&#x27;liblinear&#x27;)</pre></div></div></div></div></div></div></div>"
      ],
      "text/plain": [
       "Pipeline(steps=[('ct',\n",
       "                 ColumnTransformer(transformers=[('tfidf',\n",
       "                                                  TfidfVectorizer(preprocessor=<function my_preprocessor at 0x7fd0401c58b0>,\n",
       "                                                                  stop_words='english'),\n",
       "                                                  'title'),\n",
       "                                                 ('ss', StandardScaler(),\n",
       "                                                  ['num_comments']),\n",
       "                                                 ('ohe',\n",
       "                                                  OneHotEncoder(drop='first',\n",
       "                                                                sparse_output=False),\n",
       "                                                  ['domain'])])),\n",
       "                ('lr', LogisticRegression(solver='liblinear'))])"
      ]
     },
     "execution_count": 698,
     "metadata": {},
     "output_type": "execute_result"
    }
   ],
   "source": [
    "nlp_pipe.fit(X_train, y_train)"
   ]
  },
  {
   "cell_type": "code",
   "execution_count": 14,
   "id": "d5aa2342-6a91-41ad-8a64-6306c015967b",
   "metadata": {},
   "outputs": [
    {
     "name": "stdout",
     "output_type": "stream",
     "text": [
      "0.9034643008027038\n",
      "0.8177017321504013\n"
     ]
    }
   ],
   "source": [
    "print(nlp_pipe.score(X_train, y_train))\n",
    "print(nlp_pipe.score(X_test, y_test))"
   ]
  },
  {
   "cell_type": "markdown",
   "id": "154c0a5b-2587-4c71-8081-2a9df4ce47c4",
   "metadata": {},
   "source": [
    "Adding those things seem to make a model a little bit better! It's still overfit, but scoring better overall.\n",
    "\n",
    "Given that the model is overfit, maybe we should do a GridSearch and see if we can improve the model that way"
   ]
  },
  {
   "cell_type": "code",
   "execution_count": 15,
   "id": "162a0c07-c40b-47a4-a550-cf9554d0f8cd",
   "metadata": {},
   "outputs": [],
   "source": [
    "pipe_params = {\n",
    "    'ct__tfidf__strip_accents':[None, 'unicode'],\n",
    "    'ct__tfidf__max_df':[0.99, 0.8, 0.5],\n",
    "    'ct__tfidf__stop_words':[None, 'english'],\n",
    "    'lr__penalty':['l1', 'l2'],\n",
    "    'lr__C':[0.01, 0.5, 1, 5]\n",
    "}"
   ]
  },
  {
   "cell_type": "code",
   "execution_count": 16,
   "id": "da1be633-93fa-4c7e-ac76-aee76d8f4f09",
   "metadata": {},
   "outputs": [
    {
     "data": {
      "text/html": [
       "<style>#sk-container-id-3 {color: black;background-color: white;}#sk-container-id-3 pre{padding: 0;}#sk-container-id-3 div.sk-toggleable {background-color: white;}#sk-container-id-3 label.sk-toggleable__label {cursor: pointer;display: block;width: 100%;margin-bottom: 0;padding: 0.3em;box-sizing: border-box;text-align: center;}#sk-container-id-3 label.sk-toggleable__label-arrow:before {content: \"▸\";float: left;margin-right: 0.25em;color: #696969;}#sk-container-id-3 label.sk-toggleable__label-arrow:hover:before {color: black;}#sk-container-id-3 div.sk-estimator:hover label.sk-toggleable__label-arrow:before {color: black;}#sk-container-id-3 div.sk-toggleable__content {max-height: 0;max-width: 0;overflow: hidden;text-align: left;background-color: #f0f8ff;}#sk-container-id-3 div.sk-toggleable__content pre {margin: 0.2em;color: black;border-radius: 0.25em;background-color: #f0f8ff;}#sk-container-id-3 input.sk-toggleable__control:checked~div.sk-toggleable__content {max-height: 200px;max-width: 100%;overflow: auto;}#sk-container-id-3 input.sk-toggleable__control:checked~label.sk-toggleable__label-arrow:before {content: \"▾\";}#sk-container-id-3 div.sk-estimator input.sk-toggleable__control:checked~label.sk-toggleable__label {background-color: #d4ebff;}#sk-container-id-3 div.sk-label input.sk-toggleable__control:checked~label.sk-toggleable__label {background-color: #d4ebff;}#sk-container-id-3 input.sk-hidden--visually {border: 0;clip: rect(1px 1px 1px 1px);clip: rect(1px, 1px, 1px, 1px);height: 1px;margin: -1px;overflow: hidden;padding: 0;position: absolute;width: 1px;}#sk-container-id-3 div.sk-estimator {font-family: monospace;background-color: #f0f8ff;border: 1px dotted black;border-radius: 0.25em;box-sizing: border-box;margin-bottom: 0.5em;}#sk-container-id-3 div.sk-estimator:hover {background-color: #d4ebff;}#sk-container-id-3 div.sk-parallel-item::after {content: \"\";width: 100%;border-bottom: 1px solid gray;flex-grow: 1;}#sk-container-id-3 div.sk-label:hover label.sk-toggleable__label {background-color: #d4ebff;}#sk-container-id-3 div.sk-serial::before {content: \"\";position: absolute;border-left: 1px solid gray;box-sizing: border-box;top: 0;bottom: 0;left: 50%;z-index: 0;}#sk-container-id-3 div.sk-serial {display: flex;flex-direction: column;align-items: center;background-color: white;padding-right: 0.2em;padding-left: 0.2em;position: relative;}#sk-container-id-3 div.sk-item {position: relative;z-index: 1;}#sk-container-id-3 div.sk-parallel {display: flex;align-items: stretch;justify-content: center;background-color: white;position: relative;}#sk-container-id-3 div.sk-item::before, #sk-container-id-3 div.sk-parallel-item::before {content: \"\";position: absolute;border-left: 1px solid gray;box-sizing: border-box;top: 0;bottom: 0;left: 50%;z-index: -1;}#sk-container-id-3 div.sk-parallel-item {display: flex;flex-direction: column;z-index: 1;position: relative;background-color: white;}#sk-container-id-3 div.sk-parallel-item:first-child::after {align-self: flex-end;width: 50%;}#sk-container-id-3 div.sk-parallel-item:last-child::after {align-self: flex-start;width: 50%;}#sk-container-id-3 div.sk-parallel-item:only-child::after {width: 0;}#sk-container-id-3 div.sk-dashed-wrapped {border: 1px dashed gray;margin: 0 0.4em 0.5em 0.4em;box-sizing: border-box;padding-bottom: 0.4em;background-color: white;}#sk-container-id-3 div.sk-label label {font-family: monospace;font-weight: bold;display: inline-block;line-height: 1.2em;}#sk-container-id-3 div.sk-label-container {text-align: center;}#sk-container-id-3 div.sk-container {/* jupyter's `normalize.less` sets `[hidden] { display: none; }` but bootstrap.min.css set `[hidden] { display: none !important; }` so we also need the `!important` here to be able to override the default hidden behavior on the sphinx rendered scikit-learn.org. See: https://github.com/scikit-learn/scikit-learn/issues/21755 */display: inline-block !important;position: relative;}#sk-container-id-3 div.sk-text-repr-fallback {display: none;}</style><div id=\"sk-container-id-3\" class=\"sk-top-container\"><div class=\"sk-text-repr-fallback\"><pre>GridSearchCV(estimator=Pipeline(steps=[(&#x27;ct&#x27;,\n",
       "                                        ColumnTransformer(transformers=[(&#x27;tfidf&#x27;,\n",
       "                                                                         TfidfVectorizer(preprocessor=&lt;function my_preprocessor at 0x7fd0401c58b0&gt;,\n",
       "                                                                                         stop_words=&#x27;english&#x27;),\n",
       "                                                                         &#x27;title&#x27;),\n",
       "                                                                        (&#x27;ss&#x27;,\n",
       "                                                                         StandardScaler(),\n",
       "                                                                         [&#x27;num_comments&#x27;]),\n",
       "                                                                        (&#x27;ohe&#x27;,\n",
       "                                                                         OneHotEncoder(drop=&#x27;first&#x27;,\n",
       "                                                                                       sparse_output=False),\n",
       "                                                                         [&#x27;domain&#x27;])])),\n",
       "                                       (&#x27;lr&#x27;,\n",
       "                                        LogisticRegression(solver=&#x27;liblinear&#x27;))]),\n",
       "             n_jobs=-1,\n",
       "             param_grid={&#x27;ct__tfidf__max_df&#x27;: [0.99, 0.8, 0.5],\n",
       "                         &#x27;ct__tfidf__stop_words&#x27;: [None, &#x27;english&#x27;],\n",
       "                         &#x27;ct__tfidf__strip_accents&#x27;: [None, &#x27;unicode&#x27;],\n",
       "                         &#x27;lr__C&#x27;: [0.01, 0.5, 1, 5],\n",
       "                         &#x27;lr__penalty&#x27;: [&#x27;l1&#x27;, &#x27;l2&#x27;]})</pre><b>In a Jupyter environment, please rerun this cell to show the HTML representation or trust the notebook. <br />On GitHub, the HTML representation is unable to render, please try loading this page with nbviewer.org.</b></div><div class=\"sk-container\" hidden><div class=\"sk-item sk-dashed-wrapped\"><div class=\"sk-label-container\"><div class=\"sk-label sk-toggleable\"><input class=\"sk-toggleable__control sk-hidden--visually\" id=\"sk-estimator-id-13\" type=\"checkbox\" ><label for=\"sk-estimator-id-13\" class=\"sk-toggleable__label sk-toggleable__label-arrow\">GridSearchCV</label><div class=\"sk-toggleable__content\"><pre>GridSearchCV(estimator=Pipeline(steps=[(&#x27;ct&#x27;,\n",
       "                                        ColumnTransformer(transformers=[(&#x27;tfidf&#x27;,\n",
       "                                                                         TfidfVectorizer(preprocessor=&lt;function my_preprocessor at 0x7fd0401c58b0&gt;,\n",
       "                                                                                         stop_words=&#x27;english&#x27;),\n",
       "                                                                         &#x27;title&#x27;),\n",
       "                                                                        (&#x27;ss&#x27;,\n",
       "                                                                         StandardScaler(),\n",
       "                                                                         [&#x27;num_comments&#x27;]),\n",
       "                                                                        (&#x27;ohe&#x27;,\n",
       "                                                                         OneHotEncoder(drop=&#x27;first&#x27;,\n",
       "                                                                                       sparse_output=False),\n",
       "                                                                         [&#x27;domain&#x27;])])),\n",
       "                                       (&#x27;lr&#x27;,\n",
       "                                        LogisticRegression(solver=&#x27;liblinear&#x27;))]),\n",
       "             n_jobs=-1,\n",
       "             param_grid={&#x27;ct__tfidf__max_df&#x27;: [0.99, 0.8, 0.5],\n",
       "                         &#x27;ct__tfidf__stop_words&#x27;: [None, &#x27;english&#x27;],\n",
       "                         &#x27;ct__tfidf__strip_accents&#x27;: [None, &#x27;unicode&#x27;],\n",
       "                         &#x27;lr__C&#x27;: [0.01, 0.5, 1, 5],\n",
       "                         &#x27;lr__penalty&#x27;: [&#x27;l1&#x27;, &#x27;l2&#x27;]})</pre></div></div></div><div class=\"sk-parallel\"><div class=\"sk-parallel-item\"><div class=\"sk-item\"><div class=\"sk-label-container\"><div class=\"sk-label sk-toggleable\"><input class=\"sk-toggleable__control sk-hidden--visually\" id=\"sk-estimator-id-14\" type=\"checkbox\" ><label for=\"sk-estimator-id-14\" class=\"sk-toggleable__label sk-toggleable__label-arrow\">estimator: Pipeline</label><div class=\"sk-toggleable__content\"><pre>Pipeline(steps=[(&#x27;ct&#x27;,\n",
       "                 ColumnTransformer(transformers=[(&#x27;tfidf&#x27;,\n",
       "                                                  TfidfVectorizer(preprocessor=&lt;function my_preprocessor at 0x7fd0401c58b0&gt;,\n",
       "                                                                  stop_words=&#x27;english&#x27;),\n",
       "                                                  &#x27;title&#x27;),\n",
       "                                                 (&#x27;ss&#x27;, StandardScaler(),\n",
       "                                                  [&#x27;num_comments&#x27;]),\n",
       "                                                 (&#x27;ohe&#x27;,\n",
       "                                                  OneHotEncoder(drop=&#x27;first&#x27;,\n",
       "                                                                sparse_output=False),\n",
       "                                                  [&#x27;domain&#x27;])])),\n",
       "                (&#x27;lr&#x27;, LogisticRegression(solver=&#x27;liblinear&#x27;))])</pre></div></div></div><div class=\"sk-serial\"><div class=\"sk-item\"><div class=\"sk-serial\"><div class=\"sk-item sk-dashed-wrapped\"><div class=\"sk-label-container\"><div class=\"sk-label sk-toggleable\"><input class=\"sk-toggleable__control sk-hidden--visually\" id=\"sk-estimator-id-15\" type=\"checkbox\" ><label for=\"sk-estimator-id-15\" class=\"sk-toggleable__label sk-toggleable__label-arrow\">ct: ColumnTransformer</label><div class=\"sk-toggleable__content\"><pre>ColumnTransformer(transformers=[(&#x27;tfidf&#x27;,\n",
       "                                 TfidfVectorizer(preprocessor=&lt;function my_preprocessor at 0x7fd0401c58b0&gt;,\n",
       "                                                 stop_words=&#x27;english&#x27;),\n",
       "                                 &#x27;title&#x27;),\n",
       "                                (&#x27;ss&#x27;, StandardScaler(), [&#x27;num_comments&#x27;]),\n",
       "                                (&#x27;ohe&#x27;,\n",
       "                                 OneHotEncoder(drop=&#x27;first&#x27;,\n",
       "                                               sparse_output=False),\n",
       "                                 [&#x27;domain&#x27;])])</pre></div></div></div><div class=\"sk-parallel\"><div class=\"sk-parallel-item\"><div class=\"sk-item\"><div class=\"sk-label-container\"><div class=\"sk-label sk-toggleable\"><input class=\"sk-toggleable__control sk-hidden--visually\" id=\"sk-estimator-id-16\" type=\"checkbox\" ><label for=\"sk-estimator-id-16\" class=\"sk-toggleable__label sk-toggleable__label-arrow\">tfidf</label><div class=\"sk-toggleable__content\"><pre>title</pre></div></div></div><div class=\"sk-serial\"><div class=\"sk-item\"><div class=\"sk-estimator sk-toggleable\"><input class=\"sk-toggleable__control sk-hidden--visually\" id=\"sk-estimator-id-17\" type=\"checkbox\" ><label for=\"sk-estimator-id-17\" class=\"sk-toggleable__label sk-toggleable__label-arrow\">TfidfVectorizer</label><div class=\"sk-toggleable__content\"><pre>TfidfVectorizer(preprocessor=&lt;function my_preprocessor at 0x7fd0401c58b0&gt;,\n",
       "                stop_words=&#x27;english&#x27;)</pre></div></div></div></div></div></div><div class=\"sk-parallel-item\"><div class=\"sk-item\"><div class=\"sk-label-container\"><div class=\"sk-label sk-toggleable\"><input class=\"sk-toggleable__control sk-hidden--visually\" id=\"sk-estimator-id-18\" type=\"checkbox\" ><label for=\"sk-estimator-id-18\" class=\"sk-toggleable__label sk-toggleable__label-arrow\">ss</label><div class=\"sk-toggleable__content\"><pre>[&#x27;num_comments&#x27;]</pre></div></div></div><div class=\"sk-serial\"><div class=\"sk-item\"><div class=\"sk-estimator sk-toggleable\"><input class=\"sk-toggleable__control sk-hidden--visually\" id=\"sk-estimator-id-19\" type=\"checkbox\" ><label for=\"sk-estimator-id-19\" class=\"sk-toggleable__label sk-toggleable__label-arrow\">StandardScaler</label><div class=\"sk-toggleable__content\"><pre>StandardScaler()</pre></div></div></div></div></div></div><div class=\"sk-parallel-item\"><div class=\"sk-item\"><div class=\"sk-label-container\"><div class=\"sk-label sk-toggleable\"><input class=\"sk-toggleable__control sk-hidden--visually\" id=\"sk-estimator-id-20\" type=\"checkbox\" ><label for=\"sk-estimator-id-20\" class=\"sk-toggleable__label sk-toggleable__label-arrow\">ohe</label><div class=\"sk-toggleable__content\"><pre>[&#x27;domain&#x27;]</pre></div></div></div><div class=\"sk-serial\"><div class=\"sk-item\"><div class=\"sk-estimator sk-toggleable\"><input class=\"sk-toggleable__control sk-hidden--visually\" id=\"sk-estimator-id-21\" type=\"checkbox\" ><label for=\"sk-estimator-id-21\" class=\"sk-toggleable__label sk-toggleable__label-arrow\">OneHotEncoder</label><div class=\"sk-toggleable__content\"><pre>OneHotEncoder(drop=&#x27;first&#x27;, sparse_output=False)</pre></div></div></div></div></div></div></div></div><div class=\"sk-item\"><div class=\"sk-estimator sk-toggleable\"><input class=\"sk-toggleable__control sk-hidden--visually\" id=\"sk-estimator-id-22\" type=\"checkbox\" ><label for=\"sk-estimator-id-22\" class=\"sk-toggleable__label sk-toggleable__label-arrow\">LogisticRegression</label><div class=\"sk-toggleable__content\"><pre>LogisticRegression(solver=&#x27;liblinear&#x27;)</pre></div></div></div></div></div></div></div></div></div></div></div></div>"
      ],
      "text/plain": [
       "GridSearchCV(estimator=Pipeline(steps=[('ct',\n",
       "                                        ColumnTransformer(transformers=[('tfidf',\n",
       "                                                                         TfidfVectorizer(preprocessor=<function my_preprocessor at 0x7fd0401c58b0>,\n",
       "                                                                                         stop_words='english'),\n",
       "                                                                         'title'),\n",
       "                                                                        ('ss',\n",
       "                                                                         StandardScaler(),\n",
       "                                                                         ['num_comments']),\n",
       "                                                                        ('ohe',\n",
       "                                                                         OneHotEncoder(drop='first',\n",
       "                                                                                       sparse_output=False),\n",
       "                                                                         ['domain'])])),\n",
       "                                       ('lr',\n",
       "                                        LogisticRegression(solver='liblinear'))]),\n",
       "             n_jobs=-1,\n",
       "             param_grid={'ct__tfidf__max_df': [0.99, 0.8, 0.5],\n",
       "                         'ct__tfidf__stop_words': [None, 'english'],\n",
       "                         'ct__tfidf__strip_accents': [None, 'unicode'],\n",
       "                         'lr__C': [0.01, 0.5, 1, 5],\n",
       "                         'lr__penalty': ['l1', 'l2']})"
      ]
     },
     "execution_count": 16,
     "metadata": {},
     "output_type": "execute_result"
    }
   ],
   "source": [
    "gs = GridSearchCV(nlp_pipe,\n",
    "                 param_grid =pipe_params,\n",
    "                 n_jobs=-1)\n",
    "gs.fit(X_train, y_train)"
   ]
  },
  {
   "cell_type": "code",
   "execution_count": 17,
   "id": "8aaae456-eec7-47d9-abe6-9f40aad81a58",
   "metadata": {},
   "outputs": [
    {
     "name": "stdout",
     "output_type": "stream",
     "text": [
      "0.8995916068159414\n",
      "0.8210815378115758\n"
     ]
    }
   ],
   "source": [
    "print(gs.score(X_train, y_train))\n",
    "print(gs.score(X_test, y_test))"
   ]
  },
  {
   "cell_type": "code",
   "execution_count": 18,
   "id": "0dad4877-f57f-4e70-9450-ffdee2bb3db5",
   "metadata": {},
   "outputs": [
    {
     "data": {
      "text/plain": [
       "{'ct__tfidf__max_df': 0.99,\n",
       " 'ct__tfidf__stop_words': None,\n",
       " 'ct__tfidf__strip_accents': None,\n",
       " 'lr__C': 1,\n",
       " 'lr__penalty': 'l2'}"
      ]
     },
     "execution_count": 18,
     "metadata": {},
     "output_type": "execute_result"
    }
   ],
   "source": [
    "gs.best_params_"
   ]
  },
  {
   "cell_type": "markdown",
   "id": "04a0847e-46b4-4745-ae0a-0e468739093f",
   "metadata": {},
   "source": [
    "It seems that my gridsearch doesn't make the model all that much better.\n",
    "\n",
    "One other thing I can try to do is to do stemming instead of tokenizing. Stealing this from Eric's lecture on NLP EDA"
   ]
  },
  {
   "cell_type": "code",
   "execution_count": 24,
   "id": "76aeafa7-7c18-4537-a1fe-4153aee5570b",
   "metadata": {},
   "outputs": [],
   "source": [
    "# Custom tokenizing\n",
    "# https://www.nltk.org/api/nltk.tokenize.html\n",
    "def my_lemmatizer(text):\n",
    "    wnet = WordNetLemmatizer()\n",
    "    return [wnet.lemmatize(w) for w in text.split()]"
   ]
  },
  {
   "cell_type": "code",
   "execution_count": 25,
   "id": "ceef6ea3-d317-4092-b406-753a00e25f35",
   "metadata": {},
   "outputs": [
    {
     "data": {
      "text/plain": [
       "['i', 'me', 'my', 'myself', 'we']"
      ]
     },
     "execution_count": 25,
     "metadata": {},
     "output_type": "execute_result"
    }
   ],
   "source": [
    "# apply same pre-processing as posts to stopwords\n",
    "# https://scikit-learn.org/stable/modules/feature_extraction.html#stop-words\n",
    "wnet = WordNetLemmatizer()\n",
    "lem_stopwords = [wnet.lemmatize(w) for w in stopwords.words('english')]\n",
    "lem_stopwords[:5]"
   ]
  },
  {
   "cell_type": "code",
   "execution_count": 26,
   "id": "3b3d2c43-acf5-4105-99a2-20620d3baff3",
   "metadata": {},
   "outputs": [],
   "source": [
    "ct = ColumnTransformer([\n",
    "    (\"tfidf\", TfidfVectorizer(preprocessor=my_preprocessor, tokenizer=my_lemmatizer), \"title\"),\n",
    "    (\"ss\", StandardScaler(), [\"num_comments\"]),\n",
    "    ('ohe', OneHotEncoder(sparse_output = False, drop ='first'), [\"domain\"])\n",
    "    ])\n",
    "\n",
    "nlp_pipe = Pipeline([\n",
    "    ('ct', ct ),\n",
    "    ('lr', LogisticRegression(solver='liblinear')),\n",
    "])"
   ]
  },
  {
   "cell_type": "code",
   "execution_count": 27,
   "id": "6b1cb52f-3958-43a5-8dcd-eb6444890b99",
   "metadata": {},
   "outputs": [],
   "source": [
    "pipe_params = {\n",
    "    'ct__tfidf__strip_accents':[None, 'unicode'],\n",
    "    'ct__tfidf__max_features':[4000, 8000, 12000],\n",
    "    'ct__tfidf__max_df':[1, 0.8, 0.5],\n",
    "    'ct__tfidf__stop_words':[None, lem_stopwords],\n",
    "}"
   ]
  },
  {
   "cell_type": "code",
   "execution_count": 28,
   "id": "a6428e0a-9e74-4cab-b46d-274342399154",
   "metadata": {},
   "outputs": [
    {
     "name": "stderr",
     "output_type": "stream",
     "text": [
      "/Users/martijndevries/opt/anaconda3/lib/python3.8/site-packages/sklearn/feature_extraction/text.py:528: UserWarning: The parameter 'token_pattern' will not be used since 'tokenizer' is not None'\n",
      "  warnings.warn(\n"
     ]
    },
    {
     "data": {
      "text/html": [
       "<style>#sk-container-id-4 {color: black;background-color: white;}#sk-container-id-4 pre{padding: 0;}#sk-container-id-4 div.sk-toggleable {background-color: white;}#sk-container-id-4 label.sk-toggleable__label {cursor: pointer;display: block;width: 100%;margin-bottom: 0;padding: 0.3em;box-sizing: border-box;text-align: center;}#sk-container-id-4 label.sk-toggleable__label-arrow:before {content: \"▸\";float: left;margin-right: 0.25em;color: #696969;}#sk-container-id-4 label.sk-toggleable__label-arrow:hover:before {color: black;}#sk-container-id-4 div.sk-estimator:hover label.sk-toggleable__label-arrow:before {color: black;}#sk-container-id-4 div.sk-toggleable__content {max-height: 0;max-width: 0;overflow: hidden;text-align: left;background-color: #f0f8ff;}#sk-container-id-4 div.sk-toggleable__content pre {margin: 0.2em;color: black;border-radius: 0.25em;background-color: #f0f8ff;}#sk-container-id-4 input.sk-toggleable__control:checked~div.sk-toggleable__content {max-height: 200px;max-width: 100%;overflow: auto;}#sk-container-id-4 input.sk-toggleable__control:checked~label.sk-toggleable__label-arrow:before {content: \"▾\";}#sk-container-id-4 div.sk-estimator input.sk-toggleable__control:checked~label.sk-toggleable__label {background-color: #d4ebff;}#sk-container-id-4 div.sk-label input.sk-toggleable__control:checked~label.sk-toggleable__label {background-color: #d4ebff;}#sk-container-id-4 input.sk-hidden--visually {border: 0;clip: rect(1px 1px 1px 1px);clip: rect(1px, 1px, 1px, 1px);height: 1px;margin: -1px;overflow: hidden;padding: 0;position: absolute;width: 1px;}#sk-container-id-4 div.sk-estimator {font-family: monospace;background-color: #f0f8ff;border: 1px dotted black;border-radius: 0.25em;box-sizing: border-box;margin-bottom: 0.5em;}#sk-container-id-4 div.sk-estimator:hover {background-color: #d4ebff;}#sk-container-id-4 div.sk-parallel-item::after {content: \"\";width: 100%;border-bottom: 1px solid gray;flex-grow: 1;}#sk-container-id-4 div.sk-label:hover label.sk-toggleable__label {background-color: #d4ebff;}#sk-container-id-4 div.sk-serial::before {content: \"\";position: absolute;border-left: 1px solid gray;box-sizing: border-box;top: 0;bottom: 0;left: 50%;z-index: 0;}#sk-container-id-4 div.sk-serial {display: flex;flex-direction: column;align-items: center;background-color: white;padding-right: 0.2em;padding-left: 0.2em;position: relative;}#sk-container-id-4 div.sk-item {position: relative;z-index: 1;}#sk-container-id-4 div.sk-parallel {display: flex;align-items: stretch;justify-content: center;background-color: white;position: relative;}#sk-container-id-4 div.sk-item::before, #sk-container-id-4 div.sk-parallel-item::before {content: \"\";position: absolute;border-left: 1px solid gray;box-sizing: border-box;top: 0;bottom: 0;left: 50%;z-index: -1;}#sk-container-id-4 div.sk-parallel-item {display: flex;flex-direction: column;z-index: 1;position: relative;background-color: white;}#sk-container-id-4 div.sk-parallel-item:first-child::after {align-self: flex-end;width: 50%;}#sk-container-id-4 div.sk-parallel-item:last-child::after {align-self: flex-start;width: 50%;}#sk-container-id-4 div.sk-parallel-item:only-child::after {width: 0;}#sk-container-id-4 div.sk-dashed-wrapped {border: 1px dashed gray;margin: 0 0.4em 0.5em 0.4em;box-sizing: border-box;padding-bottom: 0.4em;background-color: white;}#sk-container-id-4 div.sk-label label {font-family: monospace;font-weight: bold;display: inline-block;line-height: 1.2em;}#sk-container-id-4 div.sk-label-container {text-align: center;}#sk-container-id-4 div.sk-container {/* jupyter's `normalize.less` sets `[hidden] { display: none; }` but bootstrap.min.css set `[hidden] { display: none !important; }` so we also need the `!important` here to be able to override the default hidden behavior on the sphinx rendered scikit-learn.org. See: https://github.com/scikit-learn/scikit-learn/issues/21755 */display: inline-block !important;position: relative;}#sk-container-id-4 div.sk-text-repr-fallback {display: none;}</style><div id=\"sk-container-id-4\" class=\"sk-top-container\"><div class=\"sk-text-repr-fallback\"><pre>GridSearchCV(estimator=Pipeline(steps=[(&#x27;ct&#x27;,\n",
       "                                        ColumnTransformer(transformers=[(&#x27;tfidf&#x27;,\n",
       "                                                                         TfidfVectorizer(preprocessor=&lt;function my_preprocessor at 0x7fd0401c58b0&gt;,\n",
       "                                                                                         tokenizer=&lt;function my_lemmatizer at 0x7fd031be4040&gt;),\n",
       "                                                                         &#x27;title&#x27;),\n",
       "                                                                        (&#x27;ss&#x27;,\n",
       "                                                                         StandardScaler(),\n",
       "                                                                         [&#x27;num_comments&#x27;]),\n",
       "                                                                        (&#x27;ohe&#x27;,\n",
       "                                                                         OneHotEncoder(drop=&#x27;first&#x27;,\n",
       "                                                                                       sparse_output=False),\n",
       "                                                                         [&#x27;domain&#x27;])])),\n",
       "                                       (&#x27;lr&#x27;,\n",
       "                                        LogisticRegressi...\n",
       "             param_grid={&#x27;ct__tfidf__max_df&#x27;: [1, 0.8, 0.5],\n",
       "                         &#x27;ct__tfidf__max_features&#x27;: [4000, 8000, 12000],\n",
       "                         &#x27;ct__tfidf__stop_words&#x27;: [None,\n",
       "                                                   [&#x27;i&#x27;, &#x27;me&#x27;, &#x27;my&#x27;, &#x27;myself&#x27;,\n",
       "                                                    &#x27;we&#x27;, &#x27;our&#x27;, &#x27;ours&#x27;,\n",
       "                                                    &#x27;ourselves&#x27;, &#x27;you&#x27;,\n",
       "                                                    &quot;you&#x27;re&quot;, &quot;you&#x27;ve&quot;,\n",
       "                                                    &quot;you&#x27;ll&quot;, &quot;you&#x27;d&quot;, &#x27;your&#x27;,\n",
       "                                                    &#x27;yours&#x27;, &#x27;yourself&#x27;,\n",
       "                                                    &#x27;yourselves&#x27;, &#x27;he&#x27;, &#x27;him&#x27;,\n",
       "                                                    &#x27;his&#x27;, &#x27;himself&#x27;, &#x27;she&#x27;,\n",
       "                                                    &quot;she&#x27;s&quot;, &#x27;her&#x27;, &#x27;hers&#x27;,\n",
       "                                                    &#x27;herself&#x27;, &#x27;it&#x27;, &quot;it&#x27;s&quot;,\n",
       "                                                    &#x27;it&#x27;, &#x27;itself&#x27;, ...]],\n",
       "                         &#x27;ct__tfidf__strip_accents&#x27;: [None, &#x27;unicode&#x27;]})</pre><b>In a Jupyter environment, please rerun this cell to show the HTML representation or trust the notebook. <br />On GitHub, the HTML representation is unable to render, please try loading this page with nbviewer.org.</b></div><div class=\"sk-container\" hidden><div class=\"sk-item sk-dashed-wrapped\"><div class=\"sk-label-container\"><div class=\"sk-label sk-toggleable\"><input class=\"sk-toggleable__control sk-hidden--visually\" id=\"sk-estimator-id-23\" type=\"checkbox\" ><label for=\"sk-estimator-id-23\" class=\"sk-toggleable__label sk-toggleable__label-arrow\">GridSearchCV</label><div class=\"sk-toggleable__content\"><pre>GridSearchCV(estimator=Pipeline(steps=[(&#x27;ct&#x27;,\n",
       "                                        ColumnTransformer(transformers=[(&#x27;tfidf&#x27;,\n",
       "                                                                         TfidfVectorizer(preprocessor=&lt;function my_preprocessor at 0x7fd0401c58b0&gt;,\n",
       "                                                                                         tokenizer=&lt;function my_lemmatizer at 0x7fd031be4040&gt;),\n",
       "                                                                         &#x27;title&#x27;),\n",
       "                                                                        (&#x27;ss&#x27;,\n",
       "                                                                         StandardScaler(),\n",
       "                                                                         [&#x27;num_comments&#x27;]),\n",
       "                                                                        (&#x27;ohe&#x27;,\n",
       "                                                                         OneHotEncoder(drop=&#x27;first&#x27;,\n",
       "                                                                                       sparse_output=False),\n",
       "                                                                         [&#x27;domain&#x27;])])),\n",
       "                                       (&#x27;lr&#x27;,\n",
       "                                        LogisticRegressi...\n",
       "             param_grid={&#x27;ct__tfidf__max_df&#x27;: [1, 0.8, 0.5],\n",
       "                         &#x27;ct__tfidf__max_features&#x27;: [4000, 8000, 12000],\n",
       "                         &#x27;ct__tfidf__stop_words&#x27;: [None,\n",
       "                                                   [&#x27;i&#x27;, &#x27;me&#x27;, &#x27;my&#x27;, &#x27;myself&#x27;,\n",
       "                                                    &#x27;we&#x27;, &#x27;our&#x27;, &#x27;ours&#x27;,\n",
       "                                                    &#x27;ourselves&#x27;, &#x27;you&#x27;,\n",
       "                                                    &quot;you&#x27;re&quot;, &quot;you&#x27;ve&quot;,\n",
       "                                                    &quot;you&#x27;ll&quot;, &quot;you&#x27;d&quot;, &#x27;your&#x27;,\n",
       "                                                    &#x27;yours&#x27;, &#x27;yourself&#x27;,\n",
       "                                                    &#x27;yourselves&#x27;, &#x27;he&#x27;, &#x27;him&#x27;,\n",
       "                                                    &#x27;his&#x27;, &#x27;himself&#x27;, &#x27;she&#x27;,\n",
       "                                                    &quot;she&#x27;s&quot;, &#x27;her&#x27;, &#x27;hers&#x27;,\n",
       "                                                    &#x27;herself&#x27;, &#x27;it&#x27;, &quot;it&#x27;s&quot;,\n",
       "                                                    &#x27;it&#x27;, &#x27;itself&#x27;, ...]],\n",
       "                         &#x27;ct__tfidf__strip_accents&#x27;: [None, &#x27;unicode&#x27;]})</pre></div></div></div><div class=\"sk-parallel\"><div class=\"sk-parallel-item\"><div class=\"sk-item\"><div class=\"sk-label-container\"><div class=\"sk-label sk-toggleable\"><input class=\"sk-toggleable__control sk-hidden--visually\" id=\"sk-estimator-id-24\" type=\"checkbox\" ><label for=\"sk-estimator-id-24\" class=\"sk-toggleable__label sk-toggleable__label-arrow\">estimator: Pipeline</label><div class=\"sk-toggleable__content\"><pre>Pipeline(steps=[(&#x27;ct&#x27;,\n",
       "                 ColumnTransformer(transformers=[(&#x27;tfidf&#x27;,\n",
       "                                                  TfidfVectorizer(preprocessor=&lt;function my_preprocessor at 0x7fd0401c58b0&gt;,\n",
       "                                                                  tokenizer=&lt;function my_lemmatizer at 0x7fd031be4040&gt;),\n",
       "                                                  &#x27;title&#x27;),\n",
       "                                                 (&#x27;ss&#x27;, StandardScaler(),\n",
       "                                                  [&#x27;num_comments&#x27;]),\n",
       "                                                 (&#x27;ohe&#x27;,\n",
       "                                                  OneHotEncoder(drop=&#x27;first&#x27;,\n",
       "                                                                sparse_output=False),\n",
       "                                                  [&#x27;domain&#x27;])])),\n",
       "                (&#x27;lr&#x27;, LogisticRegression(solver=&#x27;liblinear&#x27;))])</pre></div></div></div><div class=\"sk-serial\"><div class=\"sk-item\"><div class=\"sk-serial\"><div class=\"sk-item sk-dashed-wrapped\"><div class=\"sk-label-container\"><div class=\"sk-label sk-toggleable\"><input class=\"sk-toggleable__control sk-hidden--visually\" id=\"sk-estimator-id-25\" type=\"checkbox\" ><label for=\"sk-estimator-id-25\" class=\"sk-toggleable__label sk-toggleable__label-arrow\">ct: ColumnTransformer</label><div class=\"sk-toggleable__content\"><pre>ColumnTransformer(transformers=[(&#x27;tfidf&#x27;,\n",
       "                                 TfidfVectorizer(preprocessor=&lt;function my_preprocessor at 0x7fd0401c58b0&gt;,\n",
       "                                                 tokenizer=&lt;function my_lemmatizer at 0x7fd031be4040&gt;),\n",
       "                                 &#x27;title&#x27;),\n",
       "                                (&#x27;ss&#x27;, StandardScaler(), [&#x27;num_comments&#x27;]),\n",
       "                                (&#x27;ohe&#x27;,\n",
       "                                 OneHotEncoder(drop=&#x27;first&#x27;,\n",
       "                                               sparse_output=False),\n",
       "                                 [&#x27;domain&#x27;])])</pre></div></div></div><div class=\"sk-parallel\"><div class=\"sk-parallel-item\"><div class=\"sk-item\"><div class=\"sk-label-container\"><div class=\"sk-label sk-toggleable\"><input class=\"sk-toggleable__control sk-hidden--visually\" id=\"sk-estimator-id-26\" type=\"checkbox\" ><label for=\"sk-estimator-id-26\" class=\"sk-toggleable__label sk-toggleable__label-arrow\">tfidf</label><div class=\"sk-toggleable__content\"><pre>title</pre></div></div></div><div class=\"sk-serial\"><div class=\"sk-item\"><div class=\"sk-estimator sk-toggleable\"><input class=\"sk-toggleable__control sk-hidden--visually\" id=\"sk-estimator-id-27\" type=\"checkbox\" ><label for=\"sk-estimator-id-27\" class=\"sk-toggleable__label sk-toggleable__label-arrow\">TfidfVectorizer</label><div class=\"sk-toggleable__content\"><pre>TfidfVectorizer(preprocessor=&lt;function my_preprocessor at 0x7fd0401c58b0&gt;,\n",
       "                tokenizer=&lt;function my_lemmatizer at 0x7fd031be4040&gt;)</pre></div></div></div></div></div></div><div class=\"sk-parallel-item\"><div class=\"sk-item\"><div class=\"sk-label-container\"><div class=\"sk-label sk-toggleable\"><input class=\"sk-toggleable__control sk-hidden--visually\" id=\"sk-estimator-id-28\" type=\"checkbox\" ><label for=\"sk-estimator-id-28\" class=\"sk-toggleable__label sk-toggleable__label-arrow\">ss</label><div class=\"sk-toggleable__content\"><pre>[&#x27;num_comments&#x27;]</pre></div></div></div><div class=\"sk-serial\"><div class=\"sk-item\"><div class=\"sk-estimator sk-toggleable\"><input class=\"sk-toggleable__control sk-hidden--visually\" id=\"sk-estimator-id-29\" type=\"checkbox\" ><label for=\"sk-estimator-id-29\" class=\"sk-toggleable__label sk-toggleable__label-arrow\">StandardScaler</label><div class=\"sk-toggleable__content\"><pre>StandardScaler()</pre></div></div></div></div></div></div><div class=\"sk-parallel-item\"><div class=\"sk-item\"><div class=\"sk-label-container\"><div class=\"sk-label sk-toggleable\"><input class=\"sk-toggleable__control sk-hidden--visually\" id=\"sk-estimator-id-30\" type=\"checkbox\" ><label for=\"sk-estimator-id-30\" class=\"sk-toggleable__label sk-toggleable__label-arrow\">ohe</label><div class=\"sk-toggleable__content\"><pre>[&#x27;domain&#x27;]</pre></div></div></div><div class=\"sk-serial\"><div class=\"sk-item\"><div class=\"sk-estimator sk-toggleable\"><input class=\"sk-toggleable__control sk-hidden--visually\" id=\"sk-estimator-id-31\" type=\"checkbox\" ><label for=\"sk-estimator-id-31\" class=\"sk-toggleable__label sk-toggleable__label-arrow\">OneHotEncoder</label><div class=\"sk-toggleable__content\"><pre>OneHotEncoder(drop=&#x27;first&#x27;, sparse_output=False)</pre></div></div></div></div></div></div></div></div><div class=\"sk-item\"><div class=\"sk-estimator sk-toggleable\"><input class=\"sk-toggleable__control sk-hidden--visually\" id=\"sk-estimator-id-32\" type=\"checkbox\" ><label for=\"sk-estimator-id-32\" class=\"sk-toggleable__label sk-toggleable__label-arrow\">LogisticRegression</label><div class=\"sk-toggleable__content\"><pre>LogisticRegression(solver=&#x27;liblinear&#x27;)</pre></div></div></div></div></div></div></div></div></div></div></div></div>"
      ],
      "text/plain": [
       "GridSearchCV(estimator=Pipeline(steps=[('ct',\n",
       "                                        ColumnTransformer(transformers=[('tfidf',\n",
       "                                                                         TfidfVectorizer(preprocessor=<function my_preprocessor at 0x7fd0401c58b0>,\n",
       "                                                                                         tokenizer=<function my_lemmatizer at 0x7fd031be4040>),\n",
       "                                                                         'title'),\n",
       "                                                                        ('ss',\n",
       "                                                                         StandardScaler(),\n",
       "                                                                         ['num_comments']),\n",
       "                                                                        ('ohe',\n",
       "                                                                         OneHotEncoder(drop='first',\n",
       "                                                                                       sparse_output=False),\n",
       "                                                                         ['domain'])])),\n",
       "                                       ('lr',\n",
       "                                        LogisticRegressi...\n",
       "             param_grid={'ct__tfidf__max_df': [1, 0.8, 0.5],\n",
       "                         'ct__tfidf__max_features': [4000, 8000, 12000],\n",
       "                         'ct__tfidf__stop_words': [None,\n",
       "                                                   ['i', 'me', 'my', 'myself',\n",
       "                                                    'we', 'our', 'ours',\n",
       "                                                    'ourselves', 'you',\n",
       "                                                    \"you're\", \"you've\",\n",
       "                                                    \"you'll\", \"you'd\", 'your',\n",
       "                                                    'yours', 'yourself',\n",
       "                                                    'yourselves', 'he', 'him',\n",
       "                                                    'his', 'himself', 'she',\n",
       "                                                    \"she's\", 'her', 'hers',\n",
       "                                                    'herself', 'it', \"it's\",\n",
       "                                                    'it', 'itself', ...]],\n",
       "                         'ct__tfidf__strip_accents': [None, 'unicode']})"
      ]
     },
     "execution_count": 28,
     "metadata": {},
     "output_type": "execute_result"
    }
   ],
   "source": [
    "gs = GridSearchCV(nlp_pipe,\n",
    "                 param_grid =pipe_params,\n",
    "                 n_jobs=-1)\n",
    "gs.fit(X_train, y_train)"
   ]
  },
  {
   "cell_type": "code",
   "execution_count": 29,
   "id": "d2a4495e-7a3f-4191-82e6-17cad9f2c0cd",
   "metadata": {},
   "outputs": [
    {
     "name": "stdout",
     "output_type": "stream",
     "text": [
      "0.8887480636530066\n",
      "0.8219264892268695\n"
     ]
    }
   ],
   "source": [
    "print(gs.score(X_train, y_train))\n",
    "print(gs.score(X_test, y_test))"
   ]
  },
  {
   "cell_type": "markdown",
   "id": "af5a5f06-8a32-4cc4-b69b-74340fe5cb86",
   "metadata": {},
   "source": [
    "It seems that lemmatizing doesn't make all that much of a difference.. at least within the parameter space I searched for.\n",
    "\n",
    "I will dive into the output of TfidfVectorizer() in a little more detail and see if I can make improvements on that front. Specifically: let's look at bigrams. I think they could be pretty useful, but as seen in the EDA and cleaning notebook, they can quickly explode the number of model features.\n",
    "\n",
    "What if I write a customer transformer that takes the output of a Vectorizer, and keeps the most frequent bigrams but drops all the other ones? That way I can tune the max_features of the overall data, but then specifically reduce the number of bigrams on top of that.\n",
    "\n",
    "I Found this snippet of code here on how to write a custom transformer for sklearn: <br>\n",
    "https://www.andrewvillazon.com/custom-scikit-learn-transformers/\n",
    "\n",
    "For my custom transformer to work, I also need a specific output of TfidfVectorizer (the column names, so I know which columns are bigrams and which aren't). So in order to achieve this, what I'll do is write a transformer class that wraps around TfidfVectorizer and does the vectorizing and reduction of bigrams in one fell swoop."
   ]
  },
  {
   "cell_type": "code",
   "execution_count": 753,
   "id": "9e04c2d5-eed6-42fc-a6bc-27f991485d31",
   "metadata": {},
   "outputs": [],
   "source": [
    "class Tfidf_BigramReducer(BaseEstimator, TransformerMixin):\n",
    "    \"\"\"\n",
    "    Transformer class that wraps around TfidfVectorizer, and postprocesses the output.\n",
    "    The idea is to reduce the number of bigrams \n",
    "    and only keep the monograms and the 'bf' most frequent bigrams. The other bigrams are sliced out\n",
    "    \"\"\"\n",
    "    def __init__(self, bf=0.9, stop_words=None, strip_accents=None, max_features=None, tokenizer=None, min_df=1, max_df=0.8, preprocessor=None):\n",
    "        \n",
    "        #nr of most frequent bigrams to keep. Can either be an int > 1 (absolute nr), or a float =<1 (percentage)\n",
    "        self.bf = bf \n",
    "        \n",
    "        #tfidf hyperpars\n",
    "        self.max_df = max_df\n",
    "        self.min_df = min_df\n",
    "        self.preprocessor=preprocessor\n",
    "        self.stop_words = stop_words\n",
    "        self.strip_accents = strip_accents\n",
    "        self.tokenizer = tokenizer\n",
    "        self.max_features = max_features\n",
    "        \n",
    "        #instantiate TfidfVectorizer object\n",
    "        self.tfidf = TfidfVectorizer(stop_words=self.stop_words, min_df=self.min_df, max_df=self.max_df, strip_accents=self.strip_accents, \\\n",
    "                            ngram_range=(1,2), max_features=self.max_features, tokenizer=self.tokenizer, preprocessor=self.preprocessor)\n",
    "\n",
    "    def fit(self, X, y=None):\n",
    "        \"\"\"\n",
    "        .fit() first calls the TfidfVectorizer instantiated when this object was instantiated. Then finds out which columns to keep \n",
    "        and which ones to slice out of the matrix. I'm keeping everything in sparse matrix dtype for efficiency\n",
    "        \"\"\"\n",
    "        \n",
    "        X_trans = self.tfidf.fit_transform(X)\n",
    "\n",
    "        #get features from tfidf object\n",
    "        self.features = self.tfidf.get_feature_names_out()\n",
    "        \n",
    "        #Sum over all rows to find most frequently occuring n-grams\n",
    "        X_q = np.sum(X_trans, axis=0) \n",
    "                \n",
    "        #Isolate the bigrams, sort by size\n",
    "        mc_bigram_freqs = sorted([X_q[0,x] for x in range(X_q.shape[1]) if len(self.features[x].split(' ')) == 2])\n",
    "\n",
    "        #Find the summed frequency above which we should keep the bigram (depending on self.bf)\n",
    "        if type(self.bf) == int:\n",
    "            cutoff = mc_bigram_freqs[-self.bf]\n",
    "        elif (type(self.bf) == float) and self.bf <= 1.0:\n",
    "            idx = int((1-self.bf)*len(mc_bigram_freqs))\n",
    "            cutoff = mc_bigram_freqs[idx]\n",
    "        else:\n",
    "            sys.exit('Bf can only be an integer above 1 or a float below 1')\n",
    "    \n",
    "        #Find which col indexes in the matrix to keep (either its a monogram, or a bigram above the cutoff) - save as attribute\n",
    "        self.inds_to_keep = [x for x,f in enumerate(self.features) if len(f.split(' ')) == 1 or X_q[0,x] >= cutoff]\n",
    "\n",
    "        return self\n",
    "\n",
    "    def transform(self, X, y=None):\n",
    "        X_trans = self.tfidf.transform(X)\n",
    "        return X_trans[:,self.inds_to_keep]\n",
    "    \n",
    "    def get_feature_names_out(self, X):\n",
    "        \"\"\"\n",
    "        Need this function to know which features are actually passed to the classifier\n",
    "        Note: if you're running an older version of sklearn, you might need change this to get_feature_names\n",
    "        \"\"\"\n",
    "        return self.features[self.inds_to_keep]"
   ]
  },
  {
   "cell_type": "code",
   "execution_count": 705,
   "id": "888c6dcb-5f33-4883-beab-f5255e00e3a5",
   "metadata": {},
   "outputs": [
    {
     "name": "stdout",
     "output_type": "stream",
     "text": [
      "Train and test shapes before vectorizing:(14202,),(4734,)\n",
      "Transformed train and test shapes: (14202, 34424),(4734, 34424)\n"
     ]
    }
   ],
   "source": [
    "X_b = post_df['title'] #Use only the 'title' feature just to test my custom transformer\n",
    "y = post_df['subreddit']\n",
    "X_b_train, X_b_test, y_train, y_test = train_test_split(X_b, y, random_state=42)\n",
    "print(f'Train and test shapes before vectorizing:{X_b_train.shape},{X_b_test.shape}')\n",
    "tfidf_bg = Tfidf_BigramReducer(bf=0.2)\n",
    "\n",
    "tfidf_bg.fit_transform(X_b_train)\n",
    "print(f'Transformed train and test shapes: {tfidf_bg.transform(X_b_train).shape},{tfidf_bg.transform(X_b_test).shape}')"
   ]
  },
  {
   "cell_type": "markdown",
   "id": "3bfe1b85-800d-4987-93dc-f17fc1665459",
   "metadata": {},
   "source": [
    "That seems to work! Now we can put this in a Pipeline. TfidfVectorizer will be replaced with my new custom transformer Tfidf_BigramReducer:"
   ]
  },
  {
   "cell_type": "code",
   "execution_count": 575,
   "id": "e79f10a0-3b99-4ab1-9896-46282a2f4981",
   "metadata": {},
   "outputs": [],
   "source": [
    "X = post_df[['title', 'num_comments', 'domain']]\n",
    "y = post_df['subreddit']\n",
    "\n",
    "X_train, X_test, y_train, y_test = train_test_split(X, y, random_state=42)\n",
    "\n",
    "ct = ColumnTransformer([\n",
    "    (\"tfbg\", Tfidf_BigramReducer(preprocessor=my_preprocessor), \"title\"),\n",
    "    (\"ss\", StandardScaler(), [\"num_comments\"]),\n",
    "    ('ohe', OneHotEncoder(sparse_output = False, drop ='first'), [\"domain\"])\n",
    "    ])\n",
    "\n",
    "nlp_pipe = Pipeline([ ('ct', ct ),\n",
    "                    ('lr', LogisticRegression(solver='liblinear')) ])"
   ]
  },
  {
   "cell_type": "code",
   "execution_count": 576,
   "id": "a57b4c93-ca8b-48f1-ba6d-b0baadc2005e",
   "metadata": {},
   "outputs": [
    {
     "data": {
      "text/html": [
       "<style>#sk-container-id-89 {color: black;background-color: white;}#sk-container-id-89 pre{padding: 0;}#sk-container-id-89 div.sk-toggleable {background-color: white;}#sk-container-id-89 label.sk-toggleable__label {cursor: pointer;display: block;width: 100%;margin-bottom: 0;padding: 0.3em;box-sizing: border-box;text-align: center;}#sk-container-id-89 label.sk-toggleable__label-arrow:before {content: \"▸\";float: left;margin-right: 0.25em;color: #696969;}#sk-container-id-89 label.sk-toggleable__label-arrow:hover:before {color: black;}#sk-container-id-89 div.sk-estimator:hover label.sk-toggleable__label-arrow:before {color: black;}#sk-container-id-89 div.sk-toggleable__content {max-height: 0;max-width: 0;overflow: hidden;text-align: left;background-color: #f0f8ff;}#sk-container-id-89 div.sk-toggleable__content pre {margin: 0.2em;color: black;border-radius: 0.25em;background-color: #f0f8ff;}#sk-container-id-89 input.sk-toggleable__control:checked~div.sk-toggleable__content {max-height: 200px;max-width: 100%;overflow: auto;}#sk-container-id-89 input.sk-toggleable__control:checked~label.sk-toggleable__label-arrow:before {content: \"▾\";}#sk-container-id-89 div.sk-estimator input.sk-toggleable__control:checked~label.sk-toggleable__label {background-color: #d4ebff;}#sk-container-id-89 div.sk-label input.sk-toggleable__control:checked~label.sk-toggleable__label {background-color: #d4ebff;}#sk-container-id-89 input.sk-hidden--visually {border: 0;clip: rect(1px 1px 1px 1px);clip: rect(1px, 1px, 1px, 1px);height: 1px;margin: -1px;overflow: hidden;padding: 0;position: absolute;width: 1px;}#sk-container-id-89 div.sk-estimator {font-family: monospace;background-color: #f0f8ff;border: 1px dotted black;border-radius: 0.25em;box-sizing: border-box;margin-bottom: 0.5em;}#sk-container-id-89 div.sk-estimator:hover {background-color: #d4ebff;}#sk-container-id-89 div.sk-parallel-item::after {content: \"\";width: 100%;border-bottom: 1px solid gray;flex-grow: 1;}#sk-container-id-89 div.sk-label:hover label.sk-toggleable__label {background-color: #d4ebff;}#sk-container-id-89 div.sk-serial::before {content: \"\";position: absolute;border-left: 1px solid gray;box-sizing: border-box;top: 0;bottom: 0;left: 50%;z-index: 0;}#sk-container-id-89 div.sk-serial {display: flex;flex-direction: column;align-items: center;background-color: white;padding-right: 0.2em;padding-left: 0.2em;position: relative;}#sk-container-id-89 div.sk-item {position: relative;z-index: 1;}#sk-container-id-89 div.sk-parallel {display: flex;align-items: stretch;justify-content: center;background-color: white;position: relative;}#sk-container-id-89 div.sk-item::before, #sk-container-id-89 div.sk-parallel-item::before {content: \"\";position: absolute;border-left: 1px solid gray;box-sizing: border-box;top: 0;bottom: 0;left: 50%;z-index: -1;}#sk-container-id-89 div.sk-parallel-item {display: flex;flex-direction: column;z-index: 1;position: relative;background-color: white;}#sk-container-id-89 div.sk-parallel-item:first-child::after {align-self: flex-end;width: 50%;}#sk-container-id-89 div.sk-parallel-item:last-child::after {align-self: flex-start;width: 50%;}#sk-container-id-89 div.sk-parallel-item:only-child::after {width: 0;}#sk-container-id-89 div.sk-dashed-wrapped {border: 1px dashed gray;margin: 0 0.4em 0.5em 0.4em;box-sizing: border-box;padding-bottom: 0.4em;background-color: white;}#sk-container-id-89 div.sk-label label {font-family: monospace;font-weight: bold;display: inline-block;line-height: 1.2em;}#sk-container-id-89 div.sk-label-container {text-align: center;}#sk-container-id-89 div.sk-container {/* jupyter's `normalize.less` sets `[hidden] { display: none; }` but bootstrap.min.css set `[hidden] { display: none !important; }` so we also need the `!important` here to be able to override the default hidden behavior on the sphinx rendered scikit-learn.org. See: https://github.com/scikit-learn/scikit-learn/issues/21755 */display: inline-block !important;position: relative;}#sk-container-id-89 div.sk-text-repr-fallback {display: none;}</style><div id=\"sk-container-id-89\" class=\"sk-top-container\"><div class=\"sk-text-repr-fallback\"><pre>GridSearchCV(cv=5,\n",
       "             estimator=Pipeline(steps=[(&#x27;ct&#x27;,\n",
       "                                        ColumnTransformer(transformers=[(&#x27;tfbg&#x27;,\n",
       "                                                                         Tfidf_BigramReducer(preprocessor=&lt;function my_preprocessor at 0x7fd0401c58b0&gt;),\n",
       "                                                                         &#x27;title&#x27;),\n",
       "                                                                        (&#x27;ss&#x27;,\n",
       "                                                                         StandardScaler(),\n",
       "                                                                         [&#x27;num_comments&#x27;]),\n",
       "                                                                        (&#x27;ohe&#x27;,\n",
       "                                                                         OneHotEncoder(drop=&#x27;first&#x27;,\n",
       "                                                                                       sparse_output=False),\n",
       "                                                                         [&#x27;domain&#x27;])])),\n",
       "                                       (&#x27;lr&#x27;,\n",
       "                                        LogisticRegression(solver=&#x27;liblinear&#x27;))]),\n",
       "             n_jobs=-1,\n",
       "             param_grid={&#x27;ct__tfbg__bf&#x27;: [0.1, 0.2, 0.3, 0.4],\n",
       "                         &#x27;ct__tfbg__max_df&#x27;: [0.99, 0.8, 0.7],\n",
       "                         &#x27;ct__tfbg__max_features&#x27;: [20000, 30000, 50000, None],\n",
       "                         &#x27;ct__tfbg__min_df&#x27;: [1, 2],\n",
       "                         &#x27;ct__tfbg__stop_words&#x27;: [None, &#x27;english&#x27;],\n",
       "                         &#x27;lr__C&#x27;: [0.001, 0.1, 1]})</pre><b>In a Jupyter environment, please rerun this cell to show the HTML representation or trust the notebook. <br />On GitHub, the HTML representation is unable to render, please try loading this page with nbviewer.org.</b></div><div class=\"sk-container\" hidden><div class=\"sk-item sk-dashed-wrapped\"><div class=\"sk-label-container\"><div class=\"sk-label sk-toggleable\"><input class=\"sk-toggleable__control sk-hidden--visually\" id=\"sk-estimator-id-923\" type=\"checkbox\" ><label for=\"sk-estimator-id-923\" class=\"sk-toggleable__label sk-toggleable__label-arrow\">GridSearchCV</label><div class=\"sk-toggleable__content\"><pre>GridSearchCV(cv=5,\n",
       "             estimator=Pipeline(steps=[(&#x27;ct&#x27;,\n",
       "                                        ColumnTransformer(transformers=[(&#x27;tfbg&#x27;,\n",
       "                                                                         Tfidf_BigramReducer(preprocessor=&lt;function my_preprocessor at 0x7fd0401c58b0&gt;),\n",
       "                                                                         &#x27;title&#x27;),\n",
       "                                                                        (&#x27;ss&#x27;,\n",
       "                                                                         StandardScaler(),\n",
       "                                                                         [&#x27;num_comments&#x27;]),\n",
       "                                                                        (&#x27;ohe&#x27;,\n",
       "                                                                         OneHotEncoder(drop=&#x27;first&#x27;,\n",
       "                                                                                       sparse_output=False),\n",
       "                                                                         [&#x27;domain&#x27;])])),\n",
       "                                       (&#x27;lr&#x27;,\n",
       "                                        LogisticRegression(solver=&#x27;liblinear&#x27;))]),\n",
       "             n_jobs=-1,\n",
       "             param_grid={&#x27;ct__tfbg__bf&#x27;: [0.1, 0.2, 0.3, 0.4],\n",
       "                         &#x27;ct__tfbg__max_df&#x27;: [0.99, 0.8, 0.7],\n",
       "                         &#x27;ct__tfbg__max_features&#x27;: [20000, 30000, 50000, None],\n",
       "                         &#x27;ct__tfbg__min_df&#x27;: [1, 2],\n",
       "                         &#x27;ct__tfbg__stop_words&#x27;: [None, &#x27;english&#x27;],\n",
       "                         &#x27;lr__C&#x27;: [0.001, 0.1, 1]})</pre></div></div></div><div class=\"sk-parallel\"><div class=\"sk-parallel-item\"><div class=\"sk-item\"><div class=\"sk-label-container\"><div class=\"sk-label sk-toggleable\"><input class=\"sk-toggleable__control sk-hidden--visually\" id=\"sk-estimator-id-924\" type=\"checkbox\" ><label for=\"sk-estimator-id-924\" class=\"sk-toggleable__label sk-toggleable__label-arrow\">estimator: Pipeline</label><div class=\"sk-toggleable__content\"><pre>Pipeline(steps=[(&#x27;ct&#x27;,\n",
       "                 ColumnTransformer(transformers=[(&#x27;tfbg&#x27;,\n",
       "                                                  Tfidf_BigramReducer(preprocessor=&lt;function my_preprocessor at 0x7fd0401c58b0&gt;),\n",
       "                                                  &#x27;title&#x27;),\n",
       "                                                 (&#x27;ss&#x27;, StandardScaler(),\n",
       "                                                  [&#x27;num_comments&#x27;]),\n",
       "                                                 (&#x27;ohe&#x27;,\n",
       "                                                  OneHotEncoder(drop=&#x27;first&#x27;,\n",
       "                                                                sparse_output=False),\n",
       "                                                  [&#x27;domain&#x27;])])),\n",
       "                (&#x27;lr&#x27;, LogisticRegression(solver=&#x27;liblinear&#x27;))])</pre></div></div></div><div class=\"sk-serial\"><div class=\"sk-item\"><div class=\"sk-serial\"><div class=\"sk-item sk-dashed-wrapped\"><div class=\"sk-label-container\"><div class=\"sk-label sk-toggleable\"><input class=\"sk-toggleable__control sk-hidden--visually\" id=\"sk-estimator-id-925\" type=\"checkbox\" ><label for=\"sk-estimator-id-925\" class=\"sk-toggleable__label sk-toggleable__label-arrow\">ct: ColumnTransformer</label><div class=\"sk-toggleable__content\"><pre>ColumnTransformer(transformers=[(&#x27;tfbg&#x27;,\n",
       "                                 Tfidf_BigramReducer(preprocessor=&lt;function my_preprocessor at 0x7fd0401c58b0&gt;),\n",
       "                                 &#x27;title&#x27;),\n",
       "                                (&#x27;ss&#x27;, StandardScaler(), [&#x27;num_comments&#x27;]),\n",
       "                                (&#x27;ohe&#x27;,\n",
       "                                 OneHotEncoder(drop=&#x27;first&#x27;,\n",
       "                                               sparse_output=False),\n",
       "                                 [&#x27;domain&#x27;])])</pre></div></div></div><div class=\"sk-parallel\"><div class=\"sk-parallel-item\"><div class=\"sk-item\"><div class=\"sk-label-container\"><div class=\"sk-label sk-toggleable\"><input class=\"sk-toggleable__control sk-hidden--visually\" id=\"sk-estimator-id-926\" type=\"checkbox\" ><label for=\"sk-estimator-id-926\" class=\"sk-toggleable__label sk-toggleable__label-arrow\">tfbg</label><div class=\"sk-toggleable__content\"><pre>title</pre></div></div></div><div class=\"sk-serial\"><div class=\"sk-item\"><div class=\"sk-estimator sk-toggleable\"><input class=\"sk-toggleable__control sk-hidden--visually\" id=\"sk-estimator-id-927\" type=\"checkbox\" ><label for=\"sk-estimator-id-927\" class=\"sk-toggleable__label sk-toggleable__label-arrow\">Tfidf_BigramReducer</label><div class=\"sk-toggleable__content\"><pre>Tfidf_BigramReducer(preprocessor=&lt;function my_preprocessor at 0x7fd0401c58b0&gt;)</pre></div></div></div></div></div></div><div class=\"sk-parallel-item\"><div class=\"sk-item\"><div class=\"sk-label-container\"><div class=\"sk-label sk-toggleable\"><input class=\"sk-toggleable__control sk-hidden--visually\" id=\"sk-estimator-id-928\" type=\"checkbox\" ><label for=\"sk-estimator-id-928\" class=\"sk-toggleable__label sk-toggleable__label-arrow\">ss</label><div class=\"sk-toggleable__content\"><pre>[&#x27;num_comments&#x27;]</pre></div></div></div><div class=\"sk-serial\"><div class=\"sk-item\"><div class=\"sk-estimator sk-toggleable\"><input class=\"sk-toggleable__control sk-hidden--visually\" id=\"sk-estimator-id-929\" type=\"checkbox\" ><label for=\"sk-estimator-id-929\" class=\"sk-toggleable__label sk-toggleable__label-arrow\">StandardScaler</label><div class=\"sk-toggleable__content\"><pre>StandardScaler()</pre></div></div></div></div></div></div><div class=\"sk-parallel-item\"><div class=\"sk-item\"><div class=\"sk-label-container\"><div class=\"sk-label sk-toggleable\"><input class=\"sk-toggleable__control sk-hidden--visually\" id=\"sk-estimator-id-930\" type=\"checkbox\" ><label for=\"sk-estimator-id-930\" class=\"sk-toggleable__label sk-toggleable__label-arrow\">ohe</label><div class=\"sk-toggleable__content\"><pre>[&#x27;domain&#x27;]</pre></div></div></div><div class=\"sk-serial\"><div class=\"sk-item\"><div class=\"sk-estimator sk-toggleable\"><input class=\"sk-toggleable__control sk-hidden--visually\" id=\"sk-estimator-id-931\" type=\"checkbox\" ><label for=\"sk-estimator-id-931\" class=\"sk-toggleable__label sk-toggleable__label-arrow\">OneHotEncoder</label><div class=\"sk-toggleable__content\"><pre>OneHotEncoder(drop=&#x27;first&#x27;, sparse_output=False)</pre></div></div></div></div></div></div></div></div><div class=\"sk-item\"><div class=\"sk-estimator sk-toggleable\"><input class=\"sk-toggleable__control sk-hidden--visually\" id=\"sk-estimator-id-932\" type=\"checkbox\" ><label for=\"sk-estimator-id-932\" class=\"sk-toggleable__label sk-toggleable__label-arrow\">LogisticRegression</label><div class=\"sk-toggleable__content\"><pre>LogisticRegression(solver=&#x27;liblinear&#x27;)</pre></div></div></div></div></div></div></div></div></div></div></div></div>"
      ],
      "text/plain": [
       "GridSearchCV(cv=5,\n",
       "             estimator=Pipeline(steps=[('ct',\n",
       "                                        ColumnTransformer(transformers=[('tfbg',\n",
       "                                                                         Tfidf_BigramReducer(preprocessor=<function my_preprocessor at 0x7fd0401c58b0>),\n",
       "                                                                         'title'),\n",
       "                                                                        ('ss',\n",
       "                                                                         StandardScaler(),\n",
       "                                                                         ['num_comments']),\n",
       "                                                                        ('ohe',\n",
       "                                                                         OneHotEncoder(drop='first',\n",
       "                                                                                       sparse_output=False),\n",
       "                                                                         ['domain'])])),\n",
       "                                       ('lr',\n",
       "                                        LogisticRegression(solver='liblinear'))]),\n",
       "             n_jobs=-1,\n",
       "             param_grid={'ct__tfbg__bf': [0.1, 0.2, 0.3, 0.4],\n",
       "                         'ct__tfbg__max_df': [0.99, 0.8, 0.7],\n",
       "                         'ct__tfbg__max_features': [20000, 30000, 50000, None],\n",
       "                         'ct__tfbg__min_df': [1, 2],\n",
       "                         'ct__tfbg__stop_words': [None, 'english'],\n",
       "                         'lr__C': [0.001, 0.1, 1]})"
      ]
     },
     "execution_count": 576,
     "metadata": {},
     "output_type": "execute_result"
    }
   ],
   "source": [
    "pipe_params = {\n",
    "    'ct__tfbg__max_df':[0.99, 0.8, 0.7],\n",
    "    'ct__tfbg__min_df':[1,2],\n",
    "    'ct__tfbg__bf': [0.1, 0.2, 0.3, 0.4],\n",
    "    'ct__tfbg__max_features': [20_000, 30_000, 50_000, None],\n",
    "    'ct__tfbg__stop_words':[None, 'english'],\n",
    "    'lr__C':[0.001, 0.1, 1]\n",
    "}\n",
    "\n",
    "gs = GridSearchCV(nlp_pipe, param_grid=pipe_params, cv=5, \\\n",
    "                  verbose=0, n_jobs=-1)\n",
    "gs.fit(X_train, y_train)"
   ]
  },
  {
   "cell_type": "code",
   "execution_count": 577,
   "id": "953deb92-2000-4ab1-bd71-a0be47d94375",
   "metadata": {},
   "outputs": [
    {
     "name": "stdout",
     "output_type": "stream",
     "text": [
      "0.9066328686100549\n",
      "0.8223489649345163\n"
     ]
    }
   ],
   "source": [
    "print(gs.score(X_train, y_train))\n",
    "print(gs.score(X_test, y_test))"
   ]
  },
  {
   "cell_type": "code",
   "execution_count": 578,
   "id": "71c2c187-d94d-430d-a2c7-d22bbca0a977",
   "metadata": {},
   "outputs": [
    {
     "data": {
      "text/plain": [
       "{'ct__tfbg__bf': 0.4,\n",
       " 'ct__tfbg__max_df': 0.99,\n",
       " 'ct__tfbg__max_features': 50000,\n",
       " 'ct__tfbg__min_df': 1,\n",
       " 'ct__tfbg__stop_words': None,\n",
       " 'lr__C': 1}"
      ]
     },
     "execution_count": 578,
     "metadata": {},
     "output_type": "execute_result"
    }
   ],
   "source": [
    "gs.best_params_"
   ]
  },
  {
   "cell_type": "markdown",
   "id": "19831cd6-f5ce-4977-bb45-065c1b313945",
   "metadata": {},
   "source": [
    "### 1.2) Random Forest\n",
    "\n",
    "Instead of Logistic Regression, I could try RandomForestClassifier Since this is a Decision tree based model.\n",
    "\n",
    "To cut down on processing time, I will also switch over from GridsearchCV to RandomizedSearchCV."
   ]
  },
  {
   "cell_type": "code",
   "execution_count": 563,
   "id": "808eae0d-a9ca-4de8-84af-6031a8270635",
   "metadata": {},
   "outputs": [],
   "source": [
    "X = post_df[['title', 'num_comments', 'domain']]\n",
    "y = post_df['subreddit']\n",
    "\n",
    "X_train, X_test, y_train, y_test = train_test_split(X, y, random_state=42)\n",
    "\n",
    "ct = ColumnTransformer([\n",
    "    (\"tfbg\", Tfidf_BigramReducer(preprocessor=my_preprocessor), \"title\"),\n",
    "    (\"ss\", StandardScaler(), [\"num_comments\"]),\n",
    "    ('ohe', OneHotEncoder(sparse_output = False, drop=None), [\"domain\"]) #don't drop for tree-based models\n",
    "    ])\n",
    "\n",
    "nlp_pipe = Pipeline([\n",
    "    ('ct', ct ),\n",
    "    ('rf', RandomForestClassifier()),\n",
    "])\n",
    "\n",
    "#for randomized search\n",
    "rs_params = {\n",
    "    'ct__tfbg__max_df':[0.7,0.8, 0.99],\n",
    "    'ct__tfbg__min_df': [1,2],   \n",
    "    'ct__tfbg__bf': [0.001, 0.05, 0.1,0.2, 0.3, 0.4],\n",
    "    'ct__tfbg__max_features':[20_000, 30_000, 50_000, 70_000],\n",
    "    'rf__min_samples_leaf':[1,3,5],\n",
    "    'rf__n_estimators':[150, 175, 200, 225, 250]\n",
    "}"
   ]
  },
  {
   "cell_type": "code",
   "execution_count": 564,
   "id": "f49fb2c8-5712-4823-b4fb-ed3bbf33715b",
   "metadata": {},
   "outputs": [
    {
     "data": {
      "text/html": [
       "<style>#sk-container-id-86 {color: black;background-color: white;}#sk-container-id-86 pre{padding: 0;}#sk-container-id-86 div.sk-toggleable {background-color: white;}#sk-container-id-86 label.sk-toggleable__label {cursor: pointer;display: block;width: 100%;margin-bottom: 0;padding: 0.3em;box-sizing: border-box;text-align: center;}#sk-container-id-86 label.sk-toggleable__label-arrow:before {content: \"▸\";float: left;margin-right: 0.25em;color: #696969;}#sk-container-id-86 label.sk-toggleable__label-arrow:hover:before {color: black;}#sk-container-id-86 div.sk-estimator:hover label.sk-toggleable__label-arrow:before {color: black;}#sk-container-id-86 div.sk-toggleable__content {max-height: 0;max-width: 0;overflow: hidden;text-align: left;background-color: #f0f8ff;}#sk-container-id-86 div.sk-toggleable__content pre {margin: 0.2em;color: black;border-radius: 0.25em;background-color: #f0f8ff;}#sk-container-id-86 input.sk-toggleable__control:checked~div.sk-toggleable__content {max-height: 200px;max-width: 100%;overflow: auto;}#sk-container-id-86 input.sk-toggleable__control:checked~label.sk-toggleable__label-arrow:before {content: \"▾\";}#sk-container-id-86 div.sk-estimator input.sk-toggleable__control:checked~label.sk-toggleable__label {background-color: #d4ebff;}#sk-container-id-86 div.sk-label input.sk-toggleable__control:checked~label.sk-toggleable__label {background-color: #d4ebff;}#sk-container-id-86 input.sk-hidden--visually {border: 0;clip: rect(1px 1px 1px 1px);clip: rect(1px, 1px, 1px, 1px);height: 1px;margin: -1px;overflow: hidden;padding: 0;position: absolute;width: 1px;}#sk-container-id-86 div.sk-estimator {font-family: monospace;background-color: #f0f8ff;border: 1px dotted black;border-radius: 0.25em;box-sizing: border-box;margin-bottom: 0.5em;}#sk-container-id-86 div.sk-estimator:hover {background-color: #d4ebff;}#sk-container-id-86 div.sk-parallel-item::after {content: \"\";width: 100%;border-bottom: 1px solid gray;flex-grow: 1;}#sk-container-id-86 div.sk-label:hover label.sk-toggleable__label {background-color: #d4ebff;}#sk-container-id-86 div.sk-serial::before {content: \"\";position: absolute;border-left: 1px solid gray;box-sizing: border-box;top: 0;bottom: 0;left: 50%;z-index: 0;}#sk-container-id-86 div.sk-serial {display: flex;flex-direction: column;align-items: center;background-color: white;padding-right: 0.2em;padding-left: 0.2em;position: relative;}#sk-container-id-86 div.sk-item {position: relative;z-index: 1;}#sk-container-id-86 div.sk-parallel {display: flex;align-items: stretch;justify-content: center;background-color: white;position: relative;}#sk-container-id-86 div.sk-item::before, #sk-container-id-86 div.sk-parallel-item::before {content: \"\";position: absolute;border-left: 1px solid gray;box-sizing: border-box;top: 0;bottom: 0;left: 50%;z-index: -1;}#sk-container-id-86 div.sk-parallel-item {display: flex;flex-direction: column;z-index: 1;position: relative;background-color: white;}#sk-container-id-86 div.sk-parallel-item:first-child::after {align-self: flex-end;width: 50%;}#sk-container-id-86 div.sk-parallel-item:last-child::after {align-self: flex-start;width: 50%;}#sk-container-id-86 div.sk-parallel-item:only-child::after {width: 0;}#sk-container-id-86 div.sk-dashed-wrapped {border: 1px dashed gray;margin: 0 0.4em 0.5em 0.4em;box-sizing: border-box;padding-bottom: 0.4em;background-color: white;}#sk-container-id-86 div.sk-label label {font-family: monospace;font-weight: bold;display: inline-block;line-height: 1.2em;}#sk-container-id-86 div.sk-label-container {text-align: center;}#sk-container-id-86 div.sk-container {/* jupyter's `normalize.less` sets `[hidden] { display: none; }` but bootstrap.min.css set `[hidden] { display: none !important; }` so we also need the `!important` here to be able to override the default hidden behavior on the sphinx rendered scikit-learn.org. See: https://github.com/scikit-learn/scikit-learn/issues/21755 */display: inline-block !important;position: relative;}#sk-container-id-86 div.sk-text-repr-fallback {display: none;}</style><div id=\"sk-container-id-86\" class=\"sk-top-container\"><div class=\"sk-text-repr-fallback\"><pre>RandomizedSearchCV(cv=5,\n",
       "                   estimator=Pipeline(steps=[(&#x27;ct&#x27;,\n",
       "                                              ColumnTransformer(transformers=[(&#x27;tfbg&#x27;,\n",
       "                                                                               Tfidf_BigramReducer(preprocessor=&lt;function my_preprocessor at 0x7fd0401c58b0&gt;),\n",
       "                                                                               &#x27;title&#x27;),\n",
       "                                                                              (&#x27;ss&#x27;,\n",
       "                                                                               StandardScaler(),\n",
       "                                                                               [&#x27;num_comments&#x27;]),\n",
       "                                                                              (&#x27;ohe&#x27;,\n",
       "                                                                               OneHotEncoder(sparse_output=False),\n",
       "                                                                               [&#x27;domain&#x27;])])),\n",
       "                                             (&#x27;rf&#x27;, RandomForestClassifier())]),\n",
       "                   n_iter=60, n_jobs=-1,\n",
       "                   param_distributions={&#x27;ct__tfbg__bf&#x27;: [0.001, 0.05, 0.1, 0.2,\n",
       "                                                         0.3, 0.4],\n",
       "                                        &#x27;ct__tfbg__max_df&#x27;: [0.7, 0.8, 0.99],\n",
       "                                        &#x27;ct__tfbg__max_features&#x27;: [20000, 30000,\n",
       "                                                                   50000,\n",
       "                                                                   70000],\n",
       "                                        &#x27;ct__tfbg__min_df&#x27;: [1, 2],\n",
       "                                        &#x27;rf__min_samples_leaf&#x27;: [1, 3, 5],\n",
       "                                        &#x27;rf__n_estimators&#x27;: [150, 175, 200, 225,\n",
       "                                                             250]})</pre><b>In a Jupyter environment, please rerun this cell to show the HTML representation or trust the notebook. <br />On GitHub, the HTML representation is unable to render, please try loading this page with nbviewer.org.</b></div><div class=\"sk-container\" hidden><div class=\"sk-item sk-dashed-wrapped\"><div class=\"sk-label-container\"><div class=\"sk-label sk-toggleable\"><input class=\"sk-toggleable__control sk-hidden--visually\" id=\"sk-estimator-id-899\" type=\"checkbox\" ><label for=\"sk-estimator-id-899\" class=\"sk-toggleable__label sk-toggleable__label-arrow\">RandomizedSearchCV</label><div class=\"sk-toggleable__content\"><pre>RandomizedSearchCV(cv=5,\n",
       "                   estimator=Pipeline(steps=[(&#x27;ct&#x27;,\n",
       "                                              ColumnTransformer(transformers=[(&#x27;tfbg&#x27;,\n",
       "                                                                               Tfidf_BigramReducer(preprocessor=&lt;function my_preprocessor at 0x7fd0401c58b0&gt;),\n",
       "                                                                               &#x27;title&#x27;),\n",
       "                                                                              (&#x27;ss&#x27;,\n",
       "                                                                               StandardScaler(),\n",
       "                                                                               [&#x27;num_comments&#x27;]),\n",
       "                                                                              (&#x27;ohe&#x27;,\n",
       "                                                                               OneHotEncoder(sparse_output=False),\n",
       "                                                                               [&#x27;domain&#x27;])])),\n",
       "                                             (&#x27;rf&#x27;, RandomForestClassifier())]),\n",
       "                   n_iter=60, n_jobs=-1,\n",
       "                   param_distributions={&#x27;ct__tfbg__bf&#x27;: [0.001, 0.05, 0.1, 0.2,\n",
       "                                                         0.3, 0.4],\n",
       "                                        &#x27;ct__tfbg__max_df&#x27;: [0.7, 0.8, 0.99],\n",
       "                                        &#x27;ct__tfbg__max_features&#x27;: [20000, 30000,\n",
       "                                                                   50000,\n",
       "                                                                   70000],\n",
       "                                        &#x27;ct__tfbg__min_df&#x27;: [1, 2],\n",
       "                                        &#x27;rf__min_samples_leaf&#x27;: [1, 3, 5],\n",
       "                                        &#x27;rf__n_estimators&#x27;: [150, 175, 200, 225,\n",
       "                                                             250]})</pre></div></div></div><div class=\"sk-parallel\"><div class=\"sk-parallel-item\"><div class=\"sk-item\"><div class=\"sk-label-container\"><div class=\"sk-label sk-toggleable\"><input class=\"sk-toggleable__control sk-hidden--visually\" id=\"sk-estimator-id-900\" type=\"checkbox\" ><label for=\"sk-estimator-id-900\" class=\"sk-toggleable__label sk-toggleable__label-arrow\">estimator: Pipeline</label><div class=\"sk-toggleable__content\"><pre>Pipeline(steps=[(&#x27;ct&#x27;,\n",
       "                 ColumnTransformer(transformers=[(&#x27;tfbg&#x27;,\n",
       "                                                  Tfidf_BigramReducer(preprocessor=&lt;function my_preprocessor at 0x7fd0401c58b0&gt;),\n",
       "                                                  &#x27;title&#x27;),\n",
       "                                                 (&#x27;ss&#x27;, StandardScaler(),\n",
       "                                                  [&#x27;num_comments&#x27;]),\n",
       "                                                 (&#x27;ohe&#x27;,\n",
       "                                                  OneHotEncoder(sparse_output=False),\n",
       "                                                  [&#x27;domain&#x27;])])),\n",
       "                (&#x27;rf&#x27;, RandomForestClassifier())])</pre></div></div></div><div class=\"sk-serial\"><div class=\"sk-item\"><div class=\"sk-serial\"><div class=\"sk-item sk-dashed-wrapped\"><div class=\"sk-label-container\"><div class=\"sk-label sk-toggleable\"><input class=\"sk-toggleable__control sk-hidden--visually\" id=\"sk-estimator-id-901\" type=\"checkbox\" ><label for=\"sk-estimator-id-901\" class=\"sk-toggleable__label sk-toggleable__label-arrow\">ct: ColumnTransformer</label><div class=\"sk-toggleable__content\"><pre>ColumnTransformer(transformers=[(&#x27;tfbg&#x27;,\n",
       "                                 Tfidf_BigramReducer(preprocessor=&lt;function my_preprocessor at 0x7fd0401c58b0&gt;),\n",
       "                                 &#x27;title&#x27;),\n",
       "                                (&#x27;ss&#x27;, StandardScaler(), [&#x27;num_comments&#x27;]),\n",
       "                                (&#x27;ohe&#x27;, OneHotEncoder(sparse_output=False),\n",
       "                                 [&#x27;domain&#x27;])])</pre></div></div></div><div class=\"sk-parallel\"><div class=\"sk-parallel-item\"><div class=\"sk-item\"><div class=\"sk-label-container\"><div class=\"sk-label sk-toggleable\"><input class=\"sk-toggleable__control sk-hidden--visually\" id=\"sk-estimator-id-902\" type=\"checkbox\" ><label for=\"sk-estimator-id-902\" class=\"sk-toggleable__label sk-toggleable__label-arrow\">tfbg</label><div class=\"sk-toggleable__content\"><pre>title</pre></div></div></div><div class=\"sk-serial\"><div class=\"sk-item\"><div class=\"sk-estimator sk-toggleable\"><input class=\"sk-toggleable__control sk-hidden--visually\" id=\"sk-estimator-id-903\" type=\"checkbox\" ><label for=\"sk-estimator-id-903\" class=\"sk-toggleable__label sk-toggleable__label-arrow\">Tfidf_BigramReducer</label><div class=\"sk-toggleable__content\"><pre>Tfidf_BigramReducer(preprocessor=&lt;function my_preprocessor at 0x7fd0401c58b0&gt;)</pre></div></div></div></div></div></div><div class=\"sk-parallel-item\"><div class=\"sk-item\"><div class=\"sk-label-container\"><div class=\"sk-label sk-toggleable\"><input class=\"sk-toggleable__control sk-hidden--visually\" id=\"sk-estimator-id-904\" type=\"checkbox\" ><label for=\"sk-estimator-id-904\" class=\"sk-toggleable__label sk-toggleable__label-arrow\">ss</label><div class=\"sk-toggleable__content\"><pre>[&#x27;num_comments&#x27;]</pre></div></div></div><div class=\"sk-serial\"><div class=\"sk-item\"><div class=\"sk-estimator sk-toggleable\"><input class=\"sk-toggleable__control sk-hidden--visually\" id=\"sk-estimator-id-905\" type=\"checkbox\" ><label for=\"sk-estimator-id-905\" class=\"sk-toggleable__label sk-toggleable__label-arrow\">StandardScaler</label><div class=\"sk-toggleable__content\"><pre>StandardScaler()</pre></div></div></div></div></div></div><div class=\"sk-parallel-item\"><div class=\"sk-item\"><div class=\"sk-label-container\"><div class=\"sk-label sk-toggleable\"><input class=\"sk-toggleable__control sk-hidden--visually\" id=\"sk-estimator-id-906\" type=\"checkbox\" ><label for=\"sk-estimator-id-906\" class=\"sk-toggleable__label sk-toggleable__label-arrow\">ohe</label><div class=\"sk-toggleable__content\"><pre>[&#x27;domain&#x27;]</pre></div></div></div><div class=\"sk-serial\"><div class=\"sk-item\"><div class=\"sk-estimator sk-toggleable\"><input class=\"sk-toggleable__control sk-hidden--visually\" id=\"sk-estimator-id-907\" type=\"checkbox\" ><label for=\"sk-estimator-id-907\" class=\"sk-toggleable__label sk-toggleable__label-arrow\">OneHotEncoder</label><div class=\"sk-toggleable__content\"><pre>OneHotEncoder(sparse_output=False)</pre></div></div></div></div></div></div></div></div><div class=\"sk-item\"><div class=\"sk-estimator sk-toggleable\"><input class=\"sk-toggleable__control sk-hidden--visually\" id=\"sk-estimator-id-908\" type=\"checkbox\" ><label for=\"sk-estimator-id-908\" class=\"sk-toggleable__label sk-toggleable__label-arrow\">RandomForestClassifier</label><div class=\"sk-toggleable__content\"><pre>RandomForestClassifier()</pre></div></div></div></div></div></div></div></div></div></div></div></div>"
      ],
      "text/plain": [
       "RandomizedSearchCV(cv=5,\n",
       "                   estimator=Pipeline(steps=[('ct',\n",
       "                                              ColumnTransformer(transformers=[('tfbg',\n",
       "                                                                               Tfidf_BigramReducer(preprocessor=<function my_preprocessor at 0x7fd0401c58b0>),\n",
       "                                                                               'title'),\n",
       "                                                                              ('ss',\n",
       "                                                                               StandardScaler(),\n",
       "                                                                               ['num_comments']),\n",
       "                                                                              ('ohe',\n",
       "                                                                               OneHotEncoder(sparse_output=False),\n",
       "                                                                               ['domain'])])),\n",
       "                                             ('rf', RandomForestClassifier())]),\n",
       "                   n_iter=60, n_jobs=-1,\n",
       "                   param_distributions={'ct__tfbg__bf': [0.001, 0.05, 0.1, 0.2,\n",
       "                                                         0.3, 0.4],\n",
       "                                        'ct__tfbg__max_df': [0.7, 0.8, 0.99],\n",
       "                                        'ct__tfbg__max_features': [20000, 30000,\n",
       "                                                                   50000,\n",
       "                                                                   70000],\n",
       "                                        'ct__tfbg__min_df': [1, 2],\n",
       "                                        'rf__min_samples_leaf': [1, 3, 5],\n",
       "                                        'rf__n_estimators': [150, 175, 200, 225,\n",
       "                                                             250]})"
      ]
     },
     "execution_count": 564,
     "metadata": {},
     "output_type": "execute_result"
    }
   ],
   "source": [
    "rs_tree = RandomizedSearchCV(nlp_pipe, param_distributions=rs_params, n_jobs=-1, n_iter=60, cv=5)\n",
    "rs_tree.fit(X_train, y_train)"
   ]
  },
  {
   "cell_type": "code",
   "execution_count": 565,
   "id": "21a168ef-0de5-4aa5-bd07-36ff7200f7e1",
   "metadata": {},
   "outputs": [
    {
     "name": "stdout",
     "output_type": "stream",
     "text": [
      "0.9992254612026475\n",
      "0.8738910012674271\n"
     ]
    }
   ],
   "source": [
    "print(rs_tree.score(X_train, y_train))\n",
    "print(rs_tree.score(X_test, y_test))"
   ]
  },
  {
   "cell_type": "code",
   "execution_count": 566,
   "id": "72c4f83d-7516-4905-8451-07f39c5e36fd",
   "metadata": {},
   "outputs": [
    {
     "data": {
      "text/plain": [
       "{'rf__n_estimators': 175,\n",
       " 'rf__min_samples_leaf': 1,\n",
       " 'ct__tfbg__min_df': 1,\n",
       " 'ct__tfbg__max_features': 20000,\n",
       " 'ct__tfbg__max_df': 0.8,\n",
       " 'ct__tfbg__bf': 0.001}"
      ]
     },
     "execution_count": 566,
     "metadata": {},
     "output_type": "execute_result"
    }
   ],
   "source": [
    "rs_tree.best_params_"
   ]
  },
  {
   "cell_type": "markdown",
   "id": "aabf54af-eaeb-4821-a535-caba08f36e7c",
   "metadata": {},
   "source": [
    "It's even more overfit, but it does a little better overall on the test data. This seems to be the best model so far!\n",
    "\n",
    "As a final experiment re: titles, I want to see how well this model can do if I only use titles, and not the additional information"
   ]
  },
  {
   "cell_type": "code",
   "execution_count": 754,
   "id": "36bfc11e-752c-4d6d-a6bd-9a8aa6a7a64c",
   "metadata": {},
   "outputs": [
    {
     "data": {
      "text/html": [
       "<style>#sk-container-id-113 {color: black;background-color: white;}#sk-container-id-113 pre{padding: 0;}#sk-container-id-113 div.sk-toggleable {background-color: white;}#sk-container-id-113 label.sk-toggleable__label {cursor: pointer;display: block;width: 100%;margin-bottom: 0;padding: 0.3em;box-sizing: border-box;text-align: center;}#sk-container-id-113 label.sk-toggleable__label-arrow:before {content: \"▸\";float: left;margin-right: 0.25em;color: #696969;}#sk-container-id-113 label.sk-toggleable__label-arrow:hover:before {color: black;}#sk-container-id-113 div.sk-estimator:hover label.sk-toggleable__label-arrow:before {color: black;}#sk-container-id-113 div.sk-toggleable__content {max-height: 0;max-width: 0;overflow: hidden;text-align: left;background-color: #f0f8ff;}#sk-container-id-113 div.sk-toggleable__content pre {margin: 0.2em;color: black;border-radius: 0.25em;background-color: #f0f8ff;}#sk-container-id-113 input.sk-toggleable__control:checked~div.sk-toggleable__content {max-height: 200px;max-width: 100%;overflow: auto;}#sk-container-id-113 input.sk-toggleable__control:checked~label.sk-toggleable__label-arrow:before {content: \"▾\";}#sk-container-id-113 div.sk-estimator input.sk-toggleable__control:checked~label.sk-toggleable__label {background-color: #d4ebff;}#sk-container-id-113 div.sk-label input.sk-toggleable__control:checked~label.sk-toggleable__label {background-color: #d4ebff;}#sk-container-id-113 input.sk-hidden--visually {border: 0;clip: rect(1px 1px 1px 1px);clip: rect(1px, 1px, 1px, 1px);height: 1px;margin: -1px;overflow: hidden;padding: 0;position: absolute;width: 1px;}#sk-container-id-113 div.sk-estimator {font-family: monospace;background-color: #f0f8ff;border: 1px dotted black;border-radius: 0.25em;box-sizing: border-box;margin-bottom: 0.5em;}#sk-container-id-113 div.sk-estimator:hover {background-color: #d4ebff;}#sk-container-id-113 div.sk-parallel-item::after {content: \"\";width: 100%;border-bottom: 1px solid gray;flex-grow: 1;}#sk-container-id-113 div.sk-label:hover label.sk-toggleable__label {background-color: #d4ebff;}#sk-container-id-113 div.sk-serial::before {content: \"\";position: absolute;border-left: 1px solid gray;box-sizing: border-box;top: 0;bottom: 0;left: 50%;z-index: 0;}#sk-container-id-113 div.sk-serial {display: flex;flex-direction: column;align-items: center;background-color: white;padding-right: 0.2em;padding-left: 0.2em;position: relative;}#sk-container-id-113 div.sk-item {position: relative;z-index: 1;}#sk-container-id-113 div.sk-parallel {display: flex;align-items: stretch;justify-content: center;background-color: white;position: relative;}#sk-container-id-113 div.sk-item::before, #sk-container-id-113 div.sk-parallel-item::before {content: \"\";position: absolute;border-left: 1px solid gray;box-sizing: border-box;top: 0;bottom: 0;left: 50%;z-index: -1;}#sk-container-id-113 div.sk-parallel-item {display: flex;flex-direction: column;z-index: 1;position: relative;background-color: white;}#sk-container-id-113 div.sk-parallel-item:first-child::after {align-self: flex-end;width: 50%;}#sk-container-id-113 div.sk-parallel-item:last-child::after {align-self: flex-start;width: 50%;}#sk-container-id-113 div.sk-parallel-item:only-child::after {width: 0;}#sk-container-id-113 div.sk-dashed-wrapped {border: 1px dashed gray;margin: 0 0.4em 0.5em 0.4em;box-sizing: border-box;padding-bottom: 0.4em;background-color: white;}#sk-container-id-113 div.sk-label label {font-family: monospace;font-weight: bold;display: inline-block;line-height: 1.2em;}#sk-container-id-113 div.sk-label-container {text-align: center;}#sk-container-id-113 div.sk-container {/* jupyter's `normalize.less` sets `[hidden] { display: none; }` but bootstrap.min.css set `[hidden] { display: none !important; }` so we also need the `!important` here to be able to override the default hidden behavior on the sphinx rendered scikit-learn.org. See: https://github.com/scikit-learn/scikit-learn/issues/21755 */display: inline-block !important;position: relative;}#sk-container-id-113 div.sk-text-repr-fallback {display: none;}</style><div id=\"sk-container-id-113\" class=\"sk-top-container\"><div class=\"sk-text-repr-fallback\"><pre>RandomizedSearchCV(cv=5,\n",
       "                   estimator=Pipeline(steps=[(&#x27;tfbg&#x27;,\n",
       "                                              Tfidf_BigramReducer(preprocessor=&lt;function my_preprocessor at 0x7fd0401c58b0&gt;)),\n",
       "                                             (&#x27;rf&#x27;, RandomForestClassifier())]),\n",
       "                   n_iter=60, n_jobs=-1,\n",
       "                   param_distributions={&#x27;rf__min_samples_leaf&#x27;: [1, 2, 3],\n",
       "                                        &#x27;rf__n_estimators&#x27;: [150, 175, 200, 225,\n",
       "                                                             250],\n",
       "                                        &#x27;tfbg__bf&#x27;: [0.01, 0.1, 0.2, 0.3, 0.4],\n",
       "                                        &#x27;tfbg__max_df&#x27;: [0.7, 0.8, 0.99],\n",
       "                                        &#x27;tfbg__max_features&#x27;: [20000, 30000,\n",
       "                                                               50000, 70000],\n",
       "                                        &#x27;tfbg__min_df&#x27;: [1, 2]})</pre><b>In a Jupyter environment, please rerun this cell to show the HTML representation or trust the notebook. <br />On GitHub, the HTML representation is unable to render, please try loading this page with nbviewer.org.</b></div><div class=\"sk-container\" hidden><div class=\"sk-item sk-dashed-wrapped\"><div class=\"sk-label-container\"><div class=\"sk-label sk-toggleable\"><input class=\"sk-toggleable__control sk-hidden--visually\" id=\"sk-estimator-id-1476\" type=\"checkbox\" ><label for=\"sk-estimator-id-1476\" class=\"sk-toggleable__label sk-toggleable__label-arrow\">RandomizedSearchCV</label><div class=\"sk-toggleable__content\"><pre>RandomizedSearchCV(cv=5,\n",
       "                   estimator=Pipeline(steps=[(&#x27;tfbg&#x27;,\n",
       "                                              Tfidf_BigramReducer(preprocessor=&lt;function my_preprocessor at 0x7fd0401c58b0&gt;)),\n",
       "                                             (&#x27;rf&#x27;, RandomForestClassifier())]),\n",
       "                   n_iter=60, n_jobs=-1,\n",
       "                   param_distributions={&#x27;rf__min_samples_leaf&#x27;: [1, 2, 3],\n",
       "                                        &#x27;rf__n_estimators&#x27;: [150, 175, 200, 225,\n",
       "                                                             250],\n",
       "                                        &#x27;tfbg__bf&#x27;: [0.01, 0.1, 0.2, 0.3, 0.4],\n",
       "                                        &#x27;tfbg__max_df&#x27;: [0.7, 0.8, 0.99],\n",
       "                                        &#x27;tfbg__max_features&#x27;: [20000, 30000,\n",
       "                                                               50000, 70000],\n",
       "                                        &#x27;tfbg__min_df&#x27;: [1, 2]})</pre></div></div></div><div class=\"sk-parallel\"><div class=\"sk-parallel-item\"><div class=\"sk-item\"><div class=\"sk-label-container\"><div class=\"sk-label sk-toggleable\"><input class=\"sk-toggleable__control sk-hidden--visually\" id=\"sk-estimator-id-1477\" type=\"checkbox\" ><label for=\"sk-estimator-id-1477\" class=\"sk-toggleable__label sk-toggleable__label-arrow\">estimator: Pipeline</label><div class=\"sk-toggleable__content\"><pre>Pipeline(steps=[(&#x27;tfbg&#x27;,\n",
       "                 Tfidf_BigramReducer(preprocessor=&lt;function my_preprocessor at 0x7fd0401c58b0&gt;)),\n",
       "                (&#x27;rf&#x27;, RandomForestClassifier())])</pre></div></div></div><div class=\"sk-serial\"><div class=\"sk-item\"><div class=\"sk-serial\"><div class=\"sk-item\"><div class=\"sk-estimator sk-toggleable\"><input class=\"sk-toggleable__control sk-hidden--visually\" id=\"sk-estimator-id-1478\" type=\"checkbox\" ><label for=\"sk-estimator-id-1478\" class=\"sk-toggleable__label sk-toggleable__label-arrow\">Tfidf_BigramReducer</label><div class=\"sk-toggleable__content\"><pre>Tfidf_BigramReducer(preprocessor=&lt;function my_preprocessor at 0x7fd0401c58b0&gt;)</pre></div></div></div><div class=\"sk-item\"><div class=\"sk-estimator sk-toggleable\"><input class=\"sk-toggleable__control sk-hidden--visually\" id=\"sk-estimator-id-1479\" type=\"checkbox\" ><label for=\"sk-estimator-id-1479\" class=\"sk-toggleable__label sk-toggleable__label-arrow\">RandomForestClassifier</label><div class=\"sk-toggleable__content\"><pre>RandomForestClassifier()</pre></div></div></div></div></div></div></div></div></div></div></div></div>"
      ],
      "text/plain": [
       "RandomizedSearchCV(cv=5,\n",
       "                   estimator=Pipeline(steps=[('tfbg',\n",
       "                                              Tfidf_BigramReducer(preprocessor=<function my_preprocessor at 0x7fd0401c58b0>)),\n",
       "                                             ('rf', RandomForestClassifier())]),\n",
       "                   n_iter=60, n_jobs=-1,\n",
       "                   param_distributions={'rf__min_samples_leaf': [1, 2, 3],\n",
       "                                        'rf__n_estimators': [150, 175, 200, 225,\n",
       "                                                             250],\n",
       "                                        'tfbg__bf': [0.01, 0.1, 0.2, 0.3, 0.4],\n",
       "                                        'tfbg__max_df': [0.7, 0.8, 0.99],\n",
       "                                        'tfbg__max_features': [20000, 30000,\n",
       "                                                               50000, 70000],\n",
       "                                        'tfbg__min_df': [1, 2]})"
      ]
     },
     "execution_count": 754,
     "metadata": {},
     "output_type": "execute_result"
    }
   ],
   "source": [
    "#Only use titles for this attempt\n",
    "X = post_df['title']\n",
    "y = post_df['subreddit']\n",
    "\n",
    "X_train, X_test, y_train, y_test = train_test_split(X, y, random_state=42)\n",
    "\n",
    "\n",
    "nlp_pipe = Pipeline([\n",
    "    (\"tfbg\", Tfidf_BigramReducer(preprocessor=my_preprocessor)),\n",
    "    ('rf', RandomForestClassifier()),\n",
    "])\n",
    "\n",
    "#for randomized search\n",
    "rs_params = {\n",
    "    'tfbg__max_df':[0.7, 0.8, 0.99],\n",
    "    'tfbg__min_df':[1,2],\n",
    "    'tfbg__bf': [0.01, 0.1,0.2, 0.3, 0.4],\n",
    "    'tfbg__max_features':[20_000, 30_000, 50_000, 70_000],\n",
    "    'rf__min_samples_leaf':[1,2,3],\n",
    "    'rf__n_estimators':[150, 175, 200, 225, 250]\n",
    "}\n",
    "\n",
    "rs_tree_titles = RandomizedSearchCV(nlp_pipe, param_distributions=rs_params, n_jobs=-1, n_iter=60, cv=5)\n",
    "rs_tree_titles.fit(X_train, y_train)"
   ]
  },
  {
   "cell_type": "code",
   "execution_count": 755,
   "id": "7ca56a80-addd-43db-a416-fe85db2ec45b",
   "metadata": {},
   "outputs": [
    {
     "name": "stdout",
     "output_type": "stream",
     "text": [
      "0.9830305590761864\n",
      "0.6816645542881284\n"
     ]
    }
   ],
   "source": [
    "print(rs_tree_titles.score(X_train, y_train))\n",
    "print(rs_tree_titles.score(X_test, y_test))"
   ]
  },
  {
   "cell_type": "code",
   "execution_count": 756,
   "id": "eff055b4-08c9-43b7-8bef-bb310d906c02",
   "metadata": {},
   "outputs": [
    {
     "data": {
      "text/plain": [
       "{'tfbg__min_df': 2,\n",
       " 'tfbg__max_features': 20000,\n",
       " 'tfbg__max_df': 0.8,\n",
       " 'tfbg__bf': 0.4,\n",
       " 'rf__n_estimators': 200,\n",
       " 'rf__min_samples_leaf': 1}"
      ]
     },
     "execution_count": 756,
     "metadata": {},
     "output_type": "execute_result"
    }
   ],
   "source": [
    "rs_tree_titles.best_params_"
   ]
  },
  {
   "cell_type": "markdown",
   "id": "87050676-30df-4e51-98e0-7009a9b60c02",
   "metadata": {},
   "source": [
    "It seems that when only using the titles, the model has quite a bit more trouble classifying. It does make some sense - in the EDA and cleaning notebook we saw that the domain name is fairly predictive for which subreddit the post comes from - highlighting the different media universes of the conservative and mainstream political media. Therefore, including the domain name makes the model much more predictive."
   ]
  },
  {
   "cell_type": "markdown",
   "id": "f8830a76-76ec-4305-8b0d-4b119a8dfc1b",
   "metadata": {},
   "source": [
    "### 1.3) Stacking\n",
    "\n",
    "As a final attempt, I will consider stacking models. For this I will use 1) Logistic Regression, 2) Random forest, and 3) Naive Bayes\n",
    "\n",
    "I'll need to set up 3 different pipelines"
   ]
  },
  {
   "cell_type": "code",
   "execution_count": 791,
   "id": "c53bd650-baca-48dd-abf2-96cbd0954640",
   "metadata": {},
   "outputs": [],
   "source": [
    "X = post_df[['title', 'num_comments', 'domain']]\n",
    "y = post_df['subreddit']\n",
    "\n",
    "X_train, X_test, y_train, y_test = train_test_split(X, y, random_state=42)"
   ]
  },
  {
   "cell_type": "code",
   "execution_count": 792,
   "id": "e80ae3fc-9f82-464b-905a-9fb3e003f88c",
   "metadata": {},
   "outputs": [],
   "source": [
    "#Note that the hyperparameters here are a little heuristic, some of them I got by using the gridsearched up above, others from just re-running the stacked model\n",
    "\n",
    "ct_lr = ColumnTransformer([\n",
    "    (\"tfbg\", Tfidf_BigramReducer(preprocessor=my_preprocessor,  stop_words='english', max_df=0.8, bf=0.1, min_df=1, max_features=30000), \"title\"),\n",
    "    (\"ss\", StandardScaler(), [\"num_comments\"]),\n",
    "    ('ohe', OneHotEncoder(sparse_output = False, drop ='first'), [\"domain\"])\n",
    "    ])\n",
    "\n",
    "#For random forest I don't need to drop first\n",
    "ct_rf = ColumnTransformer([\n",
    "    (\"tfbg\", Tfidf_BigramReducer(preprocessor=my_preprocessor, stop_words='english', min_df=1, max_df=0.8, bf=0.1, max_features=25000), \"title\"),\n",
    "    (\"ss\", StandardScaler(), [\"num_comments\"]),\n",
    "    ('ohe', OneHotEncoder(sparse_output = False, drop =None), [\"domain\"])\n",
    "    ])\n",
    "\n",
    "# For Multinomial NB I can't have negative values, so I can't standardscale\n",
    "ct_nb = ColumnTransformer([\n",
    "    (\"tfbg\", Tfidf_BigramReducer(preprocessor=my_preprocessor, stop_words='english', max_df=0.8, bf=0.1, max_features=40000), \"title\"),\n",
    "    (\"mm\", MinMaxScaler(), [\"num_comments\"]),\n",
    "    ('ohe', OneHotEncoder(sparse_output = False, drop ='first'), [\"domain\"])\n",
    "    ])"
   ]
  },
  {
   "cell_type": "code",
   "execution_count": 793,
   "id": "653f5e89-29a2-4737-bd8d-318d7fb6d981",
   "metadata": {},
   "outputs": [],
   "source": [
    "model1 = Pipeline([ ('ct', ct_lr ),\n",
    "                    ('lr', LogisticRegression(solver='liblinear'))\n",
    "                  ])\n",
    "\n",
    "model2 = Pipeline([ ('ct', ct_rf ),\n",
    "                    ('rf',RandomForestClassifier(random_state=123, n_estimators=175, min_samples_leaf=1)) \n",
    "                  ])\n",
    "\n",
    "model3= Pipeline([ ('ct', ct_nb ),\n",
    "                   ('nb', MultinomialNB()) \n",
    "                  ])\n"
   ]
  },
  {
   "cell_type": "code",
   "execution_count": 794,
   "id": "a6a014fd-3a54-41b7-ae8b-da23433989f3",
   "metadata": {},
   "outputs": [],
   "source": [
    "# Create the model\n",
    "level1_estimators = [\n",
    "    ('m1', model1),\n",
    "    ('m2', model2),\n",
    "    ('m3', model3)\n",
    "]\n",
    "\n",
    "stacked_model = StackingClassifier(estimators=level1_estimators,\n",
    "                                 final_estimator=LogisticRegression())"
   ]
  },
  {
   "cell_type": "code",
   "execution_count": 795,
   "id": "093335ef-7f6d-454c-8e0b-bca92623ff4f",
   "metadata": {},
   "outputs": [
    {
     "data": {
      "text/html": [
       "<style>#sk-container-id-118 {color: black;background-color: white;}#sk-container-id-118 pre{padding: 0;}#sk-container-id-118 div.sk-toggleable {background-color: white;}#sk-container-id-118 label.sk-toggleable__label {cursor: pointer;display: block;width: 100%;margin-bottom: 0;padding: 0.3em;box-sizing: border-box;text-align: center;}#sk-container-id-118 label.sk-toggleable__label-arrow:before {content: \"▸\";float: left;margin-right: 0.25em;color: #696969;}#sk-container-id-118 label.sk-toggleable__label-arrow:hover:before {color: black;}#sk-container-id-118 div.sk-estimator:hover label.sk-toggleable__label-arrow:before {color: black;}#sk-container-id-118 div.sk-toggleable__content {max-height: 0;max-width: 0;overflow: hidden;text-align: left;background-color: #f0f8ff;}#sk-container-id-118 div.sk-toggleable__content pre {margin: 0.2em;color: black;border-radius: 0.25em;background-color: #f0f8ff;}#sk-container-id-118 input.sk-toggleable__control:checked~div.sk-toggleable__content {max-height: 200px;max-width: 100%;overflow: auto;}#sk-container-id-118 input.sk-toggleable__control:checked~label.sk-toggleable__label-arrow:before {content: \"▾\";}#sk-container-id-118 div.sk-estimator input.sk-toggleable__control:checked~label.sk-toggleable__label {background-color: #d4ebff;}#sk-container-id-118 div.sk-label input.sk-toggleable__control:checked~label.sk-toggleable__label {background-color: #d4ebff;}#sk-container-id-118 input.sk-hidden--visually {border: 0;clip: rect(1px 1px 1px 1px);clip: rect(1px, 1px, 1px, 1px);height: 1px;margin: -1px;overflow: hidden;padding: 0;position: absolute;width: 1px;}#sk-container-id-118 div.sk-estimator {font-family: monospace;background-color: #f0f8ff;border: 1px dotted black;border-radius: 0.25em;box-sizing: border-box;margin-bottom: 0.5em;}#sk-container-id-118 div.sk-estimator:hover {background-color: #d4ebff;}#sk-container-id-118 div.sk-parallel-item::after {content: \"\";width: 100%;border-bottom: 1px solid gray;flex-grow: 1;}#sk-container-id-118 div.sk-label:hover label.sk-toggleable__label {background-color: #d4ebff;}#sk-container-id-118 div.sk-serial::before {content: \"\";position: absolute;border-left: 1px solid gray;box-sizing: border-box;top: 0;bottom: 0;left: 50%;z-index: 0;}#sk-container-id-118 div.sk-serial {display: flex;flex-direction: column;align-items: center;background-color: white;padding-right: 0.2em;padding-left: 0.2em;position: relative;}#sk-container-id-118 div.sk-item {position: relative;z-index: 1;}#sk-container-id-118 div.sk-parallel {display: flex;align-items: stretch;justify-content: center;background-color: white;position: relative;}#sk-container-id-118 div.sk-item::before, #sk-container-id-118 div.sk-parallel-item::before {content: \"\";position: absolute;border-left: 1px solid gray;box-sizing: border-box;top: 0;bottom: 0;left: 50%;z-index: -1;}#sk-container-id-118 div.sk-parallel-item {display: flex;flex-direction: column;z-index: 1;position: relative;background-color: white;}#sk-container-id-118 div.sk-parallel-item:first-child::after {align-self: flex-end;width: 50%;}#sk-container-id-118 div.sk-parallel-item:last-child::after {align-self: flex-start;width: 50%;}#sk-container-id-118 div.sk-parallel-item:only-child::after {width: 0;}#sk-container-id-118 div.sk-dashed-wrapped {border: 1px dashed gray;margin: 0 0.4em 0.5em 0.4em;box-sizing: border-box;padding-bottom: 0.4em;background-color: white;}#sk-container-id-118 div.sk-label label {font-family: monospace;font-weight: bold;display: inline-block;line-height: 1.2em;}#sk-container-id-118 div.sk-label-container {text-align: center;}#sk-container-id-118 div.sk-container {/* jupyter's `normalize.less` sets `[hidden] { display: none; }` but bootstrap.min.css set `[hidden] { display: none !important; }` so we also need the `!important` here to be able to override the default hidden behavior on the sphinx rendered scikit-learn.org. See: https://github.com/scikit-learn/scikit-learn/issues/21755 */display: inline-block !important;position: relative;}#sk-container-id-118 div.sk-text-repr-fallback {display: none;}</style><div id=\"sk-container-id-118\" class=\"sk-top-container\"><div class=\"sk-text-repr-fallback\"><pre>StackingClassifier(estimators=[(&#x27;m1&#x27;,\n",
       "                                Pipeline(steps=[(&#x27;ct&#x27;,\n",
       "                                                 ColumnTransformer(transformers=[(&#x27;tfbg&#x27;,\n",
       "                                                                                  Tfidf_BigramReducer(bf=0.1,\n",
       "                                                                                                      max_features=30000,\n",
       "                                                                                                      preprocessor=&lt;function my_preprocessor at 0x7fd0401c58b0&gt;,\n",
       "                                                                                                      stop_words=&#x27;english&#x27;),\n",
       "                                                                                  &#x27;title&#x27;),\n",
       "                                                                                 (&#x27;ss&#x27;,\n",
       "                                                                                  StandardScaler(),\n",
       "                                                                                  [&#x27;num_comments&#x27;]),\n",
       "                                                                                 (&#x27;ohe&#x27;,\n",
       "                                                                                  OneHotEncoder(drop=&#x27;first&#x27;,\n",
       "                                                                                                sparse_output=False),\n",
       "                                                                                  [&#x27;domain&#x27;])])),\n",
       "                                                (&#x27;lr&#x27;,\n",
       "                                                 Lo...\n",
       "                                Pipeline(steps=[(&#x27;ct&#x27;,\n",
       "                                                 ColumnTransformer(transformers=[(&#x27;tfbg&#x27;,\n",
       "                                                                                  Tfidf_BigramReducer(bf=0.1,\n",
       "                                                                                                      max_features=40000,\n",
       "                                                                                                      preprocessor=&lt;function my_preprocessor at 0x7fd0401c58b0&gt;,\n",
       "                                                                                                      stop_words=&#x27;english&#x27;),\n",
       "                                                                                  &#x27;title&#x27;),\n",
       "                                                                                 (&#x27;mm&#x27;,\n",
       "                                                                                  MinMaxScaler(),\n",
       "                                                                                  [&#x27;num_comments&#x27;]),\n",
       "                                                                                 (&#x27;ohe&#x27;,\n",
       "                                                                                  OneHotEncoder(drop=&#x27;first&#x27;,\n",
       "                                                                                                sparse_output=False),\n",
       "                                                                                  [&#x27;domain&#x27;])])),\n",
       "                                                (&#x27;nb&#x27;, MultinomialNB())]))],\n",
       "                   final_estimator=LogisticRegression())</pre><b>In a Jupyter environment, please rerun this cell to show the HTML representation or trust the notebook. <br />On GitHub, the HTML representation is unable to render, please try loading this page with nbviewer.org.</b></div><div class=\"sk-container\" hidden><div class=\"sk-item sk-dashed-wrapped\"><div class=\"sk-label-container\"><div class=\"sk-label sk-toggleable\"><input class=\"sk-toggleable__control sk-hidden--visually\" id=\"sk-estimator-id-1584\" type=\"checkbox\" ><label for=\"sk-estimator-id-1584\" class=\"sk-toggleable__label sk-toggleable__label-arrow\">StackingClassifier</label><div class=\"sk-toggleable__content\"><pre>StackingClassifier(estimators=[(&#x27;m1&#x27;,\n",
       "                                Pipeline(steps=[(&#x27;ct&#x27;,\n",
       "                                                 ColumnTransformer(transformers=[(&#x27;tfbg&#x27;,\n",
       "                                                                                  Tfidf_BigramReducer(bf=0.1,\n",
       "                                                                                                      max_features=30000,\n",
       "                                                                                                      preprocessor=&lt;function my_preprocessor at 0x7fd0401c58b0&gt;,\n",
       "                                                                                                      stop_words=&#x27;english&#x27;),\n",
       "                                                                                  &#x27;title&#x27;),\n",
       "                                                                                 (&#x27;ss&#x27;,\n",
       "                                                                                  StandardScaler(),\n",
       "                                                                                  [&#x27;num_comments&#x27;]),\n",
       "                                                                                 (&#x27;ohe&#x27;,\n",
       "                                                                                  OneHotEncoder(drop=&#x27;first&#x27;,\n",
       "                                                                                                sparse_output=False),\n",
       "                                                                                  [&#x27;domain&#x27;])])),\n",
       "                                                (&#x27;lr&#x27;,\n",
       "                                                 Lo...\n",
       "                                Pipeline(steps=[(&#x27;ct&#x27;,\n",
       "                                                 ColumnTransformer(transformers=[(&#x27;tfbg&#x27;,\n",
       "                                                                                  Tfidf_BigramReducer(bf=0.1,\n",
       "                                                                                                      max_features=40000,\n",
       "                                                                                                      preprocessor=&lt;function my_preprocessor at 0x7fd0401c58b0&gt;,\n",
       "                                                                                                      stop_words=&#x27;english&#x27;),\n",
       "                                                                                  &#x27;title&#x27;),\n",
       "                                                                                 (&#x27;mm&#x27;,\n",
       "                                                                                  MinMaxScaler(),\n",
       "                                                                                  [&#x27;num_comments&#x27;]),\n",
       "                                                                                 (&#x27;ohe&#x27;,\n",
       "                                                                                  OneHotEncoder(drop=&#x27;first&#x27;,\n",
       "                                                                                                sparse_output=False),\n",
       "                                                                                  [&#x27;domain&#x27;])])),\n",
       "                                                (&#x27;nb&#x27;, MultinomialNB())]))],\n",
       "                   final_estimator=LogisticRegression())</pre></div></div></div><div class=\"sk-serial\"><div class=\"sk-item\"><div class=\"sk-parallel\"><div class=\"sk-parallel-item\"><div class=\"sk-item\"><div class=\"sk-label-container\"><div class=\"sk-label sk-toggleable\"><label>m1</label></div></div><div class=\"sk-serial\"><div class=\"sk-item\"><div class=\"sk-serial\"><div class=\"sk-item sk-dashed-wrapped\"><div class=\"sk-label-container\"><div class=\"sk-label sk-toggleable\"><input class=\"sk-toggleable__control sk-hidden--visually\" id=\"sk-estimator-id-1585\" type=\"checkbox\" ><label for=\"sk-estimator-id-1585\" class=\"sk-toggleable__label sk-toggleable__label-arrow\">ct: ColumnTransformer</label><div class=\"sk-toggleable__content\"><pre>ColumnTransformer(transformers=[(&#x27;tfbg&#x27;,\n",
       "                                 Tfidf_BigramReducer(bf=0.1, max_features=30000,\n",
       "                                                     preprocessor=&lt;function my_preprocessor at 0x7fd0401c58b0&gt;,\n",
       "                                                     stop_words=&#x27;english&#x27;),\n",
       "                                 &#x27;title&#x27;),\n",
       "                                (&#x27;ss&#x27;, StandardScaler(), [&#x27;num_comments&#x27;]),\n",
       "                                (&#x27;ohe&#x27;,\n",
       "                                 OneHotEncoder(drop=&#x27;first&#x27;,\n",
       "                                               sparse_output=False),\n",
       "                                 [&#x27;domain&#x27;])])</pre></div></div></div><div class=\"sk-parallel\"><div class=\"sk-parallel-item\"><div class=\"sk-item\"><div class=\"sk-label-container\"><div class=\"sk-label sk-toggleable\"><input class=\"sk-toggleable__control sk-hidden--visually\" id=\"sk-estimator-id-1586\" type=\"checkbox\" ><label for=\"sk-estimator-id-1586\" class=\"sk-toggleable__label sk-toggleable__label-arrow\">tfbg</label><div class=\"sk-toggleable__content\"><pre>title</pre></div></div></div><div class=\"sk-serial\"><div class=\"sk-item\"><div class=\"sk-estimator sk-toggleable\"><input class=\"sk-toggleable__control sk-hidden--visually\" id=\"sk-estimator-id-1587\" type=\"checkbox\" ><label for=\"sk-estimator-id-1587\" class=\"sk-toggleable__label sk-toggleable__label-arrow\">Tfidf_BigramReducer</label><div class=\"sk-toggleable__content\"><pre>Tfidf_BigramReducer(bf=0.1, max_features=30000,\n",
       "                    preprocessor=&lt;function my_preprocessor at 0x7fd0401c58b0&gt;,\n",
       "                    stop_words=&#x27;english&#x27;)</pre></div></div></div></div></div></div><div class=\"sk-parallel-item\"><div class=\"sk-item\"><div class=\"sk-label-container\"><div class=\"sk-label sk-toggleable\"><input class=\"sk-toggleable__control sk-hidden--visually\" id=\"sk-estimator-id-1588\" type=\"checkbox\" ><label for=\"sk-estimator-id-1588\" class=\"sk-toggleable__label sk-toggleable__label-arrow\">ss</label><div class=\"sk-toggleable__content\"><pre>[&#x27;num_comments&#x27;]</pre></div></div></div><div class=\"sk-serial\"><div class=\"sk-item\"><div class=\"sk-estimator sk-toggleable\"><input class=\"sk-toggleable__control sk-hidden--visually\" id=\"sk-estimator-id-1589\" type=\"checkbox\" ><label for=\"sk-estimator-id-1589\" class=\"sk-toggleable__label sk-toggleable__label-arrow\">StandardScaler</label><div class=\"sk-toggleable__content\"><pre>StandardScaler()</pre></div></div></div></div></div></div><div class=\"sk-parallel-item\"><div class=\"sk-item\"><div class=\"sk-label-container\"><div class=\"sk-label sk-toggleable\"><input class=\"sk-toggleable__control sk-hidden--visually\" id=\"sk-estimator-id-1590\" type=\"checkbox\" ><label for=\"sk-estimator-id-1590\" class=\"sk-toggleable__label sk-toggleable__label-arrow\">ohe</label><div class=\"sk-toggleable__content\"><pre>[&#x27;domain&#x27;]</pre></div></div></div><div class=\"sk-serial\"><div class=\"sk-item\"><div class=\"sk-estimator sk-toggleable\"><input class=\"sk-toggleable__control sk-hidden--visually\" id=\"sk-estimator-id-1591\" type=\"checkbox\" ><label for=\"sk-estimator-id-1591\" class=\"sk-toggleable__label sk-toggleable__label-arrow\">OneHotEncoder</label><div class=\"sk-toggleable__content\"><pre>OneHotEncoder(drop=&#x27;first&#x27;, sparse_output=False)</pre></div></div></div></div></div></div></div></div><div class=\"sk-item\"><div class=\"sk-estimator sk-toggleable\"><input class=\"sk-toggleable__control sk-hidden--visually\" id=\"sk-estimator-id-1592\" type=\"checkbox\" ><label for=\"sk-estimator-id-1592\" class=\"sk-toggleable__label sk-toggleable__label-arrow\">LogisticRegression</label><div class=\"sk-toggleable__content\"><pre>LogisticRegression(solver=&#x27;liblinear&#x27;)</pre></div></div></div></div></div></div></div></div><div class=\"sk-parallel-item\"><div class=\"sk-item\"><div class=\"sk-label-container\"><div class=\"sk-label sk-toggleable\"><label>m2</label></div></div><div class=\"sk-serial\"><div class=\"sk-item\"><div class=\"sk-serial\"><div class=\"sk-item sk-dashed-wrapped\"><div class=\"sk-label-container\"><div class=\"sk-label sk-toggleable\"><input class=\"sk-toggleable__control sk-hidden--visually\" id=\"sk-estimator-id-1593\" type=\"checkbox\" ><label for=\"sk-estimator-id-1593\" class=\"sk-toggleable__label sk-toggleable__label-arrow\">ct: ColumnTransformer</label><div class=\"sk-toggleable__content\"><pre>ColumnTransformer(transformers=[(&#x27;tfbg&#x27;,\n",
       "                                 Tfidf_BigramReducer(bf=0.1, max_features=25000,\n",
       "                                                     preprocessor=&lt;function my_preprocessor at 0x7fd0401c58b0&gt;,\n",
       "                                                     stop_words=&#x27;english&#x27;),\n",
       "                                 &#x27;title&#x27;),\n",
       "                                (&#x27;ss&#x27;, StandardScaler(), [&#x27;num_comments&#x27;]),\n",
       "                                (&#x27;ohe&#x27;, OneHotEncoder(sparse_output=False),\n",
       "                                 [&#x27;domain&#x27;])])</pre></div></div></div><div class=\"sk-parallel\"><div class=\"sk-parallel-item\"><div class=\"sk-item\"><div class=\"sk-label-container\"><div class=\"sk-label sk-toggleable\"><input class=\"sk-toggleable__control sk-hidden--visually\" id=\"sk-estimator-id-1594\" type=\"checkbox\" ><label for=\"sk-estimator-id-1594\" class=\"sk-toggleable__label sk-toggleable__label-arrow\">tfbg</label><div class=\"sk-toggleable__content\"><pre>title</pre></div></div></div><div class=\"sk-serial\"><div class=\"sk-item\"><div class=\"sk-estimator sk-toggleable\"><input class=\"sk-toggleable__control sk-hidden--visually\" id=\"sk-estimator-id-1595\" type=\"checkbox\" ><label for=\"sk-estimator-id-1595\" class=\"sk-toggleable__label sk-toggleable__label-arrow\">Tfidf_BigramReducer</label><div class=\"sk-toggleable__content\"><pre>Tfidf_BigramReducer(bf=0.1, max_features=25000,\n",
       "                    preprocessor=&lt;function my_preprocessor at 0x7fd0401c58b0&gt;,\n",
       "                    stop_words=&#x27;english&#x27;)</pre></div></div></div></div></div></div><div class=\"sk-parallel-item\"><div class=\"sk-item\"><div class=\"sk-label-container\"><div class=\"sk-label sk-toggleable\"><input class=\"sk-toggleable__control sk-hidden--visually\" id=\"sk-estimator-id-1596\" type=\"checkbox\" ><label for=\"sk-estimator-id-1596\" class=\"sk-toggleable__label sk-toggleable__label-arrow\">ss</label><div class=\"sk-toggleable__content\"><pre>[&#x27;num_comments&#x27;]</pre></div></div></div><div class=\"sk-serial\"><div class=\"sk-item\"><div class=\"sk-estimator sk-toggleable\"><input class=\"sk-toggleable__control sk-hidden--visually\" id=\"sk-estimator-id-1597\" type=\"checkbox\" ><label for=\"sk-estimator-id-1597\" class=\"sk-toggleable__label sk-toggleable__label-arrow\">StandardScaler</label><div class=\"sk-toggleable__content\"><pre>StandardScaler()</pre></div></div></div></div></div></div><div class=\"sk-parallel-item\"><div class=\"sk-item\"><div class=\"sk-label-container\"><div class=\"sk-label sk-toggleable\"><input class=\"sk-toggleable__control sk-hidden--visually\" id=\"sk-estimator-id-1598\" type=\"checkbox\" ><label for=\"sk-estimator-id-1598\" class=\"sk-toggleable__label sk-toggleable__label-arrow\">ohe</label><div class=\"sk-toggleable__content\"><pre>[&#x27;domain&#x27;]</pre></div></div></div><div class=\"sk-serial\"><div class=\"sk-item\"><div class=\"sk-estimator sk-toggleable\"><input class=\"sk-toggleable__control sk-hidden--visually\" id=\"sk-estimator-id-1599\" type=\"checkbox\" ><label for=\"sk-estimator-id-1599\" class=\"sk-toggleable__label sk-toggleable__label-arrow\">OneHotEncoder</label><div class=\"sk-toggleable__content\"><pre>OneHotEncoder(sparse_output=False)</pre></div></div></div></div></div></div></div></div><div class=\"sk-item\"><div class=\"sk-estimator sk-toggleable\"><input class=\"sk-toggleable__control sk-hidden--visually\" id=\"sk-estimator-id-1600\" type=\"checkbox\" ><label for=\"sk-estimator-id-1600\" class=\"sk-toggleable__label sk-toggleable__label-arrow\">RandomForestClassifier</label><div class=\"sk-toggleable__content\"><pre>RandomForestClassifier(n_estimators=175, random_state=123)</pre></div></div></div></div></div></div></div></div><div class=\"sk-parallel-item\"><div class=\"sk-item\"><div class=\"sk-label-container\"><div class=\"sk-label sk-toggleable\"><label>m3</label></div></div><div class=\"sk-serial\"><div class=\"sk-item\"><div class=\"sk-serial\"><div class=\"sk-item sk-dashed-wrapped\"><div class=\"sk-label-container\"><div class=\"sk-label sk-toggleable\"><input class=\"sk-toggleable__control sk-hidden--visually\" id=\"sk-estimator-id-1601\" type=\"checkbox\" ><label for=\"sk-estimator-id-1601\" class=\"sk-toggleable__label sk-toggleable__label-arrow\">ct: ColumnTransformer</label><div class=\"sk-toggleable__content\"><pre>ColumnTransformer(transformers=[(&#x27;tfbg&#x27;,\n",
       "                                 Tfidf_BigramReducer(bf=0.1, max_features=40000,\n",
       "                                                     preprocessor=&lt;function my_preprocessor at 0x7fd0401c58b0&gt;,\n",
       "                                                     stop_words=&#x27;english&#x27;),\n",
       "                                 &#x27;title&#x27;),\n",
       "                                (&#x27;mm&#x27;, MinMaxScaler(), [&#x27;num_comments&#x27;]),\n",
       "                                (&#x27;ohe&#x27;,\n",
       "                                 OneHotEncoder(drop=&#x27;first&#x27;,\n",
       "                                               sparse_output=False),\n",
       "                                 [&#x27;domain&#x27;])])</pre></div></div></div><div class=\"sk-parallel\"><div class=\"sk-parallel-item\"><div class=\"sk-item\"><div class=\"sk-label-container\"><div class=\"sk-label sk-toggleable\"><input class=\"sk-toggleable__control sk-hidden--visually\" id=\"sk-estimator-id-1602\" type=\"checkbox\" ><label for=\"sk-estimator-id-1602\" class=\"sk-toggleable__label sk-toggleable__label-arrow\">tfbg</label><div class=\"sk-toggleable__content\"><pre>title</pre></div></div></div><div class=\"sk-serial\"><div class=\"sk-item\"><div class=\"sk-estimator sk-toggleable\"><input class=\"sk-toggleable__control sk-hidden--visually\" id=\"sk-estimator-id-1603\" type=\"checkbox\" ><label for=\"sk-estimator-id-1603\" class=\"sk-toggleable__label sk-toggleable__label-arrow\">Tfidf_BigramReducer</label><div class=\"sk-toggleable__content\"><pre>Tfidf_BigramReducer(bf=0.1, max_features=40000,\n",
       "                    preprocessor=&lt;function my_preprocessor at 0x7fd0401c58b0&gt;,\n",
       "                    stop_words=&#x27;english&#x27;)</pre></div></div></div></div></div></div><div class=\"sk-parallel-item\"><div class=\"sk-item\"><div class=\"sk-label-container\"><div class=\"sk-label sk-toggleable\"><input class=\"sk-toggleable__control sk-hidden--visually\" id=\"sk-estimator-id-1604\" type=\"checkbox\" ><label for=\"sk-estimator-id-1604\" class=\"sk-toggleable__label sk-toggleable__label-arrow\">mm</label><div class=\"sk-toggleable__content\"><pre>[&#x27;num_comments&#x27;]</pre></div></div></div><div class=\"sk-serial\"><div class=\"sk-item\"><div class=\"sk-estimator sk-toggleable\"><input class=\"sk-toggleable__control sk-hidden--visually\" id=\"sk-estimator-id-1605\" type=\"checkbox\" ><label for=\"sk-estimator-id-1605\" class=\"sk-toggleable__label sk-toggleable__label-arrow\">MinMaxScaler</label><div class=\"sk-toggleable__content\"><pre>MinMaxScaler()</pre></div></div></div></div></div></div><div class=\"sk-parallel-item\"><div class=\"sk-item\"><div class=\"sk-label-container\"><div class=\"sk-label sk-toggleable\"><input class=\"sk-toggleable__control sk-hidden--visually\" id=\"sk-estimator-id-1606\" type=\"checkbox\" ><label for=\"sk-estimator-id-1606\" class=\"sk-toggleable__label sk-toggleable__label-arrow\">ohe</label><div class=\"sk-toggleable__content\"><pre>[&#x27;domain&#x27;]</pre></div></div></div><div class=\"sk-serial\"><div class=\"sk-item\"><div class=\"sk-estimator sk-toggleable\"><input class=\"sk-toggleable__control sk-hidden--visually\" id=\"sk-estimator-id-1607\" type=\"checkbox\" ><label for=\"sk-estimator-id-1607\" class=\"sk-toggleable__label sk-toggleable__label-arrow\">OneHotEncoder</label><div class=\"sk-toggleable__content\"><pre>OneHotEncoder(drop=&#x27;first&#x27;, sparse_output=False)</pre></div></div></div></div></div></div></div></div><div class=\"sk-item\"><div class=\"sk-estimator sk-toggleable\"><input class=\"sk-toggleable__control sk-hidden--visually\" id=\"sk-estimator-id-1608\" type=\"checkbox\" ><label for=\"sk-estimator-id-1608\" class=\"sk-toggleable__label sk-toggleable__label-arrow\">MultinomialNB</label><div class=\"sk-toggleable__content\"><pre>MultinomialNB()</pre></div></div></div></div></div></div></div></div></div></div><div class=\"sk-item\"><div class=\"sk-parallel\"><div class=\"sk-parallel-item\"><div class=\"sk-item\"><div class=\"sk-label-container\"><div class=\"sk-label sk-toggleable\"><label>final_estimator</label></div></div><div class=\"sk-serial\"><div class=\"sk-item\"><div class=\"sk-estimator sk-toggleable\"><input class=\"sk-toggleable__control sk-hidden--visually\" id=\"sk-estimator-id-1609\" type=\"checkbox\" ><label for=\"sk-estimator-id-1609\" class=\"sk-toggleable__label sk-toggleable__label-arrow\">LogisticRegression</label><div class=\"sk-toggleable__content\"><pre>LogisticRegression()</pre></div></div></div></div></div></div></div></div></div></div></div></div>"
      ],
      "text/plain": [
       "StackingClassifier(estimators=[('m1',\n",
       "                                Pipeline(steps=[('ct',\n",
       "                                                 ColumnTransformer(transformers=[('tfbg',\n",
       "                                                                                  Tfidf_BigramReducer(bf=0.1,\n",
       "                                                                                                      max_features=30000,\n",
       "                                                                                                      preprocessor=<function my_preprocessor at 0x7fd0401c58b0>,\n",
       "                                                                                                      stop_words='english'),\n",
       "                                                                                  'title'),\n",
       "                                                                                 ('ss',\n",
       "                                                                                  StandardScaler(),\n",
       "                                                                                  ['num_comments']),\n",
       "                                                                                 ('ohe',\n",
       "                                                                                  OneHotEncoder(drop='first',\n",
       "                                                                                                sparse_output=False),\n",
       "                                                                                  ['domain'])])),\n",
       "                                                ('lr',\n",
       "                                                 Lo...\n",
       "                                Pipeline(steps=[('ct',\n",
       "                                                 ColumnTransformer(transformers=[('tfbg',\n",
       "                                                                                  Tfidf_BigramReducer(bf=0.1,\n",
       "                                                                                                      max_features=40000,\n",
       "                                                                                                      preprocessor=<function my_preprocessor at 0x7fd0401c58b0>,\n",
       "                                                                                                      stop_words='english'),\n",
       "                                                                                  'title'),\n",
       "                                                                                 ('mm',\n",
       "                                                                                  MinMaxScaler(),\n",
       "                                                                                  ['num_comments']),\n",
       "                                                                                 ('ohe',\n",
       "                                                                                  OneHotEncoder(drop='first',\n",
       "                                                                                                sparse_output=False),\n",
       "                                                                                  ['domain'])])),\n",
       "                                                ('nb', MultinomialNB())]))],\n",
       "                   final_estimator=LogisticRegression())"
      ]
     },
     "execution_count": 795,
     "metadata": {},
     "output_type": "execute_result"
    }
   ],
   "source": [
    "stacked_model.fit(X_train, y_train)"
   ]
  },
  {
   "cell_type": "code",
   "execution_count": 796,
   "id": "be8256ed-bb7e-4135-9b9b-9306b088e9ee",
   "metadata": {},
   "outputs": [
    {
     "data": {
      "text/plain": [
       "0.9904942965779467"
      ]
     },
     "execution_count": 796,
     "metadata": {},
     "output_type": "execute_result"
    }
   ],
   "source": [
    "stacked_model.score(X_train, y_train)"
   ]
  },
  {
   "cell_type": "code",
   "execution_count": 797,
   "id": "e907db33-b1ef-4504-a2d0-7406459992aa",
   "metadata": {},
   "outputs": [
    {
     "data": {
      "text/plain": [
       "0.8812843261512463"
      ]
     },
     "execution_count": 797,
     "metadata": {},
     "output_type": "execute_result"
    }
   ],
   "source": [
    "stacked_model.score(X_test, y_test)"
   ]
  },
  {
   "cell_type": "code",
   "execution_count": 798,
   "id": "a6deef27-291b-4c8d-9db4-4795e277526b",
   "metadata": {},
   "outputs": [
    {
     "data": {
      "text/plain": [
       "array([[0.74569785, 5.66185713, 1.94036424]])"
      ]
     },
     "execution_count": 798,
     "metadata": {},
     "output_type": "execute_result"
    }
   ],
   "source": [
    "stacked_model.final_estimator_.coef_"
   ]
  },
  {
   "cell_type": "code",
   "execution_count": 799,
   "id": "7e3be95d-7ac6-49c0-b8eb-1c7ab19539d3",
   "metadata": {},
   "outputs": [
    {
     "data": {
      "text/plain": [
       "array(['tfbg__00', 'tfbg__000', 'tfbg__000 000', ..., 'ohe__domain_wnd',\n",
       "       'ohe__domain_wsj', 'ohe__domain_youtube'], dtype=object)"
      ]
     },
     "execution_count": 799,
     "metadata": {},
     "output_type": "execute_result"
    }
   ],
   "source": [
    "stacked_model.named_estimators_.m2.named_steps.ct.get_feature_names_out()"
   ]
  },
  {
   "cell_type": "code",
   "execution_count": 800,
   "id": "6fa3e4d8-1505-43c0-b313-aeaa29589dfb",
   "metadata": {},
   "outputs": [],
   "source": [
    "with open('../pickled_models/stacked_model_submissions.pkl', 'wb') as pickle_out:\n",
    "    pickle_out = pickle.dump(stacked_model, pickle_out)"
   ]
  },
  {
   "cell_type": "markdown",
   "id": "970836d5-671a-4dfd-a4ad-d86517d97395",
   "metadata": {},
   "source": [
    "## 2) Comments Modeling"
   ]
  },
  {
   "cell_type": "markdown",
   "id": "f501f6af-967f-4cf1-b4d3-bb057ba8ea2d",
   "metadata": {},
   "source": [
    "Next, we will look at the comments I collected. I will use 'all_comments_sentiment.csv' (created in the sentiment_analysis notebook)."
   ]
  },
  {
   "cell_type": "code",
   "execution_count": 525,
   "id": "be97413d-d246-4019-8dda-f4b2a4a45595",
   "metadata": {},
   "outputs": [
    {
     "data": {
      "text/html": [
       "<div>\n",
       "<style scoped>\n",
       "    .dataframe tbody tr th:only-of-type {\n",
       "        vertical-align: middle;\n",
       "    }\n",
       "\n",
       "    .dataframe tbody tr th {\n",
       "        vertical-align: top;\n",
       "    }\n",
       "\n",
       "    .dataframe thead th {\n",
       "        text-align: right;\n",
       "    }\n",
       "</style>\n",
       "<table border=\"1\" class=\"dataframe\">\n",
       "  <thead>\n",
       "    <tr style=\"text-align: right;\">\n",
       "      <th></th>\n",
       "      <th>parent_id</th>\n",
       "      <th>author</th>\n",
       "      <th>created_utc</th>\n",
       "      <th>body</th>\n",
       "      <th>score</th>\n",
       "      <th>subreddit</th>\n",
       "      <th>word_length</th>\n",
       "      <th>freq_poster</th>\n",
       "      <th>sent_label</th>\n",
       "      <th>sent_score</th>\n",
       "    </tr>\n",
       "    <tr>\n",
       "      <th>id</th>\n",
       "      <th></th>\n",
       "      <th></th>\n",
       "      <th></th>\n",
       "      <th></th>\n",
       "      <th></th>\n",
       "      <th></th>\n",
       "      <th></th>\n",
       "      <th></th>\n",
       "      <th></th>\n",
       "      <th></th>\n",
       "    </tr>\n",
       "  </thead>\n",
       "  <tbody>\n",
       "    <tr>\n",
       "      <th>irhr7g7</th>\n",
       "      <td>4.084409e+10</td>\n",
       "      <td>stickznstonez_</td>\n",
       "      <td>1665212396</td>\n",
       "      <td>https://youtu.be/i1oCQ6bZ_Ws\\n\\nThis guy might...</td>\n",
       "      <td>1</td>\n",
       "      <td>politics</td>\n",
       "      <td>31</td>\n",
       "      <td>0</td>\n",
       "      <td>LABEL_0</td>\n",
       "      <td>0.6696</td>\n",
       "    </tr>\n",
       "    <tr>\n",
       "      <th>irhr7bp</th>\n",
       "      <td>NaN</td>\n",
       "      <td>valcatrina</td>\n",
       "      <td>1665212393</td>\n",
       "      <td>I am surprised it takes the FBI to draw this l...</td>\n",
       "      <td>1</td>\n",
       "      <td>politics</td>\n",
       "      <td>22</td>\n",
       "      <td>0</td>\n",
       "      <td>LABEL_0</td>\n",
       "      <td>0.6532</td>\n",
       "    </tr>\n",
       "    <tr>\n",
       "      <th>irhr79r</th>\n",
       "      <td>4.084347e+10</td>\n",
       "      <td>StrillyBings</td>\n",
       "      <td>1665212392</td>\n",
       "      <td>If he was making calls to Georgia for someone ...</td>\n",
       "      <td>1</td>\n",
       "      <td>politics</td>\n",
       "      <td>19</td>\n",
       "      <td>0</td>\n",
       "      <td>LABEL_1</td>\n",
       "      <td>0.7425</td>\n",
       "    </tr>\n",
       "    <tr>\n",
       "      <th>irhr79a</th>\n",
       "      <td>NaN</td>\n",
       "      <td>After_Ad_9636</td>\n",
       "      <td>1665212391</td>\n",
       "      <td>Duh?\\n\\nWhy wouldn’t he?</td>\n",
       "      <td>1</td>\n",
       "      <td>politics</td>\n",
       "      <td>3</td>\n",
       "      <td>0</td>\n",
       "      <td>LABEL_1</td>\n",
       "      <td>0.5716</td>\n",
       "    </tr>\n",
       "    <tr>\n",
       "      <th>irhr720</th>\n",
       "      <td>4.084420e+10</td>\n",
       "      <td>SweetenedTomatoes</td>\n",
       "      <td>1665212386</td>\n",
       "      <td>Ah, I remember back in my younger days being h...</td>\n",
       "      <td>1</td>\n",
       "      <td>politics</td>\n",
       "      <td>47</td>\n",
       "      <td>0</td>\n",
       "      <td>LABEL_2</td>\n",
       "      <td>0.7270</td>\n",
       "    </tr>\n",
       "  </tbody>\n",
       "</table>\n",
       "</div>"
      ],
      "text/plain": [
       "            parent_id             author  created_utc  \\\n",
       "id                                                      \n",
       "irhr7g7  4.084409e+10     stickznstonez_   1665212396   \n",
       "irhr7bp           NaN         valcatrina   1665212393   \n",
       "irhr79r  4.084347e+10       StrillyBings   1665212392   \n",
       "irhr79a           NaN      After_Ad_9636   1665212391   \n",
       "irhr720  4.084420e+10  SweetenedTomatoes   1665212386   \n",
       "\n",
       "                                                      body  score subreddit  \\\n",
       "id                                                                            \n",
       "irhr7g7  https://youtu.be/i1oCQ6bZ_Ws\\n\\nThis guy might...      1  politics   \n",
       "irhr7bp  I am surprised it takes the FBI to draw this l...      1  politics   \n",
       "irhr79r  If he was making calls to Georgia for someone ...      1  politics   \n",
       "irhr79a                           Duh?\\n\\nWhy wouldn’t he?      1  politics   \n",
       "irhr720  Ah, I remember back in my younger days being h...      1  politics   \n",
       "\n",
       "         word_length  freq_poster sent_label  sent_score  \n",
       "id                                                        \n",
       "irhr7g7           31            0    LABEL_0      0.6696  \n",
       "irhr7bp           22            0    LABEL_0      0.6532  \n",
       "irhr79r           19            0    LABEL_1      0.7425  \n",
       "irhr79a            3            0    LABEL_1      0.5716  \n",
       "irhr720           47            0    LABEL_2      0.7270  "
      ]
     },
     "execution_count": 525,
     "metadata": {},
     "output_type": "execute_result"
    }
   ],
   "source": [
    "com_df = pd.read_csv('../data/all_comments_sentiment.csv')\n",
    "com_df.set_index('id', inplace=True)\n",
    "com_df.head()\n"
   ]
  },
  {
   "cell_type": "markdown",
   "id": "549458d8-58a7-4f5f-ad4a-6515abac7732",
   "metadata": {},
   "source": [
    "What's the baseline accuracy?"
   ]
  },
  {
   "cell_type": "code",
   "execution_count": 526,
   "id": "bc02e6c1-a2c0-45dd-88e4-6c978a771efb",
   "metadata": {},
   "outputs": [
    {
     "data": {
      "text/plain": [
       "politics        0.539368\n",
       "conservative    0.460632\n",
       "Name: subreddit, dtype: float64"
      ]
     },
     "execution_count": 526,
     "metadata": {},
     "output_type": "execute_result"
    }
   ],
   "source": [
    "com_df['subreddit'].value_counts(normalize=True)"
   ]
  },
  {
   "cell_type": "markdown",
   "id": "485bff57-3f5b-47e0-99cf-cf854feab913",
   "metadata": {},
   "source": [
    "We have pretty balanced classes for comments as well. Let's use the same labeling as for titles, and set conservative=0 and politics=1"
   ]
  },
  {
   "cell_type": "code",
   "execution_count": 527,
   "id": "235bdf5a-68dc-4dc7-96a6-41f8cab065b0",
   "metadata": {},
   "outputs": [],
   "source": [
    "com_df['subreddit'] = com_df['subreddit'].map({'conservative':0, 'politics':1})"
   ]
  },
  {
   "cell_type": "markdown",
   "id": "690a092b-3dae-4707-bf59-66f0dc09d50e",
   "metadata": {},
   "source": [
    "### 2.1) Logistic Regression\n",
    "\n",
    "I will start again with using Logistic Regression before moving on decision-tree models"
   ]
  },
  {
   "cell_type": "code",
   "execution_count": 528,
   "id": "d75d3880-c5c4-41d4-a8fc-659d43ec54f9",
   "metadata": {},
   "outputs": [],
   "source": [
    "X = com_df[['body', 'score', 'word_length', 'freq_poster', 'sent_label']]\n",
    "y = com_df['subreddit']\n",
    "\n",
    "X_train, X_test, y_train, y_test = train_test_split(X, y, random_state=42)"
   ]
  },
  {
   "cell_type": "markdown",
   "id": "62e801a8-d4f8-4c0c-a2b1-067d65207240",
   "metadata": {},
   "source": [
    "Let's set up a ColumnTransformer + a Pipeline again, using my custom transformer, a scaler for the numerical columns, and OneHotEncoder for the sentiment label"
   ]
  },
  {
   "cell_type": "code",
   "execution_count": 535,
   "id": "8aaedb96-b67c-45b0-bfdb-196a5f34c339",
   "metadata": {},
   "outputs": [],
   "source": [
    "ct = ColumnTransformer([\n",
    "    (\"tfbg\", Tfidf_BigramReducer(preprocessor=my_preprocessor, stop_words='english', max_features=70_000), \"body\"),\n",
    "    (\"ss\", StandardScaler(), [\"score\", \"word_length\"]),\n",
    "    (\"ohe\", OneHotEncoder(sparse_output = False, drop ='first'), [\"sent_label\"])\n",
    "    ])\n",
    "\n",
    "\n",
    "nlp_pipe = Pipeline([\n",
    "    ('ct', ct ),\n",
    "    ('lr', LogisticRegression(penalty='l2', C=1, max_iter=1000)),\n",
    "])"
   ]
  },
  {
   "cell_type": "code",
   "execution_count": 536,
   "id": "08aa81d6-5e6a-414a-ba3c-3f555bbbabdf",
   "metadata": {},
   "outputs": [
    {
     "data": {
      "text/html": [
       "<style>#sk-container-id-82 {color: black;background-color: white;}#sk-container-id-82 pre{padding: 0;}#sk-container-id-82 div.sk-toggleable {background-color: white;}#sk-container-id-82 label.sk-toggleable__label {cursor: pointer;display: block;width: 100%;margin-bottom: 0;padding: 0.3em;box-sizing: border-box;text-align: center;}#sk-container-id-82 label.sk-toggleable__label-arrow:before {content: \"▸\";float: left;margin-right: 0.25em;color: #696969;}#sk-container-id-82 label.sk-toggleable__label-arrow:hover:before {color: black;}#sk-container-id-82 div.sk-estimator:hover label.sk-toggleable__label-arrow:before {color: black;}#sk-container-id-82 div.sk-toggleable__content {max-height: 0;max-width: 0;overflow: hidden;text-align: left;background-color: #f0f8ff;}#sk-container-id-82 div.sk-toggleable__content pre {margin: 0.2em;color: black;border-radius: 0.25em;background-color: #f0f8ff;}#sk-container-id-82 input.sk-toggleable__control:checked~div.sk-toggleable__content {max-height: 200px;max-width: 100%;overflow: auto;}#sk-container-id-82 input.sk-toggleable__control:checked~label.sk-toggleable__label-arrow:before {content: \"▾\";}#sk-container-id-82 div.sk-estimator input.sk-toggleable__control:checked~label.sk-toggleable__label {background-color: #d4ebff;}#sk-container-id-82 div.sk-label input.sk-toggleable__control:checked~label.sk-toggleable__label {background-color: #d4ebff;}#sk-container-id-82 input.sk-hidden--visually {border: 0;clip: rect(1px 1px 1px 1px);clip: rect(1px, 1px, 1px, 1px);height: 1px;margin: -1px;overflow: hidden;padding: 0;position: absolute;width: 1px;}#sk-container-id-82 div.sk-estimator {font-family: monospace;background-color: #f0f8ff;border: 1px dotted black;border-radius: 0.25em;box-sizing: border-box;margin-bottom: 0.5em;}#sk-container-id-82 div.sk-estimator:hover {background-color: #d4ebff;}#sk-container-id-82 div.sk-parallel-item::after {content: \"\";width: 100%;border-bottom: 1px solid gray;flex-grow: 1;}#sk-container-id-82 div.sk-label:hover label.sk-toggleable__label {background-color: #d4ebff;}#sk-container-id-82 div.sk-serial::before {content: \"\";position: absolute;border-left: 1px solid gray;box-sizing: border-box;top: 0;bottom: 0;left: 50%;z-index: 0;}#sk-container-id-82 div.sk-serial {display: flex;flex-direction: column;align-items: center;background-color: white;padding-right: 0.2em;padding-left: 0.2em;position: relative;}#sk-container-id-82 div.sk-item {position: relative;z-index: 1;}#sk-container-id-82 div.sk-parallel {display: flex;align-items: stretch;justify-content: center;background-color: white;position: relative;}#sk-container-id-82 div.sk-item::before, #sk-container-id-82 div.sk-parallel-item::before {content: \"\";position: absolute;border-left: 1px solid gray;box-sizing: border-box;top: 0;bottom: 0;left: 50%;z-index: -1;}#sk-container-id-82 div.sk-parallel-item {display: flex;flex-direction: column;z-index: 1;position: relative;background-color: white;}#sk-container-id-82 div.sk-parallel-item:first-child::after {align-self: flex-end;width: 50%;}#sk-container-id-82 div.sk-parallel-item:last-child::after {align-self: flex-start;width: 50%;}#sk-container-id-82 div.sk-parallel-item:only-child::after {width: 0;}#sk-container-id-82 div.sk-dashed-wrapped {border: 1px dashed gray;margin: 0 0.4em 0.5em 0.4em;box-sizing: border-box;padding-bottom: 0.4em;background-color: white;}#sk-container-id-82 div.sk-label label {font-family: monospace;font-weight: bold;display: inline-block;line-height: 1.2em;}#sk-container-id-82 div.sk-label-container {text-align: center;}#sk-container-id-82 div.sk-container {/* jupyter's `normalize.less` sets `[hidden] { display: none; }` but bootstrap.min.css set `[hidden] { display: none !important; }` so we also need the `!important` here to be able to override the default hidden behavior on the sphinx rendered scikit-learn.org. See: https://github.com/scikit-learn/scikit-learn/issues/21755 */display: inline-block !important;position: relative;}#sk-container-id-82 div.sk-text-repr-fallback {display: none;}</style><div id=\"sk-container-id-82\" class=\"sk-top-container\"><div class=\"sk-text-repr-fallback\"><pre>Pipeline(steps=[(&#x27;ct&#x27;,\n",
       "                 ColumnTransformer(transformers=[(&#x27;tfbg&#x27;,\n",
       "                                                  Tfidf_BigramReducer(max_features=70000,\n",
       "                                                                      preprocessor=&lt;function my_preprocessor at 0x7fd0401c58b0&gt;,\n",
       "                                                                      stop_words=&#x27;english&#x27;),\n",
       "                                                  &#x27;body&#x27;),\n",
       "                                                 (&#x27;ss&#x27;, StandardScaler(),\n",
       "                                                  [&#x27;score&#x27;, &#x27;word_length&#x27;]),\n",
       "                                                 (&#x27;ohe&#x27;,\n",
       "                                                  OneHotEncoder(drop=&#x27;first&#x27;,\n",
       "                                                                sparse_output=False),\n",
       "                                                  [&#x27;sent_label&#x27;])])),\n",
       "                (&#x27;lr&#x27;, LogisticRegression(C=1, max_iter=1000))])</pre><b>In a Jupyter environment, please rerun this cell to show the HTML representation or trust the notebook. <br />On GitHub, the HTML representation is unable to render, please try loading this page with nbviewer.org.</b></div><div class=\"sk-container\" hidden><div class=\"sk-item sk-dashed-wrapped\"><div class=\"sk-label-container\"><div class=\"sk-label sk-toggleable\"><input class=\"sk-toggleable__control sk-hidden--visually\" id=\"sk-estimator-id-846\" type=\"checkbox\" ><label for=\"sk-estimator-id-846\" class=\"sk-toggleable__label sk-toggleable__label-arrow\">Pipeline</label><div class=\"sk-toggleable__content\"><pre>Pipeline(steps=[(&#x27;ct&#x27;,\n",
       "                 ColumnTransformer(transformers=[(&#x27;tfbg&#x27;,\n",
       "                                                  Tfidf_BigramReducer(max_features=70000,\n",
       "                                                                      preprocessor=&lt;function my_preprocessor at 0x7fd0401c58b0&gt;,\n",
       "                                                                      stop_words=&#x27;english&#x27;),\n",
       "                                                  &#x27;body&#x27;),\n",
       "                                                 (&#x27;ss&#x27;, StandardScaler(),\n",
       "                                                  [&#x27;score&#x27;, &#x27;word_length&#x27;]),\n",
       "                                                 (&#x27;ohe&#x27;,\n",
       "                                                  OneHotEncoder(drop=&#x27;first&#x27;,\n",
       "                                                                sparse_output=False),\n",
       "                                                  [&#x27;sent_label&#x27;])])),\n",
       "                (&#x27;lr&#x27;, LogisticRegression(C=1, max_iter=1000))])</pre></div></div></div><div class=\"sk-serial\"><div class=\"sk-item sk-dashed-wrapped\"><div class=\"sk-label-container\"><div class=\"sk-label sk-toggleable\"><input class=\"sk-toggleable__control sk-hidden--visually\" id=\"sk-estimator-id-847\" type=\"checkbox\" ><label for=\"sk-estimator-id-847\" class=\"sk-toggleable__label sk-toggleable__label-arrow\">ct: ColumnTransformer</label><div class=\"sk-toggleable__content\"><pre>ColumnTransformer(transformers=[(&#x27;tfbg&#x27;,\n",
       "                                 Tfidf_BigramReducer(max_features=70000,\n",
       "                                                     preprocessor=&lt;function my_preprocessor at 0x7fd0401c58b0&gt;,\n",
       "                                                     stop_words=&#x27;english&#x27;),\n",
       "                                 &#x27;body&#x27;),\n",
       "                                (&#x27;ss&#x27;, StandardScaler(),\n",
       "                                 [&#x27;score&#x27;, &#x27;word_length&#x27;]),\n",
       "                                (&#x27;ohe&#x27;,\n",
       "                                 OneHotEncoder(drop=&#x27;first&#x27;,\n",
       "                                               sparse_output=False),\n",
       "                                 [&#x27;sent_label&#x27;])])</pre></div></div></div><div class=\"sk-parallel\"><div class=\"sk-parallel-item\"><div class=\"sk-item\"><div class=\"sk-label-container\"><div class=\"sk-label sk-toggleable\"><input class=\"sk-toggleable__control sk-hidden--visually\" id=\"sk-estimator-id-848\" type=\"checkbox\" ><label for=\"sk-estimator-id-848\" class=\"sk-toggleable__label sk-toggleable__label-arrow\">tfbg</label><div class=\"sk-toggleable__content\"><pre>body</pre></div></div></div><div class=\"sk-serial\"><div class=\"sk-item\"><div class=\"sk-estimator sk-toggleable\"><input class=\"sk-toggleable__control sk-hidden--visually\" id=\"sk-estimator-id-849\" type=\"checkbox\" ><label for=\"sk-estimator-id-849\" class=\"sk-toggleable__label sk-toggleable__label-arrow\">Tfidf_BigramReducer</label><div class=\"sk-toggleable__content\"><pre>Tfidf_BigramReducer(max_features=70000,\n",
       "                    preprocessor=&lt;function my_preprocessor at 0x7fd0401c58b0&gt;,\n",
       "                    stop_words=&#x27;english&#x27;)</pre></div></div></div></div></div></div><div class=\"sk-parallel-item\"><div class=\"sk-item\"><div class=\"sk-label-container\"><div class=\"sk-label sk-toggleable\"><input class=\"sk-toggleable__control sk-hidden--visually\" id=\"sk-estimator-id-850\" type=\"checkbox\" ><label for=\"sk-estimator-id-850\" class=\"sk-toggleable__label sk-toggleable__label-arrow\">ss</label><div class=\"sk-toggleable__content\"><pre>[&#x27;score&#x27;, &#x27;word_length&#x27;]</pre></div></div></div><div class=\"sk-serial\"><div class=\"sk-item\"><div class=\"sk-estimator sk-toggleable\"><input class=\"sk-toggleable__control sk-hidden--visually\" id=\"sk-estimator-id-851\" type=\"checkbox\" ><label for=\"sk-estimator-id-851\" class=\"sk-toggleable__label sk-toggleable__label-arrow\">StandardScaler</label><div class=\"sk-toggleable__content\"><pre>StandardScaler()</pre></div></div></div></div></div></div><div class=\"sk-parallel-item\"><div class=\"sk-item\"><div class=\"sk-label-container\"><div class=\"sk-label sk-toggleable\"><input class=\"sk-toggleable__control sk-hidden--visually\" id=\"sk-estimator-id-852\" type=\"checkbox\" ><label for=\"sk-estimator-id-852\" class=\"sk-toggleable__label sk-toggleable__label-arrow\">ohe</label><div class=\"sk-toggleable__content\"><pre>[&#x27;sent_label&#x27;]</pre></div></div></div><div class=\"sk-serial\"><div class=\"sk-item\"><div class=\"sk-estimator sk-toggleable\"><input class=\"sk-toggleable__control sk-hidden--visually\" id=\"sk-estimator-id-853\" type=\"checkbox\" ><label for=\"sk-estimator-id-853\" class=\"sk-toggleable__label sk-toggleable__label-arrow\">OneHotEncoder</label><div class=\"sk-toggleable__content\"><pre>OneHotEncoder(drop=&#x27;first&#x27;, sparse_output=False)</pre></div></div></div></div></div></div></div></div><div class=\"sk-item\"><div class=\"sk-estimator sk-toggleable\"><input class=\"sk-toggleable__control sk-hidden--visually\" id=\"sk-estimator-id-854\" type=\"checkbox\" ><label for=\"sk-estimator-id-854\" class=\"sk-toggleable__label sk-toggleable__label-arrow\">LogisticRegression</label><div class=\"sk-toggleable__content\"><pre>LogisticRegression(C=1, max_iter=1000)</pre></div></div></div></div></div></div></div>"
      ],
      "text/plain": [
       "Pipeline(steps=[('ct',\n",
       "                 ColumnTransformer(transformers=[('tfbg',\n",
       "                                                  Tfidf_BigramReducer(max_features=70000,\n",
       "                                                                      preprocessor=<function my_preprocessor at 0x7fd0401c58b0>,\n",
       "                                                                      stop_words='english'),\n",
       "                                                  'body'),\n",
       "                                                 ('ss', StandardScaler(),\n",
       "                                                  ['score', 'word_length']),\n",
       "                                                 ('ohe',\n",
       "                                                  OneHotEncoder(drop='first',\n",
       "                                                                sparse_output=False),\n",
       "                                                  ['sent_label'])])),\n",
       "                ('lr', LogisticRegression(C=1, max_iter=1000))])"
      ]
     },
     "execution_count": 536,
     "metadata": {},
     "output_type": "execute_result"
    }
   ],
   "source": [
    "nlp_pipe.fit(X_train, y_train)"
   ]
  },
  {
   "cell_type": "code",
   "execution_count": 537,
   "id": "b4c45203-544b-458c-aeb7-c46679f546ba",
   "metadata": {},
   "outputs": [
    {
     "data": {
      "text/plain": [
       "(0.8303407638001, 0.6510464437588593)"
      ]
     },
     "execution_count": 537,
     "metadata": {},
     "output_type": "execute_result"
    }
   ],
   "source": [
    "nlp_pipe.score(X_train, y_train), nlp_pipe.score(X_test, y_test)"
   ]
  },
  {
   "cell_type": "markdown",
   "id": "20506872-e973-4ea4-97ef-2425584e0294",
   "metadata": {},
   "source": [
    "And then set up a GridSearch"
   ]
  },
  {
   "cell_type": "code",
   "execution_count": 471,
   "id": "765dc6e9-65bc-4407-8172-b8931411d856",
   "metadata": {},
   "outputs": [
    {
     "data": {
      "text/html": [
       "<style>#sk-container-id-68 {color: black;background-color: white;}#sk-container-id-68 pre{padding: 0;}#sk-container-id-68 div.sk-toggleable {background-color: white;}#sk-container-id-68 label.sk-toggleable__label {cursor: pointer;display: block;width: 100%;margin-bottom: 0;padding: 0.3em;box-sizing: border-box;text-align: center;}#sk-container-id-68 label.sk-toggleable__label-arrow:before {content: \"▸\";float: left;margin-right: 0.25em;color: #696969;}#sk-container-id-68 label.sk-toggleable__label-arrow:hover:before {color: black;}#sk-container-id-68 div.sk-estimator:hover label.sk-toggleable__label-arrow:before {color: black;}#sk-container-id-68 div.sk-toggleable__content {max-height: 0;max-width: 0;overflow: hidden;text-align: left;background-color: #f0f8ff;}#sk-container-id-68 div.sk-toggleable__content pre {margin: 0.2em;color: black;border-radius: 0.25em;background-color: #f0f8ff;}#sk-container-id-68 input.sk-toggleable__control:checked~div.sk-toggleable__content {max-height: 200px;max-width: 100%;overflow: auto;}#sk-container-id-68 input.sk-toggleable__control:checked~label.sk-toggleable__label-arrow:before {content: \"▾\";}#sk-container-id-68 div.sk-estimator input.sk-toggleable__control:checked~label.sk-toggleable__label {background-color: #d4ebff;}#sk-container-id-68 div.sk-label input.sk-toggleable__control:checked~label.sk-toggleable__label {background-color: #d4ebff;}#sk-container-id-68 input.sk-hidden--visually {border: 0;clip: rect(1px 1px 1px 1px);clip: rect(1px, 1px, 1px, 1px);height: 1px;margin: -1px;overflow: hidden;padding: 0;position: absolute;width: 1px;}#sk-container-id-68 div.sk-estimator {font-family: monospace;background-color: #f0f8ff;border: 1px dotted black;border-radius: 0.25em;box-sizing: border-box;margin-bottom: 0.5em;}#sk-container-id-68 div.sk-estimator:hover {background-color: #d4ebff;}#sk-container-id-68 div.sk-parallel-item::after {content: \"\";width: 100%;border-bottom: 1px solid gray;flex-grow: 1;}#sk-container-id-68 div.sk-label:hover label.sk-toggleable__label {background-color: #d4ebff;}#sk-container-id-68 div.sk-serial::before {content: \"\";position: absolute;border-left: 1px solid gray;box-sizing: border-box;top: 0;bottom: 0;left: 50%;z-index: 0;}#sk-container-id-68 div.sk-serial {display: flex;flex-direction: column;align-items: center;background-color: white;padding-right: 0.2em;padding-left: 0.2em;position: relative;}#sk-container-id-68 div.sk-item {position: relative;z-index: 1;}#sk-container-id-68 div.sk-parallel {display: flex;align-items: stretch;justify-content: center;background-color: white;position: relative;}#sk-container-id-68 div.sk-item::before, #sk-container-id-68 div.sk-parallel-item::before {content: \"\";position: absolute;border-left: 1px solid gray;box-sizing: border-box;top: 0;bottom: 0;left: 50%;z-index: -1;}#sk-container-id-68 div.sk-parallel-item {display: flex;flex-direction: column;z-index: 1;position: relative;background-color: white;}#sk-container-id-68 div.sk-parallel-item:first-child::after {align-self: flex-end;width: 50%;}#sk-container-id-68 div.sk-parallel-item:last-child::after {align-self: flex-start;width: 50%;}#sk-container-id-68 div.sk-parallel-item:only-child::after {width: 0;}#sk-container-id-68 div.sk-dashed-wrapped {border: 1px dashed gray;margin: 0 0.4em 0.5em 0.4em;box-sizing: border-box;padding-bottom: 0.4em;background-color: white;}#sk-container-id-68 div.sk-label label {font-family: monospace;font-weight: bold;display: inline-block;line-height: 1.2em;}#sk-container-id-68 div.sk-label-container {text-align: center;}#sk-container-id-68 div.sk-container {/* jupyter's `normalize.less` sets `[hidden] { display: none; }` but bootstrap.min.css set `[hidden] { display: none !important; }` so we also need the `!important` here to be able to override the default hidden behavior on the sphinx rendered scikit-learn.org. See: https://github.com/scikit-learn/scikit-learn/issues/21755 */display: inline-block !important;position: relative;}#sk-container-id-68 div.sk-text-repr-fallback {display: none;}</style><div id=\"sk-container-id-68\" class=\"sk-top-container\"><div class=\"sk-text-repr-fallback\"><pre>GridSearchCV(cv=3,\n",
       "             estimator=Pipeline(steps=[(&#x27;ct&#x27;,\n",
       "                                        ColumnTransformer(transformers=[(&#x27;tfbg&#x27;,\n",
       "                                                                         Tfidf_BigramReducer(max_features=70000,\n",
       "                                                                                             preprocessor=&lt;function my_preprocessor at 0x7fd0401c58b0&gt;,\n",
       "                                                                                             stop_words=&#x27;english&#x27;),\n",
       "                                                                         &#x27;body&#x27;),\n",
       "                                                                        (&#x27;ss&#x27;,\n",
       "                                                                         StandardScaler(),\n",
       "                                                                         [&#x27;score&#x27;,\n",
       "                                                                          &#x27;word_length&#x27;]),\n",
       "                                                                        (&#x27;ohe&#x27;,\n",
       "                                                                         OneHotEncoder(drop=&#x27;first&#x27;,\n",
       "                                                                                       sparse_output=False),\n",
       "                                                                         [&#x27;sent_label&#x27;])])),\n",
       "                                       (&#x27;lr&#x27;,\n",
       "                                        LogisticRegression(max_iter=1000))]),\n",
       "             n_jobs=-1,\n",
       "             param_grid={&#x27;ct__tfbg__bf&#x27;: [0.1, 0.3, 0.4, 0.5],\n",
       "                         &#x27;ct__tfbg__max_df&#x27;: [0.99, 0.8, 0.7],\n",
       "                         &#x27;ct__tfbg__max_features&#x27;: [50000, 70000, 90000],\n",
       "                         &#x27;ct__tfbg__min_df&#x27;: [1, 2],\n",
       "                         &#x27;lr__C&#x27;: [0.001, 0.01, 0.5, 1, 5, 10]})</pre><b>In a Jupyter environment, please rerun this cell to show the HTML representation or trust the notebook. <br />On GitHub, the HTML representation is unable to render, please try loading this page with nbviewer.org.</b></div><div class=\"sk-container\" hidden><div class=\"sk-item sk-dashed-wrapped\"><div class=\"sk-label-container\"><div class=\"sk-label sk-toggleable\"><input class=\"sk-toggleable__control sk-hidden--visually\" id=\"sk-estimator-id-666\" type=\"checkbox\" ><label for=\"sk-estimator-id-666\" class=\"sk-toggleable__label sk-toggleable__label-arrow\">GridSearchCV</label><div class=\"sk-toggleable__content\"><pre>GridSearchCV(cv=3,\n",
       "             estimator=Pipeline(steps=[(&#x27;ct&#x27;,\n",
       "                                        ColumnTransformer(transformers=[(&#x27;tfbg&#x27;,\n",
       "                                                                         Tfidf_BigramReducer(max_features=70000,\n",
       "                                                                                             preprocessor=&lt;function my_preprocessor at 0x7fd0401c58b0&gt;,\n",
       "                                                                                             stop_words=&#x27;english&#x27;),\n",
       "                                                                         &#x27;body&#x27;),\n",
       "                                                                        (&#x27;ss&#x27;,\n",
       "                                                                         StandardScaler(),\n",
       "                                                                         [&#x27;score&#x27;,\n",
       "                                                                          &#x27;word_length&#x27;]),\n",
       "                                                                        (&#x27;ohe&#x27;,\n",
       "                                                                         OneHotEncoder(drop=&#x27;first&#x27;,\n",
       "                                                                                       sparse_output=False),\n",
       "                                                                         [&#x27;sent_label&#x27;])])),\n",
       "                                       (&#x27;lr&#x27;,\n",
       "                                        LogisticRegression(max_iter=1000))]),\n",
       "             n_jobs=-1,\n",
       "             param_grid={&#x27;ct__tfbg__bf&#x27;: [0.1, 0.3, 0.4, 0.5],\n",
       "                         &#x27;ct__tfbg__max_df&#x27;: [0.99, 0.8, 0.7],\n",
       "                         &#x27;ct__tfbg__max_features&#x27;: [50000, 70000, 90000],\n",
       "                         &#x27;ct__tfbg__min_df&#x27;: [1, 2],\n",
       "                         &#x27;lr__C&#x27;: [0.001, 0.01, 0.5, 1, 5, 10]})</pre></div></div></div><div class=\"sk-parallel\"><div class=\"sk-parallel-item\"><div class=\"sk-item\"><div class=\"sk-label-container\"><div class=\"sk-label sk-toggleable\"><input class=\"sk-toggleable__control sk-hidden--visually\" id=\"sk-estimator-id-667\" type=\"checkbox\" ><label for=\"sk-estimator-id-667\" class=\"sk-toggleable__label sk-toggleable__label-arrow\">estimator: Pipeline</label><div class=\"sk-toggleable__content\"><pre>Pipeline(steps=[(&#x27;ct&#x27;,\n",
       "                 ColumnTransformer(transformers=[(&#x27;tfbg&#x27;,\n",
       "                                                  Tfidf_BigramReducer(max_features=70000,\n",
       "                                                                      preprocessor=&lt;function my_preprocessor at 0x7fd0401c58b0&gt;,\n",
       "                                                                      stop_words=&#x27;english&#x27;),\n",
       "                                                  &#x27;body&#x27;),\n",
       "                                                 (&#x27;ss&#x27;, StandardScaler(),\n",
       "                                                  [&#x27;score&#x27;, &#x27;word_length&#x27;]),\n",
       "                                                 (&#x27;ohe&#x27;,\n",
       "                                                  OneHotEncoder(drop=&#x27;first&#x27;,\n",
       "                                                                sparse_output=False),\n",
       "                                                  [&#x27;sent_label&#x27;])])),\n",
       "                (&#x27;lr&#x27;, LogisticRegression(max_iter=1000))])</pre></div></div></div><div class=\"sk-serial\"><div class=\"sk-item\"><div class=\"sk-serial\"><div class=\"sk-item sk-dashed-wrapped\"><div class=\"sk-label-container\"><div class=\"sk-label sk-toggleable\"><input class=\"sk-toggleable__control sk-hidden--visually\" id=\"sk-estimator-id-668\" type=\"checkbox\" ><label for=\"sk-estimator-id-668\" class=\"sk-toggleable__label sk-toggleable__label-arrow\">ct: ColumnTransformer</label><div class=\"sk-toggleable__content\"><pre>ColumnTransformer(transformers=[(&#x27;tfbg&#x27;,\n",
       "                                 Tfidf_BigramReducer(max_features=70000,\n",
       "                                                     preprocessor=&lt;function my_preprocessor at 0x7fd0401c58b0&gt;,\n",
       "                                                     stop_words=&#x27;english&#x27;),\n",
       "                                 &#x27;body&#x27;),\n",
       "                                (&#x27;ss&#x27;, StandardScaler(),\n",
       "                                 [&#x27;score&#x27;, &#x27;word_length&#x27;]),\n",
       "                                (&#x27;ohe&#x27;,\n",
       "                                 OneHotEncoder(drop=&#x27;first&#x27;,\n",
       "                                               sparse_output=False),\n",
       "                                 [&#x27;sent_label&#x27;])])</pre></div></div></div><div class=\"sk-parallel\"><div class=\"sk-parallel-item\"><div class=\"sk-item\"><div class=\"sk-label-container\"><div class=\"sk-label sk-toggleable\"><input class=\"sk-toggleable__control sk-hidden--visually\" id=\"sk-estimator-id-669\" type=\"checkbox\" ><label for=\"sk-estimator-id-669\" class=\"sk-toggleable__label sk-toggleable__label-arrow\">tfbg</label><div class=\"sk-toggleable__content\"><pre>body</pre></div></div></div><div class=\"sk-serial\"><div class=\"sk-item\"><div class=\"sk-estimator sk-toggleable\"><input class=\"sk-toggleable__control sk-hidden--visually\" id=\"sk-estimator-id-670\" type=\"checkbox\" ><label for=\"sk-estimator-id-670\" class=\"sk-toggleable__label sk-toggleable__label-arrow\">Tfidf_BigramReducer</label><div class=\"sk-toggleable__content\"><pre>Tfidf_BigramReducer(max_features=70000,\n",
       "                    preprocessor=&lt;function my_preprocessor at 0x7fd0401c58b0&gt;,\n",
       "                    stop_words=&#x27;english&#x27;)</pre></div></div></div></div></div></div><div class=\"sk-parallel-item\"><div class=\"sk-item\"><div class=\"sk-label-container\"><div class=\"sk-label sk-toggleable\"><input class=\"sk-toggleable__control sk-hidden--visually\" id=\"sk-estimator-id-671\" type=\"checkbox\" ><label for=\"sk-estimator-id-671\" class=\"sk-toggleable__label sk-toggleable__label-arrow\">ss</label><div class=\"sk-toggleable__content\"><pre>[&#x27;score&#x27;, &#x27;word_length&#x27;]</pre></div></div></div><div class=\"sk-serial\"><div class=\"sk-item\"><div class=\"sk-estimator sk-toggleable\"><input class=\"sk-toggleable__control sk-hidden--visually\" id=\"sk-estimator-id-672\" type=\"checkbox\" ><label for=\"sk-estimator-id-672\" class=\"sk-toggleable__label sk-toggleable__label-arrow\">StandardScaler</label><div class=\"sk-toggleable__content\"><pre>StandardScaler()</pre></div></div></div></div></div></div><div class=\"sk-parallel-item\"><div class=\"sk-item\"><div class=\"sk-label-container\"><div class=\"sk-label sk-toggleable\"><input class=\"sk-toggleable__control sk-hidden--visually\" id=\"sk-estimator-id-673\" type=\"checkbox\" ><label for=\"sk-estimator-id-673\" class=\"sk-toggleable__label sk-toggleable__label-arrow\">ohe</label><div class=\"sk-toggleable__content\"><pre>[&#x27;sent_label&#x27;]</pre></div></div></div><div class=\"sk-serial\"><div class=\"sk-item\"><div class=\"sk-estimator sk-toggleable\"><input class=\"sk-toggleable__control sk-hidden--visually\" id=\"sk-estimator-id-674\" type=\"checkbox\" ><label for=\"sk-estimator-id-674\" class=\"sk-toggleable__label sk-toggleable__label-arrow\">OneHotEncoder</label><div class=\"sk-toggleable__content\"><pre>OneHotEncoder(drop=&#x27;first&#x27;, sparse_output=False)</pre></div></div></div></div></div></div></div></div><div class=\"sk-item\"><div class=\"sk-estimator sk-toggleable\"><input class=\"sk-toggleable__control sk-hidden--visually\" id=\"sk-estimator-id-675\" type=\"checkbox\" ><label for=\"sk-estimator-id-675\" class=\"sk-toggleable__label sk-toggleable__label-arrow\">LogisticRegression</label><div class=\"sk-toggleable__content\"><pre>LogisticRegression(max_iter=1000)</pre></div></div></div></div></div></div></div></div></div></div></div></div>"
      ],
      "text/plain": [
       "GridSearchCV(cv=3,\n",
       "             estimator=Pipeline(steps=[('ct',\n",
       "                                        ColumnTransformer(transformers=[('tfbg',\n",
       "                                                                         Tfidf_BigramReducer(max_features=70000,\n",
       "                                                                                             preprocessor=<function my_preprocessor at 0x7fd0401c58b0>,\n",
       "                                                                                             stop_words='english'),\n",
       "                                                                         'body'),\n",
       "                                                                        ('ss',\n",
       "                                                                         StandardScaler(),\n",
       "                                                                         ['score',\n",
       "                                                                          'word_length']),\n",
       "                                                                        ('ohe',\n",
       "                                                                         OneHotEncoder(drop='first',\n",
       "                                                                                       sparse_output=False),\n",
       "                                                                         ['sent_label'])])),\n",
       "                                       ('lr',\n",
       "                                        LogisticRegression(max_iter=1000))]),\n",
       "             n_jobs=-1,\n",
       "             param_grid={'ct__tfbg__bf': [0.1, 0.3, 0.4, 0.5],\n",
       "                         'ct__tfbg__max_df': [0.99, 0.8, 0.7],\n",
       "                         'ct__tfbg__max_features': [50000, 70000, 90000],\n",
       "                         'ct__tfbg__min_df': [1, 2],\n",
       "                         'lr__C': [0.001, 0.01, 0.5, 1, 5, 10]})"
      ]
     },
     "execution_count": 471,
     "metadata": {},
     "output_type": "execute_result"
    }
   ],
   "source": [
    "pipe_params = {\n",
    "    'ct__tfbg__max_df':[0.99, 0.8, 0.7],\n",
    "    'ct__tfbg__min_df':[1,2],\n",
    "    'ct__tfbg__max_features':[50_000, 70_000, 90_000],\n",
    "\n",
    "    'ct__tfbg__bf': [0.1, 0.3, 0.4, 0.5],\n",
    "    'lr__C': [0.001, 0.01, 0.5, 1, 5, 10],\n",
    "\n",
    "}\n",
    "\n",
    "gs_com = GridSearchCV(nlp_pipe,\n",
    "                 param_grid =pipe_params,\n",
    "                 n_jobs=-1, cv=3)\n",
    "gs_com.fit(X_train, y_train)"
   ]
  },
  {
   "cell_type": "code",
   "execution_count": 472,
   "id": "ee73b86c-0e46-45f8-a322-c75ef87c1424",
   "metadata": {},
   "outputs": [
    {
     "name": "stdout",
     "output_type": "stream",
     "text": [
      "0.8030185113124687\n",
      "0.6487951304927875\n"
     ]
    }
   ],
   "source": [
    "print(gs_com.score(X_train, y_train))\n",
    "print(gs_com.score(X_test, y_test))"
   ]
  },
  {
   "cell_type": "code",
   "execution_count": 473,
   "id": "9744271b-5463-4f77-830f-73c4dfaa0115",
   "metadata": {},
   "outputs": [
    {
     "data": {
      "text/plain": [
       "{'ct__tfbg__bf': 0.4,\n",
       " 'ct__tfbg__max_df': 0.99,\n",
       " 'ct__tfbg__max_features': 50000,\n",
       " 'ct__tfbg__min_df': 1,\n",
       " 'lr__C': 1}"
      ]
     },
     "execution_count": 473,
     "metadata": {},
     "output_type": "execute_result"
    }
   ],
   "source": [
    "gs_com.best_params_"
   ]
  },
  {
   "cell_type": "markdown",
   "id": "2ab13fba-f50b-4b3a-b696-dab0fe0eac74",
   "metadata": {},
   "source": [
    "It seems to have a much harder time than with the titles. That must partly be because the additional features I included for the comments model aren't as predictive. It might also be because many comments are short, which makes the classification more difficult.\n",
    "\n",
    "What if I only include comments that are at least 4 words long?"
   ]
  },
  {
   "cell_type": "code",
   "execution_count": 387,
   "id": "36a64db0-1846-4063-ae41-e1739cd76e53",
   "metadata": {},
   "outputs": [
    {
     "data": {
      "text/html": [
       "<style>#sk-container-id-46 {color: black;background-color: white;}#sk-container-id-46 pre{padding: 0;}#sk-container-id-46 div.sk-toggleable {background-color: white;}#sk-container-id-46 label.sk-toggleable__label {cursor: pointer;display: block;width: 100%;margin-bottom: 0;padding: 0.3em;box-sizing: border-box;text-align: center;}#sk-container-id-46 label.sk-toggleable__label-arrow:before {content: \"▸\";float: left;margin-right: 0.25em;color: #696969;}#sk-container-id-46 label.sk-toggleable__label-arrow:hover:before {color: black;}#sk-container-id-46 div.sk-estimator:hover label.sk-toggleable__label-arrow:before {color: black;}#sk-container-id-46 div.sk-toggleable__content {max-height: 0;max-width: 0;overflow: hidden;text-align: left;background-color: #f0f8ff;}#sk-container-id-46 div.sk-toggleable__content pre {margin: 0.2em;color: black;border-radius: 0.25em;background-color: #f0f8ff;}#sk-container-id-46 input.sk-toggleable__control:checked~div.sk-toggleable__content {max-height: 200px;max-width: 100%;overflow: auto;}#sk-container-id-46 input.sk-toggleable__control:checked~label.sk-toggleable__label-arrow:before {content: \"▾\";}#sk-container-id-46 div.sk-estimator input.sk-toggleable__control:checked~label.sk-toggleable__label {background-color: #d4ebff;}#sk-container-id-46 div.sk-label input.sk-toggleable__control:checked~label.sk-toggleable__label {background-color: #d4ebff;}#sk-container-id-46 input.sk-hidden--visually {border: 0;clip: rect(1px 1px 1px 1px);clip: rect(1px, 1px, 1px, 1px);height: 1px;margin: -1px;overflow: hidden;padding: 0;position: absolute;width: 1px;}#sk-container-id-46 div.sk-estimator {font-family: monospace;background-color: #f0f8ff;border: 1px dotted black;border-radius: 0.25em;box-sizing: border-box;margin-bottom: 0.5em;}#sk-container-id-46 div.sk-estimator:hover {background-color: #d4ebff;}#sk-container-id-46 div.sk-parallel-item::after {content: \"\";width: 100%;border-bottom: 1px solid gray;flex-grow: 1;}#sk-container-id-46 div.sk-label:hover label.sk-toggleable__label {background-color: #d4ebff;}#sk-container-id-46 div.sk-serial::before {content: \"\";position: absolute;border-left: 1px solid gray;box-sizing: border-box;top: 0;bottom: 0;left: 50%;z-index: 0;}#sk-container-id-46 div.sk-serial {display: flex;flex-direction: column;align-items: center;background-color: white;padding-right: 0.2em;padding-left: 0.2em;position: relative;}#sk-container-id-46 div.sk-item {position: relative;z-index: 1;}#sk-container-id-46 div.sk-parallel {display: flex;align-items: stretch;justify-content: center;background-color: white;position: relative;}#sk-container-id-46 div.sk-item::before, #sk-container-id-46 div.sk-parallel-item::before {content: \"\";position: absolute;border-left: 1px solid gray;box-sizing: border-box;top: 0;bottom: 0;left: 50%;z-index: -1;}#sk-container-id-46 div.sk-parallel-item {display: flex;flex-direction: column;z-index: 1;position: relative;background-color: white;}#sk-container-id-46 div.sk-parallel-item:first-child::after {align-self: flex-end;width: 50%;}#sk-container-id-46 div.sk-parallel-item:last-child::after {align-self: flex-start;width: 50%;}#sk-container-id-46 div.sk-parallel-item:only-child::after {width: 0;}#sk-container-id-46 div.sk-dashed-wrapped {border: 1px dashed gray;margin: 0 0.4em 0.5em 0.4em;box-sizing: border-box;padding-bottom: 0.4em;background-color: white;}#sk-container-id-46 div.sk-label label {font-family: monospace;font-weight: bold;display: inline-block;line-height: 1.2em;}#sk-container-id-46 div.sk-label-container {text-align: center;}#sk-container-id-46 div.sk-container {/* jupyter's `normalize.less` sets `[hidden] { display: none; }` but bootstrap.min.css set `[hidden] { display: none !important; }` so we also need the `!important` here to be able to override the default hidden behavior on the sphinx rendered scikit-learn.org. See: https://github.com/scikit-learn/scikit-learn/issues/21755 */display: inline-block !important;position: relative;}#sk-container-id-46 div.sk-text-repr-fallback {display: none;}</style><div id=\"sk-container-id-46\" class=\"sk-top-container\"><div class=\"sk-text-repr-fallback\"><pre>GridSearchCV(cv=3,\n",
       "             estimator=Pipeline(steps=[(&#x27;ct&#x27;,\n",
       "                                        ColumnTransformer(transformers=[(&#x27;tfbg&#x27;,\n",
       "                                                                         Tfidf_BigramReducer(max_features=70000,\n",
       "                                                                                             preprocessor=&lt;function my_preprocessor at 0x7fd0401c58b0&gt;,\n",
       "                                                                                             stop_words=&#x27;english&#x27;),\n",
       "                                                                         &#x27;body&#x27;),\n",
       "                                                                        (&#x27;ss&#x27;,\n",
       "                                                                         StandardScaler(),\n",
       "                                                                         [&#x27;score&#x27;,\n",
       "                                                                          &#x27;word_length&#x27;]),\n",
       "                                                                        (&#x27;ohe&#x27;,\n",
       "                                                                         OneHotEncoder(drop=&#x27;first&#x27;,\n",
       "                                                                                       sparse_output=False),\n",
       "                                                                         [&#x27;sent_label&#x27;])])),\n",
       "                                       (&#x27;lr&#x27;,\n",
       "                                        LogisticRegression(solver=&#x27;liblinear&#x27;))]),\n",
       "             n_jobs=-1,\n",
       "             param_grid={&#x27;ct__tfbg__bf&#x27;: [0.01, 0.1, 0.2, 0.3, 0.4],\n",
       "                         &#x27;ct__tfbg__max_df&#x27;: [0.99, 0.8, 0.7],\n",
       "                         &#x27;ct__tfbg__min_df&#x27;: [1, 2]})</pre><b>In a Jupyter environment, please rerun this cell to show the HTML representation or trust the notebook. <br />On GitHub, the HTML representation is unable to render, please try loading this page with nbviewer.org.</b></div><div class=\"sk-container\" hidden><div class=\"sk-item sk-dashed-wrapped\"><div class=\"sk-label-container\"><div class=\"sk-label sk-toggleable\"><input class=\"sk-toggleable__control sk-hidden--visually\" id=\"sk-estimator-id-437\" type=\"checkbox\" ><label for=\"sk-estimator-id-437\" class=\"sk-toggleable__label sk-toggleable__label-arrow\">GridSearchCV</label><div class=\"sk-toggleable__content\"><pre>GridSearchCV(cv=3,\n",
       "             estimator=Pipeline(steps=[(&#x27;ct&#x27;,\n",
       "                                        ColumnTransformer(transformers=[(&#x27;tfbg&#x27;,\n",
       "                                                                         Tfidf_BigramReducer(max_features=70000,\n",
       "                                                                                             preprocessor=&lt;function my_preprocessor at 0x7fd0401c58b0&gt;,\n",
       "                                                                                             stop_words=&#x27;english&#x27;),\n",
       "                                                                         &#x27;body&#x27;),\n",
       "                                                                        (&#x27;ss&#x27;,\n",
       "                                                                         StandardScaler(),\n",
       "                                                                         [&#x27;score&#x27;,\n",
       "                                                                          &#x27;word_length&#x27;]),\n",
       "                                                                        (&#x27;ohe&#x27;,\n",
       "                                                                         OneHotEncoder(drop=&#x27;first&#x27;,\n",
       "                                                                                       sparse_output=False),\n",
       "                                                                         [&#x27;sent_label&#x27;])])),\n",
       "                                       (&#x27;lr&#x27;,\n",
       "                                        LogisticRegression(solver=&#x27;liblinear&#x27;))]),\n",
       "             n_jobs=-1,\n",
       "             param_grid={&#x27;ct__tfbg__bf&#x27;: [0.01, 0.1, 0.2, 0.3, 0.4],\n",
       "                         &#x27;ct__tfbg__max_df&#x27;: [0.99, 0.8, 0.7],\n",
       "                         &#x27;ct__tfbg__min_df&#x27;: [1, 2]})</pre></div></div></div><div class=\"sk-parallel\"><div class=\"sk-parallel-item\"><div class=\"sk-item\"><div class=\"sk-label-container\"><div class=\"sk-label sk-toggleable\"><input class=\"sk-toggleable__control sk-hidden--visually\" id=\"sk-estimator-id-438\" type=\"checkbox\" ><label for=\"sk-estimator-id-438\" class=\"sk-toggleable__label sk-toggleable__label-arrow\">estimator: Pipeline</label><div class=\"sk-toggleable__content\"><pre>Pipeline(steps=[(&#x27;ct&#x27;,\n",
       "                 ColumnTransformer(transformers=[(&#x27;tfbg&#x27;,\n",
       "                                                  Tfidf_BigramReducer(max_features=70000,\n",
       "                                                                      preprocessor=&lt;function my_preprocessor at 0x7fd0401c58b0&gt;,\n",
       "                                                                      stop_words=&#x27;english&#x27;),\n",
       "                                                  &#x27;body&#x27;),\n",
       "                                                 (&#x27;ss&#x27;, StandardScaler(),\n",
       "                                                  [&#x27;score&#x27;, &#x27;word_length&#x27;]),\n",
       "                                                 (&#x27;ohe&#x27;,\n",
       "                                                  OneHotEncoder(drop=&#x27;first&#x27;,\n",
       "                                                                sparse_output=False),\n",
       "                                                  [&#x27;sent_label&#x27;])])),\n",
       "                (&#x27;lr&#x27;, LogisticRegression(solver=&#x27;liblinear&#x27;))])</pre></div></div></div><div class=\"sk-serial\"><div class=\"sk-item\"><div class=\"sk-serial\"><div class=\"sk-item sk-dashed-wrapped\"><div class=\"sk-label-container\"><div class=\"sk-label sk-toggleable\"><input class=\"sk-toggleable__control sk-hidden--visually\" id=\"sk-estimator-id-439\" type=\"checkbox\" ><label for=\"sk-estimator-id-439\" class=\"sk-toggleable__label sk-toggleable__label-arrow\">ct: ColumnTransformer</label><div class=\"sk-toggleable__content\"><pre>ColumnTransformer(transformers=[(&#x27;tfbg&#x27;,\n",
       "                                 Tfidf_BigramReducer(max_features=70000,\n",
       "                                                     preprocessor=&lt;function my_preprocessor at 0x7fd0401c58b0&gt;,\n",
       "                                                     stop_words=&#x27;english&#x27;),\n",
       "                                 &#x27;body&#x27;),\n",
       "                                (&#x27;ss&#x27;, StandardScaler(),\n",
       "                                 [&#x27;score&#x27;, &#x27;word_length&#x27;]),\n",
       "                                (&#x27;ohe&#x27;,\n",
       "                                 OneHotEncoder(drop=&#x27;first&#x27;,\n",
       "                                               sparse_output=False),\n",
       "                                 [&#x27;sent_label&#x27;])])</pre></div></div></div><div class=\"sk-parallel\"><div class=\"sk-parallel-item\"><div class=\"sk-item\"><div class=\"sk-label-container\"><div class=\"sk-label sk-toggleable\"><input class=\"sk-toggleable__control sk-hidden--visually\" id=\"sk-estimator-id-440\" type=\"checkbox\" ><label for=\"sk-estimator-id-440\" class=\"sk-toggleable__label sk-toggleable__label-arrow\">tfbg</label><div class=\"sk-toggleable__content\"><pre>body</pre></div></div></div><div class=\"sk-serial\"><div class=\"sk-item\"><div class=\"sk-estimator sk-toggleable\"><input class=\"sk-toggleable__control sk-hidden--visually\" id=\"sk-estimator-id-441\" type=\"checkbox\" ><label for=\"sk-estimator-id-441\" class=\"sk-toggleable__label sk-toggleable__label-arrow\">Tfidf_BigramReducer</label><div class=\"sk-toggleable__content\"><pre>Tfidf_BigramReducer(max_features=70000,\n",
       "                    preprocessor=&lt;function my_preprocessor at 0x7fd0401c58b0&gt;,\n",
       "                    stop_words=&#x27;english&#x27;)</pre></div></div></div></div></div></div><div class=\"sk-parallel-item\"><div class=\"sk-item\"><div class=\"sk-label-container\"><div class=\"sk-label sk-toggleable\"><input class=\"sk-toggleable__control sk-hidden--visually\" id=\"sk-estimator-id-442\" type=\"checkbox\" ><label for=\"sk-estimator-id-442\" class=\"sk-toggleable__label sk-toggleable__label-arrow\">ss</label><div class=\"sk-toggleable__content\"><pre>[&#x27;score&#x27;, &#x27;word_length&#x27;]</pre></div></div></div><div class=\"sk-serial\"><div class=\"sk-item\"><div class=\"sk-estimator sk-toggleable\"><input class=\"sk-toggleable__control sk-hidden--visually\" id=\"sk-estimator-id-443\" type=\"checkbox\" ><label for=\"sk-estimator-id-443\" class=\"sk-toggleable__label sk-toggleable__label-arrow\">StandardScaler</label><div class=\"sk-toggleable__content\"><pre>StandardScaler()</pre></div></div></div></div></div></div><div class=\"sk-parallel-item\"><div class=\"sk-item\"><div class=\"sk-label-container\"><div class=\"sk-label sk-toggleable\"><input class=\"sk-toggleable__control sk-hidden--visually\" id=\"sk-estimator-id-444\" type=\"checkbox\" ><label for=\"sk-estimator-id-444\" class=\"sk-toggleable__label sk-toggleable__label-arrow\">ohe</label><div class=\"sk-toggleable__content\"><pre>[&#x27;sent_label&#x27;]</pre></div></div></div><div class=\"sk-serial\"><div class=\"sk-item\"><div class=\"sk-estimator sk-toggleable\"><input class=\"sk-toggleable__control sk-hidden--visually\" id=\"sk-estimator-id-445\" type=\"checkbox\" ><label for=\"sk-estimator-id-445\" class=\"sk-toggleable__label sk-toggleable__label-arrow\">OneHotEncoder</label><div class=\"sk-toggleable__content\"><pre>OneHotEncoder(drop=&#x27;first&#x27;, sparse_output=False)</pre></div></div></div></div></div></div></div></div><div class=\"sk-item\"><div class=\"sk-estimator sk-toggleable\"><input class=\"sk-toggleable__control sk-hidden--visually\" id=\"sk-estimator-id-446\" type=\"checkbox\" ><label for=\"sk-estimator-id-446\" class=\"sk-toggleable__label sk-toggleable__label-arrow\">LogisticRegression</label><div class=\"sk-toggleable__content\"><pre>LogisticRegression(solver=&#x27;liblinear&#x27;)</pre></div></div></div></div></div></div></div></div></div></div></div></div>"
      ],
      "text/plain": [
       "GridSearchCV(cv=3,\n",
       "             estimator=Pipeline(steps=[('ct',\n",
       "                                        ColumnTransformer(transformers=[('tfbg',\n",
       "                                                                         Tfidf_BigramReducer(max_features=70000,\n",
       "                                                                                             preprocessor=<function my_preprocessor at 0x7fd0401c58b0>,\n",
       "                                                                                             stop_words='english'),\n",
       "                                                                         'body'),\n",
       "                                                                        ('ss',\n",
       "                                                                         StandardScaler(),\n",
       "                                                                         ['score',\n",
       "                                                                          'word_length']),\n",
       "                                                                        ('ohe',\n",
       "                                                                         OneHotEncoder(drop='first',\n",
       "                                                                                       sparse_output=False),\n",
       "                                                                         ['sent_label'])])),\n",
       "                                       ('lr',\n",
       "                                        LogisticRegression(solver='liblinear'))]),\n",
       "             n_jobs=-1,\n",
       "             param_grid={'ct__tfbg__bf': [0.01, 0.1, 0.2, 0.3, 0.4],\n",
       "                         'ct__tfbg__max_df': [0.99, 0.8, 0.7],\n",
       "                         'ct__tfbg__min_df': [1, 2]})"
      ]
     },
     "execution_count": 387,
     "metadata": {},
     "output_type": "execute_result"
    }
   ],
   "source": [
    "com_df_wl = com_df[com_df['word_length'] >= 4]\n",
    "X_wl = com_df_wl[['body', 'score', 'word_length', 'freq_poster', 'sent_label']]\n",
    "y_wl = com_df_wl['subreddit']\n",
    "\n",
    "X_wl_train, X_wl_test, y_wl_train, y_wl_test = train_test_split(X_wl, y_wl, random_state=42)\n",
    "\n",
    "ct = ColumnTransformer([\n",
    "    (\"tfbg\", Tfidf_BigramReducer(preprocessor=my_preprocessor, stop_words='english', max_features=70_000), \"body\"),\n",
    "    (\"ss\", StandardScaler(), [\"score\", \"word_length\"]),\n",
    "    (\"ohe\", OneHotEncoder(sparse_output = False, drop ='first'), [\"sent_label\"])\n",
    "    ])\n",
    "\n",
    "nlp_pipe = Pipeline([\n",
    "    ('ct', ct ),\n",
    "    ('lr', LogisticRegression(solver='liblinear')),\n",
    "])\n",
    "\n",
    "pipe_params = {\n",
    "    'ct__tfbg__max_df':[0.99, 0.8, 0.7],\n",
    "    'ct__tfbg__min_df':[1,2],\n",
    "    'ct__tfbg__bf': [0.01, 0.1, 0.2, 0.3, 0.4],\n",
    "}\n",
    "\n",
    "gs_com = GridSearchCV(nlp_pipe,\n",
    "                 param_grid =pipe_params,\n",
    "                 n_jobs=-1, cv=3)\n",
    "gs_com.fit(X_wl_train, y_wl_train)"
   ]
  },
  {
   "cell_type": "code",
   "execution_count": 388,
   "id": "92b18081-22c1-44e0-b583-f66e7fde4166",
   "metadata": {},
   "outputs": [
    {
     "name": "stdout",
     "output_type": "stream",
     "text": [
      "0.8174762518354259 0.656957928802589\n"
     ]
    }
   ],
   "source": [
    "print(gs_com.score(X_wl_train, y_wl_train), gs_com.score(X_wl_test, y_wl_test))"
   ]
  },
  {
   "cell_type": "markdown",
   "id": "035bf01a-9c33-4037-831b-cd563870861e",
   "metadata": {},
   "source": [
    "Interesting - it seems that it mostly makes the model more overfit, but not actually better on the test data"
   ]
  },
  {
   "cell_type": "markdown",
   "id": "ffced936-5644-44e6-b0f7-0e2d3dbb7d9c",
   "metadata": {},
   "source": [
    "### 2.2) Random Forest\n",
    "\n",
    "For the comments, I want to set up a  RandomForestClassifier as well, using the same general strategy, with a randomized search"
   ]
  },
  {
   "cell_type": "code",
   "execution_count": 487,
   "id": "a65b2866-6ebb-48c5-a1c7-a11a3d47d6f1",
   "metadata": {},
   "outputs": [],
   "source": [
    "X = com_df[['body', 'score', 'word_length', 'freq_poster', 'sent_label']]\n",
    "y = com_df['subreddit']\n",
    "\n",
    "X_train, X_test, y_train, y_test = train_test_split(X, y, random_state=42)\n",
    "\n",
    "ct = ColumnTransformer([\n",
    "    (\"tfbg\", Tfidf_BigramReducer(preprocessor=my_preprocessor, stop_words='english', min_df=2, bf=0.2, max_features=70_000), \"body\"),\n",
    "    (\"ss\", StandardScaler(), [\"score\", \"word_length\"]),\n",
    "    (\"ohe\", OneHotEncoder(sparse_output = False, drop =None), [\"sent_label\"])\n",
    "\n",
    "    ])\n",
    "\n",
    "nlp_pipe = Pipeline([\n",
    "    ('ct', ct ),\n",
    "    ('rf', RandomForestClassifier(max_depth=600, min_samples_leaf=4, max_leaf_nodes=800, n_estimators=200)),\n",
    "])"
   ]
  },
  {
   "cell_type": "markdown",
   "id": "4b97eebe-a8cc-465b-825d-e162c36f78b3",
   "metadata": {},
   "source": [
    "Fitting this pipe by itself first, to get an "
   ]
  },
  {
   "cell_type": "code",
   "execution_count": 488,
   "id": "9b644936-9658-4b20-9989-1cc84ec53caa",
   "metadata": {},
   "outputs": [
    {
     "data": {
      "text/html": [
       "<style>#sk-container-id-71 {color: black;background-color: white;}#sk-container-id-71 pre{padding: 0;}#sk-container-id-71 div.sk-toggleable {background-color: white;}#sk-container-id-71 label.sk-toggleable__label {cursor: pointer;display: block;width: 100%;margin-bottom: 0;padding: 0.3em;box-sizing: border-box;text-align: center;}#sk-container-id-71 label.sk-toggleable__label-arrow:before {content: \"▸\";float: left;margin-right: 0.25em;color: #696969;}#sk-container-id-71 label.sk-toggleable__label-arrow:hover:before {color: black;}#sk-container-id-71 div.sk-estimator:hover label.sk-toggleable__label-arrow:before {color: black;}#sk-container-id-71 div.sk-toggleable__content {max-height: 0;max-width: 0;overflow: hidden;text-align: left;background-color: #f0f8ff;}#sk-container-id-71 div.sk-toggleable__content pre {margin: 0.2em;color: black;border-radius: 0.25em;background-color: #f0f8ff;}#sk-container-id-71 input.sk-toggleable__control:checked~div.sk-toggleable__content {max-height: 200px;max-width: 100%;overflow: auto;}#sk-container-id-71 input.sk-toggleable__control:checked~label.sk-toggleable__label-arrow:before {content: \"▾\";}#sk-container-id-71 div.sk-estimator input.sk-toggleable__control:checked~label.sk-toggleable__label {background-color: #d4ebff;}#sk-container-id-71 div.sk-label input.sk-toggleable__control:checked~label.sk-toggleable__label {background-color: #d4ebff;}#sk-container-id-71 input.sk-hidden--visually {border: 0;clip: rect(1px 1px 1px 1px);clip: rect(1px, 1px, 1px, 1px);height: 1px;margin: -1px;overflow: hidden;padding: 0;position: absolute;width: 1px;}#sk-container-id-71 div.sk-estimator {font-family: monospace;background-color: #f0f8ff;border: 1px dotted black;border-radius: 0.25em;box-sizing: border-box;margin-bottom: 0.5em;}#sk-container-id-71 div.sk-estimator:hover {background-color: #d4ebff;}#sk-container-id-71 div.sk-parallel-item::after {content: \"\";width: 100%;border-bottom: 1px solid gray;flex-grow: 1;}#sk-container-id-71 div.sk-label:hover label.sk-toggleable__label {background-color: #d4ebff;}#sk-container-id-71 div.sk-serial::before {content: \"\";position: absolute;border-left: 1px solid gray;box-sizing: border-box;top: 0;bottom: 0;left: 50%;z-index: 0;}#sk-container-id-71 div.sk-serial {display: flex;flex-direction: column;align-items: center;background-color: white;padding-right: 0.2em;padding-left: 0.2em;position: relative;}#sk-container-id-71 div.sk-item {position: relative;z-index: 1;}#sk-container-id-71 div.sk-parallel {display: flex;align-items: stretch;justify-content: center;background-color: white;position: relative;}#sk-container-id-71 div.sk-item::before, #sk-container-id-71 div.sk-parallel-item::before {content: \"\";position: absolute;border-left: 1px solid gray;box-sizing: border-box;top: 0;bottom: 0;left: 50%;z-index: -1;}#sk-container-id-71 div.sk-parallel-item {display: flex;flex-direction: column;z-index: 1;position: relative;background-color: white;}#sk-container-id-71 div.sk-parallel-item:first-child::after {align-self: flex-end;width: 50%;}#sk-container-id-71 div.sk-parallel-item:last-child::after {align-self: flex-start;width: 50%;}#sk-container-id-71 div.sk-parallel-item:only-child::after {width: 0;}#sk-container-id-71 div.sk-dashed-wrapped {border: 1px dashed gray;margin: 0 0.4em 0.5em 0.4em;box-sizing: border-box;padding-bottom: 0.4em;background-color: white;}#sk-container-id-71 div.sk-label label {font-family: monospace;font-weight: bold;display: inline-block;line-height: 1.2em;}#sk-container-id-71 div.sk-label-container {text-align: center;}#sk-container-id-71 div.sk-container {/* jupyter's `normalize.less` sets `[hidden] { display: none; }` but bootstrap.min.css set `[hidden] { display: none !important; }` so we also need the `!important` here to be able to override the default hidden behavior on the sphinx rendered scikit-learn.org. See: https://github.com/scikit-learn/scikit-learn/issues/21755 */display: inline-block !important;position: relative;}#sk-container-id-71 div.sk-text-repr-fallback {display: none;}</style><div id=\"sk-container-id-71\" class=\"sk-top-container\"><div class=\"sk-text-repr-fallback\"><pre>Pipeline(steps=[(&#x27;ct&#x27;,\n",
       "                 ColumnTransformer(transformers=[(&#x27;tfbg&#x27;,\n",
       "                                                  Tfidf_BigramReducer(bf=0.2,\n",
       "                                                                      max_features=70000,\n",
       "                                                                      min_df=2,\n",
       "                                                                      preprocessor=&lt;function my_preprocessor at 0x7fd0401c58b0&gt;,\n",
       "                                                                      stop_words=&#x27;english&#x27;),\n",
       "                                                  &#x27;body&#x27;),\n",
       "                                                 (&#x27;ss&#x27;, StandardScaler(),\n",
       "                                                  [&#x27;score&#x27;, &#x27;word_length&#x27;]),\n",
       "                                                 (&#x27;ohe&#x27;,\n",
       "                                                  OneHotEncoder(sparse_output=False),\n",
       "                                                  [&#x27;sent_label&#x27;])])),\n",
       "                (&#x27;rf&#x27;,\n",
       "                 RandomForestClassifier(max_depth=600, max_leaf_nodes=800,\n",
       "                                        min_samples_leaf=4,\n",
       "                                        n_estimators=200))])</pre><b>In a Jupyter environment, please rerun this cell to show the HTML representation or trust the notebook. <br />On GitHub, the HTML representation is unable to render, please try loading this page with nbviewer.org.</b></div><div class=\"sk-container\" hidden><div class=\"sk-item sk-dashed-wrapped\"><div class=\"sk-label-container\"><div class=\"sk-label sk-toggleable\"><input class=\"sk-toggleable__control sk-hidden--visually\" id=\"sk-estimator-id-695\" type=\"checkbox\" ><label for=\"sk-estimator-id-695\" class=\"sk-toggleable__label sk-toggleable__label-arrow\">Pipeline</label><div class=\"sk-toggleable__content\"><pre>Pipeline(steps=[(&#x27;ct&#x27;,\n",
       "                 ColumnTransformer(transformers=[(&#x27;tfbg&#x27;,\n",
       "                                                  Tfidf_BigramReducer(bf=0.2,\n",
       "                                                                      max_features=70000,\n",
       "                                                                      min_df=2,\n",
       "                                                                      preprocessor=&lt;function my_preprocessor at 0x7fd0401c58b0&gt;,\n",
       "                                                                      stop_words=&#x27;english&#x27;),\n",
       "                                                  &#x27;body&#x27;),\n",
       "                                                 (&#x27;ss&#x27;, StandardScaler(),\n",
       "                                                  [&#x27;score&#x27;, &#x27;word_length&#x27;]),\n",
       "                                                 (&#x27;ohe&#x27;,\n",
       "                                                  OneHotEncoder(sparse_output=False),\n",
       "                                                  [&#x27;sent_label&#x27;])])),\n",
       "                (&#x27;rf&#x27;,\n",
       "                 RandomForestClassifier(max_depth=600, max_leaf_nodes=800,\n",
       "                                        min_samples_leaf=4,\n",
       "                                        n_estimators=200))])</pre></div></div></div><div class=\"sk-serial\"><div class=\"sk-item sk-dashed-wrapped\"><div class=\"sk-label-container\"><div class=\"sk-label sk-toggleable\"><input class=\"sk-toggleable__control sk-hidden--visually\" id=\"sk-estimator-id-696\" type=\"checkbox\" ><label for=\"sk-estimator-id-696\" class=\"sk-toggleable__label sk-toggleable__label-arrow\">ct: ColumnTransformer</label><div class=\"sk-toggleable__content\"><pre>ColumnTransformer(transformers=[(&#x27;tfbg&#x27;,\n",
       "                                 Tfidf_BigramReducer(bf=0.2, max_features=70000,\n",
       "                                                     min_df=2,\n",
       "                                                     preprocessor=&lt;function my_preprocessor at 0x7fd0401c58b0&gt;,\n",
       "                                                     stop_words=&#x27;english&#x27;),\n",
       "                                 &#x27;body&#x27;),\n",
       "                                (&#x27;ss&#x27;, StandardScaler(),\n",
       "                                 [&#x27;score&#x27;, &#x27;word_length&#x27;]),\n",
       "                                (&#x27;ohe&#x27;, OneHotEncoder(sparse_output=False),\n",
       "                                 [&#x27;sent_label&#x27;])])</pre></div></div></div><div class=\"sk-parallel\"><div class=\"sk-parallel-item\"><div class=\"sk-item\"><div class=\"sk-label-container\"><div class=\"sk-label sk-toggleable\"><input class=\"sk-toggleable__control sk-hidden--visually\" id=\"sk-estimator-id-697\" type=\"checkbox\" ><label for=\"sk-estimator-id-697\" class=\"sk-toggleable__label sk-toggleable__label-arrow\">tfbg</label><div class=\"sk-toggleable__content\"><pre>body</pre></div></div></div><div class=\"sk-serial\"><div class=\"sk-item\"><div class=\"sk-estimator sk-toggleable\"><input class=\"sk-toggleable__control sk-hidden--visually\" id=\"sk-estimator-id-698\" type=\"checkbox\" ><label for=\"sk-estimator-id-698\" class=\"sk-toggleable__label sk-toggleable__label-arrow\">Tfidf_BigramReducer</label><div class=\"sk-toggleable__content\"><pre>Tfidf_BigramReducer(bf=0.2, max_features=70000, min_df=2,\n",
       "                    preprocessor=&lt;function my_preprocessor at 0x7fd0401c58b0&gt;,\n",
       "                    stop_words=&#x27;english&#x27;)</pre></div></div></div></div></div></div><div class=\"sk-parallel-item\"><div class=\"sk-item\"><div class=\"sk-label-container\"><div class=\"sk-label sk-toggleable\"><input class=\"sk-toggleable__control sk-hidden--visually\" id=\"sk-estimator-id-699\" type=\"checkbox\" ><label for=\"sk-estimator-id-699\" class=\"sk-toggleable__label sk-toggleable__label-arrow\">ss</label><div class=\"sk-toggleable__content\"><pre>[&#x27;score&#x27;, &#x27;word_length&#x27;]</pre></div></div></div><div class=\"sk-serial\"><div class=\"sk-item\"><div class=\"sk-estimator sk-toggleable\"><input class=\"sk-toggleable__control sk-hidden--visually\" id=\"sk-estimator-id-700\" type=\"checkbox\" ><label for=\"sk-estimator-id-700\" class=\"sk-toggleable__label sk-toggleable__label-arrow\">StandardScaler</label><div class=\"sk-toggleable__content\"><pre>StandardScaler()</pre></div></div></div></div></div></div><div class=\"sk-parallel-item\"><div class=\"sk-item\"><div class=\"sk-label-container\"><div class=\"sk-label sk-toggleable\"><input class=\"sk-toggleable__control sk-hidden--visually\" id=\"sk-estimator-id-701\" type=\"checkbox\" ><label for=\"sk-estimator-id-701\" class=\"sk-toggleable__label sk-toggleable__label-arrow\">ohe</label><div class=\"sk-toggleable__content\"><pre>[&#x27;sent_label&#x27;]</pre></div></div></div><div class=\"sk-serial\"><div class=\"sk-item\"><div class=\"sk-estimator sk-toggleable\"><input class=\"sk-toggleable__control sk-hidden--visually\" id=\"sk-estimator-id-702\" type=\"checkbox\" ><label for=\"sk-estimator-id-702\" class=\"sk-toggleable__label sk-toggleable__label-arrow\">OneHotEncoder</label><div class=\"sk-toggleable__content\"><pre>OneHotEncoder(sparse_output=False)</pre></div></div></div></div></div></div></div></div><div class=\"sk-item\"><div class=\"sk-estimator sk-toggleable\"><input class=\"sk-toggleable__control sk-hidden--visually\" id=\"sk-estimator-id-703\" type=\"checkbox\" ><label for=\"sk-estimator-id-703\" class=\"sk-toggleable__label sk-toggleable__label-arrow\">RandomForestClassifier</label><div class=\"sk-toggleable__content\"><pre>RandomForestClassifier(max_depth=600, max_leaf_nodes=800, min_samples_leaf=4,\n",
       "                       n_estimators=200)</pre></div></div></div></div></div></div></div>"
      ],
      "text/plain": [
       "Pipeline(steps=[('ct',\n",
       "                 ColumnTransformer(transformers=[('tfbg',\n",
       "                                                  Tfidf_BigramReducer(bf=0.2,\n",
       "                                                                      max_features=70000,\n",
       "                                                                      min_df=2,\n",
       "                                                                      preprocessor=<function my_preprocessor at 0x7fd0401c58b0>,\n",
       "                                                                      stop_words='english'),\n",
       "                                                  'body'),\n",
       "                                                 ('ss', StandardScaler(),\n",
       "                                                  ['score', 'word_length']),\n",
       "                                                 ('ohe',\n",
       "                                                  OneHotEncoder(sparse_output=False),\n",
       "                                                  ['sent_label'])])),\n",
       "                ('rf',\n",
       "                 RandomForestClassifier(max_depth=600, max_leaf_nodes=800,\n",
       "                                        min_samples_leaf=4,\n",
       "                                        n_estimators=200))])"
      ]
     },
     "execution_count": 488,
     "metadata": {},
     "output_type": "execute_result"
    }
   ],
   "source": [
    "nlp_pipe.fit(X_train, y_train)"
   ]
  },
  {
   "cell_type": "code",
   "execution_count": 489,
   "id": "ded44562-e01d-4bc9-b5ff-e0d013480479",
   "metadata": {},
   "outputs": [
    {
     "data": {
      "text/plain": [
       "(0.7969314581132915, 0.6260318519136163)"
      ]
     },
     "execution_count": 489,
     "metadata": {},
     "output_type": "execute_result"
    }
   ],
   "source": [
    "nlp_pipe.score(X_train, y_train), nlp_pipe.score(X_test, y_test)"
   ]
  },
  {
   "cell_type": "code",
   "execution_count": 491,
   "id": "647f8393-422c-4a84-bb9b-006158baf69f",
   "metadata": {},
   "outputs": [],
   "source": [
    "#for randomized search\n",
    "rs_params = {\n",
    "    'ct__tfbg__max_df':[0.7, 0.75, 0.8, 0.99],\n",
    "    'ct__tfbg__min_df':[1,2],\n",
    "    'ct__tfbg__bf': [0.01, 0.1,0.2, 0.4],\n",
    "    'ct__tfbg__max_features': [50_000, 70_000, 90_000],\n",
    "    'rf__max_leaf_nodes':[500, 800, 1000, None],\n",
    "    'rf__min_samples_leaf':[1,3,4,6],\n",
    "    'rf__n_estimators':[150, 200,300, 400, 600]\n",
    "}"
   ]
  },
  {
   "cell_type": "code",
   "execution_count": 492,
   "id": "2e018c50-3222-4058-955f-17ba9f80ea5c",
   "metadata": {},
   "outputs": [
    {
     "name": "stderr",
     "output_type": "stream",
     "text": [
      "/Users/martijndevries/opt/anaconda3/lib/python3.8/site-packages/joblib/externals/loky/process_executor.py:702: UserWarning: A worker stopped while some jobs were given to the executor. This can be caused by a too short worker timeout or by a memory leak.\n",
      "  warnings.warn(\n"
     ]
    },
    {
     "data": {
      "text/html": [
       "<style>#sk-container-id-72 {color: black;background-color: white;}#sk-container-id-72 pre{padding: 0;}#sk-container-id-72 div.sk-toggleable {background-color: white;}#sk-container-id-72 label.sk-toggleable__label {cursor: pointer;display: block;width: 100%;margin-bottom: 0;padding: 0.3em;box-sizing: border-box;text-align: center;}#sk-container-id-72 label.sk-toggleable__label-arrow:before {content: \"▸\";float: left;margin-right: 0.25em;color: #696969;}#sk-container-id-72 label.sk-toggleable__label-arrow:hover:before {color: black;}#sk-container-id-72 div.sk-estimator:hover label.sk-toggleable__label-arrow:before {color: black;}#sk-container-id-72 div.sk-toggleable__content {max-height: 0;max-width: 0;overflow: hidden;text-align: left;background-color: #f0f8ff;}#sk-container-id-72 div.sk-toggleable__content pre {margin: 0.2em;color: black;border-radius: 0.25em;background-color: #f0f8ff;}#sk-container-id-72 input.sk-toggleable__control:checked~div.sk-toggleable__content {max-height: 200px;max-width: 100%;overflow: auto;}#sk-container-id-72 input.sk-toggleable__control:checked~label.sk-toggleable__label-arrow:before {content: \"▾\";}#sk-container-id-72 div.sk-estimator input.sk-toggleable__control:checked~label.sk-toggleable__label {background-color: #d4ebff;}#sk-container-id-72 div.sk-label input.sk-toggleable__control:checked~label.sk-toggleable__label {background-color: #d4ebff;}#sk-container-id-72 input.sk-hidden--visually {border: 0;clip: rect(1px 1px 1px 1px);clip: rect(1px, 1px, 1px, 1px);height: 1px;margin: -1px;overflow: hidden;padding: 0;position: absolute;width: 1px;}#sk-container-id-72 div.sk-estimator {font-family: monospace;background-color: #f0f8ff;border: 1px dotted black;border-radius: 0.25em;box-sizing: border-box;margin-bottom: 0.5em;}#sk-container-id-72 div.sk-estimator:hover {background-color: #d4ebff;}#sk-container-id-72 div.sk-parallel-item::after {content: \"\";width: 100%;border-bottom: 1px solid gray;flex-grow: 1;}#sk-container-id-72 div.sk-label:hover label.sk-toggleable__label {background-color: #d4ebff;}#sk-container-id-72 div.sk-serial::before {content: \"\";position: absolute;border-left: 1px solid gray;box-sizing: border-box;top: 0;bottom: 0;left: 50%;z-index: 0;}#sk-container-id-72 div.sk-serial {display: flex;flex-direction: column;align-items: center;background-color: white;padding-right: 0.2em;padding-left: 0.2em;position: relative;}#sk-container-id-72 div.sk-item {position: relative;z-index: 1;}#sk-container-id-72 div.sk-parallel {display: flex;align-items: stretch;justify-content: center;background-color: white;position: relative;}#sk-container-id-72 div.sk-item::before, #sk-container-id-72 div.sk-parallel-item::before {content: \"\";position: absolute;border-left: 1px solid gray;box-sizing: border-box;top: 0;bottom: 0;left: 50%;z-index: -1;}#sk-container-id-72 div.sk-parallel-item {display: flex;flex-direction: column;z-index: 1;position: relative;background-color: white;}#sk-container-id-72 div.sk-parallel-item:first-child::after {align-self: flex-end;width: 50%;}#sk-container-id-72 div.sk-parallel-item:last-child::after {align-self: flex-start;width: 50%;}#sk-container-id-72 div.sk-parallel-item:only-child::after {width: 0;}#sk-container-id-72 div.sk-dashed-wrapped {border: 1px dashed gray;margin: 0 0.4em 0.5em 0.4em;box-sizing: border-box;padding-bottom: 0.4em;background-color: white;}#sk-container-id-72 div.sk-label label {font-family: monospace;font-weight: bold;display: inline-block;line-height: 1.2em;}#sk-container-id-72 div.sk-label-container {text-align: center;}#sk-container-id-72 div.sk-container {/* jupyter's `normalize.less` sets `[hidden] { display: none; }` but bootstrap.min.css set `[hidden] { display: none !important; }` so we also need the `!important` here to be able to override the default hidden behavior on the sphinx rendered scikit-learn.org. See: https://github.com/scikit-learn/scikit-learn/issues/21755 */display: inline-block !important;position: relative;}#sk-container-id-72 div.sk-text-repr-fallback {display: none;}</style><div id=\"sk-container-id-72\" class=\"sk-top-container\"><div class=\"sk-text-repr-fallback\"><pre>RandomizedSearchCV(cv=5,\n",
       "                   estimator=Pipeline(steps=[(&#x27;ct&#x27;,\n",
       "                                              ColumnTransformer(transformers=[(&#x27;tfbg&#x27;,\n",
       "                                                                               Tfidf_BigramReducer(bf=0.2,\n",
       "                                                                                                   max_features=70000,\n",
       "                                                                                                   min_df=2,\n",
       "                                                                                                   preprocessor=&lt;function my_preprocessor at 0x7fd0401c58b0&gt;,\n",
       "                                                                                                   stop_words=&#x27;english&#x27;),\n",
       "                                                                               &#x27;body&#x27;),\n",
       "                                                                              (&#x27;ss&#x27;,\n",
       "                                                                               StandardScaler(),\n",
       "                                                                               [&#x27;score&#x27;,\n",
       "                                                                                &#x27;word_length&#x27;]),\n",
       "                                                                              (&#x27;ohe&#x27;,\n",
       "                                                                               OneHotEncoder(sparse_output=False),\n",
       "                                                                               [&#x27;sent_label&#x27;])])),\n",
       "                                             (&#x27;rf&#x27;...\n",
       "                                                                     min_samples_leaf=4,\n",
       "                                                                     n_estimators=200))]),\n",
       "                   n_iter=150, n_jobs=-1,\n",
       "                   param_distributions={&#x27;ct__tfbg__bf&#x27;: [0.01, 0.1, 0.2, 0.4],\n",
       "                                        &#x27;ct__tfbg__max_df&#x27;: [0.7, 0.75, 0.8,\n",
       "                                                             0.99],\n",
       "                                        &#x27;ct__tfbg__max_features&#x27;: [50000, 70000,\n",
       "                                                                   90000],\n",
       "                                        &#x27;ct__tfbg__min_df&#x27;: [1, 2],\n",
       "                                        &#x27;rf__max_leaf_nodes&#x27;: [500, 800, 1000,\n",
       "                                                               None],\n",
       "                                        &#x27;rf__min_samples_leaf&#x27;: [1, 3, 4, 6],\n",
       "                                        &#x27;rf__n_estimators&#x27;: [150, 200, 300, 400,\n",
       "                                                             600]},\n",
       "                   random_state=42)</pre><b>In a Jupyter environment, please rerun this cell to show the HTML representation or trust the notebook. <br />On GitHub, the HTML representation is unable to render, please try loading this page with nbviewer.org.</b></div><div class=\"sk-container\" hidden><div class=\"sk-item sk-dashed-wrapped\"><div class=\"sk-label-container\"><div class=\"sk-label sk-toggleable\"><input class=\"sk-toggleable__control sk-hidden--visually\" id=\"sk-estimator-id-704\" type=\"checkbox\" ><label for=\"sk-estimator-id-704\" class=\"sk-toggleable__label sk-toggleable__label-arrow\">RandomizedSearchCV</label><div class=\"sk-toggleable__content\"><pre>RandomizedSearchCV(cv=5,\n",
       "                   estimator=Pipeline(steps=[(&#x27;ct&#x27;,\n",
       "                                              ColumnTransformer(transformers=[(&#x27;tfbg&#x27;,\n",
       "                                                                               Tfidf_BigramReducer(bf=0.2,\n",
       "                                                                                                   max_features=70000,\n",
       "                                                                                                   min_df=2,\n",
       "                                                                                                   preprocessor=&lt;function my_preprocessor at 0x7fd0401c58b0&gt;,\n",
       "                                                                                                   stop_words=&#x27;english&#x27;),\n",
       "                                                                               &#x27;body&#x27;),\n",
       "                                                                              (&#x27;ss&#x27;,\n",
       "                                                                               StandardScaler(),\n",
       "                                                                               [&#x27;score&#x27;,\n",
       "                                                                                &#x27;word_length&#x27;]),\n",
       "                                                                              (&#x27;ohe&#x27;,\n",
       "                                                                               OneHotEncoder(sparse_output=False),\n",
       "                                                                               [&#x27;sent_label&#x27;])])),\n",
       "                                             (&#x27;rf&#x27;...\n",
       "                                                                     min_samples_leaf=4,\n",
       "                                                                     n_estimators=200))]),\n",
       "                   n_iter=150, n_jobs=-1,\n",
       "                   param_distributions={&#x27;ct__tfbg__bf&#x27;: [0.01, 0.1, 0.2, 0.4],\n",
       "                                        &#x27;ct__tfbg__max_df&#x27;: [0.7, 0.75, 0.8,\n",
       "                                                             0.99],\n",
       "                                        &#x27;ct__tfbg__max_features&#x27;: [50000, 70000,\n",
       "                                                                   90000],\n",
       "                                        &#x27;ct__tfbg__min_df&#x27;: [1, 2],\n",
       "                                        &#x27;rf__max_leaf_nodes&#x27;: [500, 800, 1000,\n",
       "                                                               None],\n",
       "                                        &#x27;rf__min_samples_leaf&#x27;: [1, 3, 4, 6],\n",
       "                                        &#x27;rf__n_estimators&#x27;: [150, 200, 300, 400,\n",
       "                                                             600]},\n",
       "                   random_state=42)</pre></div></div></div><div class=\"sk-parallel\"><div class=\"sk-parallel-item\"><div class=\"sk-item\"><div class=\"sk-label-container\"><div class=\"sk-label sk-toggleable\"><input class=\"sk-toggleable__control sk-hidden--visually\" id=\"sk-estimator-id-705\" type=\"checkbox\" ><label for=\"sk-estimator-id-705\" class=\"sk-toggleable__label sk-toggleable__label-arrow\">estimator: Pipeline</label><div class=\"sk-toggleable__content\"><pre>Pipeline(steps=[(&#x27;ct&#x27;,\n",
       "                 ColumnTransformer(transformers=[(&#x27;tfbg&#x27;,\n",
       "                                                  Tfidf_BigramReducer(bf=0.2,\n",
       "                                                                      max_features=70000,\n",
       "                                                                      min_df=2,\n",
       "                                                                      preprocessor=&lt;function my_preprocessor at 0x7fd0401c58b0&gt;,\n",
       "                                                                      stop_words=&#x27;english&#x27;),\n",
       "                                                  &#x27;body&#x27;),\n",
       "                                                 (&#x27;ss&#x27;, StandardScaler(),\n",
       "                                                  [&#x27;score&#x27;, &#x27;word_length&#x27;]),\n",
       "                                                 (&#x27;ohe&#x27;,\n",
       "                                                  OneHotEncoder(sparse_output=False),\n",
       "                                                  [&#x27;sent_label&#x27;])])),\n",
       "                (&#x27;rf&#x27;,\n",
       "                 RandomForestClassifier(max_depth=600, max_leaf_nodes=800,\n",
       "                                        min_samples_leaf=4,\n",
       "                                        n_estimators=200))])</pre></div></div></div><div class=\"sk-serial\"><div class=\"sk-item\"><div class=\"sk-serial\"><div class=\"sk-item sk-dashed-wrapped\"><div class=\"sk-label-container\"><div class=\"sk-label sk-toggleable\"><input class=\"sk-toggleable__control sk-hidden--visually\" id=\"sk-estimator-id-706\" type=\"checkbox\" ><label for=\"sk-estimator-id-706\" class=\"sk-toggleable__label sk-toggleable__label-arrow\">ct: ColumnTransformer</label><div class=\"sk-toggleable__content\"><pre>ColumnTransformer(transformers=[(&#x27;tfbg&#x27;,\n",
       "                                 Tfidf_BigramReducer(bf=0.2, max_features=70000,\n",
       "                                                     min_df=2,\n",
       "                                                     preprocessor=&lt;function my_preprocessor at 0x7fd0401c58b0&gt;,\n",
       "                                                     stop_words=&#x27;english&#x27;),\n",
       "                                 &#x27;body&#x27;),\n",
       "                                (&#x27;ss&#x27;, StandardScaler(),\n",
       "                                 [&#x27;score&#x27;, &#x27;word_length&#x27;]),\n",
       "                                (&#x27;ohe&#x27;, OneHotEncoder(sparse_output=False),\n",
       "                                 [&#x27;sent_label&#x27;])])</pre></div></div></div><div class=\"sk-parallel\"><div class=\"sk-parallel-item\"><div class=\"sk-item\"><div class=\"sk-label-container\"><div class=\"sk-label sk-toggleable\"><input class=\"sk-toggleable__control sk-hidden--visually\" id=\"sk-estimator-id-707\" type=\"checkbox\" ><label for=\"sk-estimator-id-707\" class=\"sk-toggleable__label sk-toggleable__label-arrow\">tfbg</label><div class=\"sk-toggleable__content\"><pre>body</pre></div></div></div><div class=\"sk-serial\"><div class=\"sk-item\"><div class=\"sk-estimator sk-toggleable\"><input class=\"sk-toggleable__control sk-hidden--visually\" id=\"sk-estimator-id-708\" type=\"checkbox\" ><label for=\"sk-estimator-id-708\" class=\"sk-toggleable__label sk-toggleable__label-arrow\">Tfidf_BigramReducer</label><div class=\"sk-toggleable__content\"><pre>Tfidf_BigramReducer(bf=0.2, max_features=70000, min_df=2,\n",
       "                    preprocessor=&lt;function my_preprocessor at 0x7fd0401c58b0&gt;,\n",
       "                    stop_words=&#x27;english&#x27;)</pre></div></div></div></div></div></div><div class=\"sk-parallel-item\"><div class=\"sk-item\"><div class=\"sk-label-container\"><div class=\"sk-label sk-toggleable\"><input class=\"sk-toggleable__control sk-hidden--visually\" id=\"sk-estimator-id-709\" type=\"checkbox\" ><label for=\"sk-estimator-id-709\" class=\"sk-toggleable__label sk-toggleable__label-arrow\">ss</label><div class=\"sk-toggleable__content\"><pre>[&#x27;score&#x27;, &#x27;word_length&#x27;]</pre></div></div></div><div class=\"sk-serial\"><div class=\"sk-item\"><div class=\"sk-estimator sk-toggleable\"><input class=\"sk-toggleable__control sk-hidden--visually\" id=\"sk-estimator-id-710\" type=\"checkbox\" ><label for=\"sk-estimator-id-710\" class=\"sk-toggleable__label sk-toggleable__label-arrow\">StandardScaler</label><div class=\"sk-toggleable__content\"><pre>StandardScaler()</pre></div></div></div></div></div></div><div class=\"sk-parallel-item\"><div class=\"sk-item\"><div class=\"sk-label-container\"><div class=\"sk-label sk-toggleable\"><input class=\"sk-toggleable__control sk-hidden--visually\" id=\"sk-estimator-id-711\" type=\"checkbox\" ><label for=\"sk-estimator-id-711\" class=\"sk-toggleable__label sk-toggleable__label-arrow\">ohe</label><div class=\"sk-toggleable__content\"><pre>[&#x27;sent_label&#x27;]</pre></div></div></div><div class=\"sk-serial\"><div class=\"sk-item\"><div class=\"sk-estimator sk-toggleable\"><input class=\"sk-toggleable__control sk-hidden--visually\" id=\"sk-estimator-id-712\" type=\"checkbox\" ><label for=\"sk-estimator-id-712\" class=\"sk-toggleable__label sk-toggleable__label-arrow\">OneHotEncoder</label><div class=\"sk-toggleable__content\"><pre>OneHotEncoder(sparse_output=False)</pre></div></div></div></div></div></div></div></div><div class=\"sk-item\"><div class=\"sk-estimator sk-toggleable\"><input class=\"sk-toggleable__control sk-hidden--visually\" id=\"sk-estimator-id-713\" type=\"checkbox\" ><label for=\"sk-estimator-id-713\" class=\"sk-toggleable__label sk-toggleable__label-arrow\">RandomForestClassifier</label><div class=\"sk-toggleable__content\"><pre>RandomForestClassifier(max_depth=600, max_leaf_nodes=800, min_samples_leaf=4,\n",
       "                       n_estimators=200)</pre></div></div></div></div></div></div></div></div></div></div></div></div>"
      ],
      "text/plain": [
       "RandomizedSearchCV(cv=5,\n",
       "                   estimator=Pipeline(steps=[('ct',\n",
       "                                              ColumnTransformer(transformers=[('tfbg',\n",
       "                                                                               Tfidf_BigramReducer(bf=0.2,\n",
       "                                                                                                   max_features=70000,\n",
       "                                                                                                   min_df=2,\n",
       "                                                                                                   preprocessor=<function my_preprocessor at 0x7fd0401c58b0>,\n",
       "                                                                                                   stop_words='english'),\n",
       "                                                                               'body'),\n",
       "                                                                              ('ss',\n",
       "                                                                               StandardScaler(),\n",
       "                                                                               ['score',\n",
       "                                                                                'word_length']),\n",
       "                                                                              ('ohe',\n",
       "                                                                               OneHotEncoder(sparse_output=False),\n",
       "                                                                               ['sent_label'])])),\n",
       "                                             ('rf'...\n",
       "                                                                     min_samples_leaf=4,\n",
       "                                                                     n_estimators=200))]),\n",
       "                   n_iter=150, n_jobs=-1,\n",
       "                   param_distributions={'ct__tfbg__bf': [0.01, 0.1, 0.2, 0.4],\n",
       "                                        'ct__tfbg__max_df': [0.7, 0.75, 0.8,\n",
       "                                                             0.99],\n",
       "                                        'ct__tfbg__max_features': [50000, 70000,\n",
       "                                                                   90000],\n",
       "                                        'ct__tfbg__min_df': [1, 2],\n",
       "                                        'rf__max_leaf_nodes': [500, 800, 1000,\n",
       "                                                               None],\n",
       "                                        'rf__min_samples_leaf': [1, 3, 4, 6],\n",
       "                                        'rf__n_estimators': [150, 200, 300, 400,\n",
       "                                                             600]},\n",
       "                   random_state=42)"
      ]
     },
     "execution_count": 492,
     "metadata": {},
     "output_type": "execute_result"
    }
   ],
   "source": [
    "rs_tree = RandomizedSearchCV(nlp_pipe, param_distributions=rs_params, n_jobs=-1, n_iter=150, cv=5, random_state=42)\n",
    "rs_tree.fit(X_train, y_train)"
   ]
  },
  {
   "cell_type": "code",
   "execution_count": 493,
   "id": "1a83d810-b3e1-4bcb-9b4c-5450e783c1f6",
   "metadata": {},
   "outputs": [
    {
     "name": "stdout",
     "output_type": "stream",
     "text": [
      "0.8173606092612152\n",
      "0.6309513883098474\n"
     ]
    }
   ],
   "source": [
    "print(rs_tree.score(X_train, y_train))\n",
    "print(rs_tree.score(X_test, y_test))"
   ]
  },
  {
   "cell_type": "code",
   "execution_count": 494,
   "id": "d7b75a36-cc1b-4a4b-bef7-d6e91694f538",
   "metadata": {},
   "outputs": [
    {
     "data": {
      "text/plain": [
       "{'rf__n_estimators': 300,\n",
       " 'rf__min_samples_leaf': 3,\n",
       " 'rf__max_leaf_nodes': 1000,\n",
       " 'ct__tfbg__min_df': 1,\n",
       " 'ct__tfbg__max_features': 90000,\n",
       " 'ct__tfbg__max_df': 0.7,\n",
       " 'ct__tfbg__bf': 0.4}"
      ]
     },
     "execution_count": 494,
     "metadata": {},
     "output_type": "execute_result"
    }
   ],
   "source": [
    "rs_tree.best_params_"
   ]
  },
  {
   "cell_type": "markdown",
   "id": "66022a0c-f7e5-4349-889a-761d006563d0",
   "metadata": {},
   "source": [
    "### 2.3) Stacking"
   ]
  },
  {
   "cell_type": "markdown",
   "id": "b3186ba4-1ad5-4fa4-94dd-34281c8510e1",
   "metadata": {},
   "source": [
    "I'm going to use some of the best_params_ that I found previously, especially for random forest"
   ]
  },
  {
   "cell_type": "code",
   "execution_count": 783,
   "id": "fcd5f6e2-b1b8-4a42-af27-0baf33b31371",
   "metadata": {},
   "outputs": [],
   "source": [
    "X = com_df[['body', 'score', 'word_length', 'freq_poster', 'sent_label']]\n",
    "y = com_df['subreddit']\n",
    "\n",
    "X_train, X_test, y_train, y_test = train_test_split(X, y, random_state=42)\n",
    "\n",
    "ct_lr = ColumnTransformer([\n",
    "    (\"tfbg\", Tfidf_BigramReducer(preprocessor=my_preprocessor, stop_words='english', bf=0.5, max_df=0.99, min_df=2, max_features=70_000), \"body\"),\n",
    "    (\"ss\", StandardScaler(), [\"score\", \"word_length\"]),\n",
    "    (\"ohe\", OneHotEncoder(sparse_output = False, drop ='first'), [\"sent_label\"])\n",
    "\n",
    "    ])\n",
    "\n",
    "ct_rf = ColumnTransformer([\n",
    "    (\"tfbg\", Tfidf_BigramReducer(preprocessor=my_preprocessor, stop_words='english', bf=0.4, min_df=1, max_df=0.7, max_features=90_000), \"body\"),\n",
    "    (\"ss\", StandardScaler(), [\"score\", \"word_length\"]),\n",
    "    (\"ohe\", OneHotEncoder(sparse_output = False, drop =None), [\"sent_label\"])\n",
    "    ])\n",
    "\n",
    "\n",
    "ct_nb = ColumnTransformer([\n",
    "    (\"tfbg\", Tfidf_BigramReducer(preprocessor=my_preprocessor, stop_words='english', bf=0.4, max_df=0.99, min_df=2, max_features=70_000), \"body\"),\n",
    "    (\"ss\", MinMaxScaler(), [\"score\", \"word_length\"]),\n",
    "    (\"ohe\", OneHotEncoder(sparse_output = False, drop ='first'), [\"sent_label\"])\n",
    "\n",
    "    ])"
   ]
  },
  {
   "cell_type": "code",
   "execution_count": 784,
   "id": "a53a6ac0-79d2-467c-9823-22e776947119",
   "metadata": {},
   "outputs": [],
   "source": [
    "model1 = Pipeline([ ('ct', ct_lr ),\n",
    "                    ('lr', LogisticRegression(solver='liblinear', C=1))\n",
    "                  ])\n",
    "\n",
    "model2 = Pipeline([ ('ct', ct_rf ),\n",
    "                    ('rf',RandomForestClassifier(min_samples_leaf=3, max_leaf_nodes=1000, max_depth=600, n_estimators=300)) \n",
    "                  ])\n",
    "\n",
    "model3= Pipeline([ ('ct', ct_nb ),\n",
    "                   ('nb', MultinomialNB()) \n",
    "                  ])\n"
   ]
  },
  {
   "cell_type": "code",
   "execution_count": 785,
   "id": "b1929d22-58ce-436a-a396-6a3b2063bc74",
   "metadata": {},
   "outputs": [],
   "source": [
    "# Create the model\n",
    "level1_estimators = [\n",
    "    ('m1', model1),\n",
    "    ('m2', model2),\n",
    "    ('m3', model3)\n",
    "]\n",
    "\n",
    "stacked_model = StackingClassifier(estimators=level1_estimators,\n",
    "                                 final_estimator=LogisticRegression())"
   ]
  },
  {
   "cell_type": "code",
   "execution_count": 786,
   "id": "69123e1a-cdb3-44b7-a3fd-f4a6b82908eb",
   "metadata": {},
   "outputs": [
    {
     "data": {
      "text/html": [
       "<style>#sk-container-id-117 {color: black;background-color: white;}#sk-container-id-117 pre{padding: 0;}#sk-container-id-117 div.sk-toggleable {background-color: white;}#sk-container-id-117 label.sk-toggleable__label {cursor: pointer;display: block;width: 100%;margin-bottom: 0;padding: 0.3em;box-sizing: border-box;text-align: center;}#sk-container-id-117 label.sk-toggleable__label-arrow:before {content: \"▸\";float: left;margin-right: 0.25em;color: #696969;}#sk-container-id-117 label.sk-toggleable__label-arrow:hover:before {color: black;}#sk-container-id-117 div.sk-estimator:hover label.sk-toggleable__label-arrow:before {color: black;}#sk-container-id-117 div.sk-toggleable__content {max-height: 0;max-width: 0;overflow: hidden;text-align: left;background-color: #f0f8ff;}#sk-container-id-117 div.sk-toggleable__content pre {margin: 0.2em;color: black;border-radius: 0.25em;background-color: #f0f8ff;}#sk-container-id-117 input.sk-toggleable__control:checked~div.sk-toggleable__content {max-height: 200px;max-width: 100%;overflow: auto;}#sk-container-id-117 input.sk-toggleable__control:checked~label.sk-toggleable__label-arrow:before {content: \"▾\";}#sk-container-id-117 div.sk-estimator input.sk-toggleable__control:checked~label.sk-toggleable__label {background-color: #d4ebff;}#sk-container-id-117 div.sk-label input.sk-toggleable__control:checked~label.sk-toggleable__label {background-color: #d4ebff;}#sk-container-id-117 input.sk-hidden--visually {border: 0;clip: rect(1px 1px 1px 1px);clip: rect(1px, 1px, 1px, 1px);height: 1px;margin: -1px;overflow: hidden;padding: 0;position: absolute;width: 1px;}#sk-container-id-117 div.sk-estimator {font-family: monospace;background-color: #f0f8ff;border: 1px dotted black;border-radius: 0.25em;box-sizing: border-box;margin-bottom: 0.5em;}#sk-container-id-117 div.sk-estimator:hover {background-color: #d4ebff;}#sk-container-id-117 div.sk-parallel-item::after {content: \"\";width: 100%;border-bottom: 1px solid gray;flex-grow: 1;}#sk-container-id-117 div.sk-label:hover label.sk-toggleable__label {background-color: #d4ebff;}#sk-container-id-117 div.sk-serial::before {content: \"\";position: absolute;border-left: 1px solid gray;box-sizing: border-box;top: 0;bottom: 0;left: 50%;z-index: 0;}#sk-container-id-117 div.sk-serial {display: flex;flex-direction: column;align-items: center;background-color: white;padding-right: 0.2em;padding-left: 0.2em;position: relative;}#sk-container-id-117 div.sk-item {position: relative;z-index: 1;}#sk-container-id-117 div.sk-parallel {display: flex;align-items: stretch;justify-content: center;background-color: white;position: relative;}#sk-container-id-117 div.sk-item::before, #sk-container-id-117 div.sk-parallel-item::before {content: \"\";position: absolute;border-left: 1px solid gray;box-sizing: border-box;top: 0;bottom: 0;left: 50%;z-index: -1;}#sk-container-id-117 div.sk-parallel-item {display: flex;flex-direction: column;z-index: 1;position: relative;background-color: white;}#sk-container-id-117 div.sk-parallel-item:first-child::after {align-self: flex-end;width: 50%;}#sk-container-id-117 div.sk-parallel-item:last-child::after {align-self: flex-start;width: 50%;}#sk-container-id-117 div.sk-parallel-item:only-child::after {width: 0;}#sk-container-id-117 div.sk-dashed-wrapped {border: 1px dashed gray;margin: 0 0.4em 0.5em 0.4em;box-sizing: border-box;padding-bottom: 0.4em;background-color: white;}#sk-container-id-117 div.sk-label label {font-family: monospace;font-weight: bold;display: inline-block;line-height: 1.2em;}#sk-container-id-117 div.sk-label-container {text-align: center;}#sk-container-id-117 div.sk-container {/* jupyter's `normalize.less` sets `[hidden] { display: none; }` but bootstrap.min.css set `[hidden] { display: none !important; }` so we also need the `!important` here to be able to override the default hidden behavior on the sphinx rendered scikit-learn.org. See: https://github.com/scikit-learn/scikit-learn/issues/21755 */display: inline-block !important;position: relative;}#sk-container-id-117 div.sk-text-repr-fallback {display: none;}</style><div id=\"sk-container-id-117\" class=\"sk-top-container\"><div class=\"sk-text-repr-fallback\"><pre>StackingClassifier(estimators=[(&#x27;m1&#x27;,\n",
       "                                Pipeline(steps=[(&#x27;ct&#x27;,\n",
       "                                                 ColumnTransformer(transformers=[(&#x27;tfbg&#x27;,\n",
       "                                                                                  Tfidf_BigramReducer(bf=0.5,\n",
       "                                                                                                      max_df=0.99,\n",
       "                                                                                                      max_features=70000,\n",
       "                                                                                                      min_df=2,\n",
       "                                                                                                      preprocessor=&lt;function my_preprocessor at 0x7fd0401c58b0&gt;,\n",
       "                                                                                                      stop_words=&#x27;english&#x27;),\n",
       "                                                                                  &#x27;body&#x27;),\n",
       "                                                                                 (&#x27;ss&#x27;,\n",
       "                                                                                  StandardScaler(),\n",
       "                                                                                  [&#x27;score&#x27;,\n",
       "                                                                                   &#x27;word_length&#x27;]),\n",
       "                                                                                 (&#x27;ohe&#x27;,\n",
       "                                                                                  OneHotEncoder(drop=&#x27;first&#x27;,\n",
       "                                                                                                sparse_output=Fal...\n",
       "                                                 ColumnTransformer(transformers=[(&#x27;tfbg&#x27;,\n",
       "                                                                                  Tfidf_BigramReducer(bf=0.4,\n",
       "                                                                                                      max_df=0.99,\n",
       "                                                                                                      max_features=70000,\n",
       "                                                                                                      min_df=2,\n",
       "                                                                                                      preprocessor=&lt;function my_preprocessor at 0x7fd0401c58b0&gt;,\n",
       "                                                                                                      stop_words=&#x27;english&#x27;),\n",
       "                                                                                  &#x27;body&#x27;),\n",
       "                                                                                 (&#x27;ss&#x27;,\n",
       "                                                                                  MinMaxScaler(),\n",
       "                                                                                  [&#x27;score&#x27;,\n",
       "                                                                                   &#x27;word_length&#x27;]),\n",
       "                                                                                 (&#x27;ohe&#x27;,\n",
       "                                                                                  OneHotEncoder(drop=&#x27;first&#x27;,\n",
       "                                                                                                sparse_output=False),\n",
       "                                                                                  [&#x27;sent_label&#x27;])])),\n",
       "                                                (&#x27;nb&#x27;, MultinomialNB())]))],\n",
       "                   final_estimator=LogisticRegression())</pre><b>In a Jupyter environment, please rerun this cell to show the HTML representation or trust the notebook. <br />On GitHub, the HTML representation is unable to render, please try loading this page with nbviewer.org.</b></div><div class=\"sk-container\" hidden><div class=\"sk-item sk-dashed-wrapped\"><div class=\"sk-label-container\"><div class=\"sk-label sk-toggleable\"><input class=\"sk-toggleable__control sk-hidden--visually\" id=\"sk-estimator-id-1558\" type=\"checkbox\" ><label for=\"sk-estimator-id-1558\" class=\"sk-toggleable__label sk-toggleable__label-arrow\">StackingClassifier</label><div class=\"sk-toggleable__content\"><pre>StackingClassifier(estimators=[(&#x27;m1&#x27;,\n",
       "                                Pipeline(steps=[(&#x27;ct&#x27;,\n",
       "                                                 ColumnTransformer(transformers=[(&#x27;tfbg&#x27;,\n",
       "                                                                                  Tfidf_BigramReducer(bf=0.5,\n",
       "                                                                                                      max_df=0.99,\n",
       "                                                                                                      max_features=70000,\n",
       "                                                                                                      min_df=2,\n",
       "                                                                                                      preprocessor=&lt;function my_preprocessor at 0x7fd0401c58b0&gt;,\n",
       "                                                                                                      stop_words=&#x27;english&#x27;),\n",
       "                                                                                  &#x27;body&#x27;),\n",
       "                                                                                 (&#x27;ss&#x27;,\n",
       "                                                                                  StandardScaler(),\n",
       "                                                                                  [&#x27;score&#x27;,\n",
       "                                                                                   &#x27;word_length&#x27;]),\n",
       "                                                                                 (&#x27;ohe&#x27;,\n",
       "                                                                                  OneHotEncoder(drop=&#x27;first&#x27;,\n",
       "                                                                                                sparse_output=Fal...\n",
       "                                                 ColumnTransformer(transformers=[(&#x27;tfbg&#x27;,\n",
       "                                                                                  Tfidf_BigramReducer(bf=0.4,\n",
       "                                                                                                      max_df=0.99,\n",
       "                                                                                                      max_features=70000,\n",
       "                                                                                                      min_df=2,\n",
       "                                                                                                      preprocessor=&lt;function my_preprocessor at 0x7fd0401c58b0&gt;,\n",
       "                                                                                                      stop_words=&#x27;english&#x27;),\n",
       "                                                                                  &#x27;body&#x27;),\n",
       "                                                                                 (&#x27;ss&#x27;,\n",
       "                                                                                  MinMaxScaler(),\n",
       "                                                                                  [&#x27;score&#x27;,\n",
       "                                                                                   &#x27;word_length&#x27;]),\n",
       "                                                                                 (&#x27;ohe&#x27;,\n",
       "                                                                                  OneHotEncoder(drop=&#x27;first&#x27;,\n",
       "                                                                                                sparse_output=False),\n",
       "                                                                                  [&#x27;sent_label&#x27;])])),\n",
       "                                                (&#x27;nb&#x27;, MultinomialNB())]))],\n",
       "                   final_estimator=LogisticRegression())</pre></div></div></div><div class=\"sk-serial\"><div class=\"sk-item\"><div class=\"sk-parallel\"><div class=\"sk-parallel-item\"><div class=\"sk-item\"><div class=\"sk-label-container\"><div class=\"sk-label sk-toggleable\"><label>m1</label></div></div><div class=\"sk-serial\"><div class=\"sk-item\"><div class=\"sk-serial\"><div class=\"sk-item sk-dashed-wrapped\"><div class=\"sk-label-container\"><div class=\"sk-label sk-toggleable\"><input class=\"sk-toggleable__control sk-hidden--visually\" id=\"sk-estimator-id-1559\" type=\"checkbox\" ><label for=\"sk-estimator-id-1559\" class=\"sk-toggleable__label sk-toggleable__label-arrow\">ct: ColumnTransformer</label><div class=\"sk-toggleable__content\"><pre>ColumnTransformer(transformers=[(&#x27;tfbg&#x27;,\n",
       "                                 Tfidf_BigramReducer(bf=0.5, max_df=0.99,\n",
       "                                                     max_features=70000,\n",
       "                                                     min_df=2,\n",
       "                                                     preprocessor=&lt;function my_preprocessor at 0x7fd0401c58b0&gt;,\n",
       "                                                     stop_words=&#x27;english&#x27;),\n",
       "                                 &#x27;body&#x27;),\n",
       "                                (&#x27;ss&#x27;, StandardScaler(),\n",
       "                                 [&#x27;score&#x27;, &#x27;word_length&#x27;]),\n",
       "                                (&#x27;ohe&#x27;,\n",
       "                                 OneHotEncoder(drop=&#x27;first&#x27;,\n",
       "                                               sparse_output=False),\n",
       "                                 [&#x27;sent_label&#x27;])])</pre></div></div></div><div class=\"sk-parallel\"><div class=\"sk-parallel-item\"><div class=\"sk-item\"><div class=\"sk-label-container\"><div class=\"sk-label sk-toggleable\"><input class=\"sk-toggleable__control sk-hidden--visually\" id=\"sk-estimator-id-1560\" type=\"checkbox\" ><label for=\"sk-estimator-id-1560\" class=\"sk-toggleable__label sk-toggleable__label-arrow\">tfbg</label><div class=\"sk-toggleable__content\"><pre>body</pre></div></div></div><div class=\"sk-serial\"><div class=\"sk-item\"><div class=\"sk-estimator sk-toggleable\"><input class=\"sk-toggleable__control sk-hidden--visually\" id=\"sk-estimator-id-1561\" type=\"checkbox\" ><label for=\"sk-estimator-id-1561\" class=\"sk-toggleable__label sk-toggleable__label-arrow\">Tfidf_BigramReducer</label><div class=\"sk-toggleable__content\"><pre>Tfidf_BigramReducer(bf=0.5, max_df=0.99, max_features=70000, min_df=2,\n",
       "                    preprocessor=&lt;function my_preprocessor at 0x7fd0401c58b0&gt;,\n",
       "                    stop_words=&#x27;english&#x27;)</pre></div></div></div></div></div></div><div class=\"sk-parallel-item\"><div class=\"sk-item\"><div class=\"sk-label-container\"><div class=\"sk-label sk-toggleable\"><input class=\"sk-toggleable__control sk-hidden--visually\" id=\"sk-estimator-id-1562\" type=\"checkbox\" ><label for=\"sk-estimator-id-1562\" class=\"sk-toggleable__label sk-toggleable__label-arrow\">ss</label><div class=\"sk-toggleable__content\"><pre>[&#x27;score&#x27;, &#x27;word_length&#x27;]</pre></div></div></div><div class=\"sk-serial\"><div class=\"sk-item\"><div class=\"sk-estimator sk-toggleable\"><input class=\"sk-toggleable__control sk-hidden--visually\" id=\"sk-estimator-id-1563\" type=\"checkbox\" ><label for=\"sk-estimator-id-1563\" class=\"sk-toggleable__label sk-toggleable__label-arrow\">StandardScaler</label><div class=\"sk-toggleable__content\"><pre>StandardScaler()</pre></div></div></div></div></div></div><div class=\"sk-parallel-item\"><div class=\"sk-item\"><div class=\"sk-label-container\"><div class=\"sk-label sk-toggleable\"><input class=\"sk-toggleable__control sk-hidden--visually\" id=\"sk-estimator-id-1564\" type=\"checkbox\" ><label for=\"sk-estimator-id-1564\" class=\"sk-toggleable__label sk-toggleable__label-arrow\">ohe</label><div class=\"sk-toggleable__content\"><pre>[&#x27;sent_label&#x27;]</pre></div></div></div><div class=\"sk-serial\"><div class=\"sk-item\"><div class=\"sk-estimator sk-toggleable\"><input class=\"sk-toggleable__control sk-hidden--visually\" id=\"sk-estimator-id-1565\" type=\"checkbox\" ><label for=\"sk-estimator-id-1565\" class=\"sk-toggleable__label sk-toggleable__label-arrow\">OneHotEncoder</label><div class=\"sk-toggleable__content\"><pre>OneHotEncoder(drop=&#x27;first&#x27;, sparse_output=False)</pre></div></div></div></div></div></div></div></div><div class=\"sk-item\"><div class=\"sk-estimator sk-toggleable\"><input class=\"sk-toggleable__control sk-hidden--visually\" id=\"sk-estimator-id-1566\" type=\"checkbox\" ><label for=\"sk-estimator-id-1566\" class=\"sk-toggleable__label sk-toggleable__label-arrow\">LogisticRegression</label><div class=\"sk-toggleable__content\"><pre>LogisticRegression(C=1, solver=&#x27;liblinear&#x27;)</pre></div></div></div></div></div></div></div></div><div class=\"sk-parallel-item\"><div class=\"sk-item\"><div class=\"sk-label-container\"><div class=\"sk-label sk-toggleable\"><label>m2</label></div></div><div class=\"sk-serial\"><div class=\"sk-item\"><div class=\"sk-serial\"><div class=\"sk-item sk-dashed-wrapped\"><div class=\"sk-label-container\"><div class=\"sk-label sk-toggleable\"><input class=\"sk-toggleable__control sk-hidden--visually\" id=\"sk-estimator-id-1567\" type=\"checkbox\" ><label for=\"sk-estimator-id-1567\" class=\"sk-toggleable__label sk-toggleable__label-arrow\">ct: ColumnTransformer</label><div class=\"sk-toggleable__content\"><pre>ColumnTransformer(transformers=[(&#x27;tfbg&#x27;,\n",
       "                                 Tfidf_BigramReducer(bf=0.4, max_df=0.7,\n",
       "                                                     max_features=90000,\n",
       "                                                     preprocessor=&lt;function my_preprocessor at 0x7fd0401c58b0&gt;,\n",
       "                                                     stop_words=&#x27;english&#x27;),\n",
       "                                 &#x27;body&#x27;),\n",
       "                                (&#x27;ss&#x27;, StandardScaler(),\n",
       "                                 [&#x27;score&#x27;, &#x27;word_length&#x27;]),\n",
       "                                (&#x27;ohe&#x27;, OneHotEncoder(sparse_output=False),\n",
       "                                 [&#x27;sent_label&#x27;])])</pre></div></div></div><div class=\"sk-parallel\"><div class=\"sk-parallel-item\"><div class=\"sk-item\"><div class=\"sk-label-container\"><div class=\"sk-label sk-toggleable\"><input class=\"sk-toggleable__control sk-hidden--visually\" id=\"sk-estimator-id-1568\" type=\"checkbox\" ><label for=\"sk-estimator-id-1568\" class=\"sk-toggleable__label sk-toggleable__label-arrow\">tfbg</label><div class=\"sk-toggleable__content\"><pre>body</pre></div></div></div><div class=\"sk-serial\"><div class=\"sk-item\"><div class=\"sk-estimator sk-toggleable\"><input class=\"sk-toggleable__control sk-hidden--visually\" id=\"sk-estimator-id-1569\" type=\"checkbox\" ><label for=\"sk-estimator-id-1569\" class=\"sk-toggleable__label sk-toggleable__label-arrow\">Tfidf_BigramReducer</label><div class=\"sk-toggleable__content\"><pre>Tfidf_BigramReducer(bf=0.4, max_df=0.7, max_features=90000,\n",
       "                    preprocessor=&lt;function my_preprocessor at 0x7fd0401c58b0&gt;,\n",
       "                    stop_words=&#x27;english&#x27;)</pre></div></div></div></div></div></div><div class=\"sk-parallel-item\"><div class=\"sk-item\"><div class=\"sk-label-container\"><div class=\"sk-label sk-toggleable\"><input class=\"sk-toggleable__control sk-hidden--visually\" id=\"sk-estimator-id-1570\" type=\"checkbox\" ><label for=\"sk-estimator-id-1570\" class=\"sk-toggleable__label sk-toggleable__label-arrow\">ss</label><div class=\"sk-toggleable__content\"><pre>[&#x27;score&#x27;, &#x27;word_length&#x27;]</pre></div></div></div><div class=\"sk-serial\"><div class=\"sk-item\"><div class=\"sk-estimator sk-toggleable\"><input class=\"sk-toggleable__control sk-hidden--visually\" id=\"sk-estimator-id-1571\" type=\"checkbox\" ><label for=\"sk-estimator-id-1571\" class=\"sk-toggleable__label sk-toggleable__label-arrow\">StandardScaler</label><div class=\"sk-toggleable__content\"><pre>StandardScaler()</pre></div></div></div></div></div></div><div class=\"sk-parallel-item\"><div class=\"sk-item\"><div class=\"sk-label-container\"><div class=\"sk-label sk-toggleable\"><input class=\"sk-toggleable__control sk-hidden--visually\" id=\"sk-estimator-id-1572\" type=\"checkbox\" ><label for=\"sk-estimator-id-1572\" class=\"sk-toggleable__label sk-toggleable__label-arrow\">ohe</label><div class=\"sk-toggleable__content\"><pre>[&#x27;sent_label&#x27;]</pre></div></div></div><div class=\"sk-serial\"><div class=\"sk-item\"><div class=\"sk-estimator sk-toggleable\"><input class=\"sk-toggleable__control sk-hidden--visually\" id=\"sk-estimator-id-1573\" type=\"checkbox\" ><label for=\"sk-estimator-id-1573\" class=\"sk-toggleable__label sk-toggleable__label-arrow\">OneHotEncoder</label><div class=\"sk-toggleable__content\"><pre>OneHotEncoder(sparse_output=False)</pre></div></div></div></div></div></div></div></div><div class=\"sk-item\"><div class=\"sk-estimator sk-toggleable\"><input class=\"sk-toggleable__control sk-hidden--visually\" id=\"sk-estimator-id-1574\" type=\"checkbox\" ><label for=\"sk-estimator-id-1574\" class=\"sk-toggleable__label sk-toggleable__label-arrow\">RandomForestClassifier</label><div class=\"sk-toggleable__content\"><pre>RandomForestClassifier(max_depth=600, max_leaf_nodes=1000, min_samples_leaf=3,\n",
       "                       n_estimators=300)</pre></div></div></div></div></div></div></div></div><div class=\"sk-parallel-item\"><div class=\"sk-item\"><div class=\"sk-label-container\"><div class=\"sk-label sk-toggleable\"><label>m3</label></div></div><div class=\"sk-serial\"><div class=\"sk-item\"><div class=\"sk-serial\"><div class=\"sk-item sk-dashed-wrapped\"><div class=\"sk-label-container\"><div class=\"sk-label sk-toggleable\"><input class=\"sk-toggleable__control sk-hidden--visually\" id=\"sk-estimator-id-1575\" type=\"checkbox\" ><label for=\"sk-estimator-id-1575\" class=\"sk-toggleable__label sk-toggleable__label-arrow\">ct: ColumnTransformer</label><div class=\"sk-toggleable__content\"><pre>ColumnTransformer(transformers=[(&#x27;tfbg&#x27;,\n",
       "                                 Tfidf_BigramReducer(bf=0.4, max_df=0.99,\n",
       "                                                     max_features=70000,\n",
       "                                                     min_df=2,\n",
       "                                                     preprocessor=&lt;function my_preprocessor at 0x7fd0401c58b0&gt;,\n",
       "                                                     stop_words=&#x27;english&#x27;),\n",
       "                                 &#x27;body&#x27;),\n",
       "                                (&#x27;ss&#x27;, MinMaxScaler(),\n",
       "                                 [&#x27;score&#x27;, &#x27;word_length&#x27;]),\n",
       "                                (&#x27;ohe&#x27;,\n",
       "                                 OneHotEncoder(drop=&#x27;first&#x27;,\n",
       "                                               sparse_output=False),\n",
       "                                 [&#x27;sent_label&#x27;])])</pre></div></div></div><div class=\"sk-parallel\"><div class=\"sk-parallel-item\"><div class=\"sk-item\"><div class=\"sk-label-container\"><div class=\"sk-label sk-toggleable\"><input class=\"sk-toggleable__control sk-hidden--visually\" id=\"sk-estimator-id-1576\" type=\"checkbox\" ><label for=\"sk-estimator-id-1576\" class=\"sk-toggleable__label sk-toggleable__label-arrow\">tfbg</label><div class=\"sk-toggleable__content\"><pre>body</pre></div></div></div><div class=\"sk-serial\"><div class=\"sk-item\"><div class=\"sk-estimator sk-toggleable\"><input class=\"sk-toggleable__control sk-hidden--visually\" id=\"sk-estimator-id-1577\" type=\"checkbox\" ><label for=\"sk-estimator-id-1577\" class=\"sk-toggleable__label sk-toggleable__label-arrow\">Tfidf_BigramReducer</label><div class=\"sk-toggleable__content\"><pre>Tfidf_BigramReducer(bf=0.4, max_df=0.99, max_features=70000, min_df=2,\n",
       "                    preprocessor=&lt;function my_preprocessor at 0x7fd0401c58b0&gt;,\n",
       "                    stop_words=&#x27;english&#x27;)</pre></div></div></div></div></div></div><div class=\"sk-parallel-item\"><div class=\"sk-item\"><div class=\"sk-label-container\"><div class=\"sk-label sk-toggleable\"><input class=\"sk-toggleable__control sk-hidden--visually\" id=\"sk-estimator-id-1578\" type=\"checkbox\" ><label for=\"sk-estimator-id-1578\" class=\"sk-toggleable__label sk-toggleable__label-arrow\">ss</label><div class=\"sk-toggleable__content\"><pre>[&#x27;score&#x27;, &#x27;word_length&#x27;]</pre></div></div></div><div class=\"sk-serial\"><div class=\"sk-item\"><div class=\"sk-estimator sk-toggleable\"><input class=\"sk-toggleable__control sk-hidden--visually\" id=\"sk-estimator-id-1579\" type=\"checkbox\" ><label for=\"sk-estimator-id-1579\" class=\"sk-toggleable__label sk-toggleable__label-arrow\">MinMaxScaler</label><div class=\"sk-toggleable__content\"><pre>MinMaxScaler()</pre></div></div></div></div></div></div><div class=\"sk-parallel-item\"><div class=\"sk-item\"><div class=\"sk-label-container\"><div class=\"sk-label sk-toggleable\"><input class=\"sk-toggleable__control sk-hidden--visually\" id=\"sk-estimator-id-1580\" type=\"checkbox\" ><label for=\"sk-estimator-id-1580\" class=\"sk-toggleable__label sk-toggleable__label-arrow\">ohe</label><div class=\"sk-toggleable__content\"><pre>[&#x27;sent_label&#x27;]</pre></div></div></div><div class=\"sk-serial\"><div class=\"sk-item\"><div class=\"sk-estimator sk-toggleable\"><input class=\"sk-toggleable__control sk-hidden--visually\" id=\"sk-estimator-id-1581\" type=\"checkbox\" ><label for=\"sk-estimator-id-1581\" class=\"sk-toggleable__label sk-toggleable__label-arrow\">OneHotEncoder</label><div class=\"sk-toggleable__content\"><pre>OneHotEncoder(drop=&#x27;first&#x27;, sparse_output=False)</pre></div></div></div></div></div></div></div></div><div class=\"sk-item\"><div class=\"sk-estimator sk-toggleable\"><input class=\"sk-toggleable__control sk-hidden--visually\" id=\"sk-estimator-id-1582\" type=\"checkbox\" ><label for=\"sk-estimator-id-1582\" class=\"sk-toggleable__label sk-toggleable__label-arrow\">MultinomialNB</label><div class=\"sk-toggleable__content\"><pre>MultinomialNB()</pre></div></div></div></div></div></div></div></div></div></div><div class=\"sk-item\"><div class=\"sk-parallel\"><div class=\"sk-parallel-item\"><div class=\"sk-item\"><div class=\"sk-label-container\"><div class=\"sk-label sk-toggleable\"><label>final_estimator</label></div></div><div class=\"sk-serial\"><div class=\"sk-item\"><div class=\"sk-estimator sk-toggleable\"><input class=\"sk-toggleable__control sk-hidden--visually\" id=\"sk-estimator-id-1583\" type=\"checkbox\" ><label for=\"sk-estimator-id-1583\" class=\"sk-toggleable__label sk-toggleable__label-arrow\">LogisticRegression</label><div class=\"sk-toggleable__content\"><pre>LogisticRegression()</pre></div></div></div></div></div></div></div></div></div></div></div></div>"
      ],
      "text/plain": [
       "StackingClassifier(estimators=[('m1',\n",
       "                                Pipeline(steps=[('ct',\n",
       "                                                 ColumnTransformer(transformers=[('tfbg',\n",
       "                                                                                  Tfidf_BigramReducer(bf=0.5,\n",
       "                                                                                                      max_df=0.99,\n",
       "                                                                                                      max_features=70000,\n",
       "                                                                                                      min_df=2,\n",
       "                                                                                                      preprocessor=<function my_preprocessor at 0x7fd0401c58b0>,\n",
       "                                                                                                      stop_words='english'),\n",
       "                                                                                  'body'),\n",
       "                                                                                 ('ss',\n",
       "                                                                                  StandardScaler(),\n",
       "                                                                                  ['score',\n",
       "                                                                                   'word_length']),\n",
       "                                                                                 ('ohe',\n",
       "                                                                                  OneHotEncoder(drop='first',\n",
       "                                                                                                sparse_output=Fal...\n",
       "                                                 ColumnTransformer(transformers=[('tfbg',\n",
       "                                                                                  Tfidf_BigramReducer(bf=0.4,\n",
       "                                                                                                      max_df=0.99,\n",
       "                                                                                                      max_features=70000,\n",
       "                                                                                                      min_df=2,\n",
       "                                                                                                      preprocessor=<function my_preprocessor at 0x7fd0401c58b0>,\n",
       "                                                                                                      stop_words='english'),\n",
       "                                                                                  'body'),\n",
       "                                                                                 ('ss',\n",
       "                                                                                  MinMaxScaler(),\n",
       "                                                                                  ['score',\n",
       "                                                                                   'word_length']),\n",
       "                                                                                 ('ohe',\n",
       "                                                                                  OneHotEncoder(drop='first',\n",
       "                                                                                                sparse_output=False),\n",
       "                                                                                  ['sent_label'])])),\n",
       "                                                ('nb', MultinomialNB())]))],\n",
       "                   final_estimator=LogisticRegression())"
      ]
     },
     "execution_count": 786,
     "metadata": {},
     "output_type": "execute_result"
    }
   ],
   "source": [
    "stacked_model.fit(X_train, y_train)"
   ]
  },
  {
   "cell_type": "code",
   "execution_count": 787,
   "id": "de95f2f4-b307-4e12-91a0-167bf6d96e14",
   "metadata": {},
   "outputs": [
    {
     "data": {
      "text/plain": [
       "0.8518817054866863"
      ]
     },
     "execution_count": 787,
     "metadata": {},
     "output_type": "execute_result"
    }
   ],
   "source": [
    "stacked_model.score(X_train, y_train)"
   ]
  },
  {
   "cell_type": "code",
   "execution_count": 788,
   "id": "504d3fb3-181a-45e7-a25f-be1c44e373f1",
   "metadata": {},
   "outputs": [
    {
     "data": {
      "text/plain": [
       "0.6542149587259235"
      ]
     },
     "execution_count": 788,
     "metadata": {},
     "output_type": "execute_result"
    }
   ],
   "source": [
    "stacked_model.score(X_test, y_test)"
   ]
  },
  {
   "cell_type": "code",
   "execution_count": 789,
   "id": "4599d6ef-9e5e-4f78-9f7d-25178938f73d",
   "metadata": {},
   "outputs": [
    {
     "data": {
      "text/plain": [
       "array([[4.25966256e-03, 3.26790350e+00, 4.32152997e+00]])"
      ]
     },
     "execution_count": 789,
     "metadata": {},
     "output_type": "execute_result"
    }
   ],
   "source": [
    "stacked_model.final_estimator_.coef_"
   ]
  },
  {
   "cell_type": "markdown",
   "id": "f159fbfb-e9a4-44af-85e9-74f86599fe22",
   "metadata": {},
   "source": [
    "Let's save this model so we can investigate more in the modeling insights notebook"
   ]
  },
  {
   "cell_type": "code",
   "execution_count": 790,
   "id": "e3d59fb6-2132-49fc-853f-5badab6616ab",
   "metadata": {},
   "outputs": [],
   "source": [
    "#Commenting out to prevent unwanted overwriting\n",
    "with open('../pickled_models/stacked_model_comments.pkl', 'wb') as pickle_out:\n",
    "    pickle_out = pickle.dump(stacked_model, pickle_out)"
   ]
  },
  {
   "cell_type": "code",
   "execution_count": null,
   "id": "87d66a2e-fe59-4e96-b618-60c699796f0b",
   "metadata": {},
   "outputs": [],
   "source": []
  }
 ],
 "metadata": {
  "kernelspec": {
   "display_name": "Python 3",
   "language": "python",
   "name": "python3"
  },
  "language_info": {
   "codemirror_mode": {
    "name": "ipython",
    "version": 3
   },
   "file_extension": ".py",
   "mimetype": "text/x-python",
   "name": "python",
   "nbconvert_exporter": "python",
   "pygments_lexer": "ipython3",
   "version": "3.8.8"
  }
 },
 "nbformat": 4,
 "nbformat_minor": 5
}
