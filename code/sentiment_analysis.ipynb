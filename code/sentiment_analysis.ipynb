{
 "cells": [
  {
   "cell_type": "markdown",
   "id": "16a833d9-1715-4be6-9f73-0b9416e66ce7",
   "metadata": {},
   "source": [
    "# Sentiment Analysis\n",
    "\n",
    "This is the the 3rd notebook (out of 5) for <b>Project 3</b> of the GA Data Science Immersive<br>\n",
    "Notebook by: <b>Martijn de Vries</b><br>\n",
    "martijndevries91@gmail.com"
   ]
  },
  {
   "cell_type": "markdown",
   "id": "312ca803-a6d9-44e4-a946-5e9822ff27c8",
   "metadata": {},
   "source": [
    "## Problem Statement\n",
    "\n",
    "A US political consultancy company is researching how news sources and discussed topics differ between the US political mainstream and the conservative right-wing media. In the last decade or so, the US political right-wing has been more and more described as living in an entirely separate information ecosystem from the political mainstream. In order to gauge how intense this effect is, we will collect, process, and classify the Reddit content of two politically-themed subreddit that reflect the mainstream and conservative voters respectively: <b>r/politics</b> and <b>r/conservative</b>. \n",
    "\n",
    "For this project, we will build two separate branches of models: one for post submissions (largely consisting of links to news sites), and another for comments (consisting of actual Reddit users discussing political news). As this is a binary classification problem where the two classes are of equal interest and will be approximately balanced, we will use the accuracy score as the main metric to gauge the success of the classification model. \n",
    "\n",
    "Because political news is always evolving, we have chosen a specific moment in time: the month leading up to the 2022 midterms, October 6th to November 6th 2022. This ensures that 1) the same news cycle is covered for both subreddits, 2) both subreddits were at peak activity, and 3) maximum potential for interesting insights in the way that news is discussed within these two subreddits."
   ]
  },
  {
   "cell_type": "markdown",
   "id": "e93f7326-4c7a-4814-af37-2aecab585c28",
   "metadata": {},
   "source": [
    "## In this Notebook\n",
    "\n",
    "I run a sentiment analysis using the roBERTa base model (imported through the transformers package) on the comments of the subreddits.\n",
    "\n",
    "I'm keeping this step in a separate notebook because the necessary package, transformers, doesn't work in my default Python environment. So I've set up a separate conda environment for this package to work. \n",
    "\n",
    "The output is saved to a new csv in the data directory, all_comments_sentiment.csv"
   ]
  },
  {
   "cell_type": "code",
   "execution_count": 1,
   "id": "741eabe4-ee00-4687-8ffe-e8748921fca9",
   "metadata": {},
   "outputs": [],
   "source": [
    "import pandas as pd\n",
    "import numpy as np\n",
    "import matplotlib.pyplot as plt\n",
    "import seaborn as sns"
   ]
  },
  {
   "cell_type": "code",
   "execution_count": null,
   "id": "beaaacb5-abc7-4c0b-90e4-6019ea1506e7",
   "metadata": {},
   "outputs": [],
   "source": [
    "from transformers import pipeline"
   ]
  },
  {
   "cell_type": "code",
   "execution_count": 2,
   "id": "2349d4fd-398c-4b13-ab1e-5dd956c0bb93",
   "metadata": {},
   "outputs": [],
   "source": [
    "#Picking this model because it was trained on tweets, which seems somewhat similar to the short nature of many comments\n",
    "sent = pipeline(model='cardiffnlp/twitter-roberta-base-sentiment')"
   ]
  },
  {
   "cell_type": "markdown",
   "id": "7a06fe28-392d-4b86-a52c-a82fb6c2c0c5",
   "metadata": {},
   "source": [
    "For the sentiment analysis, I want to focus on comments as these are (primarily) text from actual people typing out things, rather than just news headlines."
   ]
  },
  {
   "cell_type": "code",
   "execution_count": 10,
   "id": "abdeeea7-ce30-41a0-8e8f-5bc74b7157e4",
   "metadata": {},
   "outputs": [
    {
     "name": "stdout",
     "output_type": "stream",
     "text": [
      "47972\n"
     ]
    }
   ],
   "source": [
    "com_df = pd.read_csv('../data/all_comments_cleaned.csv')\n",
    "comments = com_df['body'].tolist()\n",
    "print(len(comments))"
   ]
  },
  {
   "cell_type": "markdown",
   "id": "c71a73df-29ea-40f9-90ca-0ece33c7a49b",
   "metadata": {},
   "source": [
    "The sentiment analyzer is not super quick. Running through all 48000 comments is going to take a while..\n",
    "Additionally, it seems that I get RuntimeErrors for long comments. So I'm adding a control flow statement that if the comment is too long (>1000 characters), I'm just cutting it off.\n",
    "\n",
    "I'm also adding a try + except, because even with shorter comments there are a few comments with weird formatting that mess it up. I'll also make it write out to a csv every so often to save progress just in case.\n",
    "\n",
    "Note, this step took about 4hrs to run on my macbook. I made it skippable - further below, in the 'Sentiment EDA' section, I load the CSV with sentiment labels and scores in t"
   ]
  },
  {
   "cell_type": "code",
   "execution_count": 4,
   "id": "bcb52c0a-5029-4905-8b33-c965072db15f",
   "metadata": {},
   "outputs": [],
   "source": [
    "def save_to_df(com_df, l1, l2):\n",
    "\n",
    "    rows_to_add = com_df.shape[0] - len(l1)\n",
    "\n",
    "    l1_to_save = l1 + [0] * rows_to_add\n",
    "    l2_to_save = l2 + [0] * rows_to_add\n",
    "\n",
    "    com_df['sent_label'] = l1_to_save\n",
    "    com_df['sent_score'] = l2_to_save\n",
    "    #Now that I have all sentiment labels and scores, commenting out this line to not accidentally overwrite\n",
    "    #com_df.to_csv('../data/all_comments_sentiment.csv')\n",
    "    return"
   ]
  },
  {
   "cell_type": "code",
   "execution_count": 5,
   "id": "c81b24c2-3b08-44ce-b316-95af07c3d2f8",
   "metadata": {
    "scrolled": true,
    "tags": []
   },
   "outputs": [
    {
     "name": "stdout",
     "output_type": "stream",
     "text": [
      "0\n",
      "500\n",
      "1000\n",
      "1500\n",
      "2000\n",
      "2500\n",
      "3000\n",
      "3500\n",
      "4000\n",
      "4500\n",
      "5000\n",
      "5500\n",
      "6000\n",
      "6500\n",
      "7000\n",
      "7500\n",
      "8000\n",
      "8500\n",
      "9000\n",
      "9500\n",
      "10000\n",
      "10500\n",
      "11000\n",
      "11500\n",
      "12000\n",
      "12500\n",
      "13000\n",
      "13500\n",
      "14000\n",
      "14500\n",
      "15000\n",
      "15500\n",
      "16000\n",
      "16500\n",
      "17000\n",
      "17500\n",
      "18000\n",
      "18500\n",
      "19000\n",
      "19500\n",
      "20000\n",
      "20500\n",
      "21000\n",
      "21500\n",
      "22000\n",
      "22500\n",
      "23000\n",
      "23500\n",
      "24000\n",
      "24500\n",
      "25000\n",
      "25500\n",
      "26000\n",
      "26500\n",
      "27000\n",
      "27500\n",
      "28000\n",
      "28500\n",
      "29000\n",
      "29500\n",
      "30000\n",
      "30500\n",
      "31000\n",
      "31500\n",
      "32000\n",
      "32500\n",
      "33000\n",
      "33500\n",
      "34000\n",
      "34500\n",
      "35000\n",
      "35500\n",
      "36000\n",
      "36500\n",
      "37000\n",
      "37500\n",
      "38000\n",
      "38500\n",
      "39000\n",
      "39500\n",
      "40000\n",
      "40500\n",
      "41000\n",
      "41500\n",
      "42000\n",
      "42500\n",
      "43000\n",
      "43500\n",
      "44000\n",
      "44500\n",
      "45000\n",
      "45500\n",
      "46000\n",
      "46500\n",
      "47000\n",
      "47500\n"
     ]
    }
   ],
   "source": [
    "sent_label, sent_score = [], []\n",
    "for i in range(len(comments)):\n",
    "\n",
    "    if i%500==0:print(i)\n",
    "    comment = comments[i]\n",
    "    if len(comment) > 1000:\n",
    "        comment = comment[:1000]\n",
    "    try:\n",
    "        sentiment = sent(comment)\n",
    "        sent_label.append(sentiment[0]['label'])\n",
    "        sent_score.append(round(sentiment[0]['score'], 4))\n",
    "    except: \n",
    "        sent_label.append(np.nan)\n",
    "        sent_score.append(np.nan)\n",
    "    if i%100==0:\n",
    "        save_to_df(com_df, sent_label, sent_score)"
   ]
  },
  {
   "cell_type": "code",
   "execution_count": 11,
   "id": "56a7cd26-2fd5-4075-9075-517fdd12382e",
   "metadata": {},
   "outputs": [],
   "source": [
    "#save full output (commented out to not overwrite my file by accident)\n",
    "#com_df['sent_label'] = sent_label\n",
    "#com_df['sent_score'] = sent_score\n",
    "#com_df.to_csv('../data/all_comments_sentiment.csv')"
   ]
  },
  {
   "cell_type": "markdown",
   "id": "00af5739-5d4b-43c2-934c-f63eed340204",
   "metadata": {},
   "source": [
    "### Sentiment EDA\n",
    "\n",
    "Skip to this step to avoid running the full sentiment analysis. Let's load the new dataframe with sentiment scores"
   ]
  },
  {
   "cell_type": "code",
   "execution_count": 7,
   "id": "fc663835-0232-4e17-b5fa-966ece391364",
   "metadata": {},
   "outputs": [],
   "source": [
    "com_df = pd.read_csv('../data/all_comments_sentiment.csv')"
   ]
  },
  {
   "cell_type": "markdown",
   "id": "b580302f-62f6-4f99-8bd1-3e911658ca22",
   "metadata": {},
   "source": [
    "How many NaN values did I get in the end?"
   ]
  },
  {
   "cell_type": "code",
   "execution_count": 9,
   "id": "0f042b8c-ac9a-4001-9dd8-1eafa201f3a6",
   "metadata": {},
   "outputs": [
    {
     "data": {
      "text/plain": [
       "sent_label    0\n",
       "sent_score    0\n",
       "dtype: int64"
      ]
     },
     "execution_count": 9,
     "metadata": {},
     "output_type": "execute_result"
    }
   ],
   "source": [
    "com_df[['sent_label', 'sent_score']].isna().sum()"
   ]
  },
  {
   "cell_type": "markdown",
   "id": "e0dc06ad-2040-4016-bbe4-577198ce9613",
   "metadata": {},
   "source": [
    "Let's get rid of this one row"
   ]
  },
  {
   "cell_type": "code",
   "execution_count": 10,
   "id": "1658541f-e645-4601-838a-a7b4cc59b011",
   "metadata": {},
   "outputs": [
    {
     "data": {
      "text/plain": [
       "sent_label    0\n",
       "sent_score    0\n",
       "dtype: int64"
      ]
     },
     "execution_count": 10,
     "metadata": {},
     "output_type": "execute_result"
    }
   ],
   "source": [
    "com_df.dropna(subset=['sent_label', 'sent_score'], inplace=True)\n",
    "com_df[['sent_label', 'sent_score']].isna().sum()"
   ]
  },
  {
   "cell_type": "markdown",
   "id": "9bda77d9-86e3-4ecc-96ef-fbe7543f69ab",
   "metadata": {},
   "source": [
    "Great! Now let's do some EDA to see how predictive sentiments might be of which subreddit the comment comes from"
   ]
  },
  {
   "cell_type": "code",
   "execution_count": 11,
   "id": "ba818dfc-e5d1-4dfd-b377-4fb39825f89b",
   "metadata": {},
   "outputs": [],
   "source": [
    "#to normalize the number of posts under each label, for each subreddit\n",
    "nl = com_df['subreddit'].value_counts().tolist()\n",
    "norm_arr = np.array([nl[1]]*3 + [nl[0]]*3) "
   ]
  },
  {
   "cell_type": "code",
   "execution_count": 12,
   "id": "b0efd7f4-af00-4156-82c4-47b78b9b4879",
   "metadata": {},
   "outputs": [
    {
     "name": "stdout",
     "output_type": "stream",
     "text": [
      "Percentage of negative/neutral/positive (label 0/1/2) posts within each subreddit:\n"
     ]
    },
    {
     "data": {
      "text/plain": [
       "subreddit     sent_label\n",
       "conservative  LABEL_0       0.551885\n",
       "              LABEL_1       0.365796\n",
       "              LABEL_2       0.082319\n",
       "politics      LABEL_0       0.595269\n",
       "              LABEL_1       0.337018\n",
       "              LABEL_2       0.067713\n",
       "dtype: float64"
      ]
     },
     "execution_count": 12,
     "metadata": {},
     "output_type": "execute_result"
    }
   ],
   "source": [
    "print('Percentage of negative/neutral/positive (label 0/1/2) posts within each subreddit:')\n",
    "com_df[['subreddit','sent_label']].groupby(by='subreddit').value_counts()/norm_arr"
   ]
  },
  {
   "cell_type": "markdown",
   "id": "48d7e221-f850-4af8-8cf9-6876606a6169",
   "metadata": {},
   "source": [
    "There are some differences but they are not as big as I had hoped. The conservative subreddit has more neutral and positive sentiment comments (labels 1 and 2), while the politics subreddit has slightly more negative comments (label 0).\n",
    "What if we look at score?"
   ]
  },
  {
   "cell_type": "code",
   "execution_count": 13,
   "id": "628aa8dd-047e-461d-bc93-514620f36077",
   "metadata": {},
   "outputs": [],
   "source": [
    "neg = com_df[com_df['sent_label'] == 'LABEL_0']\n",
    "neutral =  com_df[com_df['sent_label'] == 'LABEL_1']\n",
    "pos = com_df[com_df['sent_label'] == 'LABEL_2']"
   ]
  },
  {
   "cell_type": "code",
   "execution_count": 14,
   "id": "cba42b1d-0aed-4908-9fb4-57e225e6c97d",
   "metadata": {},
   "outputs": [
    {
     "name": "stdout",
     "output_type": "stream",
     "text": [
      "mean negative score\n"
     ]
    },
    {
     "data": {
      "text/html": [
       "<div>\n",
       "<style scoped>\n",
       "    .dataframe tbody tr th:only-of-type {\n",
       "        vertical-align: middle;\n",
       "    }\n",
       "\n",
       "    .dataframe tbody tr th {\n",
       "        vertical-align: top;\n",
       "    }\n",
       "\n",
       "    .dataframe thead th {\n",
       "        text-align: right;\n",
       "    }\n",
       "</style>\n",
       "<table border=\"1\" class=\"dataframe\">\n",
       "  <thead>\n",
       "    <tr style=\"text-align: right;\">\n",
       "      <th></th>\n",
       "      <th>sent_score</th>\n",
       "    </tr>\n",
       "    <tr>\n",
       "      <th>subreddit</th>\n",
       "      <th></th>\n",
       "    </tr>\n",
       "  </thead>\n",
       "  <tbody>\n",
       "    <tr>\n",
       "      <th>conservative</th>\n",
       "      <td>0.749887</td>\n",
       "    </tr>\n",
       "    <tr>\n",
       "      <th>politics</th>\n",
       "      <td>0.756227</td>\n",
       "    </tr>\n",
       "  </tbody>\n",
       "</table>\n",
       "</div>"
      ],
      "text/plain": [
       "              sent_score\n",
       "subreddit               \n",
       "conservative    0.749887\n",
       "politics        0.756227"
      ]
     },
     "metadata": {},
     "output_type": "display_data"
    },
    {
     "name": "stdout",
     "output_type": "stream",
     "text": [
      "-----\n",
      "mean neutral score\n"
     ]
    },
    {
     "data": {
      "text/html": [
       "<div>\n",
       "<style scoped>\n",
       "    .dataframe tbody tr th:only-of-type {\n",
       "        vertical-align: middle;\n",
       "    }\n",
       "\n",
       "    .dataframe tbody tr th {\n",
       "        vertical-align: top;\n",
       "    }\n",
       "\n",
       "    .dataframe thead th {\n",
       "        text-align: right;\n",
       "    }\n",
       "</style>\n",
       "<table border=\"1\" class=\"dataframe\">\n",
       "  <thead>\n",
       "    <tr style=\"text-align: right;\">\n",
       "      <th></th>\n",
       "      <th>sent_score</th>\n",
       "    </tr>\n",
       "    <tr>\n",
       "      <th>subreddit</th>\n",
       "      <th></th>\n",
       "    </tr>\n",
       "  </thead>\n",
       "  <tbody>\n",
       "    <tr>\n",
       "      <th>conservative</th>\n",
       "      <td>0.635265</td>\n",
       "    </tr>\n",
       "    <tr>\n",
       "      <th>politics</th>\n",
       "      <td>0.628790</td>\n",
       "    </tr>\n",
       "  </tbody>\n",
       "</table>\n",
       "</div>"
      ],
      "text/plain": [
       "              sent_score\n",
       "subreddit               \n",
       "conservative    0.635265\n",
       "politics        0.628790"
      ]
     },
     "metadata": {},
     "output_type": "display_data"
    },
    {
     "name": "stdout",
     "output_type": "stream",
     "text": [
      "-----\n",
      "mean positive score\n"
     ]
    },
    {
     "data": {
      "text/html": [
       "<div>\n",
       "<style scoped>\n",
       "    .dataframe tbody tr th:only-of-type {\n",
       "        vertical-align: middle;\n",
       "    }\n",
       "\n",
       "    .dataframe tbody tr th {\n",
       "        vertical-align: top;\n",
       "    }\n",
       "\n",
       "    .dataframe thead th {\n",
       "        text-align: right;\n",
       "    }\n",
       "</style>\n",
       "<table border=\"1\" class=\"dataframe\">\n",
       "  <thead>\n",
       "    <tr style=\"text-align: right;\">\n",
       "      <th></th>\n",
       "      <th>sent_score</th>\n",
       "    </tr>\n",
       "    <tr>\n",
       "      <th>subreddit</th>\n",
       "      <th></th>\n",
       "    </tr>\n",
       "  </thead>\n",
       "  <tbody>\n",
       "    <tr>\n",
       "      <th>conservative</th>\n",
       "      <td>0.735867</td>\n",
       "    </tr>\n",
       "    <tr>\n",
       "      <th>politics</th>\n",
       "      <td>0.725943</td>\n",
       "    </tr>\n",
       "  </tbody>\n",
       "</table>\n",
       "</div>"
      ],
      "text/plain": [
       "              sent_score\n",
       "subreddit               \n",
       "conservative    0.735867\n",
       "politics        0.725943"
      ]
     },
     "metadata": {},
     "output_type": "display_data"
    }
   ],
   "source": [
    "print('mean negative score')\n",
    "display(neg[['subreddit','sent_score']].groupby(by='subreddit').mean())\n",
    "print('-----')\n",
    "print('mean neutral score')\n",
    "display(neutral[['subreddit','sent_score']].groupby(by='subreddit').mean())\n",
    "print('-----')\n",
    "print('mean positive score')\n",
    "display(pos[['subreddit','sent_score']].groupby(by='subreddit').mean())"
   ]
  },
  {
   "cell_type": "markdown",
   "id": "de85075f-8256-4fc9-9c98-ce40807b7661",
   "metadata": {},
   "source": [
    "That looks pretty similar. As a final check, I'll plot the distributions"
   ]
  },
  {
   "cell_type": "code",
   "execution_count": 15,
   "id": "aca7d224-88af-48a1-8683-fa18e87580d9",
   "metadata": {},
   "outputs": [
    {
     "data": {
      "image/png": "[encoded data removed]",
      "text/plain": [
       "<Figure size 1800x600 with 3 Axes>"
      ]
     },
     "metadata": {},
     "output_type": "display_data"
    }
   ],
   "source": [
    "fig, axes = plt.subplots(1,3, figsize=(18, 6))\n",
    "em_list = [neg, neutral, pos]\n",
    "em_labels = ['Negative', 'Neutral', 'Positive']\n",
    "linbins = np.linspace(0.35, 1, 25)\n",
    "for i, em in enumerate(em_list):\n",
    "    axes[i].hist(em[em['subreddit'] == 'politics']['sent_score'], bins=linbins, histtype='step', \\\n",
    "                 color='tab:blue', linewidth=3, density=True, label='r/politics')\n",
    "    axes[i].hist(em[em['subreddit'] == 'conservative']['sent_score'], bins=linbins, histtype='step',\\\n",
    "                 color='tab:red', linewidth=3, density=True, label='r/conservative')\n",
    "    axes[i].legend(numpoints=1, frameon=False, fontsize=14)\n",
    "    axes[i].set_xlabel('Sentiment Score', fontsize=14)\n",
    "    axes[i].set_ylabel('Frequency (normalized)', fontsize=14)\n",
    "    axes[i].set_title(f'{em_labels[i]} sentiment scores', fontsize=14, fontweight='bold')\n",
    "plt.show()"
   ]
  },
  {
   "cell_type": "markdown",
   "id": "bfa78ff9-8773-4ff3-9519-daad849a3174",
   "metadata": {},
   "source": [
    "Those scores are so similar that I don't think it's worth including them. I will include the labels though (negative/neutral/positive)."
   ]
  },
  {
   "cell_type": "code",
   "execution_count": 16,
   "id": "5810eef6-0b3d-4499-9e20-93f32875bc27",
   "metadata": {},
   "outputs": [],
   "source": [
    "#save to csv one more time to get rid of that one nan row\n",
    "com_df.to_csv('../data/all_comments_sentiment.csv', index=False)"
   ]
  },
  {
   "cell_type": "code",
   "execution_count": null,
   "id": "6103a3cf-b7d4-44c9-97d9-e0582a8c7ce2",
   "metadata": {},
   "outputs": [],
   "source": []
  }
 ],
 "metadata": {
  "kernelspec": {
   "display_name": "Python 3 (ipykernel)",
   "language": "python",
   "name": "python3"
  },
  "language_info": {
   "codemirror_mode": {
    "name": "ipython",
    "version": 3
   },
   "file_extension": ".py",
   "mimetype": "text/x-python",
   "name": "python",
   "nbconvert_exporter": "python",
   "pygments_lexer": "ipython3",
   "version": "3.8.8"
  }
 },
 "nbformat": 4,
 "nbformat_minor": 5
}
