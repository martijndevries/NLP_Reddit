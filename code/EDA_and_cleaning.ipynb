{
 "cells": [
  {
   "cell_type": "markdown",
   "id": "3700989b-af5a-46ba-9ed3-64fe05301f92",
   "metadata": {},
   "source": [
    "# EDA and cleaning\n",
    "\n",
    "This is notebook 2 (out of 5) for <b>Project 3</b> of the GA Data Science Immersive<br>\n",
    "Notebook by: <b>Martijn de Vries</b><br>\n",
    "martijndevries91@gmail.com"
   ]
  },
  {
   "cell_type": "markdown",
   "id": "43ef4d90-9ebd-4d2a-a71b-98cc8460d783",
   "metadata": {},
   "source": [
    "## Problem Statement\n",
    "\n",
    "A US political consultancy company is researching how news sources and discussed topics differ between the US political mainstream and the conservative right-wing media. In the last decade or so, the US political right-wing has been increasingly described as living in an entirely separate information ecosystem from the political mainstream. In order to gauge how intense this effect is, we will collect, process, and classify the Reddit content of two politically-themed subreddit that reflect the mainstream and conservative voters respectively: <b>r/politics</b> and <b>r/conservative</b>. \n",
    "\n",
    "For this project, we will build two separate branches of models: one for post submissions (largely consisting of links to news sites), and another for comments (consisting of actual Reddit users discussing political news). As this is a binary classification problem where the two classes are of equal interest and will be approximately balanced, we will use the accuracy score as the main metric to gauge the success of the classification model. \n",
    "\n",
    "Because political news is always evolving, we have chosen a specific moment in time: the month leading up to the 2022 midterms, October 6th to November 6th 2022. This ensures that 1) the same news cycle is covered for both subreddits, 2) both subreddits were at peak activity, and 3) maximum potential for interesting insights in the way that news is discussed within these two subreddits."
   ]
  },
  {
   "cell_type": "markdown",
   "id": "cb8c370f-2aeb-4d8c-a3b6-e768f2eb84ce",
   "metadata": {},
   "source": [
    "## This Notebook\n",
    "\n",
    "Is divided into two sections: the first section is for posts, the second section is for comments. For each of the two, I will \n",
    "1) Do some cleaning (deleting duplicates, deleting identifying information, deleting non-english posts)\n",
    "2) do some EDA related to eg. word frequency\n",
    "3) engineer additional features that might help the classification model\n",
    "4) save the results to two cleaned files in the data directory: all_submissions_cleaned.csv and all_comments_cleaned.csv."
   ]
  },
  {
   "cell_type": "code",
   "execution_count": 1,
   "id": "f2012952-d5d5-4001-be20-02944d30f98f",
   "metadata": {},
   "outputs": [],
   "source": [
    "import pandas as pd\n",
    "import numpy as np\n",
    "import matplotlib.pyplot as plt\n",
    "\n",
    "\"\"\"\n",
    "Note: on my machine I needed to do \n",
    "$ pip install emoji==1.7 \n",
    "to get the emoji package to work. See also:\n",
    "https://stackoverflow.com/questions/73108683/getting-error-cannot-import-name-unicode-emoji-from-emoji-unicode-codes\n",
    "\"\"\"\n",
    "from emoji import UNICODE_EMOJI\n",
    "\n",
    "#sklearn\n",
    "from sklearn.feature_extraction.text import CountVectorizer"
   ]
  },
  {
   "cell_type": "markdown",
   "id": "b867bcd0-f4f4-4109-938a-1ba9718769f8",
   "metadata": {},
   "source": [
    "## 1) EDA and cleaning: posts\n",
    "\n",
    "Let's get a more in-depth look at what submissions look like"
   ]
  },
  {
   "cell_type": "code",
   "execution_count": 2,
   "id": "357ecd4b-9532-4cf5-bf09-cb948db2b22a",
   "metadata": {},
   "outputs": [
    {
     "data": {
      "text/html": [
       "<div>\n",
       "<style scoped>\n",
       "    .dataframe tbody tr th:only-of-type {\n",
       "        vertical-align: middle;\n",
       "    }\n",
       "\n",
       "    .dataframe tbody tr th {\n",
       "        vertical-align: top;\n",
       "    }\n",
       "\n",
       "    .dataframe thead th {\n",
       "        text-align: right;\n",
       "    }\n",
       "</style>\n",
       "<table border=\"1\" class=\"dataframe\">\n",
       "  <thead>\n",
       "    <tr style=\"text-align: right;\">\n",
       "      <th></th>\n",
       "      <th>created_utc</th>\n",
       "      <th>title</th>\n",
       "      <th>selftext</th>\n",
       "      <th>url</th>\n",
       "      <th>num_comments</th>\n",
       "      <th>upvote_ratio</th>\n",
       "      <th>subreddit</th>\n",
       "    </tr>\n",
       "    <tr>\n",
       "      <th>id</th>\n",
       "      <th></th>\n",
       "      <th></th>\n",
       "      <th></th>\n",
       "      <th></th>\n",
       "      <th></th>\n",
       "      <th></th>\n",
       "      <th></th>\n",
       "    </tr>\n",
       "  </thead>\n",
       "  <tbody>\n",
       "    <tr>\n",
       "      <th>xylvpq</th>\n",
       "      <td>1665212044</td>\n",
       "      <td>Editorial: Hey, QAnon — Texas had an actual ch...</td>\n",
       "      <td>NaN</td>\n",
       "      <td>https://www.houstonchronicle.com/opinion/edito...</td>\n",
       "      <td>688</td>\n",
       "      <td>0.97</td>\n",
       "      <td>politics</td>\n",
       "    </tr>\n",
       "    <tr>\n",
       "      <th>xylh3y</th>\n",
       "      <td>1665210574</td>\n",
       "      <td>Sanders: Biden’s Marijuana Pardons Are Good — ...</td>\n",
       "      <td>NaN</td>\n",
       "      <td>https://truthout.org/articles/sanders-bidens-m...</td>\n",
       "      <td>269</td>\n",
       "      <td>0.97</td>\n",
       "      <td>politics</td>\n",
       "    </tr>\n",
       "    <tr>\n",
       "      <th>xyla6d</th>\n",
       "      <td>1665209886</td>\n",
       "      <td>Elon Musk suggests making Taiwan a ‘special ad...</td>\n",
       "      <td>[removed]</td>\n",
       "      <td>NaN</td>\n",
       "      <td>24</td>\n",
       "      <td>0.26</td>\n",
       "      <td>politics</td>\n",
       "    </tr>\n",
       "    <tr>\n",
       "      <th>xykwzh</th>\n",
       "      <td>1665208590</td>\n",
       "      <td>Anyone else in Chicago noticing how Fox News k...</td>\n",
       "      <td>[removed]</td>\n",
       "      <td>NaN</td>\n",
       "      <td>1</td>\n",
       "      <td>1.00</td>\n",
       "      <td>politics</td>\n",
       "    </tr>\n",
       "    <tr>\n",
       "      <th>xykox1</th>\n",
       "      <td>1665207791</td>\n",
       "      <td>Urfi wore a bold saree! Spread the flames of h...</td>\n",
       "      <td>NaN</td>\n",
       "      <td>https://countryconnect.in/entertainment-news/u...</td>\n",
       "      <td>1</td>\n",
       "      <td>1.00</td>\n",
       "      <td>politics</td>\n",
       "    </tr>\n",
       "  </tbody>\n",
       "</table>\n",
       "</div>"
      ],
      "text/plain": [
       "        created_utc                                              title  \\\n",
       "id                                                                       \n",
       "xylvpq   1665212044  Editorial: Hey, QAnon — Texas had an actual ch...   \n",
       "xylh3y   1665210574  Sanders: Biden’s Marijuana Pardons Are Good — ...   \n",
       "xyla6d   1665209886  Elon Musk suggests making Taiwan a ‘special ad...   \n",
       "xykwzh   1665208590  Anyone else in Chicago noticing how Fox News k...   \n",
       "xykox1   1665207791  Urfi wore a bold saree! Spread the flames of h...   \n",
       "\n",
       "         selftext                                                url  \\\n",
       "id                                                                     \n",
       "xylvpq        NaN  https://www.houstonchronicle.com/opinion/edito...   \n",
       "xylh3y        NaN  https://truthout.org/articles/sanders-bidens-m...   \n",
       "xyla6d  [removed]                                                NaN   \n",
       "xykwzh  [removed]                                                NaN   \n",
       "xykox1        NaN  https://countryconnect.in/entertainment-news/u...   \n",
       "\n",
       "        num_comments  upvote_ratio subreddit  \n",
       "id                                            \n",
       "xylvpq           688          0.97  politics  \n",
       "xylh3y           269          0.97  politics  \n",
       "xyla6d            24          0.26  politics  \n",
       "xykwzh             1          1.00  politics  \n",
       "xykox1             1          1.00  politics  "
      ]
     },
     "execution_count": 2,
     "metadata": {},
     "output_type": "execute_result"
    }
   ],
   "source": [
    "post_df = pd.read_csv('../data/all_submissions.csv')\n",
    "post_df.set_index('id', inplace=True)\n",
    "post_df.head()"
   ]
  },
  {
   "cell_type": "markdown",
   "id": "a8ade3ce-5f6a-481f-b069-58097d82345e",
   "metadata": {},
   "source": [
    "### 1.1) Cleaning"
   ]
  },
  {
   "cell_type": "markdown",
   "id": "b424289a-7aa5-4490-8e0b-6bd7708860ce",
   "metadata": {},
   "source": [
    "As I noted in the data collection notebook, the vast majority of posts seem to have either removed or empty self text. That does make sense, because these subreddits often posts links to media. It also appears that a lot of posts with text had their text removed.\n",
    "\n",
    "So let's focus on the titles for now. First of all we want to make sure there is no identifying information in the titles. Do the subreddit names show up in them?\n"
   ]
  },
  {
   "cell_type": "code",
   "execution_count": 3,
   "id": "b1175e7f-9567-4490-94a9-b85168dac424",
   "metadata": {},
   "outputs": [
    {
     "data": {
      "text/html": [
       "<div>\n",
       "<style scoped>\n",
       "    .dataframe tbody tr th:only-of-type {\n",
       "        vertical-align: middle;\n",
       "    }\n",
       "\n",
       "    .dataframe tbody tr th {\n",
       "        vertical-align: top;\n",
       "    }\n",
       "\n",
       "    .dataframe thead th {\n",
       "        text-align: right;\n",
       "    }\n",
       "</style>\n",
       "<table border=\"1\" class=\"dataframe\">\n",
       "  <thead>\n",
       "    <tr style=\"text-align: right;\">\n",
       "      <th></th>\n",
       "      <th>created_utc</th>\n",
       "      <th>title</th>\n",
       "      <th>selftext</th>\n",
       "      <th>url</th>\n",
       "      <th>num_comments</th>\n",
       "      <th>upvote_ratio</th>\n",
       "      <th>subreddit</th>\n",
       "    </tr>\n",
       "    <tr>\n",
       "      <th>id</th>\n",
       "      <th></th>\n",
       "      <th></th>\n",
       "      <th></th>\n",
       "      <th></th>\n",
       "      <th></th>\n",
       "      <th></th>\n",
       "      <th></th>\n",
       "    </tr>\n",
       "  </thead>\n",
       "  <tbody>\n",
       "    <tr>\n",
       "      <th>yjcho3</th>\n",
       "      <td>1667318414</td>\n",
       "      <td>Welcome to the /r/politics 2022 US Midterm Ele...</td>\n",
       "      <td>##ENTRIES ARE CLOSED! THANK YOU TO ALL WHO PAR...</td>\n",
       "      <td>https://www.reddit.com/r/politics/comments/yjc...</td>\n",
       "      <td>0</td>\n",
       "      <td>0.88</td>\n",
       "      <td>politics</td>\n",
       "    </tr>\n",
       "    <tr>\n",
       "      <th>y8azy8</th>\n",
       "      <td>1666205742</td>\n",
       "      <td>First time in /r/politics, amused by blind dow...</td>\n",
       "      <td>[removed]</td>\n",
       "      <td>https://www.reddit.com/r/politics/comments/y82...</td>\n",
       "      <td>0</td>\n",
       "      <td>1.00</td>\n",
       "      <td>conservative</td>\n",
       "    </tr>\n",
       "    <tr>\n",
       "      <th>yc1s0s</th>\n",
       "      <td>1666584851</td>\n",
       "      <td>r/politics</td>\n",
       "      <td>[removed]</td>\n",
       "      <td>https://www.reddit.com/r/Conservative/comments...</td>\n",
       "      <td>0</td>\n",
       "      <td>0.99</td>\n",
       "      <td>conservative</td>\n",
       "    </tr>\n",
       "    <tr>\n",
       "      <th>ydcpul</th>\n",
       "      <td>1666724383</td>\n",
       "      <td>How is /r/politics not a banned subreddit?</td>\n",
       "      <td>[removed]</td>\n",
       "      <td>NaN</td>\n",
       "      <td>0</td>\n",
       "      <td>1.00</td>\n",
       "      <td>conservative</td>\n",
       "    </tr>\n",
       "    <tr>\n",
       "      <th>ye5hkk</th>\n",
       "      <td>1666809635</td>\n",
       "      <td>Black Lives Matter activists accuse executive ...</td>\n",
       "      <td>[removed]</td>\n",
       "      <td>NaN</td>\n",
       "      <td>0</td>\n",
       "      <td>1.00</td>\n",
       "      <td>conservative</td>\n",
       "    </tr>\n",
       "    <tr>\n",
       "      <th>yh16qq</th>\n",
       "      <td>1667093382</td>\n",
       "      <td>How dumb can they get? This dumb. r/politics i...</td>\n",
       "      <td>NaN</td>\n",
       "      <td>https://i.redd.it/6o48ikn0juw91.jpg</td>\n",
       "      <td>0</td>\n",
       "      <td>1.00</td>\n",
       "      <td>conservative</td>\n",
       "    </tr>\n",
       "    <tr>\n",
       "      <th>yj1hdu</th>\n",
       "      <td>1667285934</td>\n",
       "      <td>r/politics is in complete denial that Paul Pel...</td>\n",
       "      <td>NaN</td>\n",
       "      <td>https://i.redd.it/zvd8zrnkfax91.jpg</td>\n",
       "      <td>0</td>\n",
       "      <td>0.50</td>\n",
       "      <td>conservative</td>\n",
       "    </tr>\n",
       "    <tr>\n",
       "      <th>yji4u5</th>\n",
       "      <td>1667330020</td>\n",
       "      <td>Reactions of some r/politics users on the whol...</td>\n",
       "      <td>[removed]</td>\n",
       "      <td>NaN</td>\n",
       "      <td>0</td>\n",
       "      <td>1.00</td>\n",
       "      <td>conservative</td>\n",
       "    </tr>\n",
       "    <tr>\n",
       "      <th>yjhwdh</th>\n",
       "      <td>1667329538</td>\n",
       "      <td>Reactions of some r/politics users on the whol...</td>\n",
       "      <td>[removed]</td>\n",
       "      <td>NaN</td>\n",
       "      <td>0</td>\n",
       "      <td>1.00</td>\n",
       "      <td>conservative</td>\n",
       "    </tr>\n",
       "    <tr>\n",
       "      <th>ykfen4</th>\n",
       "      <td>1667419113</td>\n",
       "      <td>Why do Reddit users at r/politics cry and whin...</td>\n",
       "      <td>[removed]</td>\n",
       "      <td>NaN</td>\n",
       "      <td>0</td>\n",
       "      <td>1.00</td>\n",
       "      <td>conservative</td>\n",
       "    </tr>\n",
       "    <tr>\n",
       "      <th>ymfe5j</th>\n",
       "      <td>1667608666</td>\n",
       "      <td>r/politics has over 8 million total nut jobs r...</td>\n",
       "      <td>[removed]</td>\n",
       "      <td>https://www.reddit.com/r/Conservative/comments...</td>\n",
       "      <td>0</td>\n",
       "      <td>1.00</td>\n",
       "      <td>conservative</td>\n",
       "    </tr>\n",
       "  </tbody>\n",
       "</table>\n",
       "</div>"
      ],
      "text/plain": [
       "        created_utc                                              title  \\\n",
       "id                                                                       \n",
       "yjcho3   1667318414  Welcome to the /r/politics 2022 US Midterm Ele...   \n",
       "y8azy8   1666205742  First time in /r/politics, amused by blind dow...   \n",
       "yc1s0s   1666584851                                         r/politics   \n",
       "ydcpul   1666724383         How is /r/politics not a banned subreddit?   \n",
       "ye5hkk   1666809635  Black Lives Matter activists accuse executive ...   \n",
       "yh16qq   1667093382  How dumb can they get? This dumb. r/politics i...   \n",
       "yj1hdu   1667285934  r/politics is in complete denial that Paul Pel...   \n",
       "yji4u5   1667330020  Reactions of some r/politics users on the whol...   \n",
       "yjhwdh   1667329538  Reactions of some r/politics users on the whol...   \n",
       "ykfen4   1667419113  Why do Reddit users at r/politics cry and whin...   \n",
       "ymfe5j   1667608666  r/politics has over 8 million total nut jobs r...   \n",
       "\n",
       "                                                 selftext  \\\n",
       "id                                                          \n",
       "yjcho3  ##ENTRIES ARE CLOSED! THANK YOU TO ALL WHO PAR...   \n",
       "y8azy8                                          [removed]   \n",
       "yc1s0s                                          [removed]   \n",
       "ydcpul                                          [removed]   \n",
       "ye5hkk                                          [removed]   \n",
       "yh16qq                                                NaN   \n",
       "yj1hdu                                                NaN   \n",
       "yji4u5                                          [removed]   \n",
       "yjhwdh                                          [removed]   \n",
       "ykfen4                                          [removed]   \n",
       "ymfe5j                                          [removed]   \n",
       "\n",
       "                                                      url  num_comments  \\\n",
       "id                                                                        \n",
       "yjcho3  https://www.reddit.com/r/politics/comments/yjc...             0   \n",
       "y8azy8  https://www.reddit.com/r/politics/comments/y82...             0   \n",
       "yc1s0s  https://www.reddit.com/r/Conservative/comments...             0   \n",
       "ydcpul                                                NaN             0   \n",
       "ye5hkk                                                NaN             0   \n",
       "yh16qq                https://i.redd.it/6o48ikn0juw91.jpg             0   \n",
       "yj1hdu                https://i.redd.it/zvd8zrnkfax91.jpg             0   \n",
       "yji4u5                                                NaN             0   \n",
       "yjhwdh                                                NaN             0   \n",
       "ykfen4                                                NaN             0   \n",
       "ymfe5j  https://www.reddit.com/r/Conservative/comments...             0   \n",
       "\n",
       "        upvote_ratio     subreddit  \n",
       "id                                  \n",
       "yjcho3          0.88      politics  \n",
       "y8azy8          1.00  conservative  \n",
       "yc1s0s          0.99  conservative  \n",
       "ydcpul          1.00  conservative  \n",
       "ye5hkk          1.00  conservative  \n",
       "yh16qq          1.00  conservative  \n",
       "yj1hdu          0.50  conservative  \n",
       "yji4u5          1.00  conservative  \n",
       "yjhwdh          1.00  conservative  \n",
       "ykfen4          1.00  conservative  \n",
       "ymfe5j          1.00  conservative  "
      ]
     },
     "execution_count": 3,
     "metadata": {},
     "output_type": "execute_result"
    }
   ],
   "source": [
    "post_df[post_df['title'].str.contains('r/politics', na = False)] "
   ]
  },
  {
   "cell_type": "code",
   "execution_count": 4,
   "id": "a63f5347-f6f2-49ed-a76e-5f95e2456088",
   "metadata": {},
   "outputs": [
    {
     "data": {
      "text/html": [
       "<div>\n",
       "<style scoped>\n",
       "    .dataframe tbody tr th:only-of-type {\n",
       "        vertical-align: middle;\n",
       "    }\n",
       "\n",
       "    .dataframe tbody tr th {\n",
       "        vertical-align: top;\n",
       "    }\n",
       "\n",
       "    .dataframe thead th {\n",
       "        text-align: right;\n",
       "    }\n",
       "</style>\n",
       "<table border=\"1\" class=\"dataframe\">\n",
       "  <thead>\n",
       "    <tr style=\"text-align: right;\">\n",
       "      <th></th>\n",
       "      <th>created_utc</th>\n",
       "      <th>title</th>\n",
       "      <th>selftext</th>\n",
       "      <th>url</th>\n",
       "      <th>num_comments</th>\n",
       "      <th>upvote_ratio</th>\n",
       "      <th>subreddit</th>\n",
       "    </tr>\n",
       "    <tr>\n",
       "      <th>id</th>\n",
       "      <th></th>\n",
       "      <th></th>\n",
       "      <th></th>\n",
       "      <th></th>\n",
       "      <th></th>\n",
       "      <th></th>\n",
       "      <th></th>\n",
       "    </tr>\n",
       "  </thead>\n",
       "  <tbody>\n",
       "    <tr>\n",
       "      <th>xzq07x</th>\n",
       "      <td>1665333529</td>\n",
       "      <td>Thank You r/conservative</td>\n",
       "      <td>[removed]</td>\n",
       "      <td>https://www.reddit.com/r/Conservative/comments...</td>\n",
       "      <td>0</td>\n",
       "      <td>1.00</td>\n",
       "      <td>conservative</td>\n",
       "    </tr>\n",
       "    <tr>\n",
       "      <th>y0bdap</th>\n",
       "      <td>1665398146</td>\n",
       "      <td>Is r/conservative becoming more pro-choice?</td>\n",
       "      <td>[removed]</td>\n",
       "      <td>NaN</td>\n",
       "      <td>0</td>\n",
       "      <td>1.00</td>\n",
       "      <td>conservative</td>\n",
       "    </tr>\n",
       "    <tr>\n",
       "      <th>yah1zp</th>\n",
       "      <td>1666423419</td>\n",
       "      <td>Discussion: What is r/conservatives opinion on...</td>\n",
       "      <td>[removed]</td>\n",
       "      <td>https://www.reddit.com/r/Conservative/comments...</td>\n",
       "      <td>0</td>\n",
       "      <td>1.00</td>\n",
       "      <td>conservative</td>\n",
       "    </tr>\n",
       "    <tr>\n",
       "      <th>ydc9o0</th>\n",
       "      <td>1666723217</td>\n",
       "      <td>I posted a comment in r/conservative and the f...</td>\n",
       "      <td>[removed]</td>\n",
       "      <td>NaN</td>\n",
       "      <td>0</td>\n",
       "      <td>1.00</td>\n",
       "      <td>conservative</td>\n",
       "    </tr>\n",
       "    <tr>\n",
       "      <th>yirj9u</th>\n",
       "      <td>1667256759</td>\n",
       "      <td>/r/conservative has turned into the_donald. Pe...</td>\n",
       "      <td>[removed]</td>\n",
       "      <td>https://www.reddit.com/r/Conservative/comments...</td>\n",
       "      <td>0</td>\n",
       "      <td>0.33</td>\n",
       "      <td>conservative</td>\n",
       "    </tr>\n",
       "    <tr>\n",
       "      <th>ylarc2</th>\n",
       "      <td>1667500681</td>\n",
       "      <td>😂 just posted a comment on r/conservative and ...</td>\n",
       "      <td>[removed]</td>\n",
       "      <td>NaN</td>\n",
       "      <td>0</td>\n",
       "      <td>1.00</td>\n",
       "      <td>conservative</td>\n",
       "    </tr>\n",
       "  </tbody>\n",
       "</table>\n",
       "</div>"
      ],
      "text/plain": [
       "        created_utc                                              title  \\\n",
       "id                                                                       \n",
       "xzq07x   1665333529                           Thank You r/conservative   \n",
       "y0bdap   1665398146        Is r/conservative becoming more pro-choice?   \n",
       "yah1zp   1666423419  Discussion: What is r/conservatives opinion on...   \n",
       "ydc9o0   1666723217  I posted a comment in r/conservative and the f...   \n",
       "yirj9u   1667256759  /r/conservative has turned into the_donald. Pe...   \n",
       "ylarc2   1667500681  😂 just posted a comment on r/conservative and ...   \n",
       "\n",
       "         selftext                                                url  \\\n",
       "id                                                                     \n",
       "xzq07x  [removed]  https://www.reddit.com/r/Conservative/comments...   \n",
       "y0bdap  [removed]                                                NaN   \n",
       "yah1zp  [removed]  https://www.reddit.com/r/Conservative/comments...   \n",
       "ydc9o0  [removed]                                                NaN   \n",
       "yirj9u  [removed]  https://www.reddit.com/r/Conservative/comments...   \n",
       "ylarc2  [removed]                                                NaN   \n",
       "\n",
       "        num_comments  upvote_ratio     subreddit  \n",
       "id                                                \n",
       "xzq07x             0          1.00  conservative  \n",
       "y0bdap             0          1.00  conservative  \n",
       "yah1zp             0          1.00  conservative  \n",
       "ydc9o0             0          1.00  conservative  \n",
       "yirj9u             0          0.33  conservative  \n",
       "ylarc2             0          1.00  conservative  "
      ]
     },
     "execution_count": 4,
     "metadata": {},
     "output_type": "execute_result"
    }
   ],
   "source": [
    "post_df[post_df['title'].str.contains('r/conservative', na = False)] "
   ]
  },
  {
   "cell_type": "markdown",
   "id": "d2f6a2ca-3856-4934-985b-23988c313415",
   "metadata": {},
   "source": [
    "Funnily enough, all but one of the mentions of r/politics are in r/conservative. But either way, since this is identifying information that might mess up the algorithm in some way, and since these are relatively few rows, we might just want to delete them"
   ]
  },
  {
   "cell_type": "code",
   "execution_count": 5,
   "id": "99cb8db3-2b96-4794-bfad-91afd3b25e5e",
   "metadata": {},
   "outputs": [],
   "source": [
    "idx_pol = post_df[post_df['title'].str.contains('r/politics', na = False)].index\n",
    "idx_con = post_df[post_df['title'].str.contains('r/conservative', na = False)].index\n",
    "\n",
    "post_df.drop(index=idx_pol, inplace=True)\n",
    "post_df.drop(index=idx_con, inplace=True)"
   ]
  },
  {
   "cell_type": "markdown",
   "id": "40bcb2c2-ccf3-4c98-a3af-466331fa62fb",
   "metadata": {},
   "source": [
    "Are any other subreddits mentioned in these titles?"
   ]
  },
  {
   "cell_type": "code",
   "execution_count": 6,
   "id": "b0b7aa01-25fe-43f6-ad50-f304a99befdf",
   "metadata": {},
   "outputs": [
    {
     "data": {
      "text/html": [
       "<div>\n",
       "<style scoped>\n",
       "    .dataframe tbody tr th:only-of-type {\n",
       "        vertical-align: middle;\n",
       "    }\n",
       "\n",
       "    .dataframe tbody tr th {\n",
       "        vertical-align: top;\n",
       "    }\n",
       "\n",
       "    .dataframe thead th {\n",
       "        text-align: right;\n",
       "    }\n",
       "</style>\n",
       "<table border=\"1\" class=\"dataframe\">\n",
       "  <thead>\n",
       "    <tr style=\"text-align: right;\">\n",
       "      <th></th>\n",
       "      <th>created_utc</th>\n",
       "      <th>title</th>\n",
       "      <th>selftext</th>\n",
       "      <th>url</th>\n",
       "      <th>num_comments</th>\n",
       "      <th>upvote_ratio</th>\n",
       "      <th>subreddit</th>\n",
       "    </tr>\n",
       "    <tr>\n",
       "      <th>id</th>\n",
       "      <th></th>\n",
       "      <th></th>\n",
       "      <th></th>\n",
       "      <th></th>\n",
       "      <th></th>\n",
       "      <th></th>\n",
       "      <th></th>\n",
       "    </tr>\n",
       "  </thead>\n",
       "  <tbody>\n",
       "    <tr>\n",
       "      <th>y1nbcs</th>\n",
       "      <td>1665529643</td>\n",
       "      <td>Why is r/poltics reserved to American politics?</td>\n",
       "      <td>[removed]</td>\n",
       "      <td>NaN</td>\n",
       "      <td>0</td>\n",
       "      <td>1.00</td>\n",
       "      <td>politics</td>\n",
       "    </tr>\n",
       "    <tr>\n",
       "      <th>yf3nhu</th>\n",
       "      <td>1666905434</td>\n",
       "      <td>Exclusive Trafalgar/Daily Wire Poll Has Georgi...</td>\n",
       "      <td>NaN</td>\n",
       "      <td>https://www.dailywire.com/news/exclusive-trafa...</td>\n",
       "      <td>48</td>\n",
       "      <td>0.05</td>\n",
       "      <td>politics</td>\n",
       "    </tr>\n",
       "    <tr>\n",
       "      <th>yf0q6z</th>\n",
       "      <td>1666898391</td>\n",
       "      <td>https://www.quora.com/What-is-the-most-British...</td>\n",
       "      <td>NaN</td>\n",
       "      <td>https://worldsnews.quora.com/https-www-quora-c...</td>\n",
       "      <td>0</td>\n",
       "      <td>1.00</td>\n",
       "      <td>politics</td>\n",
       "    </tr>\n",
       "    <tr>\n",
       "      <th>yg8buc</th>\n",
       "      <td>1667012805</td>\n",
       "      <td>Replacing r/Conservative with r/Real_Conservat...</td>\n",
       "      <td>NaN</td>\n",
       "      <td>https://www.reddit.com/r/Real_Conservative_</td>\n",
       "      <td>1</td>\n",
       "      <td>1.00</td>\n",
       "      <td>politics</td>\n",
       "    </tr>\n",
       "    <tr>\n",
       "      <th>yk6nce</th>\n",
       "      <td>1667399147</td>\n",
       "      <td>Letter from the editor of The Plain Dealer/Cle...</td>\n",
       "      <td>NaN</td>\n",
       "      <td>https://www.editorandpublisher.com/stories/the...</td>\n",
       "      <td>2</td>\n",
       "      <td>1.00</td>\n",
       "      <td>politics</td>\n",
       "    </tr>\n",
       "    <tr>\n",
       "      <th>...</th>\n",
       "      <td>...</td>\n",
       "      <td>...</td>\n",
       "      <td>...</td>\n",
       "      <td>...</td>\n",
       "      <td>...</td>\n",
       "      <td>...</td>\n",
       "      <td>...</td>\n",
       "    </tr>\n",
       "    <tr>\n",
       "      <th>yn1sx5</th>\n",
       "      <td>1667672269</td>\n",
       "      <td>I just made a comment on this sub for the firs...</td>\n",
       "      <td>NaN</td>\n",
       "      <td>https://i.redd.it/mcbqlahcc6y91.jpg</td>\n",
       "      <td>0</td>\n",
       "      <td>1.00</td>\n",
       "      <td>conservative</td>\n",
       "    </tr>\n",
       "    <tr>\n",
       "      <th>yo7mkn</th>\n",
       "      <td>1667780881</td>\n",
       "      <td>Banned from r/Christian for calling out a libe...</td>\n",
       "      <td>[removed]</td>\n",
       "      <td>https://www.reddit.com/r/Conservative/comments...</td>\n",
       "      <td>1</td>\n",
       "      <td>1.00</td>\n",
       "      <td>conservative</td>\n",
       "    </tr>\n",
       "    <tr>\n",
       "      <th>ynwek9</th>\n",
       "      <td>1667755365</td>\n",
       "      <td>Twitter account @reddit_lies highlights the hy...</td>\n",
       "      <td>NaN</td>\n",
       "      <td>https://i.imgur.com/qiHcNwA.jpg</td>\n",
       "      <td>0</td>\n",
       "      <td>1.00</td>\n",
       "      <td>conservative</td>\n",
       "    </tr>\n",
       "    <tr>\n",
       "      <th>xyl72i</th>\n",
       "      <td>1665209578</td>\n",
       "      <td>Got Banned From r/libertarianmeme For This</td>\n",
       "      <td>[removed]</td>\n",
       "      <td>https://i.redd.it/ol7n8s2ixis91.jpg</td>\n",
       "      <td>0</td>\n",
       "      <td>1.00</td>\n",
       "      <td>conservative</td>\n",
       "    </tr>\n",
       "    <tr>\n",
       "      <th>y94uj5</th>\n",
       "      <td>1666287994</td>\n",
       "      <td>https://www.google.com/amp/s/amp.cnn.com/cnn/u...</td>\n",
       "      <td>[removed]</td>\n",
       "      <td>NaN</td>\n",
       "      <td>0</td>\n",
       "      <td>1.00</td>\n",
       "      <td>conservative</td>\n",
       "    </tr>\n",
       "  </tbody>\n",
       "</table>\n",
       "<p>66 rows × 7 columns</p>\n",
       "</div>"
      ],
      "text/plain": [
       "        created_utc                                              title  \\\n",
       "id                                                                       \n",
       "y1nbcs   1665529643    Why is r/poltics reserved to American politics?   \n",
       "yf3nhu   1666905434  Exclusive Trafalgar/Daily Wire Poll Has Georgi...   \n",
       "yf0q6z   1666898391  https://www.quora.com/What-is-the-most-British...   \n",
       "yg8buc   1667012805  Replacing r/Conservative with r/Real_Conservat...   \n",
       "yk6nce   1667399147  Letter from the editor of The Plain Dealer/Cle...   \n",
       "...             ...                                                ...   \n",
       "yn1sx5   1667672269  I just made a comment on this sub for the firs...   \n",
       "yo7mkn   1667780881  Banned from r/Christian for calling out a libe...   \n",
       "ynwek9   1667755365  Twitter account @reddit_lies highlights the hy...   \n",
       "xyl72i   1665209578         Got Banned From r/libertarianmeme For This   \n",
       "y94uj5   1666287994  https://www.google.com/amp/s/amp.cnn.com/cnn/u...   \n",
       "\n",
       "         selftext                                                url  \\\n",
       "id                                                                     \n",
       "y1nbcs  [removed]                                                NaN   \n",
       "yf3nhu        NaN  https://www.dailywire.com/news/exclusive-trafa...   \n",
       "yf0q6z        NaN  https://worldsnews.quora.com/https-www-quora-c...   \n",
       "yg8buc        NaN        https://www.reddit.com/r/Real_Conservative_   \n",
       "yk6nce        NaN  https://www.editorandpublisher.com/stories/the...   \n",
       "...           ...                                                ...   \n",
       "yn1sx5        NaN                https://i.redd.it/mcbqlahcc6y91.jpg   \n",
       "yo7mkn  [removed]  https://www.reddit.com/r/Conservative/comments...   \n",
       "ynwek9        NaN                    https://i.imgur.com/qiHcNwA.jpg   \n",
       "xyl72i  [removed]                https://i.redd.it/ol7n8s2ixis91.jpg   \n",
       "y94uj5  [removed]                                                NaN   \n",
       "\n",
       "        num_comments  upvote_ratio     subreddit  \n",
       "id                                                \n",
       "y1nbcs             0          1.00      politics  \n",
       "yf3nhu            48          0.05      politics  \n",
       "yf0q6z             0          1.00      politics  \n",
       "yg8buc             1          1.00      politics  \n",
       "yk6nce             2          1.00      politics  \n",
       "...              ...           ...           ...  \n",
       "yn1sx5             0          1.00  conservative  \n",
       "yo7mkn             1          1.00  conservative  \n",
       "ynwek9             0          1.00  conservative  \n",
       "xyl72i             0          1.00  conservative  \n",
       "y94uj5             0          1.00  conservative  \n",
       "\n",
       "[66 rows x 7 columns]"
      ]
     },
     "execution_count": 6,
     "metadata": {},
     "output_type": "execute_result"
    }
   ],
   "source": [
    "post_df[post_df['title'].str.contains('r/', na = False)] "
   ]
  },
  {
   "cell_type": "markdown",
   "id": "58dd776f-1249-490e-92cf-ceba8da45351",
   "metadata": {},
   "source": [
    "A few times! Let's just get rid of these as well. "
   ]
  },
  {
   "cell_type": "code",
   "execution_count": 7,
   "id": "c60e99d3-6bcb-4b8b-b717-b6e6749b6a53",
   "metadata": {},
   "outputs": [],
   "source": [
    "idx_subr = post_df[post_df['title'].str.contains('r/', na = False)].index\n",
    "post_df.drop(index=idx_subr, inplace=True)"
   ]
  },
  {
   "cell_type": "markdown",
   "id": "779ed259-0d45-48a3-9a0d-26b4383572f7",
   "metadata": {},
   "source": [
    "Sometimes the r/ might be capitalized as well"
   ]
  },
  {
   "cell_type": "code",
   "execution_count": 8,
   "id": "376b9909-c11b-47e7-999d-e1d461002945",
   "metadata": {},
   "outputs": [
    {
     "data": {
      "text/html": [
       "<div>\n",
       "<style scoped>\n",
       "    .dataframe tbody tr th:only-of-type {\n",
       "        vertical-align: middle;\n",
       "    }\n",
       "\n",
       "    .dataframe tbody tr th {\n",
       "        vertical-align: top;\n",
       "    }\n",
       "\n",
       "    .dataframe thead th {\n",
       "        text-align: right;\n",
       "    }\n",
       "</style>\n",
       "<table border=\"1\" class=\"dataframe\">\n",
       "  <thead>\n",
       "    <tr style=\"text-align: right;\">\n",
       "      <th></th>\n",
       "      <th>created_utc</th>\n",
       "      <th>title</th>\n",
       "      <th>selftext</th>\n",
       "      <th>url</th>\n",
       "      <th>num_comments</th>\n",
       "      <th>upvote_ratio</th>\n",
       "      <th>subreddit</th>\n",
       "    </tr>\n",
       "    <tr>\n",
       "      <th>id</th>\n",
       "      <th></th>\n",
       "      <th></th>\n",
       "      <th></th>\n",
       "      <th></th>\n",
       "      <th></th>\n",
       "      <th></th>\n",
       "      <th></th>\n",
       "    </tr>\n",
       "  </thead>\n",
       "  <tbody>\n",
       "    <tr>\n",
       "      <th>xzon0h</th>\n",
       "      <td>1665329989</td>\n",
       "      <td>R/republican_memes</td>\n",
       "      <td>[removed]</td>\n",
       "      <td>NaN</td>\n",
       "      <td>0</td>\n",
       "      <td>0.66</td>\n",
       "      <td>conservative</td>\n",
       "    </tr>\n",
       "    <tr>\n",
       "      <th>xzns9a</th>\n",
       "      <td>1665327782</td>\n",
       "      <td>R/Politics used to hate the big acronyms.</td>\n",
       "      <td>NaN</td>\n",
       "      <td>https://www.reddit.com/r/politics/comments/r9u...</td>\n",
       "      <td>0</td>\n",
       "      <td>1.00</td>\n",
       "      <td>conservative</td>\n",
       "    </tr>\n",
       "    <tr>\n",
       "      <th>ymlhsb</th>\n",
       "      <td>1667627223</td>\n",
       "      <td>R/insanepeoplefacebook is nuts. Banning people...</td>\n",
       "      <td>[removed]</td>\n",
       "      <td>NaN</td>\n",
       "      <td>2</td>\n",
       "      <td>0.33</td>\n",
       "      <td>conservative</td>\n",
       "    </tr>\n",
       "    <tr>\n",
       "      <th>yo6wzf</th>\n",
       "      <td>1667778940</td>\n",
       "      <td>R/insanepeoplefacebook banning people that pos...</td>\n",
       "      <td>[removed]</td>\n",
       "      <td>https://www.reddit.com/r/Conservative/comments...</td>\n",
       "      <td>0</td>\n",
       "      <td>1.00</td>\n",
       "      <td>conservative</td>\n",
       "    </tr>\n",
       "    <tr>\n",
       "      <th>yo6tut</th>\n",
       "      <td>1667778697</td>\n",
       "      <td>R/insanepeoplefacebook banning people that are...</td>\n",
       "      <td>[removed]</td>\n",
       "      <td>https://www.reddit.com/r/Conservative/comments...</td>\n",
       "      <td>0</td>\n",
       "      <td>1.00</td>\n",
       "      <td>conservative</td>\n",
       "    </tr>\n",
       "  </tbody>\n",
       "</table>\n",
       "</div>"
      ],
      "text/plain": [
       "        created_utc                                              title  \\\n",
       "id                                                                       \n",
       "xzon0h   1665329989                                 R/republican_memes   \n",
       "xzns9a   1665327782          R/Politics used to hate the big acronyms.   \n",
       "ymlhsb   1667627223  R/insanepeoplefacebook is nuts. Banning people...   \n",
       "yo6wzf   1667778940  R/insanepeoplefacebook banning people that pos...   \n",
       "yo6tut   1667778697  R/insanepeoplefacebook banning people that are...   \n",
       "\n",
       "         selftext                                                url  \\\n",
       "id                                                                     \n",
       "xzon0h  [removed]                                                NaN   \n",
       "xzns9a        NaN  https://www.reddit.com/r/politics/comments/r9u...   \n",
       "ymlhsb  [removed]                                                NaN   \n",
       "yo6wzf  [removed]  https://www.reddit.com/r/Conservative/comments...   \n",
       "yo6tut  [removed]  https://www.reddit.com/r/Conservative/comments...   \n",
       "\n",
       "        num_comments  upvote_ratio     subreddit  \n",
       "id                                                \n",
       "xzon0h             0          0.66  conservative  \n",
       "xzns9a             0          1.00  conservative  \n",
       "ymlhsb             2          0.33  conservative  \n",
       "yo6wzf             0          1.00  conservative  \n",
       "yo6tut             0          1.00  conservative  "
      ]
     },
     "execution_count": 8,
     "metadata": {},
     "output_type": "execute_result"
    }
   ],
   "source": [
    "post_df[post_df['title'].str.contains('R/', na = False)] "
   ]
  },
  {
   "cell_type": "code",
   "execution_count": 9,
   "id": "e53c0614-79e7-4eb5-a930-d018ae2c628f",
   "metadata": {},
   "outputs": [],
   "source": [
    "idx_subr2 = post_df[post_df['title'].str.contains('R/', na = False)].index\n",
    "post_df.drop(index=idx_subr2, inplace=True)"
   ]
  },
  {
   "cell_type": "markdown",
   "id": "4bcb2b63-fcce-45c2-9ef4-a25bf0686a45",
   "metadata": {},
   "source": [
    "Another thing we might want to consider removing or editing is usernames. These start with u/ typically. Are there any in these titles?:"
   ]
  },
  {
   "cell_type": "code",
   "execution_count": 10,
   "id": "c8264872-d888-4e93-aee0-c1bca8dd54ad",
   "metadata": {},
   "outputs": [
    {
     "data": {
      "text/html": [
       "<div>\n",
       "<style scoped>\n",
       "    .dataframe tbody tr th:only-of-type {\n",
       "        vertical-align: middle;\n",
       "    }\n",
       "\n",
       "    .dataframe tbody tr th {\n",
       "        vertical-align: top;\n",
       "    }\n",
       "\n",
       "    .dataframe thead th {\n",
       "        text-align: right;\n",
       "    }\n",
       "</style>\n",
       "<table border=\"1\" class=\"dataframe\">\n",
       "  <thead>\n",
       "    <tr style=\"text-align: right;\">\n",
       "      <th></th>\n",
       "      <th>created_utc</th>\n",
       "      <th>title</th>\n",
       "      <th>selftext</th>\n",
       "      <th>url</th>\n",
       "      <th>num_comments</th>\n",
       "      <th>upvote_ratio</th>\n",
       "      <th>subreddit</th>\n",
       "    </tr>\n",
       "    <tr>\n",
       "      <th>id</th>\n",
       "      <th></th>\n",
       "      <th></th>\n",
       "      <th></th>\n",
       "      <th></th>\n",
       "      <th></th>\n",
       "      <th></th>\n",
       "      <th></th>\n",
       "    </tr>\n",
       "  </thead>\n",
       "  <tbody>\n",
       "  </tbody>\n",
       "</table>\n",
       "</div>"
      ],
      "text/plain": [
       "Empty DataFrame\n",
       "Columns: [created_utc, title, selftext, url, num_comments, upvote_ratio, subreddit]\n",
       "Index: []"
      ]
     },
     "execution_count": 10,
     "metadata": {},
     "output_type": "execute_result"
    }
   ],
   "source": [
    "post_df[post_df['title'].str.contains('u/', na = False)]"
   ]
  },
  {
   "cell_type": "markdown",
   "id": "e311f61b-39cf-4269-be03-4badd38b460c",
   "metadata": {},
   "source": [
    "Doesn't seem like it!. "
   ]
  },
  {
   "cell_type": "markdown",
   "id": "684d907a-f510-49a1-9005-20baf98da682",
   "metadata": {},
   "source": [
    "It seems there are some titles posted in other scripts like Korean. Before I do any words-related EDA, I'll want to filter these out for our model and stick to latin alphabet only (preferably english only, but that might be harder to filter out).\n",
    "\n",
    "To do this I will use a trick I found here on stackoverflow, which is simply to try and turn it into ascii. ASCII only works for a narrow range of characters, and if the string contains characters that are not part of ASCII it will throw an error. See:\n",
    "https://stackoverflow.com/questions/27084617/detect-strings-with-non-english-characters-in-python\n",
    "\n",
    "I will have to get rid of a few atypical characters that I do want to keep include, like vowels with accents, arrows, primes, em- and en-dashes\n",
    ", pipes, etc etc.\n",
    "\n",
    "I would also like to keep emojis. For that I use the UNICODE_EMOJI list from the emoji package, so that I can ignore those for the ASCII conversion attempt as well"
   ]
  },
  {
   "cell_type": "code",
   "execution_count": 11,
   "id": "8ccbc095-ad61-4fdc-a590-7058e89b4cbe",
   "metadata": {},
   "outputs": [],
   "source": [
    "def isEnglish(s):\n",
    "    \"\"\"\n",
    "    Tries to convert string to ascii - returns False if this throws a DecodeError, True if not\n",
    "    \"\"\"\n",
    "    \n",
    "    #These characters should be allowed in my text, so for this check i'll just remove them from the string before the ASCII conversion\n",
    "    #This list is not exhaustive and was obtained through trial and error - for my purposes it seems good enough\n",
    "    esc_chars = ['‘', '’', '—', '‐', '“', '”', '«', '–', 'а', 'é', 'е', 'ē', '½', '…', '»', '›', 'á', '-', ' ̶', '―', '|', '❗️', 'ê', '¯', \\\n",
    "                 '·', 'ó', '+', 'ò', 'ö', 'ü', ':', '•', '￼', '⋆', '★', '£', '$', '\\u200e', '\\u200b', '🤦‍♂️', '„', '🤷‍♂️', '！', '´', 'ツ', '§']\n",
    "\n",
    "    for char in esc_chars:\n",
    "        s = s.replace(char, '')\n",
    "    for emoji in UNICODE_EMOJI['en']: #from the emoji package\n",
    "        if emoji in s:\n",
    "            s = s.replace(emoji, '')\n",
    "    try:\n",
    "        s.encode(encoding='utf-8').decode('ascii')\n",
    "    except UnicodeDecodeError:\n",
    "        return False\n",
    "    else:\n",
    "        return True"
   ]
  },
  {
   "cell_type": "code",
   "execution_count": 12,
   "id": "0337d48a-beda-45f5-969e-3a5c777f3f13",
   "metadata": {},
   "outputs": [
    {
     "name": "stdout",
     "output_type": "stream",
     "text": [
      "(152, 8)\n"
     ]
    },
    {
     "data": {
      "text/html": [
       "<div>\n",
       "<style scoped>\n",
       "    .dataframe tbody tr th:only-of-type {\n",
       "        vertical-align: middle;\n",
       "    }\n",
       "\n",
       "    .dataframe tbody tr th {\n",
       "        vertical-align: top;\n",
       "    }\n",
       "\n",
       "    .dataframe thead th {\n",
       "        text-align: right;\n",
       "    }\n",
       "</style>\n",
       "<table border=\"1\" class=\"dataframe\">\n",
       "  <thead>\n",
       "    <tr style=\"text-align: right;\">\n",
       "      <th></th>\n",
       "      <th>created_utc</th>\n",
       "      <th>title</th>\n",
       "      <th>selftext</th>\n",
       "      <th>url</th>\n",
       "      <th>num_comments</th>\n",
       "      <th>upvote_ratio</th>\n",
       "      <th>subreddit</th>\n",
       "      <th>is_english</th>\n",
       "    </tr>\n",
       "    <tr>\n",
       "      <th>id</th>\n",
       "      <th></th>\n",
       "      <th></th>\n",
       "      <th></th>\n",
       "      <th></th>\n",
       "      <th></th>\n",
       "      <th></th>\n",
       "      <th></th>\n",
       "      <th></th>\n",
       "    </tr>\n",
       "  </thead>\n",
       "  <tbody>\n",
       "    <tr>\n",
       "      <th>xyi6un</th>\n",
       "      <td>1665199625</td>\n",
       "      <td>https://youtu.be/gCpzndXlmNQ በአማራ ሕዝብ ላይ እየተፈጸ...</td>\n",
       "      <td>NaN</td>\n",
       "      <td>https://amharic-zehabesha.com/archives/177327</td>\n",
       "      <td>0</td>\n",
       "      <td>1.0</td>\n",
       "      <td>politics</td>\n",
       "      <td>False</td>\n",
       "    </tr>\n",
       "    <tr>\n",
       "      <th>xy64ug</th>\n",
       "      <td>1665166423</td>\n",
       "      <td>በመሥከረም 28/ 2015 ዓ/ም በሶሻል ሣይንሥ ተማሪዎች ፈተና ይጀመራል ...</td>\n",
       "      <td>NaN</td>\n",
       "      <td>https://amharic-zehabesha.com/archives/177306</td>\n",
       "      <td>0</td>\n",
       "      <td>1.0</td>\n",
       "      <td>politics</td>\n",
       "      <td>False</td>\n",
       "    </tr>\n",
       "    <tr>\n",
       "      <th>xy5nwu</th>\n",
       "      <td>1665165298</td>\n",
       "      <td>“በዛሬዋ ኢትዮጵያ የፖለቲካ መድረክ ላይ ግልጽ የሆነ ልዩነት ያላቸው ሁለ...</td>\n",
       "      <td>NaN</td>\n",
       "      <td>https://amharic-zehabesha.com/archives/177301</td>\n",
       "      <td>0</td>\n",
       "      <td>1.0</td>\n",
       "      <td>politics</td>\n",
       "      <td>False</td>\n",
       "    </tr>\n",
       "    <tr>\n",
       "      <th>xy5706</th>\n",
       "      <td>1665164157</td>\n",
       "      <td>Rusya’dan ayrılan şirketler 200 ila 240 milyar...</td>\n",
       "      <td>NaN</td>\n",
       "      <td>https://www.adaekrani.com/rusyadan-ayrilan-sir...</td>\n",
       "      <td>1</td>\n",
       "      <td>1.0</td>\n",
       "      <td>politics</td>\n",
       "      <td>False</td>\n",
       "    </tr>\n",
       "    <tr>\n",
       "      <th>xy4nil</th>\n",
       "      <td>1665162825</td>\n",
       "      <td>İngiltere Kuzey Denizi'nde 898 blok için gaz v...</td>\n",
       "      <td>NaN</td>\n",
       "      <td>https://www.adaekrani.com/ingiltere-kuzey-deni...</td>\n",
       "      <td>1</td>\n",
       "      <td>1.0</td>\n",
       "      <td>politics</td>\n",
       "      <td>False</td>\n",
       "    </tr>\n",
       "  </tbody>\n",
       "</table>\n",
       "</div>"
      ],
      "text/plain": [
       "        created_utc                                              title  \\\n",
       "id                                                                       \n",
       "xyi6un   1665199625  https://youtu.be/gCpzndXlmNQ በአማራ ሕዝብ ላይ እየተፈጸ...   \n",
       "xy64ug   1665166423  በመሥከረም 28/ 2015 ዓ/ም በሶሻል ሣይንሥ ተማሪዎች ፈተና ይጀመራል ...   \n",
       "xy5nwu   1665165298  “በዛሬዋ ኢትዮጵያ የፖለቲካ መድረክ ላይ ግልጽ የሆነ ልዩነት ያላቸው ሁለ...   \n",
       "xy5706   1665164157  Rusya’dan ayrılan şirketler 200 ila 240 milyar...   \n",
       "xy4nil   1665162825  İngiltere Kuzey Denizi'nde 898 blok için gaz v...   \n",
       "\n",
       "       selftext                                                url  \\\n",
       "id                                                                   \n",
       "xyi6un      NaN      https://amharic-zehabesha.com/archives/177327   \n",
       "xy64ug      NaN      https://amharic-zehabesha.com/archives/177306   \n",
       "xy5nwu      NaN      https://amharic-zehabesha.com/archives/177301   \n",
       "xy5706      NaN  https://www.adaekrani.com/rusyadan-ayrilan-sir...   \n",
       "xy4nil      NaN  https://www.adaekrani.com/ingiltere-kuzey-deni...   \n",
       "\n",
       "        num_comments  upvote_ratio subreddit  is_english  \n",
       "id                                                        \n",
       "xyi6un             0           1.0  politics       False  \n",
       "xy64ug             0           1.0  politics       False  \n",
       "xy5nwu             0           1.0  politics       False  \n",
       "xy5706             1           1.0  politics       False  \n",
       "xy4nil             1           1.0  politics       False  "
      ]
     },
     "execution_count": 12,
     "metadata": {},
     "output_type": "execute_result"
    }
   ],
   "source": [
    "post_df['is_english'] = post_df['title'].map(lambda x: isEnglish(x))\n",
    "not_engl = post_df[post_df['is_english'] == False]\n",
    "print(not_engl.shape)\n",
    "not_engl.head()"
   ]
  },
  {
   "cell_type": "markdown",
   "id": "d05ec3e3-f40a-4f97-a123-fb4af56b331c",
   "metadata": {},
   "source": [
    "Seems like it's working fairly well. The function isEnglish above has a fairly large number of characters to ignore when it checks whether the text can be converted to ASCII. It's probably not 100% foolproof, but I think it's good enough at this point without doing something much more sophisticated.\n",
    "\n",
    "Let's print out the first 50 'non-english' titles just to double check everything is working as intended"
   ]
  },
  {
   "cell_type": "code",
   "execution_count": 13,
   "id": "bbddc4b4-e8f8-4481-bd76-4804cb3d3e15",
   "metadata": {},
   "outputs": [
    {
     "name": "stdout",
     "output_type": "stream",
     "text": [
      "0 https://youtu.be/gCpzndXlmNQ በአማራ ሕዝብ ላይ እየተፈጸመ ያለው የዘር ፍጅት | Welega | Amhara\n",
      "1 በመሥከረም 28/ 2015 ዓ/ም በሶሻል ሣይንሥ ተማሪዎች ፈተና ይጀመራል ። ይህ በፈተና አሰጣጡ ልዩ የሆነው አገር አቀፍ ፈተና ፣ የግል እና የመንግሥት ትምህርት ቤቶችን ጥንካሬ እና ደካማ ጎን በግልፅ እና በተጨባጭ የሚያመላክት ፣ በትምህርት ጥራት ላይ በትጋት እንዲሰራ የሚያደርግ ነው ። ተብሎ ይጠበቃል ። እንደሚታወቀው ገንዘብ ተኮር የትምህርት አሠጣጥ በሁሉም ትምህርት ቤቶች መኖሩን (\n",
      "2 “በዛሬዋ ኢትዮጵያ የፖለቲካ መድረክ ላይ ግልጽ የሆነ ልዩነት ያላቸው ሁለት ትልልቅ ቡድኖች አሉ፡፡ እነዚህ ሁለት ኃይሎች ... አማራ ብልፅግና እና ኦሮሞ ብልፅግና ውስጥ ካሉ ኃይሎች ጋር በቅርብ የተሳሰሩ ናቸው፡፡ ዛሬ ኢትዮጵያ ውስጥ የምናየው የፖለቲካ ምስቅልቅል እነዚህ ሁለት ኃይሎች ... የሚያደርጉት ትግል ውጤት ነው፡፡” ኤፍሬም ማዴቦ የአማራ ሕዝብ ዋና የሕልውና ጠላት ወያኔም ኦነግም ሳይሆኑ ጭራቅ አሕመድ እንደሆነና፣ ጭራቅ አሕመድም የአማራን ሕልውና\n",
      "3 Rusya’dan ayrılan şirketler 200 ila 240 milyar dolar arasında kayba uğradı\n",
      "4 İngiltere Kuzey Denizi'nde 898 blok için gaz ve petrol lisansı verecek\n",
      "5 Temmuz ayında Avrupa'da 2 bin çocuk sığınmacı 'kayboldu'\n",
      "6 İngiltere Başbakanı Truss: 'Prag'da Ukrayna ile dayanışma içinde olunduğu gösterildi'\n",
      "7 Vídeo de Bolsonaro falando que comeria carne indígena é revelado pelo PT.\n",
      "8 ደጃዝማች በላይ ዘለቀ በፋሽስት ዘመን ጎጃም ውስጥ ሲንቀሳቀሱ ከነበሩ አራት የአርበኛ መሪዎች መካከል አንዱ ነበር። በጎጃም ውስጥ ሲካሄድ ስለነበረው ጸረ ፋሽስት ተጋድሎ ስሙ እየተደጋገመ የሚወሳው የበላይ ዘለቀ ስም ብቻ ስለሆነ የሌሎቹ የጎጃም አርበኛ መሪዎች ስምና ስራ በተለይ በወጣቱ ትውልድ ዘንድ አይታወቅም። ሶስቱ የጎጃም ታላላቅ አርበኛ መሪዎች ቢትወደድ መንገሻ ጀምበሬ፣ ደጃዝማች ነጋሽ በዛብህና ራስ ኃይሉ በለው ናቸው። በነዚህ አርበኞች ስር እልቆ ቢስ ስመጥር\n",
      "9 The small but continuous victories against the behemoth Putin win our hearts. I’ve done some research and created this video to show to the world, how strong Ukraine is and it’s people. СЛАВА УКРАЇНІ ! 👊\n",
      "10 İsmail İncekara'ya veda...\n",
      "11 Netflix'in yeni dizisi, yalnızca tek bölümüyle dünya rekoru kırdı\n",
      "12 Londra'da çevreciler protesto yürüyüşü düzenlediler\n",
      "13 59. Antalya Altın Portakal Film Festivali'nde ödüller sahiplerini buldu\n",
      "14 ‘‘… ሀገርህን ጠላት እንዳይደፍራት ወታደር ሆነህ ጠብቃት፣ እንደ አባቶችህ ጀግና ሆነህ አሳያት፣ በጀግንነት ታሪክ ሥራላት፣ ታሪክ ያለው ከወታደርነት ነው፣ ጀግንነት ያለው ከወታደርነት ነው፣ ጀብዱ ያለው ከወታደርነት ነው፣ ታላቅ ስም ያለው ከወታደርነት ነው፡፡’’ የሚል የአባቶቻችን የጀግንነት የአደራ ቃል ውርስ አለን እኛ ኢትዮጵያውያን፡፡ በርግጥም ደግሞ ታሪካችንን ስንፈትሽም- ታላቁ የዐድዋ ድል የአርበኝነት፣ የወታደርነት ውጤት ነው፣ የአምስት ዓመቱ የጣልያን ወረራና\n",
      "15 በቁማርተኛ ፖለቲከኞች ልባችሁ ያልቆሸሸ አማራወችና ትግሬወች ሆይ፦ እነዚህን ከስር የተጠቀሱ ሁለት ዩ ቲዩቦችን ተመልከቱና ማን ጥፋተኛ እንደሆነ ራሳችሁ ፍረዱ፡፡ ከሹምባሹ የዜናዊ አስረስ ልጅ ከመለስ ዜናዊ ጀምሮ ባንዳነትና ከሀዲነት የተጠናወታቸው ከትግራይ የወጡት የህወሀት መሪወች የተወሰነውን የትግራይ ህዝብ በከሉት፡፡ ለዚህ አሁን ላለበት ሁኔታም አበቁት፡፡ ጉዳዩ ብዙ ዝርዝሮች ያሉት ስለሆነ እዚህ ላይ አላነሳውም፡፡ እዚህ ላይ በጣም በአጭሩ የማነሳው ለሽህ አመታት\n",
      "16 ABD, vatandaşlarından Ukrayna’yı derhal terk etmelerini istedi\n",
      "17 Rusya, Ukrayna'nın başkenti Kiev'i füzelerle vurdu: 8 ölü, 24 yaralı\n",
      "18 Gik-Der: 'Londra’da yaşayan Türk ve Kürt işçiler sömürüye maruz kalıyor'\n",
      "19 Allir að hlæja #karlakofinn\n",
      "20 Sahibinden ayrı düşen köpeğin 7,5 kilometrelik dönüş yolu kameralara takıldı\n",
      "21 İskoçya'da bir mekan dans edenler sayesinde enerji üretiyor\n",
      "22 Neha Malik Bold Photos: नेहा मलिक की तस्वीरों ने किया फैंस को बेकाबू\n",
      "23 TCU pediu ao Ministério da Defesa à cópia da auditoria feita nas urnas no 1º turno\n",
      "24 ‘‘… ሀገርህን ጠላት እንዳይደፍራት ወታደር ሆነህ ጠብቃት፣ እንደ አባቶችህ ጀግና ሆነህ አሳያት፣ በጀግንነት ታሪክ ሥራላት፣ ታሪክ ያለው ከወታደርነት ነው፣ ጀግንነት ያለው ከወታደርነት ነው፣ ጀብዱ ያለው ከወታደርነት ነው፣ ታላቅ ስም ያለው ከወታደርነት ነው፡፡’’ የሚል የአባቶቻችን የጀግንነት የአደራ ቃል ውርስ አለን እኛ ኢትዮጵያውያን፡፡ በርግጥም ደግሞ ታሪካችንን ስንፈትሽም- ታላቁ የዐድዋ ድል የአርበኝነት፣ የወታደርነት ውጤት ነው፣ የአምስት ዓመቱ የጣልያን ወረራና\n",
      "25 October 8, 2022 ጠገናው ጎሹ ይህንን ግልፅና ቀጥተኛ አስተያየቴን ለመሰንዘር ምክንያት የሆነኝ በሥርጉት ካሳሁን የቀረበውን ሂሳዊ ፅሁፍና በዚሁ ጽሁፍ ላይ Tesfa በተሰኘ ስም የተሰጠ ሂሳዊ ትችት መሆኑን ለመግለፅ እወዳለሁ። የፅሁፉን አቅራቢ ስም ምናልባት ከእኔ ድክመት ካልሆነ በስተቀር ብዙም የማውቀው አይደለም። በፅሁፉ አቀራረብና ይዘት ላይ ትችት የሚያሰጥ አንዳችም ነገር የለም የሚል ደምሳሳ አስተያየት የለኝም። እንደ አንዳርጋቸው አይነት በአንፃራዊ\n",
      "26 Arsenal, sahasında Liverpool'u 3-2 mağlup etti\n",
      "27 İran: 'İngiltere diplomatik misyonların korunmasında üzerine düşeni yapmalı'\n",
      "28 Putin repetă scenariul celui de-al doilea război cecen din Ucraina - Moldova News\n",
      "29 İngiltere Premier Lig futbolcusu Mwepu, kalp rahatsızlığı nedeniyle kariyerine son verdi\n",
      "30 ऐसी Personality के लोग ज्यादा सफल होते हैं🤔 by Dr Vikas Divyakirti DRISHTI IAS UPSC\n",
      "31 İngiliz siber istihbarat şefine göre Çin, \"geleceğin güvenlik tehdidi\" haline geldi\n",
      "32 . CRÂNE D'OUBLI. TALISMANS MAGIQUE POUR NE PAS REMBOURSÉ VOS DETTES. VOUS DEVEZ À QUELQU'UN ?\n",
      "33 İngiltere'de 7 bebeği öldürmekle suçlanan hemşire hakim karşısına çıktı\n",
      "34 Nord Stream: Schweden lässt Zusammenarbeit bei Pipeline-Ermittlungen platzen - DER SPIEGEL\n",
      "35 WWF raporu: 'Yaban hayvanları yaklaşık 50 yılda yüzde 69 azaldı'\n",
      "36 በጭለማ እና ድንግዝግዝ በበዛበት የፖለቲካ እና የታሪክ ሽሚያ ትንቅንቅ ኢትዮጵያ እና ኢትዮጵያዊነት ከየትኛሙም ጊዜ በላይ በታሪካዊ ጠላቶች ጥርስ ዉስጥ ገብተዋል ፡፡ የሶስት አስርተ ዓመታት የግፍ እና የሰቆቃ ዓመታት ትሩፋት የሆነዉ የጊዜዉ የጦርነት ፣ የድህነት ፣ ስደት እና ሞት ጣር በዕለት ተዕለት የዜጎች ህይወት ከንጋት አስከ ምሽት በልቶ ለማድር የሚጨነቅባት ኢትዮጵያ የምድር ሲኦል ወደ መሆን ተቃርባለች ፡፡ ይህ ሁሉ የሚሆነዉ ደግሞ ኢትዮጵያን እና\n",
      "37 İngiltere'de yapılan bir araştırmaya göre s﻿iyahlarda demans riski daha yüksek\n",
      "38 İngiltere, Ukrayna'ya hava savunma füzeleri bağışlayacak\n",
      "39 జనసేన కార్యక్రమాలు ఎలా చేసుకోవాలో వైసీపీ చెబుతుందా?..పవన్ – aahanews\n",
      "40 İngiltere Maliye Bakanı görevinden alındı\n",
      "41 Kurumsal ırkçılık İngiltere hapishanelerinde ölümlere neden oluyor\n",
      "42 https://youtu.be/ov23505lBlE ከሕወሓት በኋላ ኢትዮጵያዊነት ጥበቃ ያገኛል? | Hiber Radio Special Program Oct 16, 2022 |\n",
      "43 Kraliçe Elizabeth için bırakılan Paddington ayıları bağışlandı\n",
      "44 İngiltere Premier Lig'de Tottenham, Everton'u 2-0 yendi\n",
      "45 为何全世界关注二十大？\n",
      "46 Liz Truss'un görevine son verilmesi için 100 milletvekili harekete geçiyor...\n",
      "47 衆議院予算委員会1日目振り返り\n",
      "48 Muhammed Salah, Steven Gerard'ı geride bıraktı\n",
      "49 Bolsonaro faz vídeo com Michelle Bolsonaro e pede desculpas á venezuelanas.\n"
     ]
    }
   ],
   "source": [
    "for i,title in enumerate(not_engl['title'][:50]):\n",
    "    print(i, title)"
   ]
  },
  {
   "cell_type": "markdown",
   "id": "e53377f0-055f-4565-9798-81d0205ab6e9",
   "metadata": {},
   "source": [
    "These are all obviously titles that are not in English - so I'm pretty happy with this."
   ]
  },
  {
   "cell_type": "code",
   "execution_count": 14,
   "id": "d4462ad7-333e-4873-b14b-08f231d3b740",
   "metadata": {},
   "outputs": [
    {
     "data": {
      "text/plain": [
       "(20181, 8)"
      ]
     },
     "execution_count": 14,
     "metadata": {},
     "output_type": "execute_result"
    }
   ],
   "source": [
    "post_df = post_df[post_df['is_english'] ==  True]\n",
    "post_df.shape"
   ]
  },
  {
   "cell_type": "markdown",
   "id": "b619e79e-1297-4c9a-9914-e01775864edd",
   "metadata": {},
   "source": [
    "Are there are any other titles to filter out?"
   ]
  },
  {
   "cell_type": "code",
   "execution_count": 15,
   "id": "2a725dda-f130-4afe-9fb4-7e5edc171d13",
   "metadata": {},
   "outputs": [
    {
     "name": "stdout",
     "output_type": "stream",
     "text": [
      "Editorial: Hey, QAnon — Texas had an actual child sex ring. Paxton’s office let them off.\n",
      "Sanders: Biden’s Marijuana Pardons Are Good — Legalization Would Be Even Better\n",
      "Elon Musk suggests making Taiwan a ‘special administrative zone’ similar to Hong Kong\n",
      "Anyone else in Chicago noticing how Fox News keeps pumping up our suburbs, and trying to shame the city in efforts to attrack GOP residents to help GOP governor race in Illinois?\n",
      "Urfi wore a bold saree! Spread the flames of her hotness like this\n",
      "Transgender inmate denied gender confirmation surgery to get $2.5M from Idaho\n",
      "Richard Linklater’s Next Project: Taking Down Greg Abbott\n",
      "For people who are pro illegal immigration if a family member was killed by a illegal immigrant would you change your stance?\n",
      "Some intergovernmental organization of world.\n",
      "House Democrats seek to censure Marjorie Taylor Greene over ‘Biden is Hitler’ comment\n",
      "Joe Biden is still pretty unpopular\n",
      "Elon Musk says Joe Biden is too old for a second term: 'How in touch with the people are you? Is it even possible to be?'\n",
      "Yes, Biden Said 'No One F*cks with a Biden' on 'Hot Mic'\n",
      "Testimony sought from Michael Flynn and Newt Gingrich in Georgia 2020 election probe\n",
      "Local prosecutor in Kinney County hot spot calls Abbott’s border arrests a 'waste of time and money'\n",
      "Federal judge rules Texas employers can discriminate against LGBT-'related conduct'\n",
      "Arizona GOP raised record money with misleading pitches on election audit\n",
      "A federal judge strikes down another conservative lawsuit against Biden's student-debt cancellation — but says a future administration could collect on the forgiven loans\n",
      "Trump is hesitant to keeping campaigning for Herschel Walker in case the scandals around him get worse, report says\n",
      "Trump is hesitant to keeping campaigning for Herschel Walker in case the scandals around him get worse, report says\n",
      "Herschel Walker’s Wife Reaches Out to His Abortion Accuser\n",
      "New York City Mayor Eric Adams declares state of emergency over asylum seeker crisis\n",
      "The Dark Secret Behind Our U.S Elections\n",
      "Fact Check- Has Donald Trump Asked Supporters to Boycott All Elections?\n",
      "Ted Cruz ripped for continuing to support Herschel Walker\n",
      "Donald Trump Channels George Costanza, Because It's Not A Lie If You Believe It Bigly\n",
      "“Let me start off with two words. ‘MADE IN AMERICA’”. - Your president.\n",
      "Texas judge cuts protections for LGBTQ+ workers, transgender youth\n",
      "Why retired federal Judge J. Michael Luttig is right about electoral system\n",
      "The most terrifying case of all is about to be heard by the US supreme court | Steven Donziger\n"
     ]
    }
   ],
   "source": [
    "for i in range(30):\n",
    "    print(post_df['title'][i])"
   ]
  },
  {
   "cell_type": "markdown",
   "id": "b7506a2a-0a0d-4193-8ebb-8832224b3553",
   "metadata": {},
   "source": [
    "It appears that some titles are duplicates, likely because it is the same news article titles posted twice. So maybe I should get rid of those as well, at least when they are posted within the same subreddit"
   ]
  },
  {
   "cell_type": "code",
   "execution_count": 16,
   "id": "18c9a648-e358-4622-b5ca-56cf892f0072",
   "metadata": {},
   "outputs": [
    {
     "data": {
      "text/plain": [
       "(18936, 8)"
      ]
     },
     "execution_count": 16,
     "metadata": {},
     "output_type": "execute_result"
    }
   ],
   "source": [
    "post_df = post_df.drop_duplicates(subset=['title', 'subreddit'])\n",
    "post_df.shape"
   ]
  },
  {
   "cell_type": "markdown",
   "id": "491b46e9-1a8a-4881-b854-024b728949af",
   "metadata": {},
   "source": [
    "## 1.2) Language EDA"
   ]
  },
  {
   "cell_type": "markdown",
   "id": "4f394daf-97d3-45de-8227-285ee3f6089c",
   "metadata": {},
   "source": [
    "Let's start by making a new column for the word length of the title"
   ]
  },
  {
   "cell_type": "code",
   "execution_count": 17,
   "id": "4dd43e19-a8be-4097-af24-e6b780b3669e",
   "metadata": {},
   "outputs": [],
   "source": [
    "post_df['word_length'] = post_df['title'].map(lambda x: len(x.split(' ')))"
   ]
  },
  {
   "cell_type": "markdown",
   "id": "3fb0b962-bf68-44d8-b24e-e2f42b5e6dd4",
   "metadata": {},
   "source": [
    "For the 3 pieces of additional information that I have now for each title, is there a difference between the two subreddits? That is, could I use any of this information to help tell them apart?"
   ]
  },
  {
   "cell_type": "code",
   "execution_count": 18,
   "id": "9fda10de-4138-46b6-8ca7-9d41f62b3b55",
   "metadata": {},
   "outputs": [
    {
     "name": "stdout",
     "output_type": "stream",
     "text": [
      "Mean values:\n"
     ]
    },
    {
     "data": {
      "text/html": [
       "<div>\n",
       "<style scoped>\n",
       "    .dataframe tbody tr th:only-of-type {\n",
       "        vertical-align: middle;\n",
       "    }\n",
       "\n",
       "    .dataframe tbody tr th {\n",
       "        vertical-align: top;\n",
       "    }\n",
       "\n",
       "    .dataframe thead th {\n",
       "        text-align: right;\n",
       "    }\n",
       "</style>\n",
       "<table border=\"1\" class=\"dataframe\">\n",
       "  <thead>\n",
       "    <tr style=\"text-align: right;\">\n",
       "      <th></th>\n",
       "      <th>num_comments</th>\n",
       "      <th>upvote_ratio</th>\n",
       "      <th>word_length</th>\n",
       "    </tr>\n",
       "    <tr>\n",
       "      <th>subreddit</th>\n",
       "      <th></th>\n",
       "      <th></th>\n",
       "      <th></th>\n",
       "    </tr>\n",
       "  </thead>\n",
       "  <tbody>\n",
       "    <tr>\n",
       "      <th>conservative</th>\n",
       "      <td>17.541508</td>\n",
       "      <td>0.853174</td>\n",
       "      <td>12.341688</td>\n",
       "    </tr>\n",
       "    <tr>\n",
       "      <th>politics</th>\n",
       "      <td>80.629212</td>\n",
       "      <td>0.887133</td>\n",
       "      <td>12.935282</td>\n",
       "    </tr>\n",
       "  </tbody>\n",
       "</table>\n",
       "</div>"
      ],
      "text/plain": [
       "              num_comments  upvote_ratio  word_length\n",
       "subreddit                                            \n",
       "conservative     17.541508      0.853174    12.341688\n",
       "politics         80.629212      0.887133    12.935282"
      ]
     },
     "metadata": {},
     "output_type": "display_data"
    },
    {
     "name": "stdout",
     "output_type": "stream",
     "text": [
      "------------------------------\n",
      "Standard deviations:\n"
     ]
    },
    {
     "data": {
      "text/html": [
       "<div>\n",
       "<style scoped>\n",
       "    .dataframe tbody tr th:only-of-type {\n",
       "        vertical-align: middle;\n",
       "    }\n",
       "\n",
       "    .dataframe tbody tr th {\n",
       "        vertical-align: top;\n",
       "    }\n",
       "\n",
       "    .dataframe thead th {\n",
       "        text-align: right;\n",
       "    }\n",
       "</style>\n",
       "<table border=\"1\" class=\"dataframe\">\n",
       "  <thead>\n",
       "    <tr style=\"text-align: right;\">\n",
       "      <th></th>\n",
       "      <th>num_comments</th>\n",
       "      <th>upvote_ratio</th>\n",
       "      <th>word_length</th>\n",
       "    </tr>\n",
       "    <tr>\n",
       "      <th>subreddit</th>\n",
       "      <th></th>\n",
       "      <th></th>\n",
       "      <th></th>\n",
       "    </tr>\n",
       "  </thead>\n",
       "  <tbody>\n",
       "    <tr>\n",
       "      <th>conservative</th>\n",
       "      <td>61.995190</td>\n",
       "      <td>0.157502</td>\n",
       "      <td>6.789316</td>\n",
       "    </tr>\n",
       "    <tr>\n",
       "      <th>politics</th>\n",
       "      <td>422.866306</td>\n",
       "      <td>0.212467</td>\n",
       "      <td>6.981590</td>\n",
       "    </tr>\n",
       "  </tbody>\n",
       "</table>\n",
       "</div>"
      ],
      "text/plain": [
       "              num_comments  upvote_ratio  word_length\n",
       "subreddit                                            \n",
       "conservative     61.995190      0.157502     6.789316\n",
       "politics        422.866306      0.212467     6.981590"
      ]
     },
     "metadata": {},
     "output_type": "display_data"
    }
   ],
   "source": [
    "print('Mean values:')\n",
    "display(post_df[['subreddit', 'num_comments', 'upvote_ratio', 'word_length']].groupby(by='subreddit').mean(numeric_only=True))\n",
    "print('-'*30)\n",
    "print('Standard deviations:')\n",
    "display(post_df[['subreddit', 'num_comments', 'upvote_ratio', 'word_length']].groupby(by='subreddit').std(numeric_only=True))\n"
   ]
  },
  {
   "cell_type": "markdown",
   "id": "bd439bc9-e4a4-404a-9ad7-b2fc9a490ef6",
   "metadata": {},
   "source": [
    "It appears that word length and upvote ratio are pretty similar overall for both subreddits, which might mean they will not be that useful for my classification modeling.\n",
    "\n",
    "However, it appears that num_comments is a little different between the two subreddits. However, for both the distribution is highly asymmetric, which makes intuitive sense. Most posts only get a few comments, and a relatively small percentage will pick up steam and gain a lot of attention/comments/engagement. Let's plot the distributions:\n"
   ]
  },
  {
   "cell_type": "code",
   "execution_count": 19,
   "id": "2872b54c-0853-4f37-a758-57bf3cca0a80",
   "metadata": {},
   "outputs": [
    {
     "data": {
      "image/png": "[encoded data removed]",
      "text/plain": [
       "<Figure size 800x600 with 1 Axes>"
      ]
     },
     "metadata": {},
     "output_type": "display_data"
    }
   ],
   "source": [
    "fig, ax = plt.subplots(figsize=(8,6))\n",
    "\n",
    "logbins = np.logspace(0, 4, 25)\n",
    "ax.hist(post_df[post_df['subreddit'] == 'politics']['num_comments'], bins=logbins, histtype='step', linewidth=3, label='r/politics')\n",
    "ax.hist(post_df[post_df['subreddit'] == 'conservative']['num_comments'], bins=logbins, histtype='step', linewidth=3, label='r/conservative')\n",
    "\n",
    "ax.set_xscale('log')\n",
    "ax.set_xlabel('Number of comments', fontsize=14)\n",
    "ax.set_ylabel('Frequency', fontsize=14)\n",
    "ax.legend(frameon=False, numpoints=1, fontsize=14)\n",
    "ax.set_title('Distribution of nr of comments below each post', fontweight='bold', fontsize=14)\n",
    "fig.savefig('../figures/posts_num_comments.png', dpi=300)\n",
    "plt.show()"
   ]
  },
  {
   "cell_type": "markdown",
   "id": "261e41b8-55c7-4e65-86b4-5a347f5694bb",
   "metadata": {},
   "source": [
    "This distribution is bimodal. A lot of posts will only get 1 comment (for r/politics, it might be a subreddit bot that automatically posts below each post - that would explain why that peak is so high). For both subreddits, there is a second peak which is for the posts that do get some engagement. The mode for this second peak is different for both subreddits - at around 10 comments for r/conservative, and around 40 comments for r/politics.\n",
    "\n",
    "Next - it might be interesting to do some EDA relating to word frequency. \n",
    "\n",
    "Sidenote: for the EDA in this notebook I'll use CountVectorizer() just because it makes more intuitive sense when looking a/t word frequency. For the actual modeling I'll use TfidfVectorizer(), which weighs words by how often they appear in other documents across the corpus."
   ]
  },
  {
   "cell_type": "code",
   "execution_count": 20,
   "id": "bbc57682-df44-4186-93f9-c84e0b814b8a",
   "metadata": {},
   "outputs": [
    {
     "data": {
      "text/plain": [
       "(18936, 16967)"
      ]
     },
     "execution_count": 20,
     "metadata": {},
     "output_type": "execute_result"
    }
   ],
   "source": [
    "cvec = CountVectorizer(stop_words='english')\n",
    "\n",
    "X = post_df['title']\n",
    "cvec.fit(X)\n",
    "X_cv = cvec.transform(X)\n",
    "X_cv.shape"
   ]
  },
  {
   "cell_type": "code",
   "execution_count": 21,
   "id": "63a42ca6-55e1-456d-9792-61891835e01f",
   "metadata": {},
   "outputs": [],
   "source": [
    "words_df = pd.DataFrame(X_cv.todense(), columns = cvec.get_feature_names_out())\n",
    "words_df = words_df.set_index(post_df.index)"
   ]
  },
  {
   "cell_type": "code",
   "execution_count": 22,
   "id": "274faff4-af4f-423a-8ece-eac637d7a1d7",
   "metadata": {},
   "outputs": [
    {
     "data": {
      "text/html": [
       "<div>\n",
       "<style scoped>\n",
       "    .dataframe tbody tr th:only-of-type {\n",
       "        vertical-align: middle;\n",
       "    }\n",
       "\n",
       "    .dataframe tbody tr th {\n",
       "        vertical-align: top;\n",
       "    }\n",
       "\n",
       "    .dataframe thead th {\n",
       "        text-align: right;\n",
       "    }\n",
       "</style>\n",
       "<table border=\"1\" class=\"dataframe\">\n",
       "  <thead>\n",
       "    <tr style=\"text-align: right;\">\n",
       "      <th></th>\n",
       "      <th>00</th>\n",
       "      <th>000</th>\n",
       "      <th>0003</th>\n",
       "      <th>001</th>\n",
       "      <th>01</th>\n",
       "      <th>03</th>\n",
       "      <th>030</th>\n",
       "      <th>035</th>\n",
       "      <th>04</th>\n",
       "      <th>05</th>\n",
       "      <th>...</th>\n",
       "      <th>zoomers</th>\n",
       "      <th>zqeconnq8pq</th>\n",
       "      <th>zte</th>\n",
       "      <th>zuckbucks</th>\n",
       "      <th>zucker</th>\n",
       "      <th>zuckerberg</th>\n",
       "      <th>zwillich</th>\n",
       "      <th>zxumskxdrd</th>\n",
       "      <th>ölü</th>\n",
       "      <th>еxtrеmists</th>\n",
       "    </tr>\n",
       "    <tr>\n",
       "      <th>id</th>\n",
       "      <th></th>\n",
       "      <th></th>\n",
       "      <th></th>\n",
       "      <th></th>\n",
       "      <th></th>\n",
       "      <th></th>\n",
       "      <th></th>\n",
       "      <th></th>\n",
       "      <th></th>\n",
       "      <th></th>\n",
       "      <th></th>\n",
       "      <th></th>\n",
       "      <th></th>\n",
       "      <th></th>\n",
       "      <th></th>\n",
       "      <th></th>\n",
       "      <th></th>\n",
       "      <th></th>\n",
       "      <th></th>\n",
       "      <th></th>\n",
       "      <th></th>\n",
       "    </tr>\n",
       "  </thead>\n",
       "  <tbody>\n",
       "    <tr>\n",
       "      <th>xylvpq</th>\n",
       "      <td>0</td>\n",
       "      <td>0</td>\n",
       "      <td>0</td>\n",
       "      <td>0</td>\n",
       "      <td>0</td>\n",
       "      <td>0</td>\n",
       "      <td>0</td>\n",
       "      <td>0</td>\n",
       "      <td>0</td>\n",
       "      <td>0</td>\n",
       "      <td>...</td>\n",
       "      <td>0</td>\n",
       "      <td>0</td>\n",
       "      <td>0</td>\n",
       "      <td>0</td>\n",
       "      <td>0</td>\n",
       "      <td>0</td>\n",
       "      <td>0</td>\n",
       "      <td>0</td>\n",
       "      <td>0</td>\n",
       "      <td>0</td>\n",
       "    </tr>\n",
       "    <tr>\n",
       "      <th>xylh3y</th>\n",
       "      <td>0</td>\n",
       "      <td>0</td>\n",
       "      <td>0</td>\n",
       "      <td>0</td>\n",
       "      <td>0</td>\n",
       "      <td>0</td>\n",
       "      <td>0</td>\n",
       "      <td>0</td>\n",
       "      <td>0</td>\n",
       "      <td>0</td>\n",
       "      <td>...</td>\n",
       "      <td>0</td>\n",
       "      <td>0</td>\n",
       "      <td>0</td>\n",
       "      <td>0</td>\n",
       "      <td>0</td>\n",
       "      <td>0</td>\n",
       "      <td>0</td>\n",
       "      <td>0</td>\n",
       "      <td>0</td>\n",
       "      <td>0</td>\n",
       "    </tr>\n",
       "    <tr>\n",
       "      <th>xyla6d</th>\n",
       "      <td>0</td>\n",
       "      <td>0</td>\n",
       "      <td>0</td>\n",
       "      <td>0</td>\n",
       "      <td>0</td>\n",
       "      <td>0</td>\n",
       "      <td>0</td>\n",
       "      <td>0</td>\n",
       "      <td>0</td>\n",
       "      <td>0</td>\n",
       "      <td>...</td>\n",
       "      <td>0</td>\n",
       "      <td>0</td>\n",
       "      <td>0</td>\n",
       "      <td>0</td>\n",
       "      <td>0</td>\n",
       "      <td>0</td>\n",
       "      <td>0</td>\n",
       "      <td>0</td>\n",
       "      <td>0</td>\n",
       "      <td>0</td>\n",
       "    </tr>\n",
       "    <tr>\n",
       "      <th>xykwzh</th>\n",
       "      <td>0</td>\n",
       "      <td>0</td>\n",
       "      <td>0</td>\n",
       "      <td>0</td>\n",
       "      <td>0</td>\n",
       "      <td>0</td>\n",
       "      <td>0</td>\n",
       "      <td>0</td>\n",
       "      <td>0</td>\n",
       "      <td>0</td>\n",
       "      <td>...</td>\n",
       "      <td>0</td>\n",
       "      <td>0</td>\n",
       "      <td>0</td>\n",
       "      <td>0</td>\n",
       "      <td>0</td>\n",
       "      <td>0</td>\n",
       "      <td>0</td>\n",
       "      <td>0</td>\n",
       "      <td>0</td>\n",
       "      <td>0</td>\n",
       "    </tr>\n",
       "    <tr>\n",
       "      <th>xykox1</th>\n",
       "      <td>0</td>\n",
       "      <td>0</td>\n",
       "      <td>0</td>\n",
       "      <td>0</td>\n",
       "      <td>0</td>\n",
       "      <td>0</td>\n",
       "      <td>0</td>\n",
       "      <td>0</td>\n",
       "      <td>0</td>\n",
       "      <td>0</td>\n",
       "      <td>...</td>\n",
       "      <td>0</td>\n",
       "      <td>0</td>\n",
       "      <td>0</td>\n",
       "      <td>0</td>\n",
       "      <td>0</td>\n",
       "      <td>0</td>\n",
       "      <td>0</td>\n",
       "      <td>0</td>\n",
       "      <td>0</td>\n",
       "      <td>0</td>\n",
       "    </tr>\n",
       "    <tr>\n",
       "      <th>...</th>\n",
       "      <td>...</td>\n",
       "      <td>...</td>\n",
       "      <td>...</td>\n",
       "      <td>...</td>\n",
       "      <td>...</td>\n",
       "      <td>...</td>\n",
       "      <td>...</td>\n",
       "      <td>...</td>\n",
       "      <td>...</td>\n",
       "      <td>...</td>\n",
       "      <td>...</td>\n",
       "      <td>...</td>\n",
       "      <td>...</td>\n",
       "      <td>...</td>\n",
       "      <td>...</td>\n",
       "      <td>...</td>\n",
       "      <td>...</td>\n",
       "      <td>...</td>\n",
       "      <td>...</td>\n",
       "      <td>...</td>\n",
       "      <td>...</td>\n",
       "    </tr>\n",
       "    <tr>\n",
       "      <th>ynk5mr</th>\n",
       "      <td>0</td>\n",
       "      <td>0</td>\n",
       "      <td>0</td>\n",
       "      <td>0</td>\n",
       "      <td>0</td>\n",
       "      <td>0</td>\n",
       "      <td>0</td>\n",
       "      <td>0</td>\n",
       "      <td>0</td>\n",
       "      <td>0</td>\n",
       "      <td>...</td>\n",
       "      <td>0</td>\n",
       "      <td>0</td>\n",
       "      <td>0</td>\n",
       "      <td>0</td>\n",
       "      <td>0</td>\n",
       "      <td>0</td>\n",
       "      <td>0</td>\n",
       "      <td>0</td>\n",
       "      <td>0</td>\n",
       "      <td>0</td>\n",
       "    </tr>\n",
       "    <tr>\n",
       "      <th>ynjoyf</th>\n",
       "      <td>0</td>\n",
       "      <td>0</td>\n",
       "      <td>0</td>\n",
       "      <td>0</td>\n",
       "      <td>0</td>\n",
       "      <td>0</td>\n",
       "      <td>0</td>\n",
       "      <td>0</td>\n",
       "      <td>0</td>\n",
       "      <td>0</td>\n",
       "      <td>...</td>\n",
       "      <td>0</td>\n",
       "      <td>0</td>\n",
       "      <td>0</td>\n",
       "      <td>0</td>\n",
       "      <td>0</td>\n",
       "      <td>0</td>\n",
       "      <td>0</td>\n",
       "      <td>0</td>\n",
       "      <td>0</td>\n",
       "      <td>0</td>\n",
       "    </tr>\n",
       "    <tr>\n",
       "      <th>ynjone</th>\n",
       "      <td>0</td>\n",
       "      <td>0</td>\n",
       "      <td>0</td>\n",
       "      <td>0</td>\n",
       "      <td>0</td>\n",
       "      <td>0</td>\n",
       "      <td>0</td>\n",
       "      <td>0</td>\n",
       "      <td>0</td>\n",
       "      <td>0</td>\n",
       "      <td>...</td>\n",
       "      <td>0</td>\n",
       "      <td>0</td>\n",
       "      <td>0</td>\n",
       "      <td>0</td>\n",
       "      <td>0</td>\n",
       "      <td>0</td>\n",
       "      <td>0</td>\n",
       "      <td>0</td>\n",
       "      <td>0</td>\n",
       "      <td>0</td>\n",
       "    </tr>\n",
       "    <tr>\n",
       "      <th>ynjjya</th>\n",
       "      <td>0</td>\n",
       "      <td>0</td>\n",
       "      <td>0</td>\n",
       "      <td>0</td>\n",
       "      <td>0</td>\n",
       "      <td>0</td>\n",
       "      <td>0</td>\n",
       "      <td>0</td>\n",
       "      <td>0</td>\n",
       "      <td>0</td>\n",
       "      <td>...</td>\n",
       "      <td>0</td>\n",
       "      <td>0</td>\n",
       "      <td>0</td>\n",
       "      <td>0</td>\n",
       "      <td>0</td>\n",
       "      <td>0</td>\n",
       "      <td>0</td>\n",
       "      <td>0</td>\n",
       "      <td>0</td>\n",
       "      <td>0</td>\n",
       "    </tr>\n",
       "    <tr>\n",
       "      <th>ynjjip</th>\n",
       "      <td>0</td>\n",
       "      <td>0</td>\n",
       "      <td>0</td>\n",
       "      <td>0</td>\n",
       "      <td>0</td>\n",
       "      <td>0</td>\n",
       "      <td>0</td>\n",
       "      <td>0</td>\n",
       "      <td>0</td>\n",
       "      <td>0</td>\n",
       "      <td>...</td>\n",
       "      <td>0</td>\n",
       "      <td>0</td>\n",
       "      <td>0</td>\n",
       "      <td>0</td>\n",
       "      <td>0</td>\n",
       "      <td>0</td>\n",
       "      <td>0</td>\n",
       "      <td>0</td>\n",
       "      <td>0</td>\n",
       "      <td>0</td>\n",
       "    </tr>\n",
       "  </tbody>\n",
       "</table>\n",
       "<p>8962 rows × 16967 columns</p>\n",
       "</div>"
      ],
      "text/plain": [
       "        00  000  0003  001  01  03  030  035  04  05  ...  zoomers  \\\n",
       "id                                                    ...            \n",
       "xylvpq   0    0     0    0   0   0    0    0   0   0  ...        0   \n",
       "xylh3y   0    0     0    0   0   0    0    0   0   0  ...        0   \n",
       "xyla6d   0    0     0    0   0   0    0    0   0   0  ...        0   \n",
       "xykwzh   0    0     0    0   0   0    0    0   0   0  ...        0   \n",
       "xykox1   0    0     0    0   0   0    0    0   0   0  ...        0   \n",
       "...     ..  ...   ...  ...  ..  ..  ...  ...  ..  ..  ...      ...   \n",
       "ynk5mr   0    0     0    0   0   0    0    0   0   0  ...        0   \n",
       "ynjoyf   0    0     0    0   0   0    0    0   0   0  ...        0   \n",
       "ynjone   0    0     0    0   0   0    0    0   0   0  ...        0   \n",
       "ynjjya   0    0     0    0   0   0    0    0   0   0  ...        0   \n",
       "ynjjip   0    0     0    0   0   0    0    0   0   0  ...        0   \n",
       "\n",
       "        zqeconnq8pq  zte  zuckbucks  zucker  zuckerberg  zwillich  zxumskxdrd  \\\n",
       "id                                                                              \n",
       "xylvpq            0    0          0       0           0         0           0   \n",
       "xylh3y            0    0          0       0           0         0           0   \n",
       "xyla6d            0    0          0       0           0         0           0   \n",
       "xykwzh            0    0          0       0           0         0           0   \n",
       "xykox1            0    0          0       0           0         0           0   \n",
       "...             ...  ...        ...     ...         ...       ...         ...   \n",
       "ynk5mr            0    0          0       0           0         0           0   \n",
       "ynjoyf            0    0          0       0           0         0           0   \n",
       "ynjone            0    0          0       0           0         0           0   \n",
       "ynjjya            0    0          0       0           0         0           0   \n",
       "ynjjip            0    0          0       0           0         0           0   \n",
       "\n",
       "        ölü  еxtrеmists  \n",
       "id                       \n",
       "xylvpq    0           0  \n",
       "xylh3y    0           0  \n",
       "xyla6d    0           0  \n",
       "xykwzh    0           0  \n",
       "xykox1    0           0  \n",
       "...     ...         ...  \n",
       "ynk5mr    0           0  \n",
       "ynjoyf    0           0  \n",
       "ynjone    0           0  \n",
       "ynjjya    0           0  \n",
       "ynjjip    0           0  \n",
       "\n",
       "[8962 rows x 16967 columns]"
      ]
     },
     "execution_count": 22,
     "metadata": {},
     "output_type": "execute_result"
    }
   ],
   "source": [
    "words_df[post_df['subreddit']=='politics']"
   ]
  },
  {
   "cell_type": "code",
   "execution_count": 23,
   "id": "17c0b18d-642a-4798-9c04-54bd32572400",
   "metadata": {},
   "outputs": [],
   "source": [
    "pol_mwords = words_df[post_df['subreddit']=='politics'].sum().sort_values(ascending=False)\n",
    "con_mwords = words_df[post_df['subreddit']=='conservative'].sum().sort_values(ascending=False)"
   ]
  },
  {
   "cell_type": "markdown",
   "id": "bb2a164d-c851-4fc0-b499-070d9635ead4",
   "metadata": {},
   "source": [
    "We now have the most frequently occuring words for both subreddit. Let's first make a simple barchart of the most occuring words in each subreddit"
   ]
  },
  {
   "cell_type": "code",
   "execution_count": 24,
   "id": "1a63dd6b-cf61-45e3-aaae-aef2d2776473",
   "metadata": {},
   "outputs": [
    {
     "data": {
      "image/png": "[encoded data removed]",
      "text/plain": [
       "<Figure size 1000x800 with 1 Axes>"
      ]
     },
     "metadata": {},
     "output_type": "display_data"
    }
   ],
   "source": [
    "pol_mwords.head(n=15).plot.barh(figsize=(10,8));"
   ]
  },
  {
   "cell_type": "code",
   "execution_count": 25,
   "id": "4ac70232-8d42-4384-a50a-a10ffdeadad8",
   "metadata": {},
   "outputs": [
    {
     "data": {
      "image/png": "[encoded data removed]",
      "text/plain": [
       "<Figure size 1000x800 with 1 Axes>"
      ]
     },
     "metadata": {},
     "output_type": "display_data"
    }
   ],
   "source": [
    "con_mwords.head(n=15).plot.barh(figsize=(10,8), color='red');"
   ]
  },
  {
   "cell_type": "markdown",
   "id": "b4b484f9-10dc-4eef-8e06-948ddba0facf",
   "metadata": {},
   "source": [
    "'Biden' and 'Trump' were both mentioned the most in both subreddits. But what about words that frequently occur in one subreddit, but not in the other one? Those are the words that might actually help the most to classify which subreddit the data comes from"
   ]
  },
  {
   "cell_type": "code",
   "execution_count": 26,
   "id": "2b2823c4-4f0f-44dc-b10b-6cc43d095e68",
   "metadata": {},
   "outputs": [],
   "source": [
    "def calc_uwords(w1,w2, n=15):\n",
    "    \"\"\"\n",
    "    Find out the n most occuring unique words in series w1 and w2 (sorted by occurence)\n",
    "    Parameters\n",
    "        w1 and w2 (lists): lists of words\n",
    "    Returns:\n",
    "        uw1 (list): list of top n words in w1 that do not occur in the top n words of w2\n",
    "        uw2 (list): list of top n words in w2 that do not occur in the top n words of w1\n",
    "    \"\"\"\n",
    "    \n",
    "    uw1, uw2 = [], []\n",
    "    i = 0 \n",
    "    \n",
    "    #keep going until both lists are n words long\n",
    "    while (len(uw1) < n) and (len(uw2) < n):\n",
    "        #Only add word to l1 if its not already in l2\n",
    "        if (w1[i] not in uw2) and (len(uw1) < n):\n",
    "            uw1.append(w1[i])\n",
    "        #If the word is already in l2 and was encountered in l1, retroactively remove it from l2 as well\n",
    "        elif (w1[i] in uw2):\n",
    "            uw2.remove(w1[i])\n",
    "            nuw.append(w1[i])\n",
    "            \n",
    "        #Vice versa\n",
    "        if (w2[i] not in uw1) and (len(uw2) < n):\n",
    "            uw2.append(w2[i])\n",
    "        elif (w2[i] in uw1):\n",
    "            uw1.remove(w2[i])\n",
    "            nuw.append(w2[i])\n",
    "        i += 1\n",
    "    return uw1, uw2"
   ]
  },
  {
   "cell_type": "code",
   "execution_count": 27,
   "id": "653d5d15-6a46-471d-a9df-e1ec2845765f",
   "metadata": {},
   "outputs": [
    {
     "ename": "NameError",
     "evalue": "name 'nuw' is not defined",
     "output_type": "error",
     "traceback": [
      "\u001b[0;31m---------------------------------------------------------------------------\u001b[0m",
      "\u001b[0;31mNameError\u001b[0m                                 Traceback (most recent call last)",
      "Cell \u001b[0;32mIn[27], line 2\u001b[0m\n\u001b[1;32m      1\u001b[0m n_unique \u001b[38;5;241m=\u001b[39m \u001b[38;5;241m10\u001b[39m \u001b[38;5;66;03m#number of unique words we want to investigate\u001b[39;00m\n\u001b[0;32m----> 2\u001b[0m uw1, uw2 \u001b[38;5;241m=\u001b[39m \u001b[43mcalc_uwords\u001b[49m\u001b[43m(\u001b[49m\u001b[43mpol_mwords\u001b[49m\u001b[38;5;241;43m.\u001b[39;49m\u001b[43mindex\u001b[49m\u001b[43m,\u001b[49m\u001b[43m \u001b[49m\u001b[43mcon_mwords\u001b[49m\u001b[38;5;241;43m.\u001b[39;49m\u001b[43mindex\u001b[49m\u001b[43m,\u001b[49m\u001b[43m \u001b[49m\u001b[43mn\u001b[49m\u001b[38;5;241;43m=\u001b[39;49m\u001b[43mn_unique\u001b[49m\u001b[43m)\u001b[49m\n",
      "Cell \u001b[0;32mIn[26], line 22\u001b[0m, in \u001b[0;36mcalc_uwords\u001b[0;34m(w1, w2, n)\u001b[0m\n\u001b[1;32m     20\u001b[0m \u001b[38;5;28;01melif\u001b[39;00m (w1[i] \u001b[38;5;129;01min\u001b[39;00m uw2):\n\u001b[1;32m     21\u001b[0m     uw2\u001b[38;5;241m.\u001b[39mremove(w1[i])\n\u001b[0;32m---> 22\u001b[0m     \u001b[43mnuw\u001b[49m\u001b[38;5;241m.\u001b[39mappend(w1[i])\n\u001b[1;32m     24\u001b[0m \u001b[38;5;66;03m#Vice versa\u001b[39;00m\n\u001b[1;32m     25\u001b[0m \u001b[38;5;28;01mif\u001b[39;00m (w2[i] \u001b[38;5;129;01mnot\u001b[39;00m \u001b[38;5;129;01min\u001b[39;00m uw1) \u001b[38;5;129;01mand\u001b[39;00m (\u001b[38;5;28mlen\u001b[39m(uw2) \u001b[38;5;241m<\u001b[39m n):\n",
      "\u001b[0;31mNameError\u001b[0m: name 'nuw' is not defined"
     ]
    }
   ],
   "source": [
    "n_unique = 10 #number of unique words we want to investigate\n",
    "uw1, uw2 = calc_uwords(pol_mwords.index, con_mwords.index, n=n_unique)"
   ]
  },
  {
   "cell_type": "markdown",
   "id": "34185548-13f3-4135-83d0-38dd0a4eab81",
   "metadata": {},
   "source": [
    "Now let's plot both together in a bar chart"
   ]
  },
  {
   "cell_type": "code",
   "execution_count": null,
   "id": "86ae290f-0260-4e82-adbe-199b88521cc7",
   "metadata": {},
   "outputs": [],
   "source": [
    "words_tot =  pol_mwords[uw1].values.tolist() + con_mwords[uw2].values.tolist()"
   ]
  },
  {
   "cell_type": "code",
   "execution_count": null,
   "id": "a0a1dc87-1893-4a4f-99b8-e1e83593b695",
   "metadata": {},
   "outputs": [],
   "source": [
    "y_tot = np.arange(n_unique*2)\n",
    "print(len(y_tot), len(words_tot))\n",
    "\n",
    "fig, ax = plt.subplots(figsize=(8, 10))\n",
    "clist = ['tab:blue'] * n_unique + ['tab:red'] * n_unique\n",
    "ax.barh(y_tot, words_tot, color=clist)\n",
    "\n",
    "        \n",
    "ax.set_yticks(y_tot)\n",
    "ax.set_yticklabels(labels=uw1+uw2, fontsize=14)\n",
    "\n",
    "ax.invert_yaxis() \n",
    "#ax.set_xlim(0, 250)\n",
    "ax.set_xlabel('Number of occurences', fontsize=16)\n",
    "ax.set_title('Top 10 most Unique words in r/Politics and r/Conservative titles', fontsize=14, fontweight='bold')\n",
    "fig.savefig('../figures/uwords_titles.png', dpi=300)\n",
    "plt.show()"
   ]
  },
  {
   "cell_type": "markdown",
   "id": "bbabd1f3-a87a-4064-b593-2d71fae50460",
   "metadata": {},
   "source": [
    "### 1.3) Other features\n",
    "\n",
    "Finally, I'd like to do some feature engineering to the URL column - to extract the domain name that the page links to.\n",
    "Do all URLs at least contain 'http' or 'www.'? That will make life easier"
   ]
  },
  {
   "cell_type": "code",
   "execution_count": null,
   "id": "31e7c070-a0ad-4e9e-9e4f-6ac5b00a8f3e",
   "metadata": {},
   "outputs": [],
   "source": [
    "for i in range(post_df.shape[0]):\n",
    "    url = post_df['url'][i]\n",
    "    if type(url) == float:\n",
    "        continue \n",
    "    elif (('http' in url) or ('www.' in url)):\n",
    "        continue\n",
    "    else:\n",
    "        print(i, url)"
   ]
  },
  {
   "cell_type": "markdown",
   "id": "f02ef669-de14-4906-bce4-cfac747098a1",
   "metadata": {},
   "source": [
    "Alright - so all urls are either a float ('nan'), or have 'http' or 'www.' in the link.\n",
    "It also appears that some links are simply pictures, mostly hosted on reddit itself. When that's the case, I will simply classify the link as 'Image'.\n",
    "A second minor issue is that youtube links are sometimes 'youtu.be'. I'll hardcode this to change it to 'youtube'\n",
    "Now I can write a function to extract the domain name from the URL"
   ]
  },
  {
   "cell_type": "code",
   "execution_count": null,
   "id": "5e2290a4-6665-4793-8cfe-5e15f7b02701",
   "metadata": {},
   "outputs": [],
   "source": [
    "def extract_domain(url):\n",
    "    \"\"\"\n",
    "    Extracts the domain name (the part between the www. and the \n",
    "    \"\"\"\n",
    "    if type(url) == float:\n",
    "        domain = 'none'\n",
    "    elif (url[-4:] == '.jpg') or (url[-4:] == '.png'):\n",
    "        domain = 'image'\n",
    "    elif 'www.' in url:\n",
    "        domain = url.split('.')[1]\n",
    "    elif 'http' in url:\n",
    "        domain = url.split('://')[1].split('.')[0]\n",
    "    \n",
    "    if domain == 'youtu':\n",
    "        domain = 'youtube'\n",
    "    return domain"
   ]
  },
  {
   "cell_type": "code",
   "execution_count": null,
   "id": "4639f389-1f3c-4a74-929e-9c94219afaca",
   "metadata": {},
   "outputs": [],
   "source": [
    "post_df['domain'] = post_df['url'].map(lambda x: extract_domain(x))\n",
    "post_df['domain'].value_counts()"
   ]
  },
  {
   "cell_type": "markdown",
   "id": "be671631-1302-42b3-b193-6e2a56c16a69",
   "metadata": {},
   "source": [
    "Hmm - this series has too many different domains. Could I narrow this down and only use the most frequent ones as categories? Let's say all the domains that have had more than 30 posts on either subreddit"
   ]
  },
  {
   "cell_type": "code",
   "execution_count": null,
   "id": "7b62755f-a138-4a41-ad95-e528119e8f13",
   "metadata": {},
   "outputs": [],
   "source": [
    "domains = post_df['domain'].value_counts()\n",
    "print(domains[domains > 30])\n",
    "print('total amount of posts from most frequent domains:', domains[domains > 30].sum())"
   ]
  },
  {
   "cell_type": "markdown",
   "id": "f648d044-0425-4fad-adf9-4c6481dd60f4",
   "metadata": {},
   "source": [
    "These 83 'domains' (including 'other' and 'image') are responsible for more than 75% of all posts, so that might work better"
   ]
  },
  {
   "cell_type": "code",
   "execution_count": null,
   "id": "af133f23-8ed6-4439-a43b-23e717bad337",
   "metadata": {},
   "outputs": [],
   "source": [
    "freq_domain_idx = domains[domains > 30].index\n",
    "post_df['domain'] = post_df['domain'].map(lambda x: x if x in freq_domain_idx else 'other')\n",
    "post_df['domain'].value_counts()"
   ]
  },
  {
   "cell_type": "markdown",
   "id": "8df6b35c-8973-4963-976d-9d08386b57e7",
   "metadata": {},
   "source": [
    "Now let's get a sense whether these domains are actually predictive of which subreddit the post might come from.\n",
    "\n",
    "I found this way of using the unstack method here: https://stackoverflow.com/questions/39132742/groupby-value-counts-on-the-dataframe-pandas"
   ]
  },
  {
   "cell_type": "code",
   "execution_count": null,
   "id": "9ebf3b2d-7d57-400f-a5c6-6b3307a5e655",
   "metadata": {},
   "outputs": [],
   "source": [
    "post_df.groupby(by='subreddit')['domain'].value_counts().unstack(fill_value=0).T.head(n=20)"
   ]
  },
  {
   "cell_type": "markdown",
   "id": "4da9aef7-5801-4d48-ae20-ce46cddd8d16",
   "metadata": {},
   "source": [
    "Seems like this could potentially help the classifier a lot! There are quite a few websites that are heavily posted on one subreddit but not the other"
   ]
  },
  {
   "cell_type": "markdown",
   "id": "9d36a406-853e-41ea-a205-36f481454a3b",
   "metadata": {},
   "source": [
    "Let's save this cleaned dataframe. I'll drop the is_english column again, because we've filtered out all the non-english posts"
   ]
  },
  {
   "cell_type": "code",
   "execution_count": null,
   "id": "9e619c92-00f6-4741-8599-10a6d479800b",
   "metadata": {},
   "outputs": [],
   "source": [
    "post_df.drop(columns=['is_english'], inplace=True)\n",
    "post_df.to_csv('../data/all_submissions_cleaned.csv')"
   ]
  },
  {
   "cell_type": "markdown",
   "id": "881cb8e4-044e-4352-a725-41844a2e32e4",
   "metadata": {},
   "source": [
    "## 2) EDA and cleaning: comments\n",
    "\n",
    "Now let's repeat some of the same steps for the comments I scraped"
   ]
  },
  {
   "cell_type": "code",
   "execution_count": null,
   "id": "8d559688-8c0f-49dc-ac22-b468461646dc",
   "metadata": {},
   "outputs": [],
   "source": [
    "com_df = pd.read_csv('../data/all_comments.csv')\n",
    "com_df.set_index('id', inplace=True)\n",
    "\n",
    "print(com_df.shape)\n",
    "com_df.head(n=10)"
   ]
  },
  {
   "cell_type": "markdown",
   "id": "36666990-0311-4f4e-8bc6-3abb68d75343",
   "metadata": {},
   "source": [
    "### 2.1) Cleaning"
   ]
  },
  {
   "cell_type": "markdown",
   "id": "0fd66240-d295-431e-a569-355701ef2dd9",
   "metadata": {},
   "source": [
    "Even in these 10 rows there are already a few duplicate comments. Maybe I should drop those first. I'll drop comments that were made by the same author, have the same text, on the same subreddit"
   ]
  },
  {
   "cell_type": "code",
   "execution_count": null,
   "id": "0b917202-514b-42da-a4e1-5da4e3e8f6f6",
   "metadata": {},
   "outputs": [],
   "source": [
    "com_df = com_df.drop_duplicates(subset=['author', 'body', 'subreddit'])\n",
    "com_df.shape"
   ]
  },
  {
   "cell_type": "markdown",
   "id": "337ac949-7f36-442d-aa7e-c65813dd373a",
   "metadata": {},
   "source": [
    "That removed 20% of all comments! A lot of these were probably either removed comments, or bot posts.\n",
    "\n",
    "Additionally, it also seems there are plenty of comments by 'bots'. A lot of the duplicates I just removed were probably bot posts, but I want to remove the other ones as well. I'm going to assume that if an authors name ends in 'bot', it's a bot. I might miss a few that way, but if I do something less restrictive - eg. say that any author with 'bot' in the name is a bot, I will accidentally filter out real profiles as well, such as names with the word 'both' in them. Let's also add an elif stament for 'AutoModerator', which is a bot that many subreddits use."
   ]
  },
  {
   "cell_type": "code",
   "execution_count": null,
   "id": "5e3d9c27-6112-4f32-a178-4bb53821b252",
   "metadata": {},
   "outputs": [],
   "source": [
    "com_df['is_bot'] = com_df['author'].map(lambda x: 1 if x.lower()[-3:] == 'bot' else 1 if 'AutoModerator' in x else 0)\n",
    "com_df[com_df['is_bot']==1].shape"
   ]
  },
  {
   "cell_type": "code",
   "execution_count": null,
   "id": "291fe8bf-d0b1-4fba-95ed-740e2e469978",
   "metadata": {},
   "outputs": [],
   "source": [
    "com_df[com_df['is_bot']==1]['author'].value_counts()"
   ]
  },
  {
   "cell_type": "markdown",
   "id": "16d0118c-d28b-4ce4-9a83-62940061cf17",
   "metadata": {},
   "source": [
    "I'll get rid of these:"
   ]
  },
  {
   "cell_type": "code",
   "execution_count": null,
   "id": "846e7615-1d73-4caa-a895-a30fd7e4e083",
   "metadata": {},
   "outputs": [],
   "source": [
    "com_df = com_df[com_df['is_bot'] == 0]\n",
    "com_df.shape"
   ]
  },
  {
   "cell_type": "markdown",
   "id": "4163dde6-41e7-4f77-93f8-c8b3984eed4e",
   "metadata": {},
   "source": [
    "What about removed comments? I probably removed most of them when i dropped duplicates"
   ]
  },
  {
   "cell_type": "code",
   "execution_count": null,
   "id": "2bde7533-9574-42bc-8cf9-f1b60fe39af8",
   "metadata": {},
   "outputs": [],
   "source": [
    "com_df['is_removed'] = com_df['body'].map(lambda x: 1 if '[removed]' in x else 0)\n",
    "com_df[com_df['is_removed'] == 1]"
   ]
  },
  {
   "cell_type": "markdown",
   "id": "58812b1b-fef1-44d8-a452-7847beef804e",
   "metadata": {},
   "source": [
    "Yup, it seems like there are only two removed comments, 1 in each subreddit. Which makes sense given that I dropped duplicates. Let's drop these final two removed comments"
   ]
  },
  {
   "cell_type": "code",
   "execution_count": null,
   "id": "01d709e7-f6e1-4dd7-bd6b-59a1e6c96b03",
   "metadata": {},
   "outputs": [],
   "source": [
    "com_df = com_df[com_df['is_removed'] == 0]"
   ]
  },
  {
   "cell_type": "markdown",
   "id": "a7d1810d-0c34-449b-85c7-5ccbfa6eb388",
   "metadata": {},
   "source": [
    "Let's also do the same thing as we did for the titles, which is see if there are non-english comments"
   ]
  },
  {
   "cell_type": "code",
   "execution_count": null,
   "id": "bf23c97a-8090-45b3-a797-5ca0114cb88e",
   "metadata": {},
   "outputs": [],
   "source": [
    "com_df['is_english'] = com_df['body'].map(lambda x: isEnglish(x)) #this will take a few seconds\n",
    "not_engl = com_df[com_df['is_english'] == False]\n",
    "print(not_engl.shape)\n",
    "not_engl.head(n=10)"
   ]
  },
  {
   "cell_type": "markdown",
   "id": "a0520286-9682-4a61-9795-cb41888c0e70",
   "metadata": {},
   "source": [
    "That's not nearly as many comments as I thought. Funny, because I have 3x more comments than titles, but about the same number of non-english rows. \n",
    "It seems like a fair amount of these are english as well - it mostly seems to be because of atypical characters.\n",
    "Let's print a few comments to investigate more"
   ]
  },
  {
   "cell_type": "code",
   "execution_count": null,
   "id": "0f04dea3-7611-4432-8213-b478480ab24e",
   "metadata": {},
   "outputs": [],
   "source": [
    "for i in range(20):\n",
    "    print(not_engl['author'][i], not_engl['body'][i])\n",
    "    print('-' * 60)"
   ]
  },
  {
   "cell_type": "markdown",
   "id": "5ce25e9b-c00a-43e0-a186-3b44eae72cc2",
   "metadata": {},
   "source": [
    "I might want to just keep these posts in, since from what I can tell they mostly seem to be in English.\n",
    "\n",
    "Just as an additional check, are there any other users with a lot of comments that might be bots?"
   ]
  },
  {
   "cell_type": "code",
   "execution_count": null,
   "id": "027a2f2e-78a9-4542-81f4-9eed7ad661e4",
   "metadata": {},
   "outputs": [],
   "source": [
    "com_df['author'].value_counts()[:15]"
   ]
  },
  {
   "cell_type": "markdown",
   "id": "bbec7198-db72-486e-a36f-2c43a9c65e35",
   "metadata": {},
   "source": [
    "At least from the names it looks like these might be real people (although on reddit you can never be sure :) )\n",
    "\n",
    "Another thing I'll want to check is the occurence of subreddit or user information"
   ]
  },
  {
   "cell_type": "code",
   "execution_count": null,
   "id": "3bfde451-805f-4127-8686-e3e0621ee77f",
   "metadata": {},
   "outputs": [],
   "source": [
    "com_df[com_df['body'].str.contains('u/', na = False)]"
   ]
  },
  {
   "cell_type": "markdown",
   "id": "11e26fef-5c3b-4f3a-8d72-b424f90903e0",
   "metadata": {},
   "source": [
    "All of these seem to be comments where u/ just happened to appear in a link. I think that maybe users mentioned in comments don't get imported?"
   ]
  },
  {
   "cell_type": "code",
   "execution_count": null,
   "id": "c59e3b05-7894-4a2a-b661-aa5784db3416",
   "metadata": {},
   "outputs": [],
   "source": [
    "display(com_df[com_df['body'].str.contains('r/', na = False)])\n",
    "print('-' * 50)\n",
    "display(com_df[com_df['body'].str.contains('R/', na = False)])"
   ]
  },
  {
   "cell_type": "markdown",
   "id": "acb3323b-a863-49f8-bcd2-217c695c344b",
   "metadata": {},
   "source": [
    "Let's do the same as we did for titles, and scrub these just to be safe - they aren't a huge fraction of the data"
   ]
  },
  {
   "cell_type": "code",
   "execution_count": null,
   "id": "f26eda20-768e-415a-bfc2-1a37c860f608",
   "metadata": {},
   "outputs": [],
   "source": [
    "r1_idx = com_df[com_df['body'].str.contains('r/', na = False)].index\n",
    "com_df.drop(index=r1_idx, inplace=True)\n",
    "\n",
    "r2_idx = com_df[com_df['body'].str.contains('R/', na = False)].index\n",
    "com_df.drop(index=r2_idx, inplace=True)\n",
    "\n",
    "com_df.shape"
   ]
  },
  {
   "cell_type": "markdown",
   "id": "6e20ed9a-58e1-441c-b79c-b02f089deb83",
   "metadata": {},
   "source": [
    "### 2.2) Language EDA"
   ]
  },
  {
   "cell_type": "markdown",
   "id": "d958c162-7ffc-4c2d-b5f2-38185e423686",
   "metadata": {},
   "source": [
    "Let's look at the word length of each comment, and see if there is a difference between subreddits"
   ]
  },
  {
   "cell_type": "code",
   "execution_count": null,
   "id": "9d4e7329-fb5c-464d-ba5e-3c9cd4a4e589",
   "metadata": {},
   "outputs": [],
   "source": [
    "com_df['word_length'] = com_df['body'].map(lambda x: len(x.split(' ')))\n",
    "com_df[['subreddit', 'word_length']].groupby(by='subreddit').describe()"
   ]
  },
  {
   "cell_type": "markdown",
   "id": "5e04bfc1-7435-47dc-b132-35dd97c1b96f",
   "metadata": {},
   "source": [
    "It seems like comments on r/politics are slightly longer. That might end up being useful!"
   ]
  },
  {
   "cell_type": "code",
   "execution_count": null,
   "id": "61340bfe-aa8c-4f84-83b8-93a6daa493bc",
   "metadata": {},
   "outputs": [],
   "source": [
    "fig, ax = plt.subplots(figsize=(8,6))\n",
    "\n",
    "wlen_bins = np.linspace(1, 1600, 40)\n",
    "ax.hist(com_df[com_df['subreddit'] == 'politics']['word_length'], bins=wlen_bins, histtype='step', linewidth=3, label='r/politics', density=True, color='tab:blue')\n",
    "ax.hist(com_df[com_df['subreddit'] == 'conservative']['word_length'], bins=wlen_bins, histtype='step', linewidth=3, label='r/conservative', density=True, color='tab:red')\n",
    "\n",
    "ax.legend(frameon=False, numpoints=1, fontsize=14)\n",
    "ax.set_yscale('log')\n",
    "ax.set_xlabel('Word length of comments', fontsize=14)\n",
    "ax.set_ylabel('Normalized Frequency', fontsize=14)\n",
    "ax.set_title('Comment word length distribution', fontsize=14, fontweight='bold')\n",
    "plt.show()"
   ]
  },
  {
   "cell_type": "markdown",
   "id": "00ec923c-0bfc-4c08-acad-260bf95cbe76",
   "metadata": {},
   "source": [
    "It seems like this might help telling the two subreddits apart - comments on r/politics are typically longer.\n",
    "Note the log-scale though - the majority of comments are short, and for those comments it is about equally likely to be from either subreddit. For longer comments though, the probability that the comment is from r/politics rather than r/conservative increases.\n",
    "\n",
    "Another thing to consider is how many comments are short. If a comment is only one or two words long, my model will have very little information to classify with, and thus have a difficult time with the classification."
   ]
  },
  {
   "cell_type": "code",
   "execution_count": null,
   "id": "f0ef0507-06bd-4a98-b9bf-49b32533e5af",
   "metadata": {},
   "outputs": [],
   "source": [
    "def make_words_cl(nr_words):\n",
    "    cl_words = np.zeros(nr_words.shape)\n",
    "    tot_words = nr_words.sum()\n",
    "    for i, word_freq in enumerate(nr_words):\n",
    "        cl_words[i] = nr_words[:i].sum()/tot_words\n",
    "    return cl_words\n",
    "        "
   ]
  },
  {
   "cell_type": "code",
   "execution_count": null,
   "id": "008db2fa-f422-4695-9bc0-dc1fbb45889a",
   "metadata": {},
   "outputs": [],
   "source": [
    "nr_words = com_df['word_length'].value_counts().sort_index()\n",
    "\n",
    "fig, ax = plt.subplots(figsize=(8,6))\n",
    "\n",
    "cl_words = make_words_cl(nr_words)\n",
    "\n",
    "ax.scatter(nr_words.index, cl_words, marker='o', alpha=0.8, color='tab:green')\n",
    "ax.set_title('Cumulative distribution function of comment word length', fontweight='bold', fontsize=14)\n",
    "ax.set_xlim(1, 2200)\n",
    "ax.set_xscale('log')\n",
    "ax.axhline(0.05, linestyle='dashed', color='grey')\n",
    "ax.axhline(0.1, linestyle='dashed', color='grey')\n",
    "ax.axhline(0.2, linestyle='dashed', color='grey')\n",
    "\n",
    "ax.set_xlabel('Number of words', fontsize=14)\n",
    "ax.set_ylabel('Fraction', fontsize=14)\n",
    "plt.show()"
   ]
  },
  {
   "cell_type": "markdown",
   "id": "38aacadd-d918-44a3-8255-b8b5fe2b3df5",
   "metadata": {},
   "source": [
    "I'm not going to filter any comments out on word length as it is, but this may be useful information to keep in mind for later down the line. About 5%/10%/20% of comments are shorter than 3/5/8 words, respectively."
   ]
  },
  {
   "cell_type": "markdown",
   "id": "d23c5214-16af-46ce-9dca-c9781984470f",
   "metadata": {},
   "source": [
    "Let's run  CountVectorizer() on the comments to look at some of the most frequently occuring words"
   ]
  },
  {
   "cell_type": "code",
   "execution_count": null,
   "id": "16a002d8-b4e3-4d25-8503-6b5fb1f38a34",
   "metadata": {},
   "outputs": [],
   "source": [
    "cvec = CountVectorizer(stop_words='english')\n",
    "X = com_df['body']\n",
    "cvec.fit(X)\n",
    "X_cv = cvec.transform(X)\n",
    "X_cv.shape"
   ]
  },
  {
   "cell_type": "code",
   "execution_count": null,
   "id": "d9b85d21-b5df-4d72-a1ec-f420e050c839",
   "metadata": {},
   "outputs": [],
   "source": [
    "cwords_df = pd.DataFrame(X_cv.todense(), columns = cvec.get_feature_names_out())\n",
    "cwords_df = cwords_df.set_index(com_df.index)"
   ]
  },
  {
   "cell_type": "code",
   "execution_count": null,
   "id": "03a4a278-7b81-4340-aa9e-77f4b87fab76",
   "metadata": {},
   "outputs": [],
   "source": [
    "pol_cwords = cwords_df[com_df['subreddit']=='politics'].sum().sort_values(ascending=False)\n",
    "con_cwords = cwords_df[com_df['subreddit']=='conservative'].sum().sort_values(ascending=False)"
   ]
  },
  {
   "cell_type": "code",
   "execution_count": null,
   "id": "3386e5f4-6816-4973-acf7-85123bfea868",
   "metadata": {},
   "outputs": [],
   "source": [
    "pol_cwords.head(n=15).plot.barh(figsize=(10,8));"
   ]
  },
  {
   "cell_type": "code",
   "execution_count": null,
   "id": "4ffbf08c-a9a5-42be-92be-c32bd3ea54aa",
   "metadata": {},
   "outputs": [],
   "source": [
    "con_cwords.head(n=15).plot.barh(figsize=(10,8), color='red');"
   ]
  },
  {
   "cell_type": "markdown",
   "id": "36c26cb3-fcbb-406b-88a2-9fed8dca5660",
   "metadata": {},
   "source": [
    "What about unique words (Using the same function I wrote earlier for titles)"
   ]
  },
  {
   "cell_type": "code",
   "execution_count": null,
   "id": "fc66cb1d-76f5-4b20-acb2-59ae6ab43904",
   "metadata": {},
   "outputs": [],
   "source": [
    "n_unique = 10 #number of unique words we want to investigate\n",
    "uw1, uw2 = calc_uwords(pol_cwords.index, con_cwords.index, n=n_unique)"
   ]
  },
  {
   "cell_type": "code",
   "execution_count": null,
   "id": "f4f99201-202f-49e3-91a4-ebe6f8fcf144",
   "metadata": {},
   "outputs": [],
   "source": [
    "words_tot =  pol_cwords[uw1].values.tolist() + con_cwords[uw2].values.tolist()\n",
    "\n",
    "y_tot = np.arange(n_unique*2)\n",
    "print(len(y_tot), len(words_tot))\n",
    "\n",
    "fig, ax = plt.subplots(figsize=(8, 10))\n",
    "clist = ['tab:blue'] * n_unique + ['tab:red'] * n_unique\n",
    "ax.barh(y_tot, words_tot, color=clist)\n",
    "\n",
    "        \n",
    "ax.set_yticks(y_tot)\n",
    "ax.set_yticklabels(labels=uw1+uw2, fontsize=14)\n",
    "\n",
    "ax.invert_yaxis() \n",
    "#ax.set_xlim(0, 250)\n",
    "ax.set_xlabel('Number of occurences', fontsize=16)\n",
    "ax.set_title('Top 10 most Unique words in r/Politics and r/Conservative comments', fontsize=14, fontweight='bold')\n",
    "plt.show()"
   ]
  },
  {
   "cell_type": "markdown",
   "id": "eb2e720c-a988-4cb2-8b7d-329eddbd4bc0",
   "metadata": {},
   "source": [
    "Next, I want to see how many words make up how much % of the total corpus. I will make a cumulative distribution function similar to the word length one"
   ]
  },
  {
   "cell_type": "code",
   "execution_count": null,
   "id": "8d7e7712-8adb-44cc-99e4-1deeda6b455b",
   "metadata": {},
   "outputs": [],
   "source": [
    "def make_corpus_cl(summed_words):\n",
    "    cl_words = np.zeros(summed_words.shape)\n",
    "    tot_words = summed_words.sum()\n",
    "    for i in range(len(summed_words)):\n",
    "        cl_words[i] = summed_words[:i].sum()/tot_words\n",
    "    return cl_words"
   ]
  },
  {
   "cell_type": "code",
   "execution_count": null,
   "id": "46472f6a-d9f4-499b-8b1b-ad42405d1932",
   "metadata": {},
   "outputs": [],
   "source": [
    "summed_words = cwords_df.sum().sort_values(ascending=False)\n",
    "\n",
    "summed_words[:5]"
   ]
  },
  {
   "cell_type": "code",
   "execution_count": null,
   "id": "3c292a35-1cf3-4abe-b5c3-17e75bd8423b",
   "metadata": {},
   "outputs": [],
   "source": [
    "fig, ax = plt.subplots(figsize=(8,6))\n",
    "\n",
    "cl_corpus = make_corpus_cl(summed_words)\n",
    "\n",
    "wnr = np.arange(len(summed_words))\n",
    "ax.scatter(wnr[::50], cl_corpus[::50], marker='o', alpha=0.8, color='tab:green')\n",
    "ax.set_title('Cumulative distribution function of unique words in corpus', fontweight='bold', fontsize=14)\n",
    "ax.set_xlabel('Number of unique words', fontsize=14)\n",
    "ax.set_ylabel('Corpus Fraction', fontsize=14)\n",
    "fig.savefig('../figures/mono_cum_wl.png', dpi=300)\n",
    "plt.show()\n",
    "\n",
    "print(f'{round(cl_corpus[23000],2)} of the corpus is contained in the 23000 most frequent unique words')"
   ]
  },
  {
   "cell_type": "markdown",
   "id": "2461ce5a-19ab-4287-8186-ce7181b95c19",
   "metadata": {},
   "source": [
    "So the 23000 most common unique words make up about 98% of the total of words in the corpus. This could be useful information to limit the number of features in the model. I could get rid of about 1/3rd of all unique words, and would only lose a little bit of information.\n",
    "\n",
    "What if I were to include bigrams?\n",
    "The sparse matrix actually gets too large to convert to a dataframe - so I'll limit myself to only using the first 10,000 rows"
   ]
  },
  {
   "cell_type": "code",
   "execution_count": null,
   "id": "bff0c20e-0855-404a-a87d-d96d1d8c4bb8",
   "metadata": {},
   "outputs": [],
   "source": [
    "cvec = CountVectorizer(stop_words='english', ngram_range=(1,2))\n",
    "X = com_df['body'][:10000]\n",
    "cvec.fit(X)\n",
    "X_bi = cvec.transform(X)\n",
    "X_bi.shape\n",
    "\n",
    "c_bi_df = pd.DataFrame(X_bi.todense(), columns = cvec.get_feature_names_out())\n",
    "c_bi_df = c_bi_df.set_index(com_df[:10000].index)"
   ]
  },
  {
   "cell_type": "code",
   "execution_count": null,
   "id": "98fac633-468a-4477-a5e1-472eb0ca471a",
   "metadata": {},
   "outputs": [],
   "source": [
    "summed_words = c_bi_df.sum().sort_values(ascending=False)\n",
    "\n",
    "fig, ax = plt.subplots(figsize=(8,6))\n",
    "\n",
    "cl_corpus = make_corpus_cl(summed_words)\n",
    "\n",
    "wnr = np.arange(len(summed_words))\n",
    "ax.scatter(wnr[::50], cl_corpus[::50], marker='o', alpha=0.7, color='goldenrod')\n",
    "ax.set_title('Cumulative distribution function of unique words + bigrams in corpus', fontweight='bold', fontsize=14)\n",
    "ax.set_xlabel('Number of unique words', fontsize=14)\n",
    "ax.set_ylabel('Corpus Fraction', fontsize=14)\n",
    "fig.savefig('../figures/bigram_cum_wl.png', dpi=300)\n",
    "plt.show()\n"
   ]
  },
  {
   "cell_type": "markdown",
   "id": "1c3b8eeb-771a-40d5-804e-57abb7c40569",
   "metadata": {},
   "source": [
    "This shows some important things about the usage of bigrams. First of all, it really explodes the number of unique features (note that I only used the first 10,000 rows here!). Secondly, the bigrams are much more evenly spread in frequency throughout the corpus.\n",
    "\n",
    "My sense is that using some frequent bigrams might help the model, but I'll need to cut down on the number of features aggressively if I want to use them - otherwise I will end up with way too many.\n",
    "\n",
    "As an experiment, let's say that I want to use 1/7th of the total number of unique features. How many features would there be for the full 48k rows?"
   ]
  },
  {
   "cell_type": "code",
   "execution_count": null,
   "id": "68d7209f-0d6c-4526-9551-e557e6e495f5",
   "metadata": {},
   "outputs": [],
   "source": [
    "cvec = CountVectorizer(stop_words='english', ngram_range=(1,2))\n",
    "X = com_df['body']\n",
    "cvec.fit(X)\n",
    "X_bi = cvec.transform(X)\n",
    "print(X_bi.shape)\n",
    "print(X_bi.shape[1]/7)\n",
    "full_fnames = cvec.get_feature_names_out()"
   ]
  },
  {
   "cell_type": "markdown",
   "id": "834cd6ba-0f94-4237-9281-a97316928ed9",
   "metadata": {},
   "source": [
    "Let's round this up to 71000 features and set this as the max_features param"
   ]
  },
  {
   "cell_type": "code",
   "execution_count": null,
   "id": "d4e264bf-4cf2-43b4-b611-be472e5dae7a",
   "metadata": {},
   "outputs": [],
   "source": [
    "cvec_lim = CountVectorizer(stop_words='english', ngram_range=(1,2), max_features=71000)\n",
    "X = com_df['body']\n",
    "cvec_lim.fit(X)\n",
    "X_bi_lim = cvec_lim.transform(X)\n",
    "lim_fnames = cvec_lim.get_feature_names_out()"
   ]
  },
  {
   "cell_type": "markdown",
   "id": "30b5aa5a-1940-4d06-86de-ab1ef49b31e9",
   "metadata": {},
   "source": [
    "What would be the proportion of monograms and bigrams in this feature-limited tranformation?"
   ]
  },
  {
   "cell_type": "code",
   "execution_count": null,
   "id": "4bf4353f-1330-40d1-8bf0-9b0329c3fb24",
   "metadata": {},
   "outputs": [],
   "source": [
    "nr_mono = sum([1 for fname in lim_fnames if len(fname.split(' ')) ==1])\n",
    "nr_bi =  sum([1 for fname in lim_fnames if len(fname.split(' ')) ==2])\n",
    "print(f'Number of monograms {nr_mono}')\n",
    "print(f'Number of bigrams {nr_bi}')"
   ]
  },
  {
   "cell_type": "markdown",
   "id": "0560b062-dfb4-44bc-9ca7-513d34ccc12f",
   "metadata": {},
   "source": [
    "So it appears that if I just run max_features, the majority of my features will still be bigrams. I wonder if there's a way that I can do some custom postprocessing, such that I can reduce the number of bigrams even more without also reducing the number of monograms. I'll explore this more in the modeling notebook. "
   ]
  },
  {
   "cell_type": "markdown",
   "id": "058e41d3-71c5-40b2-928e-72a5a78d060f",
   "metadata": {},
   "source": [
    "### 2.3) Other Features"
   ]
  },
  {
   "cell_type": "markdown",
   "id": "8e564dfd-611a-46af-9fed-dc615845d6a3",
   "metadata": {},
   "source": [
    "In the data collection notebook, I included a 'score' metric for the comments data."
   ]
  },
  {
   "cell_type": "code",
   "execution_count": null,
   "id": "208cc173-0333-489c-b9fe-9b96b9e283f7",
   "metadata": {},
   "outputs": [],
   "source": [
    "com_df[['subreddit', 'score']].groupby(by='subreddit').describe()"
   ]
  },
  {
   "cell_type": "code",
   "execution_count": null,
   "id": "1594b414-6c6e-4917-ad7e-0c1622c03ff7",
   "metadata": {},
   "outputs": [],
   "source": [
    "fig, ax = plt.subplots(figsize=(8,6))\n",
    "\n",
    "score_bins = np.linspace(-330, 6000, 200)\n",
    "ax.hist(com_df[com_df['subreddit'] == 'politics']['score'], bins=score_bins, histtype='step', linewidth=3, color='tab:blue', label='r/politics')\n",
    "ax.hist(com_df[com_df['subreddit'] == 'conservative']['score'], bins=score_bins, histtype='step', linewidth=3, color='tab:red', label='r/conservative')\n",
    "\n",
    "ax.set_yscale('log')\n",
    "ax.set_xlabel('Score', fontsize=14)\n",
    "ax.set_ylabel('Frequency', fontsize=14)\n",
    "ax.legend(frameon=False, numpoints=1, fontsize=14)\n",
    "ax.set_title('Comment score distribution', fontsize=14, fontweight='bold')\n",
    "plt.show()"
   ]
  },
  {
   "cell_type": "markdown",
   "id": "abf4a05e-923c-41f3-9192-e1fd15f71dd9",
   "metadata": {},
   "source": [
    "It looks like r/politics comments have slightly more upvotes. But it seems like for both subreddits the majority of comments only have a single upvote. So I'm not completely sure how helpful this will be.\n",
    "\n",
    "A final thing I might want to check - how many posts are made by frequent posters? r/Conservative has restrictions in who they allow in the comments section. It might be that the average commenter on that subreddit posts more - while r/politics is open to everyone, and so there will be more commenters who might comment less frequently.\n",
    "\n",
    "I'll define 'frequent poster' as anyone that made more than 15 posts over the range of my data (1 month, so 1 comment per 2 days)"
   ]
  },
  {
   "cell_type": "code",
   "execution_count": null,
   "id": "ea230c27-c249-44b1-922a-c5a1305f8c54",
   "metadata": {},
   "outputs": [],
   "source": [
    "author_counts = com_df['author'].value_counts()\n",
    "author_counts[author_counts > 15].sum()"
   ]
  },
  {
   "cell_type": "markdown",
   "id": "8ee34806-e121-4713-8217-0edc170a4f11",
   "metadata": {},
   "source": [
    "Is this fraction different for the two subreddits?"
   ]
  },
  {
   "cell_type": "code",
   "execution_count": null,
   "id": "fa232653-77b6-49ae-994e-ac6ba8532339",
   "metadata": {},
   "outputs": [],
   "source": [
    "au_counts_con = com_df[com_df['subreddit'] == 'conservative']['author'].value_counts().drop('[deleted]')\n",
    "au_counts_pol = com_df[com_df['subreddit'] == 'politics']['author'].value_counts().drop('[deleted]')"
   ]
  },
  {
   "cell_type": "code",
   "execution_count": null,
   "id": "7f7fb223-33b3-494d-88cc-2b0e58a9da1b",
   "metadata": {},
   "outputs": [],
   "source": [
    "print(f'Posts by frequent posters in r/politics: {au_counts_pol[au_counts_pol > 15].sum()}')\n",
    "print(f'Posts by frequent posters in r/conservative: {au_counts_con[au_counts_con > 15].sum()}')"
   ]
  },
  {
   "cell_type": "markdown",
   "id": "ff803a6d-88ac-401b-a9cc-308efac7c440",
   "metadata": {},
   "source": [
    "This might help move the needle a little bit. If the comment is by a frequent commenter, the comment is more likely to come from r/conservative. Let's make a new column for this."
   ]
  },
  {
   "cell_type": "code",
   "execution_count": null,
   "id": "af55f3e4-6949-41cb-841c-4ccd45db9543",
   "metadata": {},
   "outputs": [],
   "source": [
    "freq_idx_pol = au_counts_pol[au_counts_pol > 15].index\n",
    "freq_idx_con = au_counts_con[au_counts_con > 15].index\n",
    "all_idx = freq_idx_pol.union(freq_idx_con)\n",
    "com_df['freq_poster'] = com_df['author'].map(lambda x: 1 if x in all_idx else 0)"
   ]
  },
  {
   "cell_type": "markdown",
   "id": "6653093e-a59a-418c-8544-beb646610668",
   "metadata": {},
   "source": [
    "Now let's save my cleaned comments dataframe to use for modeling. Let's get rid of some of the columns I created that I won't need for the modeling: is_english , is_bot and is_removed"
   ]
  },
  {
   "cell_type": "code",
   "execution_count": null,
   "id": "1481557a-cf85-44c3-b591-6c9bdf6369dc",
   "metadata": {},
   "outputs": [],
   "source": [
    "com_df.drop(columns=['is_english', 'is_bot', 'is_removed'], inplace=True)\n",
    "com_df.to_csv('../data/all_comments_cleaned.csv')"
   ]
  },
  {
   "cell_type": "code",
   "execution_count": null,
   "id": "525c4faa-dcdc-490e-abb9-810ce6d5346a",
   "metadata": {},
   "outputs": [],
   "source": []
  }
 ],
 "metadata": {
  "kernelspec": {
   "display_name": "Python 3 (ipykernel)",
   "language": "python",
   "name": "python3"
  },
  "language_info": {
   "codemirror_mode": {
    "name": "ipython",
    "version": 3
   },
   "file_extension": ".py",
   "mimetype": "text/x-python",
   "name": "python",
   "nbconvert_exporter": "python",
   "pygments_lexer": "ipython3",
   "version": "3.8.8"
  }
 },
 "nbformat": 4,
 "nbformat_minor": 5
}
